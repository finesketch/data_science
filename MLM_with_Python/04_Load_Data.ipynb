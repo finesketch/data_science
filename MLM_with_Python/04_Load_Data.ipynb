{
  "nbformat": 4,
  "nbformat_minor": 0,
  "metadata": {
    "colab": {
      "name": "04_Load_Data.ipynb",
      "provenance": [],
      "authorship_tag": "ABX9TyOQYNbMs169ElVaqrb8RAeI",
      "include_colab_link": true
    },
    "kernelspec": {
      "name": "python3",
      "display_name": "Python 3"
    },
    "language_info": {
      "name": "python"
    }
  },
  "cells": [
    {
      "cell_type": "markdown",
      "metadata": {
        "id": "view-in-github",
        "colab_type": "text"
      },
      "source": [
        "<a href=\"https://colab.research.google.com/github/finesketch/data_science/blob/main/MLM_with_Python/04_Load_Data.ipynb\" target=\"_parent\"><img src=\"https://colab.research.google.com/assets/colab-badge.svg\" alt=\"Open In Colab\"/></a>"
      ]
    },
    {
      "cell_type": "markdown",
      "metadata": {
        "id": "cSSt8Egjsim-"
      },
      "source": [
        "There are many ways to load data for Machine Learning process."
      ]
    },
    {
      "cell_type": "code",
      "metadata": {
        "colab": {
          "base_uri": "https://localhost:8080/"
        },
        "id": "BuuGvrGysiwp",
        "outputId": "9a62e5b7-5b27-4ed5-9911-ee1b3e51c9fe"
      },
      "source": [
        "# Load CSV Using Python Standard Library\n",
        "import csv\n",
        "import numpy\n",
        "\n",
        "filename = 'pima-indians-diabetes.data.csv'\n",
        "\n",
        "# 'rt' - \"Read file as Text\"\n",
        "# https://en.wikibooks.org/wiki/Non-Programmer%27s_Tutorial_for_Python_3/File_IO\n",
        "raw_data = open(filename, 'rt') \n",
        "\n",
        "reader = csv.reader(raw_data, delimiter=',', quoting=csv.QUOTE_NONE)\n",
        "x = list(reader)\n",
        "data = numpy.array(x).astype('float')\n",
        "\n",
        "print(data.shape)"
      ],
      "execution_count": 1,
      "outputs": [
        {
          "output_type": "stream",
          "text": [
            "(768, 9)\n"
          ],
          "name": "stdout"
        }
      ]
    },
    {
      "cell_type": "code",
      "metadata": {
        "colab": {
          "base_uri": "https://localhost:8080/"
        },
        "id": "144IHf74u7o1",
        "outputId": "197d7e85-cc20-4c36-b2d7-d077a0333008"
      },
      "source": [
        "data"
      ],
      "execution_count": 3,
      "outputs": [
        {
          "output_type": "execute_result",
          "data": {
            "text/plain": [
              "array([[  6.   , 148.   ,  72.   , ...,   0.627,  50.   ,   1.   ],\n",
              "       [  1.   ,  85.   ,  66.   , ...,   0.351,  31.   ,   0.   ],\n",
              "       [  8.   , 183.   ,  64.   , ...,   0.672,  32.   ,   1.   ],\n",
              "       ...,\n",
              "       [  5.   , 121.   ,  72.   , ...,   0.245,  30.   ,   0.   ],\n",
              "       [  1.   , 126.   ,  60.   , ...,   0.349,  47.   ,   1.   ],\n",
              "       [  1.   ,  93.   ,  70.   , ...,   0.315,  23.   ,   0.   ]])"
            ]
          },
          "metadata": {
            "tags": []
          },
          "execution_count": 3
        }
      ]
    },
    {
      "cell_type": "code",
      "metadata": {
        "colab": {
          "base_uri": "https://localhost:8080/"
        },
        "id": "NJdQiw3jtlcP",
        "outputId": "bf5a9c68-201e-4f0b-b1fc-59a9922392f4"
      },
      "source": [
        "# Load CSV using NumPy\n",
        "from numpy import loadtxt\n",
        "\n",
        "filename = 'pima-indians-diabetes.data.csv'\n",
        "raw_data = open(filename, 'rt')\n",
        "data = loadtxt(raw_data, delimiter=',')\n",
        "\n",
        "print(data.shape)"
      ],
      "execution_count": 2,
      "outputs": [
        {
          "output_type": "stream",
          "text": [
            "(768, 9)\n"
          ],
          "name": "stdout"
        }
      ]
    },
    {
      "cell_type": "code",
      "metadata": {
        "colab": {
          "base_uri": "https://localhost:8080/"
        },
        "id": "qbSkmlEIu5Fs",
        "outputId": "70f19b21-5554-40a7-d17d-0207089e9b63"
      },
      "source": [
        "# Load CSV from URL using NumPy\n",
        "from numpy import loadtxt\n",
        "from urllib.request import urlopen\n",
        "\n",
        "url = 'https://goo.gl/bDdBiA'\n",
        "raw_data = urlopen(url)\n",
        "data = loadtxt(raw_data, delimiter=',')\n",
        "\n",
        "print(data.shape)"
      ],
      "execution_count": 6,
      "outputs": [
        {
          "output_type": "stream",
          "text": [
            "(768, 9)\n"
          ],
          "name": "stdout"
        }
      ]
    },
    {
      "cell_type": "code",
      "metadata": {
        "colab": {
          "base_uri": "https://localhost:8080/"
        },
        "id": "oYVPP6JOwN2e",
        "outputId": "4999b0be-62e5-49cb-b9a0-8f8d7a46a462"
      },
      "source": [
        "# Load CSV using Pandas\n",
        "from pandas import read_csv\n",
        "\n",
        "filename = 'pima-indians-diabetes.data.csv'\n",
        "names = ['preg', 'plas', 'pres', 'skin', 'test', 'mass', 'pedi', 'age', 'class']\n",
        "data = read_csv(filename, names=names)\n",
        "print(data.shape)"
      ],
      "execution_count": 7,
      "outputs": [
        {
          "output_type": "stream",
          "text": [
            "(768, 9)\n"
          ],
          "name": "stdout"
        }
      ]
    },
    {
      "cell_type": "code",
      "metadata": {
        "colab": {
          "base_uri": "https://localhost:8080/"
        },
        "id": "_H6__mnjyNO_",
        "outputId": "9dc9efee-4290-4d7c-a080-71e16f736702"
      },
      "source": [
        "# Load CSV using Pandas from URL\n",
        "from pandas import read_csv\n",
        "\n",
        "url = 'https://goo.gl/bDdBiA'\n",
        "names = ['preg', 'plas', 'pres', 'skin', 'test', 'mass', 'pedi', 'age', 'class']\n",
        "data = read_csv(url, names=names)\n",
        "print(data.shape)"
      ],
      "execution_count": 8,
      "outputs": [
        {
          "output_type": "stream",
          "text": [
            "(768, 9)\n"
          ],
          "name": "stdout"
        }
      ]
    },
    {
      "cell_type": "code",
      "metadata": {
        "id": "ZxwE_tPJyZ3x"
      },
      "source": [
        ""
      ],
      "execution_count": null,
      "outputs": []
    }
  ]
}