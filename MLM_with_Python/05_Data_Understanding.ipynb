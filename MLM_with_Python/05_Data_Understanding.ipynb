{
  "nbformat": 4,
  "nbformat_minor": 0,
  "metadata": {
    "colab": {
      "name": "05_Data_Understanding.ipynb",
      "provenance": [],
      "authorship_tag": "ABX9TyPL12/D0Ti+kyqZKuihx0hi",
      "include_colab_link": true
    },
    "kernelspec": {
      "name": "python3",
      "display_name": "Python 3"
    },
    "language_info": {
      "name": "python"
    }
  },
  "cells": [
    {
      "cell_type": "markdown",
      "metadata": {
        "id": "view-in-github",
        "colab_type": "text"
      },
      "source": [
        "<a href=\"https://colab.research.google.com/github/finesketch/data_science/blob/main/MLM_with_Python/05_Data_Understanding.ipynb\" target=\"_parent\"><img src=\"https://colab.research.google.com/assets/colab-badge.svg\" alt=\"Open In Colab\"/></a>"
      ]
    },
    {
      "cell_type": "markdown",
      "metadata": {
        "id": "nS-8_WP-yyZC"
      },
      "source": [
        "## Peek at the Data"
      ]
    },
    {
      "cell_type": "code",
      "metadata": {
        "colab": {
          "base_uri": "https://localhost:8080/"
        },
        "id": "CShPrn5syyhG",
        "outputId": "c1d991da-1f40-4c21-bf69-ee095d057804"
      },
      "source": [
        "# view first 10 recrods\n",
        "from pandas import read_csv\n",
        "\n",
        "filename = \"pima-indians-diabetes.data.csv\"\n",
        "names = ['preg', 'plas', 'pres', 'skin', 'test', 'mass', 'pedi', 'age', 'class']\n",
        "data = read_csv(filename, names=names)\n",
        "peek = data.head(10)\n",
        "\n",
        "print(peek)"
      ],
      "execution_count": 7,
      "outputs": [
        {
          "output_type": "stream",
          "text": [
            "   preg  plas  pres  skin  test  mass   pedi  age  class\n",
            "0     6   148    72    35     0  33.6  0.627   50      1\n",
            "1     1    85    66    29     0  26.6  0.351   31      0\n",
            "2     8   183    64     0     0  23.3  0.672   32      1\n",
            "3     1    89    66    23    94  28.1  0.167   21      0\n",
            "4     0   137    40    35   168  43.1  2.288   33      1\n",
            "5     5   116    74     0     0  25.6  0.201   30      0\n",
            "6     3    78    50    32    88  31.0  0.248   26      1\n",
            "7    10   115     0     0     0  35.3  0.134   29      0\n",
            "8     2   197    70    45   543  30.5  0.158   53      1\n",
            "9     8   125    96     0     0   0.0  0.232   54      1\n"
          ],
          "name": "stdout"
        }
      ]
    },
    {
      "cell_type": "markdown",
      "metadata": {
        "id": "fwoCLWqo0cx3"
      },
      "source": [
        "## Dimensions of the Data"
      ]
    },
    {
      "cell_type": "code",
      "metadata": {
        "colab": {
          "base_uri": "https://localhost:8080/"
        },
        "id": "NLvj32u5y__k",
        "outputId": "49cec710-f960-4c3b-c633-56e614caa916"
      },
      "source": [
        "# Dimensions of your data\n",
        "from pandas import read_csv\n",
        "\n",
        "filename = \"pima-indians-diabetes.data.csv\"\n",
        "names = ['preg', 'plas', 'pres', 'skin', 'test', 'mass', 'pedi', 'age', 'class'] \n",
        "data = read_csv(filename, names=names)\n",
        "shape = data.shape\n",
        "\n",
        "print(shape)"
      ],
      "execution_count": 9,
      "outputs": [
        {
          "output_type": "stream",
          "text": [
            "(768, 9)\n"
          ],
          "name": "stdout"
        }
      ]
    },
    {
      "cell_type": "markdown",
      "metadata": {
        "id": "8-k8deop0q2N"
      },
      "source": [
        "## Data Type For Each Attribute"
      ]
    },
    {
      "cell_type": "code",
      "metadata": {
        "colab": {
          "base_uri": "https://localhost:8080/"
        },
        "id": "XkFu3JbU0lCg",
        "outputId": "7a20cc12-2905-4ae0-d439-884411aa8070"
      },
      "source": [
        "# Data Types for Each Attribute\n",
        "from pandas import read_csv\n",
        "filename = \"pima-indians-diabetes.data.csv\"\n",
        "names = ['preg', 'plas', 'pres', 'skin', 'test', 'mass', 'pedi', 'age', 'class'] \n",
        "data = read_csv(filename, names=names)\n",
        "types = data.dtypes\n",
        "\n",
        "print(types)"
      ],
      "execution_count": 10,
      "outputs": [
        {
          "output_type": "stream",
          "text": [
            "preg       int64\n",
            "plas       int64\n",
            "pres       int64\n",
            "skin       int64\n",
            "test       int64\n",
            "mass     float64\n",
            "pedi     float64\n",
            "age        int64\n",
            "class      int64\n",
            "dtype: object\n"
          ],
          "name": "stdout"
        }
      ]
    },
    {
      "cell_type": "markdown",
      "metadata": {
        "id": "3ozKzTCS07me"
      },
      "source": [
        "## Descriptive Statistics"
      ]
    },
    {
      "cell_type": "code",
      "metadata": {
        "colab": {
          "base_uri": "https://localhost:8080/"
        },
        "id": "YdzI-Ppa0_8I",
        "outputId": "a3d3dfdf-0975-4f6e-aa48-13e7875d019a"
      },
      "source": [
        "# Statistical Summary\n",
        "from pandas import read_csv\n",
        "from pandas import set_option\n",
        "\n",
        "filename = \"pima-indians-diabetes.data.csv\"\n",
        "names = ['preg', 'plas', 'pres', 'skin', 'test', 'mass', 'pedi', 'age', 'class']\n",
        "\n",
        "data = read_csv(filename, names=names)\n",
        "\n",
        "# pandas.set option() in the recipe to change the precision of the numbers and the preferred width of the output.\n",
        "set_option('display.width', 100) \n",
        "set_option('precision', 2)\n",
        "\n",
        "description = data.describe()\n",
        "\n",
        "print(description)"
      ],
      "execution_count": 18,
      "outputs": [
        {
          "output_type": "stream",
          "text": [
            "         preg    plas    pres    skin    test    mass    pedi     age   class\n",
            "count  768.00  768.00  768.00  768.00  768.00  768.00  768.00  768.00  768.00\n",
            "mean     3.85  120.89   69.11   20.54   79.80   31.99    0.47   33.24    0.35\n",
            "std      3.37   31.97   19.36   15.95  115.24    7.88    0.33   11.76    0.48\n",
            "min      0.00    0.00    0.00    0.00    0.00    0.00    0.08   21.00    0.00\n",
            "25%      1.00   99.00   62.00    0.00    0.00   27.30    0.24   24.00    0.00\n",
            "50%      3.00  117.00   72.00   23.00   30.50   32.00    0.37   29.00    0.00\n",
            "75%      6.00  140.25   80.00   32.00  127.25   36.60    0.63   41.00    1.00\n",
            "max     17.00  199.00  122.00   99.00  846.00   67.10    2.42   81.00    1.00\n"
          ],
          "name": "stdout"
        }
      ]
    },
    {
      "cell_type": "markdown",
      "metadata": {
        "id": "9CxLA3Do1xai"
      },
      "source": [
        "## Class Distribution (Classification Only)"
      ]
    },
    {
      "cell_type": "code",
      "metadata": {
        "colab": {
          "base_uri": "https://localhost:8080/"
        },
        "id": "-UbC7sAx1UGE",
        "outputId": "8f03d36d-60c8-4af7-95b8-d67445ca714f"
      },
      "source": [
        "# Class Distribution\n",
        "from pandas import read_csv\n",
        "\n",
        "filename = \"pima-indians-diabetes.data.csv\"\n",
        "names = ['preg', 'plas', 'pres', 'skin', 'test', 'mass', 'pedi', 'age', 'class'] \n",
        "data = read_csv(filename, names=names)\n",
        "\n",
        "class_counts = data.groupby('class').size()\n",
        "print(class_counts)\n",
        "\n",
        "# inbalance"
      ],
      "execution_count": 20,
      "outputs": [
        {
          "output_type": "stream",
          "text": [
            "class\n",
            "0    500\n",
            "1    268\n",
            "dtype: int64\n"
          ],
          "name": "stdout"
        }
      ]
    },
    {
      "cell_type": "markdown",
      "metadata": {
        "id": "IXRj0-r32KQ1"
      },
      "source": [
        "## Correlations Between Attributes"
      ]
    },
    {
      "cell_type": "code",
      "metadata": {
        "colab": {
          "base_uri": "https://localhost:8080/"
        },
        "id": "ziIzifQa2AYh",
        "outputId": "d8bf5537-3dd2-4b30-a22d-6226b8d78451"
      },
      "source": [
        "# Pairwise Pearson correlations\n",
        "from pandas import read_csv\n",
        "from pandas import set_option\n",
        "\n",
        "filename = \"pima-indians-diabetes.data.csv\"\n",
        "names = ['preg', 'plas', 'pres', 'skin', 'test', 'mass', 'pedi', 'age', 'class'] \n",
        "data = read_csv(filename, names=names)\n",
        "\n",
        "set_option('display.width', 100)\n",
        "set_option('precision', 2)\n",
        "\n",
        "correlations = data.corr(method='pearson') # default\n",
        "\n",
        "print(correlations)\n",
        "\n",
        "# diagonal line through the matrix from the top left to bottom right corners of the matrix shows perfect correlation of each attribute with itself."
      ],
      "execution_count": 21,
      "outputs": [
        {
          "output_type": "stream",
          "text": [
            "       preg  plas  pres  skin  test  mass  pedi   age  class\n",
            "preg   1.00  0.13  0.14 -0.08 -0.07  0.02 -0.03  0.54   0.22\n",
            "plas   0.13  1.00  0.15  0.06  0.33  0.22  0.14  0.26   0.47\n",
            "pres   0.14  0.15  1.00  0.21  0.09  0.28  0.04  0.24   0.07\n",
            "skin  -0.08  0.06  0.21  1.00  0.44  0.39  0.18 -0.11   0.07\n",
            "test  -0.07  0.33  0.09  0.44  1.00  0.20  0.19 -0.04   0.13\n",
            "mass   0.02  0.22  0.28  0.39  0.20  1.00  0.14  0.04   0.29\n",
            "pedi  -0.03  0.14  0.04  0.18  0.19  0.14  1.00  0.03   0.17\n",
            "age    0.54  0.26  0.24 -0.11 -0.04  0.04  0.03  1.00   0.24\n",
            "class  0.22  0.47  0.07  0.07  0.13  0.29  0.17  0.24   1.00\n"
          ],
          "name": "stdout"
        }
      ]
    },
    {
      "cell_type": "markdown",
      "metadata": {
        "id": "wfT4e3OA25ly"
      },
      "source": [
        "## Skew of Univariate Distributions"
      ]
    },
    {
      "cell_type": "code",
      "metadata": {
        "colab": {
          "base_uri": "https://localhost:8080/"
        },
        "id": "u2hTR4I82gPd",
        "outputId": "d9175f24-dc65-4cc3-c0e3-c9e9dbc380d4"
      },
      "source": [
        "# Skew for each attribute\n",
        "from pandas import read_csv\n",
        "\n",
        "filename = \"pima-indians-diabetes.data.csv\"\n",
        "names = ['preg', 'plas', 'pres', 'skin', 'test', 'mass', 'pedi', 'age', 'class'] \n",
        "data = read_csv(filename, names=names)\n",
        "\n",
        "skew = data.skew()\n",
        "print(skew)\n",
        "\n",
        "# The skew results show a positive (right) or negative (left) skew. \n",
        "# Values closer to zero show less skew."
      ],
      "execution_count": 24,
      "outputs": [
        {
          "output_type": "stream",
          "text": [
            "preg     0.90\n",
            "plas     0.17\n",
            "pres    -1.84\n",
            "skin     0.11\n",
            "test     2.27\n",
            "mass    -0.43\n",
            "pedi     1.92\n",
            "age      1.13\n",
            "class    0.64\n",
            "dtype: float64\n"
          ],
          "name": "stdout"
        }
      ]
    },
    {
      "cell_type": "code",
      "metadata": {
        "id": "GzNCdfID2po9"
      },
      "source": [
        ""
      ],
      "execution_count": null,
      "outputs": []
    }
  ]
}