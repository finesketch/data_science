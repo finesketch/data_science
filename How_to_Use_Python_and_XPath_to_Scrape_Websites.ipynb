{
  "nbformat": 4,
  "nbformat_minor": 0,
  "metadata": {
    "colab": {
      "name": "How to Use Python and XPath to Scrape Websites.ipynb",
      "provenance": [],
      "authorship_tag": "ABX9TyMb0p3Z/gwB1/ng3OG6CIcE",
      "include_colab_link": true
    },
    "kernelspec": {
      "name": "python3",
      "display_name": "Python 3"
    },
    "language_info": {
      "name": "python"
    }
  },
  "cells": [
    {
      "cell_type": "markdown",
      "metadata": {
        "id": "view-in-github",
        "colab_type": "text"
      },
      "source": [
        "<a href=\"https://colab.research.google.com/github/finesketch/data_science/blob/main/How_to_Use_Python_and_XPath_to_Scrape_Websites.ipynb\" target=\"_parent\"><img src=\"https://colab.research.google.com/assets/colab-badge.svg\" alt=\"Open In Colab\"/></a>"
      ]
    },
    {
      "cell_type": "markdown",
      "metadata": {
        "id": "FKmB3wOaRSf8"
      },
      "source": [
        "To introduce the basics of XPath, we’re going to look at how we can use it to get Star Wars quotes from this website (https://www.starwars.com/news/15-star-wars-quotes-to-use-in-everyday-life). Some basic HTML knowledge would help, but it’s not necessary to get started here.\n",
        "\n",
        "Reference: https://towardsdatascience.com/how-to-use-python-and-xpath-to-scrape-websites-99eaed73f1dd"
      ]
    },
    {
      "cell_type": "code",
      "metadata": {
        "id": "43oAwMR7RWZ5"
      },
      "source": [
        "# getting the HTML of a website\n",
        "\n",
        "import requests\n",
        "from urllib.request import urlopen\n",
        "from lxml import etree\n",
        "\n",
        "# get html from site and weite to local file\n",
        "url = 'https://www.starwars.com/news/15-star-wars-quotes-to-use-in-everyday-life'\n",
        "headers = { 'Content-Type': 'text/html', }\n",
        "response = requests.get(url, headers=headers)\n",
        "html = response.text\n",
        "\n",
        "with open('star_wars_html', 'w') as f:\n",
        "  f.write(html)"
      ],
      "execution_count": 4,
      "outputs": []
    },
    {
      "cell_type": "code",
      "metadata": {
        "id": "rRsDohtkT2Tw"
      },
      "source": [
        "# read local html file and setup lxml html parser\n",
        "# To parse the HTML with XPath, we’re going to use the lxml module for Python. \n",
        "\n",
        "# https://docs.python.org/3/howto/urllib2.html\n",
        "\n",
        "import os\n",
        "\n",
        "local = os.getcwd() + '/star_wars_html'\n",
        "print(local)\n",
        "\n",
        "response = urlopen(local)\n",
        "htmlparser = etree.HTMLParser()\n",
        "tree = etree.parse(response, htmlparser)"
      ],
      "execution_count": null,
      "outputs": []
    },
    {
      "cell_type": "code",
      "metadata": {
        "id": "K7twODeTVPsi"
      },
      "source": [
        "# how do you get stuff (really basic)\n",
        "tree.xpath('//p/strong/text()')"
      ],
      "execution_count": null,
      "outputs": []
    },
    {
      "cell_type": "code",
      "metadata": {
        "id": "zw6k3KzMW6Hn"
      },
      "source": [
        "# how do you get stuff that has stuff you want to search\n",
        "tree.xpath('//p[contains(text(),\"Use\")]/text()')"
      ],
      "execution_count": null,
      "outputs": []
    },
    {
      "cell_type": "code",
      "metadata": {
        "id": "rzPYOEMbW9Ts"
      },
      "source": [
        "# get stuff that doesn't have other stuff\n",
        "tree.xpath('//p/strong[not(contains(text(),\"\\xa0\"))]/text()')"
      ],
      "execution_count": null,
      "outputs": []
    },
    {
      "cell_type": "code",
      "metadata": {
        "id": "dERC2IsBW_7Z"
      },
      "source": [
        "# get starts-with\n",
        "tree.xpath('//img[starts-with(@class, \"alignnone\")]/@src')"
      ],
      "execution_count": null,
      "outputs": []
    },
    {
      "cell_type": "code",
      "metadata": {
        "id": "ijlpMfM2XCV7"
      },
      "source": [
        "# get all the stuff under something (descendant)\n",
        "tree.xpath('//header[@class=\"article header\"]/descendant::node()/text()')"
      ],
      "execution_count": null,
      "outputs": []
    },
    {
      "cell_type": "code",
      "metadata": {
        "id": "LEYJgo5GXEv6"
      },
      "source": [
        "# get stuff based on its index\n",
        "tree.xpath('//li[@class=\"related-post\"]/a/@href')"
      ],
      "execution_count": null,
      "outputs": []
    },
    {
      "cell_type": "code",
      "metadata": {
        "id": "8WrhnKE1XGxd"
      },
      "source": [
        "# get stuff based on its index\n",
        "tree.xpath('//li[@class=\"related-post\"]/a[1]/@href')"
      ],
      "execution_count": null,
      "outputs": []
    }
  ]
}