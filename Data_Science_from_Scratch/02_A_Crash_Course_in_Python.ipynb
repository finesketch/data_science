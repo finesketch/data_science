{
  "nbformat": 4,
  "nbformat_minor": 0,
  "metadata": {
    "colab": {
      "name": "02 - A Crash Course in Python.ipynb",
      "provenance": [],
      "authorship_tag": "ABX9TyO6NEALES9LB0/USSvbkg1i",
      "include_colab_link": true
    },
    "kernelspec": {
      "name": "python3",
      "display_name": "Python 3"
    },
    "language_info": {
      "name": "python"
    }
  },
  "cells": [
    {
      "cell_type": "markdown",
      "metadata": {
        "id": "view-in-github",
        "colab_type": "text"
      },
      "source": [
        "<a href=\"https://colab.research.google.com/github/finesketch/data_science/blob/main/Data_Science_from_Scratch/02_A_Crash_Course_in_Python.ipynb\" target=\"_parent\"><img src=\"https://colab.research.google.com/assets/colab-badge.svg\" alt=\"Open In Colab\"/></a>"
      ]
    },
    {
      "cell_type": "markdown",
      "metadata": {
        "id": "v52GdbfD7Fiu"
      },
      "source": [
        "## Whitespace Formatting\n",
        "\n",
        "Programmers will often argue over whether to use tabs or spaces for indentation. For many languages it doesn’t matter that much; however, Python considers tabs and spaces different indentation and will not be able to run your code if you mix the two. When writing Python you should always use spaces, never tabs."
      ]
    },
    {
      "cell_type": "code",
      "metadata": {
        "colab": {
          "base_uri": "https://localhost:8080/"
        },
        "id": "ruat3C0-7GS4",
        "outputId": "7f645775-de67-4c5e-b538-900097c496be"
      },
      "source": [
        "for i in [1, 2, 3, 4, 5]:\n",
        "  print(i)\n",
        "  for j in [6, 7, 8, 9, 0]:\n",
        "    print(j)\n",
        "    print(i + j)\n",
        "  print(i)\n",
        "print('done looping')"
      ],
      "execution_count": 1,
      "outputs": [
        {
          "output_type": "stream",
          "text": [
            "1\n",
            "6\n",
            "7\n",
            "7\n",
            "8\n",
            "8\n",
            "9\n",
            "9\n",
            "10\n",
            "0\n",
            "1\n",
            "1\n",
            "2\n",
            "6\n",
            "8\n",
            "7\n",
            "9\n",
            "8\n",
            "10\n",
            "9\n",
            "11\n",
            "0\n",
            "2\n",
            "2\n",
            "3\n",
            "6\n",
            "9\n",
            "7\n",
            "10\n",
            "8\n",
            "11\n",
            "9\n",
            "12\n",
            "0\n",
            "3\n",
            "3\n",
            "4\n",
            "6\n",
            "10\n",
            "7\n",
            "11\n",
            "8\n",
            "12\n",
            "9\n",
            "13\n",
            "0\n",
            "4\n",
            "4\n",
            "5\n",
            "6\n",
            "11\n",
            "7\n",
            "12\n",
            "8\n",
            "13\n",
            "9\n",
            "14\n",
            "0\n",
            "5\n",
            "5\n",
            "done looping\n"
          ],
          "name": "stdout"
        }
      ]
    },
    {
      "cell_type": "code",
      "metadata": {
        "colab": {
          "base_uri": "https://localhost:8080/"
        },
        "id": "WephmKhN8n1D",
        "outputId": "199752a2-4b22-49eb-959a-089bdc5f17e1"
      },
      "source": [
        "# Whitespace is ignored inside parentheses and brackets\n",
        "long_winded_computation = (1 + 2 + 3 + 4 + 5 + 6 + 7 + 8 + 9 + 10 + 11 + 12 +\n",
        "                           13 + 14 + 15 + 16 + 17 + 18 + 19 + 20)\n",
        "long_winded_computation"
      ],
      "execution_count": 2,
      "outputs": [
        {
          "output_type": "execute_result",
          "data": {
            "text/plain": [
              "210"
            ]
          },
          "metadata": {
            "tags": []
          },
          "execution_count": 2
        }
      ]
    },
    {
      "cell_type": "code",
      "metadata": {
        "id": "waZCsRRa82tv"
      },
      "source": [
        "# for code easy read, follow this:\n",
        "list_of_lists = [[1, 2, 3], [4, 5, 6], [7, 8, 9]]\n",
        "\n",
        "easier_to_read_list_of_lists = [[1, 2, 3],\n",
        "                                [4, 5, 6],\n",
        "                                [7, 8, 9]]"
      ],
      "execution_count": null,
      "outputs": []
    },
    {
      "cell_type": "code",
      "metadata": {
        "id": "U1QHVyJ89ITi"
      },
      "source": [
        "# use a backslash to indicate that a statement continues onto the next line\n",
        "two_plus_three = 2 + \\\n",
        "                 3"
      ],
      "execution_count": 3,
      "outputs": []
    },
    {
      "cell_type": "code",
      "metadata": {
        "id": "PJ-VWICE9Laf"
      },
      "source": [
        "for i in [1, 2, 3, 4, 5]:\n",
        "\n",
        "    # notice the blank line\n",
        "    print(i)"
      ],
      "execution_count": null,
      "outputs": []
    },
    {
      "cell_type": "markdown",
      "metadata": {
        "id": "jSOVRo1u9Y6i"
      },
      "source": [
        "## Module\n",
        "\n",
        "Certain features of Python are not loaded by default. These include both features that are included as part of the language as well as third-party features that you download yourself. In order to use these features, you’ll need to *import* the modules that contain them.\n",
        "\n",
        "**re** is the module containing functions and constants for working with regular expressions. After this type of import you must prefix those functions with **re.** in order to access them."
      ]
    },
    {
      "cell_type": "code",
      "metadata": {
        "id": "LQumlSYg9iGu"
      },
      "source": [
        "import re\n",
        "my_regex = re.compile(\"[0-9]+\", re.I)"
      ],
      "execution_count": null,
      "outputs": []
    },
    {
      "cell_type": "markdown",
      "metadata": {
        "id": "MiTUYEj296l6"
      },
      "source": [
        "If you already had a different **re** in your code, you could use an *alias*:"
      ]
    },
    {
      "cell_type": "code",
      "metadata": {
        "id": "Nx1APCw197Vi"
      },
      "source": [
        "import re as regex\n",
        "my_regex = regex.compile(\"[0-9]+\", regex.I)"
      ],
      "execution_count": null,
      "outputs": []
    },
    {
      "cell_type": "code",
      "metadata": {
        "id": "I0y6vuqi-SZH"
      },
      "source": [
        "# import a specific modules from a library package\n",
        "from collections import defaultdict, Counter\n",
        "lookup = defaultdict(int)\n",
        "my_counter = Counter()"
      ],
      "execution_count": null,
      "outputs": []
    },
    {
      "cell_type": "code",
      "metadata": {
        "id": "iZg7RdLb-hrY"
      },
      "source": [
        "# never import everything using \"*\"\n",
        "match = 10\n",
        "from re import *    # uh oh, re has a match function\n",
        "print(match)        # \"<function match at 0x10281e6a8>\""
      ],
      "execution_count": null,
      "outputs": []
    },
    {
      "cell_type": "markdown",
      "metadata": {
        "id": "L7CMmH9C-n1r"
      },
      "source": [
        "## Functions\n",
        "\n",
        "A function is a rule for taking zero or more inputs and returning a corresponding output. In Python, we typically define functions using **def**:"
      ]
    },
    {
      "cell_type": "code",
      "metadata": {
        "id": "7Dqv-8-0-xKq"
      },
      "source": [
        "def double(x):\n",
        "    \"\"\"\n",
        "    This is where you put an optional docstring that explains what the\n",
        "    function does. For example, this function multiplies its input by 2.\n",
        "    \"\"\"\n",
        "    return x * 2"
      ],
      "execution_count": 4,
      "outputs": []
    },
    {
      "cell_type": "markdown",
      "metadata": {
        "id": "okUz87kj-5FH"
      },
      "source": [
        "Python functions are *first-class*, which means that we can assign them to variables and pass them into functions just like any other arguments."
      ]
    },
    {
      "cell_type": "code",
      "metadata": {
        "id": "rhg7IY2x-8Q2"
      },
      "source": [
        "def apply_to_one(f):\n",
        "    \"\"\"Calls the 'double(x)' function f with 1 as its argument\"\"\"\n",
        "    return f(1)\n",
        "\n",
        "my_double = double             # refers to the previously defined function\n",
        "x = apply_to_one(my_double)    # equals 2"
      ],
      "execution_count": 5,
      "outputs": []
    },
    {
      "cell_type": "code",
      "metadata": {
        "id": "oe2U-9vt_Ob6"
      },
      "source": [
        "# short anonymous functions - lambdas\n",
        "y = apply_to_one(lambda x: x + 4)      # equals 5"
      ],
      "execution_count": 6,
      "outputs": []
    },
    {
      "cell_type": "code",
      "metadata": {
        "id": "175M2tZ-_hVe"
      },
      "source": [
        "another_double = lambda x: 2 * x       # don't do this\n",
        "\n",
        "def another_double(x):\n",
        "    \"\"\"Do this instead\"\"\"\n",
        "    return 2 * x"
      ],
      "execution_count": 7,
      "outputs": []
    },
    {
      "cell_type": "code",
      "metadata": {
        "colab": {
          "base_uri": "https://localhost:8080/"
        },
        "id": "nJdxCeiB_wdM",
        "outputId": "f3759357-d6af-4613-97a5-ed012856b990"
      },
      "source": [
        "# function parameters can also be given default arguments\n",
        "def my_print(message = \"my default message\"):\n",
        "    print(message)\n",
        "\n",
        "my_print(\"hello\")   # prints 'hello'\n",
        "my_print()          # prints 'my default message'"
      ],
      "execution_count": 8,
      "outputs": [
        {
          "output_type": "stream",
          "text": [
            "hello\n",
            "my default message\n"
          ],
          "name": "stdout"
        }
      ]
    },
    {
      "cell_type": "code",
      "metadata": {
        "colab": {
          "base_uri": "https://localhost:8080/",
          "height": 35
        },
        "id": "6hK4XmK1_6BS",
        "outputId": "b684b119-0226-49bb-f598-8c873a32610d"
      },
      "source": [
        "# specify parameters by name\n",
        "def full_name(first = \"What's-his-name\", last = \"Something\"):\n",
        "    return first + \" \" + last\n",
        "\n",
        "full_name(\"Joel\", \"Grus\")     # \"Joel Grus\"\n",
        "full_name(\"Joel\")             # \"Joel Something\"\n",
        "full_name(last=\"Grus\")        # \"What's-his-name Grus\""
      ],
      "execution_count": 9,
      "outputs": [
        {
          "output_type": "execute_result",
          "data": {
            "application/vnd.google.colaboratory.intrinsic+json": {
              "type": "string"
            },
            "text/plain": [
              "\"What's-his-name Grus\""
            ]
          },
          "metadata": {
            "tags": []
          },
          "execution_count": 9
        }
      ]
    },
    {
      "cell_type": "markdown",
      "metadata": {
        "id": "FDBqzf5tAE7t"
      },
      "source": [
        "## Strings\n",
        "\n",
        "Strings can be delimited by single or double quotation marks."
      ]
    },
    {
      "cell_type": "code",
      "metadata": {
        "id": "AuBIisC6ALJ3"
      },
      "source": [
        "single_quoted_string = 'data science'\n",
        "double_quoted_string = \"data science\""
      ],
      "execution_count": 10,
      "outputs": []
    },
    {
      "cell_type": "code",
      "metadata": {
        "colab": {
          "base_uri": "https://localhost:8080/"
        },
        "id": "NyeqFUcqAOgU",
        "outputId": "a1a14e2a-8d14-44b4-c79b-0be5bf885c98"
      },
      "source": [
        "# uses backslashes to encode special characters\n",
        "tab_string = \"\\t\"       # represents the tab character\n",
        "len(tab_string)         # is 1"
      ],
      "execution_count": 11,
      "outputs": [
        {
          "output_type": "execute_result",
          "data": {
            "text/plain": [
              "1"
            ]
          },
          "metadata": {
            "tags": []
          },
          "execution_count": 11
        }
      ]
    },
    {
      "cell_type": "code",
      "metadata": {
        "colab": {
          "base_uri": "https://localhost:8080/"
        },
        "id": "_DmvVppcAep9",
        "outputId": "7d4d1544-5293-4697-b766-ca13f68a104f"
      },
      "source": [
        "# use raw strings using r\"\" to include the \\ character\n",
        "not_tab_string = r\"\\t\"  # represents the characters '\\' and 't'\n",
        "len(not_tab_string)     # is 2"
      ],
      "execution_count": 12,
      "outputs": [
        {
          "output_type": "execute_result",
          "data": {
            "text/plain": [
              "2"
            ]
          },
          "metadata": {
            "tags": []
          },
          "execution_count": 12
        }
      ]
    },
    {
      "cell_type": "code",
      "metadata": {
        "id": "GVWrTH2tAk58"
      },
      "source": [
        "# multiline strings\n",
        "multi_line_string = \"\"\"This is the first line.\n",
        "                    and this is the second line\n",
        "                    and this is the third line\"\"\""
      ],
      "execution_count": 13,
      "outputs": []
    },
    {
      "cell_type": "code",
      "metadata": {
        "id": "xMMNtry7AyMC"
      },
      "source": [
        "# f-string or f\"\"\" feature in Python 3.6\n",
        "first_name = \"Joel\"\n",
        "last_name = \"Grus\"\n",
        "\n",
        "full_name1 = first_name + \" \" + last_name             # string addition \n",
        "full_name2 = \"{0} {1}\".format(first_name, last_name)  # string.format \n",
        "full_name3 = f\"{first_name} {last_name}\"              # f\"\"\" (new way)"
      ],
      "execution_count": 14,
      "outputs": []
    },
    {
      "cell_type": "markdown",
      "metadata": {
        "id": "lcoK_1kxBNQb"
      },
      "source": [
        "## Lists (or Arrays)\n",
        "\n",
        "Probably the most fundamental data structure in Python is the list, which is simply an ordered collection."
      ]
    },
    {
      "cell_type": "code",
      "metadata": {
        "id": "Z84djZsSBLwG"
      },
      "source": [
        "integer_list = [1, 2, 3]\n",
        "heterogeneous_list = [\"string\", 0.1, True] # NumPy does not allow for this (homogeneous)\n",
        "list_of_lists = [integer_list, heterogeneous_list, []]\n",
        "\n",
        "list_length = len(integer_list)     # equals 3\n",
        "list_sum    = sum(integer_list)     # equals 6"
      ],
      "execution_count": 16,
      "outputs": []
    },
    {
      "cell_type": "code",
      "metadata": {
        "id": "nEfGKg30BzYv"
      },
      "source": [
        "x = [0, 1, 2, 3, 4, 5, 6, 7, 8, 9]\n",
        "\n",
        "# basic\n",
        "zero = x[0]          # equals 0, lists are 0-indexed\n",
        "one = x[1]           # equals 1\n",
        "nine = x[-1]         # equals 9, 'Pythonic' for last element\n",
        "eight = x[-2]        # equals 8, 'Pythonic' for next-to-last element\n",
        "x[0] = -1            # now x is [-1, 1, 2, 3, ..., 9]\n",
        "\n",
        "# more\n",
        "first_three = x[:3]                 # [-1, 1, 2]\n",
        "three_to_end = x[3:]                # [3, 4, ..., 9]\n",
        "one_to_four = x[1:5]                # [1, 2, 3, 4]\n",
        "last_three = x[-3:]                 # [7, 8, 9]\n",
        "without_first_and_last = x[1:-1]    # [1, 2, ..., 8]\n",
        "copy_of_x = x[:]                    # [-1, 1, 2, ..., 9]"
      ],
      "execution_count": 17,
      "outputs": []
    },
    {
      "cell_type": "code",
      "metadata": {
        "colab": {
          "base_uri": "https://localhost:8080/"
        },
        "id": "n7eB4gWKB6BE",
        "outputId": "66d88468-7b9b-4c14-859e-3ea52de9b658"
      },
      "source": [
        "# \"slice\" strings using [ start : stop : step ]\n",
        "every_third = x[::3]                 # [-1, 3, 6, 9]\n",
        "five_to_three = x[5:2:-1]            # [5, 4, 3]\n",
        "\n",
        "# check\n",
        "x[5:2:1]                             # []"
      ],
      "execution_count": 18,
      "outputs": [
        {
          "output_type": "execute_result",
          "data": {
            "text/plain": [
              "[]"
            ]
          },
          "metadata": {
            "tags": []
          },
          "execution_count": 18
        }
      ]
    },
    {
      "cell_type": "code",
      "metadata": {
        "colab": {
          "base_uri": "https://localhost:8080/"
        },
        "id": "_If_IiNVC5ES",
        "outputId": "ea3cbd35-ab41-4349-9d1e-c467d3dc7fe9"
      },
      "source": [
        "# check through the elements in a list\n",
        "# not recommended unless the list is small (check one at a time)\n",
        "1 in [1, 2, 3]  # True\n",
        "0 in [1, 2, 3]  # False"
      ],
      "execution_count": 20,
      "outputs": [
        {
          "output_type": "execute_result",
          "data": {
            "text/plain": [
              "False"
            ]
          },
          "metadata": {
            "tags": []
          },
          "execution_count": 20
        }
      ]
    },
    {
      "cell_type": "code",
      "metadata": {
        "id": "N876zJ8TDmH1"
      },
      "source": [
        "# concatenate lists\n",
        "x = [1, 2, 3]\n",
        "x.extend([4, 5, 6])     # x is now [1, 2, 3, 4, 5, 6]"
      ],
      "execution_count": 21,
      "outputs": []
    },
    {
      "cell_type": "code",
      "metadata": {
        "id": "XVKr2-3TDvgh"
      },
      "source": [
        "# list addition\n",
        "x = [1, 2, 3]\n",
        "y = x + [4, 5, 6]       # y is [1, 2, 3, 4, 5, 6]; x is unchanged"
      ],
      "execution_count": 23,
      "outputs": []
    },
    {
      "cell_type": "code",
      "metadata": {
        "id": "JBChKYQSD3eU"
      },
      "source": [
        "# append to a list\n",
        "x = [1, 2, 3]\n",
        "x.append(0)      # x is now [1, 2, 3, 0]\n",
        "y = x[-1]        # equals 0\n",
        "z = len(x)       # equals 4"
      ],
      "execution_count": 22,
      "outputs": []
    },
    {
      "cell_type": "code",
      "metadata": {
        "id": "ontuIsFnED3S"
      },
      "source": [
        "# unpack a list (if you know how many are there)\n",
        "x, y = [1, 2]    # now x is 1, y is 2"
      ],
      "execution_count": 24,
      "outputs": []
    },
    {
      "cell_type": "code",
      "metadata": {
        "colab": {
          "base_uri": "https://localhost:8080/",
          "height": 181
        },
        "id": "mczGPzVhEJsg",
        "outputId": "331fb002-9da7-4365-e2d6-b6322f8254e2"
      },
      "source": [
        "# will get ValueError if item mismatched and larger in the LEFT side\n",
        "x, y, z = [1, 2]    # now x is 1, y is 2"
      ],
      "execution_count": 27,
      "outputs": [
        {
          "output_type": "error",
          "ename": "ValueError",
          "evalue": "ignored",
          "traceback": [
            "\u001b[0;31m---------------------------------------------------------------------------\u001b[0m",
            "\u001b[0;31mValueError\u001b[0m                                Traceback (most recent call last)",
            "\u001b[0;32m<ipython-input-27-8cf37a17beed>\u001b[0m in \u001b[0;36m<module>\u001b[0;34m()\u001b[0m\n\u001b[1;32m      1\u001b[0m \u001b[0;31m# will get ValueError if item mismatched\u001b[0m\u001b[0;34m\u001b[0m\u001b[0;34m\u001b[0m\u001b[0;34m\u001b[0m\u001b[0m\n\u001b[0;32m----> 2\u001b[0;31m \u001b[0mx\u001b[0m\u001b[0;34m,\u001b[0m \u001b[0my\u001b[0m\u001b[0;34m,\u001b[0m \u001b[0mz\u001b[0m \u001b[0;34m=\u001b[0m \u001b[0;34m[\u001b[0m\u001b[0;36m1\u001b[0m\u001b[0;34m,\u001b[0m \u001b[0;36m2\u001b[0m\u001b[0;34m]\u001b[0m    \u001b[0;31m# now x is 1, y is 2\u001b[0m\u001b[0;34m\u001b[0m\u001b[0;34m\u001b[0m\u001b[0m\n\u001b[0m",
            "\u001b[0;31mValueError\u001b[0m: not enough values to unpack (expected 3, got 2)"
          ]
        }
      ]
    },
    {
      "cell_type": "code",
      "metadata": {
        "id": "0W4_x0y_EZKn"
      },
      "source": [
        "# use \"_\" to ignore an item\n",
        "_, y = [1, 2]    # now y == 2, didn't care about the first element"
      ],
      "execution_count": 28,
      "outputs": []
    },
    {
      "cell_type": "markdown",
      "metadata": {
        "id": "ULuJjZfxEuGB"
      },
      "source": [
        "## Tuples\n",
        "\n",
        "Tuples are lists’ immutable cousins. Pretty much anything you can do to a list that doesn’t involve modifying it, you can do to a tuple."
      ]
    },
    {
      "cell_type": "code",
      "metadata": {
        "colab": {
          "base_uri": "https://localhost:8080/"
        },
        "id": "KOAyliVOE021",
        "outputId": "a010b479-1ebc-4df6-dabe-28f51408caba"
      },
      "source": [
        "my_list = [1, 2]\n",
        "my_tuple = (1, 2)\n",
        "other_tuple = 3, 4\n",
        "my_list[1] = 3      # my_list is now [1, 3]\n",
        "\n",
        "try:\n",
        "    my_tuple[1] = 3\n",
        "except TypeError:\n",
        "    print(\"cannot modify a tuple\")"
      ],
      "execution_count": 29,
      "outputs": [
        {
          "output_type": "stream",
          "text": [
            "cannot modify a tuple\n"
          ],
          "name": "stdout"
        }
      ]
    },
    {
      "cell_type": "code",
      "metadata": {
        "id": "xfLj1KSNE-eP"
      },
      "source": [
        "# tuple is a way to return multiple values\n",
        "def sum_and_product(x, y):\n",
        "    return (x + y), (x * y)\n",
        "\n",
        "sp = sum_and_product(2, 3)     # sp is (5, 6)\n",
        "s, p = sum_and_product(5, 10)  # s is 15, p is 50"
      ],
      "execution_count": 30,
      "outputs": []
    },
    {
      "cell_type": "code",
      "metadata": {
        "id": "4hSpp4KrFOXM"
      },
      "source": [
        "# tuples and lists can be used for multiple assignment\n",
        "x, y = 1, 2     # now x is 1, y is 2\n",
        "x, y = y, x     # swap variables; now x is 2, y is 1 (Pythonic)"
      ],
      "execution_count": 31,
      "outputs": []
    },
    {
      "cell_type": "markdown",
      "metadata": {
        "id": "pya5oi6sFbvT"
      },
      "source": [
        "## Dictionaries\n",
        "\n",
        "Key and key pairs."
      ]
    },
    {
      "cell_type": "code",
      "metadata": {
        "id": "D3nwUKmMFhVE"
      },
      "source": [
        "# create a dictionary\n",
        "empty_dict = {}                     # Pythonic\n",
        "empty_dict2 = dict()                # less Pythonic\n",
        "grades = {\"Joel\": 80, \"Tim\": 95}    # dictionary literal"
      ],
      "execution_count": 32,
      "outputs": []
    },
    {
      "cell_type": "code",
      "metadata": {
        "id": "RWutKPcCFzdF"
      },
      "source": [
        "# value lookup using key\n",
        "joels_grade = grades[\"Joel\"]        # equals 80"
      ],
      "execution_count": 33,
      "outputs": []
    },
    {
      "cell_type": "code",
      "metadata": {
        "colab": {
          "base_uri": "https://localhost:8080/"
        },
        "id": "yrQOAB9FF-Pc",
        "outputId": "119082c6-7776-4261-9f1a-ed1b8a1798eb"
      },
      "source": [
        "# not found\n",
        "try:\n",
        "    kates_grade = grades[\"Kate\"]\n",
        "except KeyError:\n",
        "    print(\"no grade for Kate!\")"
      ],
      "execution_count": 34,
      "outputs": [
        {
          "output_type": "stream",
          "text": [
            "no grade for Kate!\n"
          ],
          "name": "stdout"
        }
      ]
    },
    {
      "cell_type": "code",
      "metadata": {
        "id": "7ipWJnIIGBos"
      },
      "source": [
        "# existence of a key\n",
        "# compare to list, but this membership check is \"fast\" even for large dictionaries\n",
        "joel_has_grade = \"Joel\" in grades     # True\n",
        "kate_has_grade = \"Kate\" in grades     # False"
      ],
      "execution_count": 35,
      "outputs": []
    },
    {
      "cell_type": "code",
      "metadata": {
        "id": "If8dffwxGZBi"
      },
      "source": [
        "# \"get\"\n",
        "joels_grade = grades.get(\"Joel\", 0)   # equals 80\n",
        "kates_grade = grades.get(\"Kate\", 0)   # equals 0\n",
        "no_ones_grade = grades.get(\"No One\")  # default is None"
      ],
      "execution_count": 36,
      "outputs": []
    },
    {
      "cell_type": "code",
      "metadata": {
        "id": "NeeFDHqyGi97"
      },
      "source": [
        "# assignment\n",
        "grades[\"Tim\"] = 99                    # replaces the old value\n",
        "grades[\"Kate\"] = 100                  # adds a third entry\n",
        "num_students = len(grades)            # equals 3"
      ],
      "execution_count": 37,
      "outputs": []
    },
    {
      "cell_type": "code",
      "metadata": {
        "id": "gudYxvQjGv67"
      },
      "source": [
        "# use dictionary to represent structured data\n",
        "tweet = {\n",
        "    \"user\" : \"joelgrus\",\n",
        "    \"text\" : \"Data Science is Awesome\",\n",
        "    \"retweet_count\" : 100,\n",
        "    \"hashtags\" : [\"#data\", \"#science\", \"#datascience\", \"#awesome\", \"#yolo\"]\n",
        "}\n",
        "\n",
        "tweet_keys   = tweet.keys()     # iterable for the keys\n",
        "tweet_values = tweet.values()   # iterable for the values\n",
        "tweet_items  = tweet.items()    # iterable for the (key, value) tuples\n",
        "\n",
        "\"user\" in tweet_keys            # True, but not Pythonic\n",
        "\"user\" in tweet                 # Pythonic way of checking for keys\n",
        "\"joelgrus\" in tweet_values      # True (slow but the only way to check)"
      ],
      "execution_count": 38,
      "outputs": []
    },
    {
      "cell_type": "markdown",
      "metadata": {
        "id": "jBAWA1dTHyML"
      },
      "source": [
        "### defaultdict\n",
        "\n",
        "Imagine that you’re trying to count the words in a document. An obvious approach is to create a dictionary in which the keys are words and the values are counts. As you check each word, you can increment its count if it’s already in the dictionary and add it to the dictionary if it’s not."
      ]
    },
    {
      "cell_type": "code",
      "metadata": {
        "id": "lWxg2MOGIDJ6"
      },
      "source": [
        "# Option 1: use \"in\" keyword\n",
        "word_counts = {}\n",
        "for word in document:\n",
        "    if word in word_counts:\n",
        "        word_counts[word] += 1\n",
        "    else:\n",
        "        word_counts[word] = 1"
      ],
      "execution_count": null,
      "outputs": []
    },
    {
      "cell_type": "code",
      "metadata": {
        "id": "O759ouE5IEDW"
      },
      "source": [
        "# Option 2: Just run and catch exception\n",
        "word_counts = {}\n",
        "for word in document:\n",
        "    try:\n",
        "        word_counts[word] += 1\n",
        "    except KeyError:\n",
        "        word_counts[word] = 1"
      ],
      "execution_count": null,
      "outputs": []
    },
    {
      "cell_type": "code",
      "metadata": {
        "id": "WkIiq27RIEMH"
      },
      "source": [
        "# Option 3: Use \"get\"\n",
        "word_counts = {}\n",
        "for word in document:\n",
        "    previous_count = word_counts.get(word, 0)\n",
        "    word_counts[word] = previous_count + 1"
      ],
      "execution_count": null,
      "outputs": []
    },
    {
      "cell_type": "code",
      "metadata": {
        "id": "E3zoxWYuI9mM"
      },
      "source": [
        "# Option 4: defaultdict\n",
        "from collections import defaultdict\n",
        "\n",
        "word_counts = defaultdict(int)          # int() produces 0\n",
        "for word in document:\n",
        "    word_counts[word] += 1\n",
        "\n",
        "# useful for list and dict\n",
        "dd_list = defaultdict(list)             # list() produces an empty list\n",
        "dd_list[2].append(1)                    # now dd_list contains {2: [1]}\n",
        "\n",
        "dd_dict = defaultdict(dict)             # dict() produces an empty dict\n",
        "dd_dict[\"Joel\"][\"City\"] = \"Seattle\"     # {\"Joel\" : {\"City\": Seattle\"}}\n",
        "\n",
        "dd_pair = defaultdict(lambda: [0, 0])\n",
        "dd_pair[2][1] = 1                       # now dd_pair contains {2: [0, 1]}"
      ],
      "execution_count": null,
      "outputs": []
    },
    {
      "cell_type": "markdown",
      "metadata": {
        "id": "-c1hUWWQJpzC"
      },
      "source": [
        "## Counters\n",
        "\n",
        "A Counter turns a sequence of values into a defaultdict(int)-like object mapping keys to counts."
      ]
    },
    {
      "cell_type": "code",
      "metadata": {
        "id": "f3s8n39sJ1sl"
      },
      "source": [
        "from collections import Counter\n",
        "c = Counter([0, 1, 2, 0])          # c is (basically) {0: 2, 1: 1, 2: 1}\n",
        "\n",
        "# counting the value\n",
        "# \"0\" has 2 occurances\n",
        "# \"1\" has 1 occurance\n",
        "# \"2\" has 1 occurance"
      ],
      "execution_count": null,
      "outputs": []
    },
    {
      "cell_type": "code",
      "metadata": {
        "id": "KbCbvA4pKRLi"
      },
      "source": [
        "# a very simple way to solve our word_counts problem\n",
        "# recall, document is a list of words\n",
        "word_counts = Counter(document)"
      ],
      "execution_count": null,
      "outputs": []
    },
    {
      "cell_type": "code",
      "metadata": {
        "id": "RkfBX4NvKZiS"
      },
      "source": [
        "# A Counter instance has a most_common method that is frequently useful\n",
        "# print the 10 most common words and their counts\n",
        "for word, count in word_counts.most_common(10):\n",
        "    print(word, count)"
      ],
      "execution_count": null,
      "outputs": []
    },
    {
      "cell_type": "markdown",
      "metadata": {
        "id": "EwiFkJQkK0CW"
      },
      "source": [
        "## Sets\n",
        "\n",
        "A collection of distinct elements. Very fast, find distinct items in a collection."
      ]
    },
    {
      "cell_type": "code",
      "metadata": {
        "id": "aqDMikeCK4hL"
      },
      "source": [
        "primes_below_10 = {2, 3, 5, 7}"
      ],
      "execution_count": null,
      "outputs": []
    },
    {
      "cell_type": "code",
      "metadata": {
        "id": "-FjTbtcCK7nh"
      },
      "source": [
        "s = set()\n",
        "s.add(1)       # s is now {1}\n",
        "s.add(2)       # s is now {1, 2}\n",
        "s.add(2)       # s is still {1, 2}\n",
        "x = len(s)     # equals 2\n",
        "y = 2 in s     # equals True\n",
        "z = 3 in s     # equals False"
      ],
      "execution_count": null,
      "outputs": []
    },
    {
      "cell_type": "code",
      "metadata": {
        "id": "8j-rHNWPLNgQ"
      },
      "source": [
        "# very fast\n",
        "stopwords_list = [\"a\", \"an\", \"at\"] + hundreds_of_other_words + [\"yet\", \"you\"]\n",
        "\n",
        "\"zip\" in stopwords_list     # False, but have to check every element\n",
        "\n",
        "stopwords_set = set(stopwords_list)\n",
        "\"zip\" in stopwords_set      # very fast to check"
      ],
      "execution_count": null,
      "outputs": []
    },
    {
      "cell_type": "code",
      "metadata": {
        "id": "Nr_Nqs2MLnrf"
      },
      "source": [
        "# find distinct items in a collection\n",
        "item_list = [1, 2, 3, 1, 2, 3]\n",
        "\n",
        "num_items = len(item_list)                # 6\n",
        "item_set = set(item_list)                 # {1, 2, 3}\n",
        "num_distinct_items = len(item_set)        # 3\n",
        "distinct_item_list = list(item_set)       # [1, 2, 3]"
      ],
      "execution_count": null,
      "outputs": []
    }
  ]
}