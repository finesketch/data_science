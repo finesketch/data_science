{
  "nbformat": 4,
  "nbformat_minor": 0,
  "metadata": {
    "colab": {
      "name": "02 - A Crash Course in Python.ipynb",
      "provenance": [],
      "authorship_tag": "ABX9TyOAb1ObvrF1lUhEIwm7wF8p",
      "include_colab_link": true
    },
    "kernelspec": {
      "name": "python3",
      "display_name": "Python 3"
    },
    "language_info": {
      "name": "python"
    }
  },
  "cells": [
    {
      "cell_type": "markdown",
      "metadata": {
        "id": "view-in-github",
        "colab_type": "text"
      },
      "source": [
        "<a href=\"https://colab.research.google.com/github/finesketch/data_science/blob/main/Data_Science_from_Scratch/02_A_Crash_Course_in_Python.ipynb\" target=\"_parent\"><img src=\"https://colab.research.google.com/assets/colab-badge.svg\" alt=\"Open In Colab\"/></a>"
      ]
    },
    {
      "cell_type": "markdown",
      "metadata": {
        "id": "v52GdbfD7Fiu"
      },
      "source": [
        "## Whitespace Formatting\n",
        "\n",
        "Programmers will often argue over whether to use tabs or spaces for indentation. For many languages it doesn’t matter that much; however, Python considers tabs and spaces different indentation and will not be able to run your code if you mix the two. When writing Python you should always use spaces, never tabs."
      ]
    },
    {
      "cell_type": "code",
      "metadata": {
        "colab": {
          "base_uri": "https://localhost:8080/"
        },
        "id": "ruat3C0-7GS4",
        "outputId": "7f645775-de67-4c5e-b538-900097c496be"
      },
      "source": [
        "for i in [1, 2, 3, 4, 5]:\n",
        "  print(i)\n",
        "  for j in [6, 7, 8, 9, 0]:\n",
        "    print(j)\n",
        "    print(i + j)\n",
        "  print(i)\n",
        "print('done looping')"
      ],
      "execution_count": 1,
      "outputs": [
        {
          "output_type": "stream",
          "text": [
            "1\n",
            "6\n",
            "7\n",
            "7\n",
            "8\n",
            "8\n",
            "9\n",
            "9\n",
            "10\n",
            "0\n",
            "1\n",
            "1\n",
            "2\n",
            "6\n",
            "8\n",
            "7\n",
            "9\n",
            "8\n",
            "10\n",
            "9\n",
            "11\n",
            "0\n",
            "2\n",
            "2\n",
            "3\n",
            "6\n",
            "9\n",
            "7\n",
            "10\n",
            "8\n",
            "11\n",
            "9\n",
            "12\n",
            "0\n",
            "3\n",
            "3\n",
            "4\n",
            "6\n",
            "10\n",
            "7\n",
            "11\n",
            "8\n",
            "12\n",
            "9\n",
            "13\n",
            "0\n",
            "4\n",
            "4\n",
            "5\n",
            "6\n",
            "11\n",
            "7\n",
            "12\n",
            "8\n",
            "13\n",
            "9\n",
            "14\n",
            "0\n",
            "5\n",
            "5\n",
            "done looping\n"
          ],
          "name": "stdout"
        }
      ]
    },
    {
      "cell_type": "code",
      "metadata": {
        "colab": {
          "base_uri": "https://localhost:8080/"
        },
        "id": "WephmKhN8n1D",
        "outputId": "199752a2-4b22-49eb-959a-089bdc5f17e1"
      },
      "source": [
        "# Whitespace is ignored inside parentheses and brackets\n",
        "long_winded_computation = (1 + 2 + 3 + 4 + 5 + 6 + 7 + 8 + 9 + 10 + 11 + 12 +\n",
        "                           13 + 14 + 15 + 16 + 17 + 18 + 19 + 20)\n",
        "long_winded_computation"
      ],
      "execution_count": 2,
      "outputs": [
        {
          "output_type": "execute_result",
          "data": {
            "text/plain": [
              "210"
            ]
          },
          "metadata": {
            "tags": []
          },
          "execution_count": 2
        }
      ]
    },
    {
      "cell_type": "code",
      "metadata": {
        "id": "waZCsRRa82tv"
      },
      "source": [
        "# for code easy read, follow this:\n",
        "list_of_lists = [[1, 2, 3], [4, 5, 6], [7, 8, 9]]\n",
        "\n",
        "easier_to_read_list_of_lists = [[1, 2, 3],\n",
        "                                [4, 5, 6],\n",
        "                                [7, 8, 9]]"
      ],
      "execution_count": null,
      "outputs": []
    },
    {
      "cell_type": "code",
      "metadata": {
        "id": "U1QHVyJ89ITi"
      },
      "source": [
        "# use a backslash to indicate that a statement continues onto the next line\n",
        "two_plus_three = 2 + \\\n",
        "                 3"
      ],
      "execution_count": 3,
      "outputs": []
    },
    {
      "cell_type": "code",
      "metadata": {
        "id": "PJ-VWICE9Laf"
      },
      "source": [
        "for i in [1, 2, 3, 4, 5]:\n",
        "\n",
        "    # notice the blank line\n",
        "    print(i)"
      ],
      "execution_count": null,
      "outputs": []
    },
    {
      "cell_type": "markdown",
      "metadata": {
        "id": "jSOVRo1u9Y6i"
      },
      "source": [
        "## Module\n",
        "\n",
        "Certain features of Python are not loaded by default. These include both features that are included as part of the language as well as third-party features that you download yourself. In order to use these features, you’ll need to *import* the modules that contain them.\n",
        "\n",
        "**re** is the module containing functions and constants for working with regular expressions. After this type of import you must prefix those functions with **re.** in order to access them."
      ]
    },
    {
      "cell_type": "code",
      "metadata": {
        "id": "LQumlSYg9iGu"
      },
      "source": [
        "import re\n",
        "my_regex = re.compile(\"[0-9]+\", re.I)"
      ],
      "execution_count": null,
      "outputs": []
    },
    {
      "cell_type": "markdown",
      "metadata": {
        "id": "MiTUYEj296l6"
      },
      "source": [
        "If you already had a different **re** in your code, you could use an *alias*:"
      ]
    },
    {
      "cell_type": "code",
      "metadata": {
        "id": "Nx1APCw197Vi"
      },
      "source": [
        "import re as regex\n",
        "my_regex = regex.compile(\"[0-9]+\", regex.I)"
      ],
      "execution_count": null,
      "outputs": []
    },
    {
      "cell_type": "code",
      "metadata": {
        "id": "I0y6vuqi-SZH"
      },
      "source": [
        "# import a specific modules from a library package\n",
        "from collections import defaultdict, Counter\n",
        "lookup = defaultdict(int)\n",
        "my_counter = Counter()"
      ],
      "execution_count": null,
      "outputs": []
    },
    {
      "cell_type": "code",
      "metadata": {
        "id": "iZg7RdLb-hrY"
      },
      "source": [
        "# never import everything using \"*\"\n",
        "match = 10\n",
        "from re import *    # uh oh, re has a match function\n",
        "print(match)        # \"<function match at 0x10281e6a8>\""
      ],
      "execution_count": null,
      "outputs": []
    },
    {
      "cell_type": "markdown",
      "metadata": {
        "id": "L7CMmH9C-n1r"
      },
      "source": [
        "## Functions\n",
        "\n",
        "A function is a rule for taking zero or more inputs and returning a corresponding output. In Python, we typically define functions using **def**:"
      ]
    },
    {
      "cell_type": "code",
      "metadata": {
        "id": "7Dqv-8-0-xKq"
      },
      "source": [
        "def double(x):\n",
        "    \"\"\"\n",
        "    This is where you put an optional docstring that explains what the\n",
        "    function does. For example, this function multiplies its input by 2.\n",
        "    \"\"\"\n",
        "    return x * 2"
      ],
      "execution_count": 4,
      "outputs": []
    },
    {
      "cell_type": "markdown",
      "metadata": {
        "id": "okUz87kj-5FH"
      },
      "source": [
        "Python functions are *first-class*, which means that we can assign them to variables and pass them into functions just like any other arguments."
      ]
    },
    {
      "cell_type": "code",
      "metadata": {
        "id": "rhg7IY2x-8Q2"
      },
      "source": [
        "def apply_to_one(f):\n",
        "    \"\"\"Calls the 'double(x)' function f with 1 as its argument\"\"\"\n",
        "    return f(1)\n",
        "\n",
        "my_double = double             # refers to the previously defined function\n",
        "x = apply_to_one(my_double)    # equals 2"
      ],
      "execution_count": 5,
      "outputs": []
    },
    {
      "cell_type": "code",
      "metadata": {
        "id": "oe2U-9vt_Ob6"
      },
      "source": [
        "# short anonymous functions - lambdas\n",
        "y = apply_to_one(lambda x: x + 4)      # equals 5"
      ],
      "execution_count": 6,
      "outputs": []
    },
    {
      "cell_type": "code",
      "metadata": {
        "id": "175M2tZ-_hVe"
      },
      "source": [
        "another_double = lambda x: 2 * x       # don't do this\n",
        "\n",
        "def another_double(x):\n",
        "    \"\"\"Do this instead\"\"\"\n",
        "    return 2 * x"
      ],
      "execution_count": 7,
      "outputs": []
    },
    {
      "cell_type": "code",
      "metadata": {
        "colab": {
          "base_uri": "https://localhost:8080/"
        },
        "id": "nJdxCeiB_wdM",
        "outputId": "f3759357-d6af-4613-97a5-ed012856b990"
      },
      "source": [
        "# function parameters can also be given default arguments\n",
        "def my_print(message = \"my default message\"):\n",
        "    print(message)\n",
        "\n",
        "my_print(\"hello\")   # prints 'hello'\n",
        "my_print()          # prints 'my default message'"
      ],
      "execution_count": 8,
      "outputs": [
        {
          "output_type": "stream",
          "text": [
            "hello\n",
            "my default message\n"
          ],
          "name": "stdout"
        }
      ]
    },
    {
      "cell_type": "code",
      "metadata": {
        "colab": {
          "base_uri": "https://localhost:8080/",
          "height": 35
        },
        "id": "6hK4XmK1_6BS",
        "outputId": "b684b119-0226-49bb-f598-8c873a32610d"
      },
      "source": [
        "# specify parameters by name\n",
        "def full_name(first = \"What's-his-name\", last = \"Something\"):\n",
        "    return first + \" \" + last\n",
        "\n",
        "full_name(\"Joel\", \"Grus\")     # \"Joel Grus\"\n",
        "full_name(\"Joel\")             # \"Joel Something\"\n",
        "full_name(last=\"Grus\")        # \"What's-his-name Grus\""
      ],
      "execution_count": 9,
      "outputs": [
        {
          "output_type": "execute_result",
          "data": {
            "application/vnd.google.colaboratory.intrinsic+json": {
              "type": "string"
            },
            "text/plain": [
              "\"What's-his-name Grus\""
            ]
          },
          "metadata": {
            "tags": []
          },
          "execution_count": 9
        }
      ]
    },
    {
      "cell_type": "markdown",
      "metadata": {
        "id": "FDBqzf5tAE7t"
      },
      "source": [
        "## Strings\n",
        "\n",
        "Strings can be delimited by single or double quotation marks."
      ]
    },
    {
      "cell_type": "code",
      "metadata": {
        "id": "AuBIisC6ALJ3"
      },
      "source": [
        "single_quoted_string = 'data science'\n",
        "double_quoted_string = \"data science\""
      ],
      "execution_count": 10,
      "outputs": []
    },
    {
      "cell_type": "code",
      "metadata": {
        "colab": {
          "base_uri": "https://localhost:8080/"
        },
        "id": "NyeqFUcqAOgU",
        "outputId": "a1a14e2a-8d14-44b4-c79b-0be5bf885c98"
      },
      "source": [
        "# uses backslashes to encode special characters\n",
        "tab_string = \"\\t\"       # represents the tab character\n",
        "len(tab_string)         # is 1"
      ],
      "execution_count": 11,
      "outputs": [
        {
          "output_type": "execute_result",
          "data": {
            "text/plain": [
              "1"
            ]
          },
          "metadata": {
            "tags": []
          },
          "execution_count": 11
        }
      ]
    },
    {
      "cell_type": "code",
      "metadata": {
        "colab": {
          "base_uri": "https://localhost:8080/"
        },
        "id": "_DmvVppcAep9",
        "outputId": "7d4d1544-5293-4697-b766-ca13f68a104f"
      },
      "source": [
        "# use raw strings using r\"\" to include the \\ character\n",
        "not_tab_string = r\"\\t\"  # represents the characters '\\' and 't'\n",
        "len(not_tab_string)     # is 2"
      ],
      "execution_count": 12,
      "outputs": [
        {
          "output_type": "execute_result",
          "data": {
            "text/plain": [
              "2"
            ]
          },
          "metadata": {
            "tags": []
          },
          "execution_count": 12
        }
      ]
    },
    {
      "cell_type": "code",
      "metadata": {
        "id": "GVWrTH2tAk58"
      },
      "source": [
        "# multiline strings\n",
        "multi_line_string = \"\"\"This is the first line.\n",
        "                    and this is the second line\n",
        "                    and this is the third line\"\"\""
      ],
      "execution_count": 13,
      "outputs": []
    },
    {
      "cell_type": "code",
      "metadata": {
        "id": "xMMNtry7AyMC"
      },
      "source": [
        "# f-string or f\"\"\" feature in Python 3.6\n",
        "first_name = \"Joel\"\n",
        "last_name = \"Grus\"\n",
        "\n",
        "full_name1 = first_name + \" \" + last_name             # string addition \n",
        "full_name2 = \"{0} {1}\".format(first_name, last_name)  # string.format \n",
        "full_name3 = f\"{first_name} {last_name}\"              # f\"\"\" (new way)"
      ],
      "execution_count": 14,
      "outputs": []
    },
    {
      "cell_type": "markdown",
      "metadata": {
        "id": "lcoK_1kxBNQb"
      },
      "source": [
        "## Lists (or Arrays)\n",
        "\n",
        "Probably the most fundamental data structure in Python is the list, which is simply an ordered collection."
      ]
    },
    {
      "cell_type": "code",
      "metadata": {
        "id": "Z84djZsSBLwG"
      },
      "source": [
        "integer_list = [1, 2, 3]\n",
        "heterogeneous_list = [\"string\", 0.1, True] # NumPy does not allow for this (homogeneous)\n",
        "list_of_lists = [integer_list, heterogeneous_list, []]\n",
        "\n",
        "list_length = len(integer_list)     # equals 3\n",
        "list_sum    = sum(integer_list)     # equals 6"
      ],
      "execution_count": 16,
      "outputs": []
    },
    {
      "cell_type": "code",
      "metadata": {
        "id": "nEfGKg30BzYv"
      },
      "source": [
        "x = [0, 1, 2, 3, 4, 5, 6, 7, 8, 9]\n",
        "\n",
        "# basic\n",
        "zero = x[0]          # equals 0, lists are 0-indexed\n",
        "one = x[1]           # equals 1\n",
        "nine = x[-1]         # equals 9, 'Pythonic' for last element\n",
        "eight = x[-2]        # equals 8, 'Pythonic' for next-to-last element\n",
        "x[0] = -1            # now x is [-1, 1, 2, 3, ..., 9]\n",
        "\n",
        "# more\n",
        "first_three = x[:3]                 # [-1, 1, 2]\n",
        "three_to_end = x[3:]                # [3, 4, ..., 9]\n",
        "one_to_four = x[1:5]                # [1, 2, 3, 4]\n",
        "last_three = x[-3:]                 # [7, 8, 9]\n",
        "without_first_and_last = x[1:-1]    # [1, 2, ..., 8]\n",
        "copy_of_x = x[:]                    # [-1, 1, 2, ..., 9]"
      ],
      "execution_count": 17,
      "outputs": []
    },
    {
      "cell_type": "code",
      "metadata": {
        "colab": {
          "base_uri": "https://localhost:8080/"
        },
        "id": "n7eB4gWKB6BE",
        "outputId": "66d88468-7b9b-4c14-859e-3ea52de9b658"
      },
      "source": [
        "# \"slice\" strings using [ start : stop : step ]\n",
        "every_third = x[::3]                 # [-1, 3, 6, 9]\n",
        "five_to_three = x[5:2:-1]            # [5, 4, 3]\n",
        "\n",
        "# check\n",
        "x[5:2:1]                             # []"
      ],
      "execution_count": 18,
      "outputs": [
        {
          "output_type": "execute_result",
          "data": {
            "text/plain": [
              "[]"
            ]
          },
          "metadata": {
            "tags": []
          },
          "execution_count": 18
        }
      ]
    },
    {
      "cell_type": "code",
      "metadata": {
        "colab": {
          "base_uri": "https://localhost:8080/"
        },
        "id": "_If_IiNVC5ES",
        "outputId": "ea3cbd35-ab41-4349-9d1e-c467d3dc7fe9"
      },
      "source": [
        "# check through the elements in a list\n",
        "# not recommended unless the list is small (check one at a time)\n",
        "1 in [1, 2, 3]  # True\n",
        "0 in [1, 2, 3]  # False"
      ],
      "execution_count": 20,
      "outputs": [
        {
          "output_type": "execute_result",
          "data": {
            "text/plain": [
              "False"
            ]
          },
          "metadata": {
            "tags": []
          },
          "execution_count": 20
        }
      ]
    },
    {
      "cell_type": "code",
      "metadata": {
        "id": "N876zJ8TDmH1"
      },
      "source": [
        "# concatenate lists\n",
        "x = [1, 2, 3]\n",
        "x.extend([4, 5, 6])     # x is now [1, 2, 3, 4, 5, 6]"
      ],
      "execution_count": 21,
      "outputs": []
    },
    {
      "cell_type": "code",
      "metadata": {
        "id": "XVKr2-3TDvgh"
      },
      "source": [
        "# list addition\n",
        "x = [1, 2, 3]\n",
        "y = x + [4, 5, 6]       # y is [1, 2, 3, 4, 5, 6]; x is unchanged"
      ],
      "execution_count": 23,
      "outputs": []
    },
    {
      "cell_type": "code",
      "metadata": {
        "id": "JBChKYQSD3eU"
      },
      "source": [
        "# append to a list\n",
        "x = [1, 2, 3]\n",
        "x.append(0)      # x is now [1, 2, 3, 0]\n",
        "y = x[-1]        # equals 0\n",
        "z = len(x)       # equals 4"
      ],
      "execution_count": 22,
      "outputs": []
    },
    {
      "cell_type": "code",
      "metadata": {
        "id": "ontuIsFnED3S"
      },
      "source": [
        "# unpack a list (if you know how many are there)\n",
        "x, y = [1, 2]    # now x is 1, y is 2"
      ],
      "execution_count": 24,
      "outputs": []
    },
    {
      "cell_type": "code",
      "metadata": {
        "colab": {
          "base_uri": "https://localhost:8080/",
          "height": 181
        },
        "id": "mczGPzVhEJsg",
        "outputId": "331fb002-9da7-4365-e2d6-b6322f8254e2"
      },
      "source": [
        "# will get ValueError if item mismatched and larger in the LEFT side\n",
        "x, y, z = [1, 2]    # now x is 1, y is 2"
      ],
      "execution_count": 27,
      "outputs": [
        {
          "output_type": "error",
          "ename": "ValueError",
          "evalue": "ignored",
          "traceback": [
            "\u001b[0;31m---------------------------------------------------------------------------\u001b[0m",
            "\u001b[0;31mValueError\u001b[0m                                Traceback (most recent call last)",
            "\u001b[0;32m<ipython-input-27-8cf37a17beed>\u001b[0m in \u001b[0;36m<module>\u001b[0;34m()\u001b[0m\n\u001b[1;32m      1\u001b[0m \u001b[0;31m# will get ValueError if item mismatched\u001b[0m\u001b[0;34m\u001b[0m\u001b[0;34m\u001b[0m\u001b[0;34m\u001b[0m\u001b[0m\n\u001b[0;32m----> 2\u001b[0;31m \u001b[0mx\u001b[0m\u001b[0;34m,\u001b[0m \u001b[0my\u001b[0m\u001b[0;34m,\u001b[0m \u001b[0mz\u001b[0m \u001b[0;34m=\u001b[0m \u001b[0;34m[\u001b[0m\u001b[0;36m1\u001b[0m\u001b[0;34m,\u001b[0m \u001b[0;36m2\u001b[0m\u001b[0;34m]\u001b[0m    \u001b[0;31m# now x is 1, y is 2\u001b[0m\u001b[0;34m\u001b[0m\u001b[0;34m\u001b[0m\u001b[0m\n\u001b[0m",
            "\u001b[0;31mValueError\u001b[0m: not enough values to unpack (expected 3, got 2)"
          ]
        }
      ]
    },
    {
      "cell_type": "code",
      "metadata": {
        "id": "0W4_x0y_EZKn"
      },
      "source": [
        "# use \"_\" to ignore an item\n",
        "_, y = [1, 2]    # now y == 2, didn't care about the first element"
      ],
      "execution_count": 28,
      "outputs": []
    },
    {
      "cell_type": "markdown",
      "metadata": {
        "id": "ULuJjZfxEuGB"
      },
      "source": [
        "## Tuples\n",
        "\n",
        "Tuples are lists’ immutable cousins. Pretty much anything you can do to a list that doesn’t involve modifying it, you can do to a tuple."
      ]
    },
    {
      "cell_type": "code",
      "metadata": {
        "colab": {
          "base_uri": "https://localhost:8080/"
        },
        "id": "KOAyliVOE021",
        "outputId": "a010b479-1ebc-4df6-dabe-28f51408caba"
      },
      "source": [
        "my_list = [1, 2]\n",
        "my_tuple = (1, 2)\n",
        "other_tuple = 3, 4\n",
        "my_list[1] = 3      # my_list is now [1, 3]\n",
        "\n",
        "try:\n",
        "    my_tuple[1] = 3\n",
        "except TypeError:\n",
        "    print(\"cannot modify a tuple\")"
      ],
      "execution_count": 29,
      "outputs": [
        {
          "output_type": "stream",
          "text": [
            "cannot modify a tuple\n"
          ],
          "name": "stdout"
        }
      ]
    },
    {
      "cell_type": "code",
      "metadata": {
        "id": "xfLj1KSNE-eP"
      },
      "source": [
        "# tuple is a way to return multiple values\n",
        "def sum_and_product(x, y):\n",
        "    return (x + y), (x * y)\n",
        "\n",
        "sp = sum_and_product(2, 3)     # sp is (5, 6)\n",
        "s, p = sum_and_product(5, 10)  # s is 15, p is 50"
      ],
      "execution_count": 30,
      "outputs": []
    },
    {
      "cell_type": "code",
      "metadata": {
        "id": "4hSpp4KrFOXM"
      },
      "source": [
        "# tuples and lists can be used for multiple assignment\n",
        "x, y = 1, 2     # now x is 1, y is 2\n",
        "x, y = y, x     # swap variables; now x is 2, y is 1 (Pythonic)"
      ],
      "execution_count": 31,
      "outputs": []
    },
    {
      "cell_type": "markdown",
      "metadata": {
        "id": "pya5oi6sFbvT"
      },
      "source": [
        "## Dictionaries\n",
        "\n",
        "Key and key pairs."
      ]
    },
    {
      "cell_type": "code",
      "metadata": {
        "id": "D3nwUKmMFhVE"
      },
      "source": [
        "# create a dictionary\n",
        "empty_dict = {}                     # Pythonic\n",
        "empty_dict2 = dict()                # less Pythonic\n",
        "grades = {\"Joel\": 80, \"Tim\": 95}    # dictionary literal"
      ],
      "execution_count": 32,
      "outputs": []
    },
    {
      "cell_type": "code",
      "metadata": {
        "id": "RWutKPcCFzdF"
      },
      "source": [
        "# value lookup using key\n",
        "joels_grade = grades[\"Joel\"]        # equals 80"
      ],
      "execution_count": 33,
      "outputs": []
    },
    {
      "cell_type": "code",
      "metadata": {
        "colab": {
          "base_uri": "https://localhost:8080/"
        },
        "id": "yrQOAB9FF-Pc",
        "outputId": "119082c6-7776-4261-9f1a-ed1b8a1798eb"
      },
      "source": [
        "# not found\n",
        "try:\n",
        "    kates_grade = grades[\"Kate\"]\n",
        "except KeyError:\n",
        "    print(\"no grade for Kate!\")"
      ],
      "execution_count": 34,
      "outputs": [
        {
          "output_type": "stream",
          "text": [
            "no grade for Kate!\n"
          ],
          "name": "stdout"
        }
      ]
    },
    {
      "cell_type": "code",
      "metadata": {
        "id": "7ipWJnIIGBos"
      },
      "source": [
        "# existence of a key\n",
        "# compare to list, but this membership check is \"fast\" even for large dictionaries\n",
        "joel_has_grade = \"Joel\" in grades     # True\n",
        "kate_has_grade = \"Kate\" in grades     # False"
      ],
      "execution_count": 35,
      "outputs": []
    },
    {
      "cell_type": "code",
      "metadata": {
        "id": "If8dffwxGZBi"
      },
      "source": [
        "# \"get\"\n",
        "joels_grade = grades.get(\"Joel\", 0)   # equals 80\n",
        "kates_grade = grades.get(\"Kate\", 0)   # equals 0\n",
        "no_ones_grade = grades.get(\"No One\")  # default is None"
      ],
      "execution_count": 36,
      "outputs": []
    },
    {
      "cell_type": "code",
      "metadata": {
        "id": "NeeFDHqyGi97"
      },
      "source": [
        "# assignment\n",
        "grades[\"Tim\"] = 99                    # replaces the old value\n",
        "grades[\"Kate\"] = 100                  # adds a third entry\n",
        "num_students = len(grades)            # equals 3"
      ],
      "execution_count": 37,
      "outputs": []
    },
    {
      "cell_type": "code",
      "metadata": {
        "id": "gudYxvQjGv67"
      },
      "source": [
        "# use dictionary to represent structured data\n",
        "tweet = {\n",
        "    \"user\" : \"joelgrus\",\n",
        "    \"text\" : \"Data Science is Awesome\",\n",
        "    \"retweet_count\" : 100,\n",
        "    \"hashtags\" : [\"#data\", \"#science\", \"#datascience\", \"#awesome\", \"#yolo\"]\n",
        "}\n",
        "\n",
        "tweet_keys   = tweet.keys()     # iterable for the keys\n",
        "tweet_values = tweet.values()   # iterable for the values\n",
        "tweet_items  = tweet.items()    # iterable for the (key, value) tuples\n",
        "\n",
        "\"user\" in tweet_keys            # True, but not Pythonic\n",
        "\"user\" in tweet                 # Pythonic way of checking for keys\n",
        "\"joelgrus\" in tweet_values      # True (slow but the only way to check)"
      ],
      "execution_count": 38,
      "outputs": []
    },
    {
      "cell_type": "markdown",
      "metadata": {
        "id": "jBAWA1dTHyML"
      },
      "source": [
        "### defaultdict\n",
        "\n",
        "Imagine that you’re trying to count the words in a document. An obvious approach is to create a dictionary in which the keys are words and the values are counts. As you check each word, you can increment its count if it’s already in the dictionary and add it to the dictionary if it’s not."
      ]
    },
    {
      "cell_type": "code",
      "metadata": {
        "id": "lWxg2MOGIDJ6"
      },
      "source": [
        "# Option 1: use \"in\" keyword\n",
        "word_counts = {}\n",
        "for word in document:\n",
        "    if word in word_counts:\n",
        "        word_counts[word] += 1\n",
        "    else:\n",
        "        word_counts[word] = 1"
      ],
      "execution_count": null,
      "outputs": []
    },
    {
      "cell_type": "code",
      "metadata": {
        "id": "O759ouE5IEDW"
      },
      "source": [
        "# Option 2: Just run and catch exception\n",
        "word_counts = {}\n",
        "for word in document:\n",
        "    try:\n",
        "        word_counts[word] += 1\n",
        "    except KeyError:\n",
        "        word_counts[word] = 1"
      ],
      "execution_count": null,
      "outputs": []
    },
    {
      "cell_type": "code",
      "metadata": {
        "id": "WkIiq27RIEMH"
      },
      "source": [
        "# Option 3: Use \"get\"\n",
        "word_counts = {}\n",
        "for word in document:\n",
        "    previous_count = word_counts.get(word, 0)\n",
        "    word_counts[word] = previous_count + 1"
      ],
      "execution_count": null,
      "outputs": []
    },
    {
      "cell_type": "code",
      "metadata": {
        "id": "E3zoxWYuI9mM"
      },
      "source": [
        "# Option 4: defaultdict\n",
        "from collections import defaultdict\n",
        "\n",
        "word_counts = defaultdict(int)          # int() produces 0\n",
        "for word in document:\n",
        "    word_counts[word] += 1\n",
        "\n",
        "# useful for list and dict\n",
        "dd_list = defaultdict(list)             # list() produces an empty list\n",
        "dd_list[2].append(1)                    # now dd_list contains {2: [1]}\n",
        "\n",
        "dd_dict = defaultdict(dict)             # dict() produces an empty dict\n",
        "dd_dict[\"Joel\"][\"City\"] = \"Seattle\"     # {\"Joel\" : {\"City\": Seattle\"}}\n",
        "\n",
        "dd_pair = defaultdict(lambda: [0, 0])\n",
        "dd_pair[2][1] = 1                       # now dd_pair contains {2: [0, 1]}"
      ],
      "execution_count": null,
      "outputs": []
    },
    {
      "cell_type": "markdown",
      "metadata": {
        "id": "-c1hUWWQJpzC"
      },
      "source": [
        "## Counters\n",
        "\n",
        "A Counter turns a sequence of values into a defaultdict(int)-like object mapping keys to counts."
      ]
    },
    {
      "cell_type": "code",
      "metadata": {
        "id": "f3s8n39sJ1sl"
      },
      "source": [
        "from collections import Counter\n",
        "c = Counter([0, 1, 2, 0])          # c is (basically) {0: 2, 1: 1, 2: 1}\n",
        "\n",
        "# counting the value\n",
        "# \"0\" has 2 occurances\n",
        "# \"1\" has 1 occurance\n",
        "# \"2\" has 1 occurance"
      ],
      "execution_count": null,
      "outputs": []
    },
    {
      "cell_type": "code",
      "metadata": {
        "id": "KbCbvA4pKRLi"
      },
      "source": [
        "# a very simple way to solve our word_counts problem\n",
        "# recall, document is a list of words\n",
        "word_counts = Counter(document)"
      ],
      "execution_count": null,
      "outputs": []
    },
    {
      "cell_type": "code",
      "metadata": {
        "id": "RkfBX4NvKZiS"
      },
      "source": [
        "# A Counter instance has a most_common method that is frequently useful\n",
        "# print the 10 most common words and their counts\n",
        "for word, count in word_counts.most_common(10):\n",
        "    print(word, count)"
      ],
      "execution_count": null,
      "outputs": []
    },
    {
      "cell_type": "markdown",
      "metadata": {
        "id": "EwiFkJQkK0CW"
      },
      "source": [
        "## Sets\n",
        "\n",
        "A collection of distinct elements. Very fast, find distinct items in a collection."
      ]
    },
    {
      "cell_type": "code",
      "metadata": {
        "id": "aqDMikeCK4hL"
      },
      "source": [
        "primes_below_10 = {2, 3, 5, 7}"
      ],
      "execution_count": null,
      "outputs": []
    },
    {
      "cell_type": "code",
      "metadata": {
        "id": "-FjTbtcCK7nh"
      },
      "source": [
        "s = set()\n",
        "s.add(1)       # s is now {1}\n",
        "s.add(2)       # s is now {1, 2}\n",
        "s.add(2)       # s is still {1, 2}\n",
        "x = len(s)     # equals 2\n",
        "y = 2 in s     # equals True\n",
        "z = 3 in s     # equals False"
      ],
      "execution_count": null,
      "outputs": []
    },
    {
      "cell_type": "code",
      "metadata": {
        "id": "8j-rHNWPLNgQ"
      },
      "source": [
        "# very fast\n",
        "stopwords_list = [\"a\", \"an\", \"at\"] + hundreds_of_other_words + [\"yet\", \"you\"]\n",
        "\n",
        "\"zip\" in stopwords_list     # False, but have to check every element\n",
        "\n",
        "stopwords_set = set(stopwords_list)\n",
        "\"zip\" in stopwords_set      # very fast to check"
      ],
      "execution_count": null,
      "outputs": []
    },
    {
      "cell_type": "code",
      "metadata": {
        "id": "Nr_Nqs2MLnrf"
      },
      "source": [
        "# find distinct items in a collection\n",
        "item_list = [1, 2, 3, 1, 2, 3]\n",
        "\n",
        "num_items = len(item_list)                # 6\n",
        "item_set = set(item_list)                 # {1, 2, 3}\n",
        "num_distinct_items = len(item_set)        # 3\n",
        "distinct_item_list = list(item_set)       # [1, 2, 3]"
      ],
      "execution_count": null,
      "outputs": []
    },
    {
      "cell_type": "markdown",
      "metadata": {
        "id": "l0_8Ka_2NtZr"
      },
      "source": [
        "## Control Flow"
      ]
    },
    {
      "cell_type": "code",
      "metadata": {
        "id": "VKCn_6EyNv_8"
      },
      "source": [
        "if 1 > 2:\n",
        "    message = \"if only 1 were greater than two...\"\n",
        "elif 1 > 3:\n",
        "    message = \"elif stands for 'else if'\"\n",
        "else:\n",
        "    message = \"when all else fails use else (if you want to)\""
      ],
      "execution_count": null,
      "outputs": []
    },
    {
      "cell_type": "code",
      "metadata": {
        "id": "K4EuBF_7N2xE"
      },
      "source": [
        "# if-then-else on one line\n",
        "parity = \"even\" if x % 2 == 0 else \"odd\""
      ],
      "execution_count": null,
      "outputs": []
    },
    {
      "cell_type": "code",
      "metadata": {
        "id": "_emcLKMSOF8e"
      },
      "source": [
        "x = 0\n",
        "while x < 10:\n",
        "    print(f\"{x} is less than 10\")\n",
        "    x += 1"
      ],
      "execution_count": null,
      "outputs": []
    },
    {
      "cell_type": "code",
      "metadata": {
        "id": "51D_DdRZOZ2l"
      },
      "source": [
        "# range(10) is the numbers 0, 1, ..., 9\n",
        "for x in range(10):\n",
        "    print(f\"{x} is less than 10\")"
      ],
      "execution_count": null,
      "outputs": []
    },
    {
      "cell_type": "code",
      "metadata": {
        "id": "yDCyYV_JOdY6"
      },
      "source": [
        "for x in range(10):\n",
        "    if x == 3:\n",
        "        continue  # go immediately to the next iteration\n",
        "    if x == 5:\n",
        "        break     # quit the loop entirely\n",
        "    print(x)"
      ],
      "execution_count": null,
      "outputs": []
    },
    {
      "cell_type": "markdown",
      "metadata": {
        "id": "6nIdUOk4Oskp"
      },
      "source": [
        "## True / False"
      ]
    },
    {
      "cell_type": "code",
      "metadata": {
        "id": "PhUVUZ4MOxpj"
      },
      "source": [
        "one_is_less_than_two = 1 < 2          # equals True\n",
        "true_equals_false = True == False     # equals False"
      ],
      "execution_count": 40,
      "outputs": []
    },
    {
      "cell_type": "code",
      "metadata": {
        "id": "c4vd6EKuO3-G"
      },
      "source": [
        "x = None # like null\n",
        "assert x == None, \"this is the not the Pythonic way to check for None\"\n",
        "assert x is None, \"this is the Pythonic way to check for None\""
      ],
      "execution_count": 41,
      "outputs": []
    },
    {
      "cell_type": "markdown",
      "metadata": {
        "id": "ImfMh4dwPGmz"
      },
      "source": [
        "Python lets you use any value where it expects a Boolean. The following are all “falsy”:\n",
        "\n",
        "* False\n",
        "* None\n",
        "* [] (an empty list)\n",
        "* {} (an empty dict)\n",
        "* \"\"\n",
        "* set()\n",
        "* 0\n",
        "* 0.0"
      ]
    },
    {
      "cell_type": "code",
      "metadata": {
        "id": "3MjRcxYfPcPp"
      },
      "source": [
        "s = some_function_that_returns_a_string()\n",
        "if s:\n",
        "    first_char = s[0]\n",
        "else:\n",
        "    first_char = \"\"\n",
        "\n",
        "\n",
        "# shortcut of above\n",
        "first_char = s and s[0]\n",
        "\n",
        "# x is either a number or possibly None\n",
        "safe_x = x or 0\n",
        "\n",
        "safe_x = x if x is not None else 0"
      ],
      "execution_count": null,
      "outputs": []
    },
    {
      "cell_type": "code",
      "metadata": {
        "id": "J6B-VXVnPeQW"
      },
      "source": [
        "# \"all\" and \"any\"\n",
        "all([True, 1, {3}])   # True, all are truthy\n",
        "all([True, 1, {}])    # False, {} is falsy\n",
        "any([True, 1, {}])    # True, True is truthy\n",
        "all([])               # True, no falsy elements in the list\n",
        "any([])               # False, no truthy elements in the list"
      ],
      "execution_count": null,
      "outputs": []
    },
    {
      "cell_type": "markdown",
      "metadata": {
        "id": "PD4VYOVFQbWu"
      },
      "source": [
        "## Sorting"
      ]
    },
    {
      "cell_type": "code",
      "metadata": {
        "id": "SiIDf7SAQdYG"
      },
      "source": [
        "x = [4, 1, 2, 3]\n",
        "y = sorted(x)     # y is [1, 2, 3, 4], x is unchanged\n",
        "x.sort()          # now x is [1, 2, 3, 4] (in-place update)"
      ],
      "execution_count": 42,
      "outputs": []
    },
    {
      "cell_type": "code",
      "metadata": {
        "id": "TIHDHj0STzPG"
      },
      "source": [
        "# reverse=True and key=abs\n",
        "# sort the list by absolute value from largest to smallest\n",
        "x = sorted([-4, 1, -2, 3], key=abs, reverse=True)  # is [-4, 3, -2, 1]\n",
        "\n",
        "# sort the words and counts from highest count to lowest\n",
        "wc = sorted(word_counts.items(),\n",
        "            key=lambda word_and_count: word_and_count[1],\n",
        "            reverse=True)\n"
      ],
      "execution_count": null,
      "outputs": []
    },
    {
      "cell_type": "markdown",
      "metadata": {
        "id": "dTLHE3JyWMTB"
      },
      "source": [
        "## List of Comprehensions\n",
        "\n",
        "Frequently, you’ll want to transform a list into another list by choosing only certain elements, by transforming elements, or both."
      ]
    },
    {
      "cell_type": "code",
      "metadata": {
        "id": "Uu5isHGJWULi"
      },
      "source": [
        "# Pythonic way\n",
        "even_numbers = [x for x in range(5) if x % 2 == 0]  # [0, 2, 4]\n",
        "squares = [x * x for x in range(5)]                 # [0, 1, 4, 9, 16]\n",
        "even_squares = [x * x for x in even_numbers]        # [0, 4, 16]"
      ],
      "execution_count": 43,
      "outputs": []
    },
    {
      "cell_type": "code",
      "metadata": {
        "id": "ba2UcQWEW5vb"
      },
      "source": [
        "# lists into dictionaries or sets\n",
        "square_dict = {x: x * x for x in range(5)}  # {0: 0, 1: 1, 2: 4, 3: 9, 4: 16}\n",
        "square_set = {x * x for x in [1, -1]}       # {1}"
      ],
      "execution_count": null,
      "outputs": []
    },
    {
      "cell_type": "code",
      "metadata": {
        "id": "cTxzvtyWXS0g"
      },
      "source": [
        "# use \"_\" to ignore the value\n",
        "zeros = [0 for _ in even_numbers]           # has the same length as even_numbers"
      ],
      "execution_count": null,
      "outputs": []
    },
    {
      "cell_type": "code",
      "metadata": {
        "id": "K6SI7vbcXiT7"
      },
      "source": [
        "# use \"for\"\n",
        "pairs = [(x, y)\n",
        "        for x in range(10)\n",
        "        for y in range (10)] # 100 pairs (0,0) (0,1) ... (9,8), (9,9)\n",
        "\n",
        "increasing_pairs = [(x, y)                      # only pairs with x < y,\n",
        "                    for x in range(10)          # range(lo, hi) equals\n",
        "                    for y in range(x + 1, 10)]  # [lo, lo + 1, ..., hi - 1]"
      ],
      "execution_count": null,
      "outputs": []
    },
    {
      "cell_type": "markdown",
      "metadata": {
        "id": "NxcqZ_UjYWS9"
      },
      "source": [
        "## Automated Testing and assert\n",
        "\n",
        "Using **assert** statements, which will cause your code to raise an **AssertionError** if your specified condition is not truthy."
      ]
    },
    {
      "cell_type": "code",
      "metadata": {
        "colab": {
          "base_uri": "https://localhost:8080/",
          "height": 198
        },
        "id": "Pr-vIaa6Yg1G",
        "outputId": "9b904815-aed1-426a-dc39-6e46e01dac17"
      },
      "source": [
        "assert 1 + 1 == 2\n",
        "assert 1 + 1 == 2, \"1 + 1 should equal 2 but didn't\"\n",
        "assert 1 + 1 == 3, \"1 + 1 should equal 2 but didn't\" # AssertionError"
      ],
      "execution_count": 45,
      "outputs": [
        {
          "output_type": "error",
          "ename": "AssertionError",
          "evalue": "ignored",
          "traceback": [
            "\u001b[0;31m---------------------------------------------------------------------------\u001b[0m",
            "\u001b[0;31mAssertionError\u001b[0m                            Traceback (most recent call last)",
            "\u001b[0;32m<ipython-input-45-f2594a9f9ed9>\u001b[0m in \u001b[0;36m<module>\u001b[0;34m()\u001b[0m\n\u001b[1;32m      1\u001b[0m \u001b[0;32massert\u001b[0m \u001b[0;36m1\u001b[0m \u001b[0;34m+\u001b[0m \u001b[0;36m1\u001b[0m \u001b[0;34m==\u001b[0m \u001b[0;36m2\u001b[0m\u001b[0;34m\u001b[0m\u001b[0;34m\u001b[0m\u001b[0m\n\u001b[1;32m      2\u001b[0m \u001b[0;32massert\u001b[0m \u001b[0;36m1\u001b[0m \u001b[0;34m+\u001b[0m \u001b[0;36m1\u001b[0m \u001b[0;34m==\u001b[0m \u001b[0;36m2\u001b[0m\u001b[0;34m,\u001b[0m \u001b[0;34m\"1 + 1 should equal 2 but didn't\"\u001b[0m\u001b[0;34m\u001b[0m\u001b[0;34m\u001b[0m\u001b[0m\n\u001b[0;32m----> 3\u001b[0;31m \u001b[0;32massert\u001b[0m \u001b[0;36m1\u001b[0m \u001b[0;34m+\u001b[0m \u001b[0;36m1\u001b[0m \u001b[0;34m==\u001b[0m \u001b[0;36m3\u001b[0m\u001b[0;34m,\u001b[0m \u001b[0;34m\"1 + 1 should equal 2 but didn't\"\u001b[0m\u001b[0;34m\u001b[0m\u001b[0;34m\u001b[0m\u001b[0m\n\u001b[0m",
            "\u001b[0;31mAssertionError\u001b[0m: 1 + 1 should equal 2 but didn't"
          ]
        }
      ]
    },
    {
      "cell_type": "code",
      "metadata": {
        "colab": {
          "base_uri": "https://localhost:8080/",
          "height": 198
        },
        "id": "vOSV5rRyYxYj",
        "outputId": "588f23cf-3556-4d23-dc01-86194549a2b9"
      },
      "source": [
        "# use \"function\" to make it more robust\n",
        "def smallest_item(xs):\n",
        "    return min(xs)\n",
        "\n",
        "assert smallest_item([10, 20, 5, 40]) == 5\n",
        "assert smallest_item([1, 0, -1, 2]) == -1\n",
        "assert smallest_item([1, 0, -1, 2]) == 100, \"should be '-1\""
      ],
      "execution_count": 49,
      "outputs": [
        {
          "output_type": "error",
          "ename": "AssertionError",
          "evalue": "ignored",
          "traceback": [
            "\u001b[0;31m---------------------------------------------------------------------------\u001b[0m",
            "\u001b[0;31mAssertionError\u001b[0m                            Traceback (most recent call last)",
            "\u001b[0;32m<ipython-input-49-2550d389f4bf>\u001b[0m in \u001b[0;36m<module>\u001b[0;34m()\u001b[0m\n\u001b[1;32m      5\u001b[0m \u001b[0;32massert\u001b[0m \u001b[0msmallest_item\u001b[0m\u001b[0;34m(\u001b[0m\u001b[0;34m[\u001b[0m\u001b[0;36m10\u001b[0m\u001b[0;34m,\u001b[0m \u001b[0;36m20\u001b[0m\u001b[0;34m,\u001b[0m \u001b[0;36m5\u001b[0m\u001b[0;34m,\u001b[0m \u001b[0;36m40\u001b[0m\u001b[0;34m]\u001b[0m\u001b[0;34m)\u001b[0m \u001b[0;34m==\u001b[0m \u001b[0;36m5\u001b[0m\u001b[0;34m\u001b[0m\u001b[0;34m\u001b[0m\u001b[0m\n\u001b[1;32m      6\u001b[0m \u001b[0;32massert\u001b[0m \u001b[0msmallest_item\u001b[0m\u001b[0;34m(\u001b[0m\u001b[0;34m[\u001b[0m\u001b[0;36m1\u001b[0m\u001b[0;34m,\u001b[0m \u001b[0;36m0\u001b[0m\u001b[0;34m,\u001b[0m \u001b[0;34m-\u001b[0m\u001b[0;36m1\u001b[0m\u001b[0;34m,\u001b[0m \u001b[0;36m2\u001b[0m\u001b[0;34m]\u001b[0m\u001b[0;34m)\u001b[0m \u001b[0;34m==\u001b[0m \u001b[0;34m-\u001b[0m\u001b[0;36m1\u001b[0m\u001b[0;34m\u001b[0m\u001b[0;34m\u001b[0m\u001b[0m\n\u001b[0;32m----> 7\u001b[0;31m \u001b[0;32massert\u001b[0m \u001b[0msmallest_item\u001b[0m\u001b[0;34m(\u001b[0m\u001b[0;34m[\u001b[0m\u001b[0;36m1\u001b[0m\u001b[0;34m,\u001b[0m \u001b[0;36m0\u001b[0m\u001b[0;34m,\u001b[0m \u001b[0;34m-\u001b[0m\u001b[0;36m1\u001b[0m\u001b[0;34m,\u001b[0m \u001b[0;36m2\u001b[0m\u001b[0;34m]\u001b[0m\u001b[0;34m)\u001b[0m \u001b[0;34m==\u001b[0m \u001b[0;36m100\u001b[0m\u001b[0;34m,\u001b[0m \u001b[0;34m\"should be '-1\"\u001b[0m\u001b[0;34m\u001b[0m\u001b[0;34m\u001b[0m\u001b[0m\n\u001b[0m",
            "\u001b[0;31mAssertionError\u001b[0m: should be '-1"
          ]
        }
      ]
    },
    {
      "cell_type": "code",
      "metadata": {
        "id": "dZqdZhZDZGEO"
      },
      "source": [
        "# or less common way\n",
        "def smallest_item(xs):\n",
        "    assert xs, \"empty list has no smallest item\"\n",
        "    return min(xs)"
      ],
      "execution_count": 47,
      "outputs": []
    },
    {
      "cell_type": "markdown",
      "metadata": {
        "id": "PAsp8mSbZYPY"
      },
      "source": [
        "## Object-Oriented Programming\n",
        "\n",
        "Class methods whose names start with an underscore are—by convention—considered “private,” and users of the class are not supposed to directly call them. However, Python will not stop users from calling them."
      ]
    },
    {
      "cell_type": "code",
      "metadata": {
        "colab": {
          "base_uri": "https://localhost:8080/"
        },
        "id": "Ce0g_kuXa60Z",
        "outputId": "b2210898-1da6-480a-9475-ff21e15db960"
      },
      "source": [
        "class CountingClicker:\n",
        "    \"\"\"A class can/should have a docstring, just like a function\"\"\"\n",
        "\n",
        "    def __init__(self, count = 0):   # “dunder” or \"double-UNDERscore\"\n",
        "        self.count = count\n",
        "\n",
        "    def __repr__(self):\n",
        "        return f\"CountingClicker(count={self.count})\"\n",
        "\n",
        "    def click(self, num_times = 1):\n",
        "        \"\"\"Click the clicker some number of times.\"\"\"\n",
        "        self.count += num_times\n",
        "\n",
        "    def read(self):\n",
        "        return self.count\n",
        "\n",
        "    def reset(self):\n",
        "        self.count = 0             \n",
        "\n",
        "clicker1 = CountingClicker()           # initialized to 0\n",
        "clicker2 = CountingClicker(100)        # starts with count=100\n",
        "clicker3 = CountingClicker(count=100)  # more explicit way of doing the same\n",
        "\n",
        "print(CountingClicker)\n",
        "print(clicker1)\n",
        "print(clicker2)\n",
        "print(clicker3)\n",
        "\n",
        "clicker = CountingClicker()\n",
        "assert clicker.read() == 0, \"clicker should start with count 0\"\n",
        "clicker.click()\n",
        "clicker.click()\n",
        "assert clicker.read() == 2, \"after two clicks, clicker should have count 2\"\n",
        "clicker.reset()\n",
        "assert clicker.read() == 0, \"after reset, clicker should be back to 0\""
      ],
      "execution_count": 55,
      "outputs": [
        {
          "output_type": "stream",
          "text": [
            "<class '__main__.CountingClicker'>\n",
            "CountingClicker(count=0)\n",
            "CountingClicker(count=100)\n",
            "CountingClicker(count=100)\n"
          ],
          "name": "stdout"
        }
      ]
    },
    {
      "cell_type": "markdown",
      "metadata": {
        "id": "xmr-Ye5kcQNo"
      },
      "source": [
        "### Subclass"
      ]
    },
    {
      "cell_type": "code",
      "metadata": {
        "id": "EbWWg46Ja-FH"
      },
      "source": [
        "# A subclass inherits all the behavior of its parent class.\n",
        "class NoResetClicker(CountingClicker):\n",
        "    # This class has all the same methods as CountingClicker\n",
        "    # Except that it has a reset method that does nothing.\n",
        "    def reset(self):\n",
        "        pass\n",
        "\n",
        "clicker2 = NoResetClicker()\n",
        "assert clicker2.read() == 0\n",
        "clicker2.click()\n",
        "assert clicker2.read() == 1\n",
        "clicker2.reset()\n",
        "assert clicker2.read() == 1, \"reset shouldn't do anything\""
      ],
      "execution_count": 56,
      "outputs": []
    },
    {
      "cell_type": "markdown",
      "metadata": {
        "id": "01yMax18sdeu"
      },
      "source": [
        "## Iterables and Generators\n",
        "\n",
        "Use \"for in\" to improve the efficiency, it is using the \"laziness\" to load the data."
      ]
    },
    {
      "cell_type": "code",
      "metadata": {
        "colab": {
          "base_uri": "https://localhost:8080/"
        },
        "id": "7MCEYuhis4MP",
        "outputId": "59b68984-fd5b-4975-e3b2-cf6b78020cef"
      },
      "source": [
        "def generate_range(n):\n",
        "  i = 0\n",
        "  while i < n:\n",
        "    yield i # every call to yield produces a value of the generator\n",
        "    i += 1\n",
        "\n",
        "for i in generate_range(10):\n",
        "  print(f\"i: {i}\")    "
      ],
      "execution_count": 57,
      "outputs": [
        {
          "output_type": "stream",
          "text": [
            "i: 0\n",
            "i: 1\n",
            "i: 2\n",
            "i: 3\n",
            "i: 4\n",
            "i: 5\n",
            "i: 6\n",
            "i: 7\n",
            "i: 8\n",
            "i: 9\n"
          ],
          "name": "stdout"
        }
      ]
    },
    {
      "cell_type": "code",
      "metadata": {
        "id": "aiM3aDd3tad5"
      },
      "source": [
        "def natural_numbers():\n",
        "  \"\"\"returns 1, 2, 3, ...\"\"\"\n",
        "\n",
        "  n = 1\n",
        "  while True:\n",
        "    yield n\n",
        "    n += 1"
      ],
      "execution_count": null,
      "outputs": []
    },
    {
      "cell_type": "code",
      "metadata": {
        "id": "t4n5_jTquMea"
      },
      "source": [
        "# using for comprehensions wrapped in parentheses\n",
        "evens_below_20 = (i for i in generate_range(20) if i % 2 == 0)"
      ],
      "execution_count": 58,
      "outputs": []
    },
    {
      "cell_type": "code",
      "metadata": {
        "id": "kuCGEF7FuWAb"
      },
      "source": [
        "# None of these computations *does* anything until we iterate\n",
        "data = natural_numbers()\n",
        "evens = (x for x in data if x % 2 == 0)\n",
        "even_squares = (x ** 2 for x in evens)\n",
        "even_squares_ending_in_six = (x for x in even_squares if x % 10 == 6)\n",
        "# and so on"
      ],
      "execution_count": null,
      "outputs": []
    },
    {
      "cell_type": "code",
      "metadata": {
        "colab": {
          "base_uri": "https://localhost:8080/"
        },
        "id": "JSCSLHU2vHWN",
        "outputId": "50becef9-8b80-4b63-f53a-ceaf2756e4cf"
      },
      "source": [
        "# use \"enumerate\" to get \"index and value\" pairs\n",
        "names = [\"Alice\", \"Bob\", \"Charlie\", \"Debbie\"]\n",
        "\n",
        "# not Pythonic\n",
        "for i in range(len(names)):\n",
        "    print(f\"name {i} is {names[i]}\")\n",
        "\n",
        "# also not Pythonic\n",
        "i = 0\n",
        "for name in names:\n",
        "    print(f\"name {i} is {names[i]}\")\n",
        "    i += 1\n",
        "\n",
        "# Pythonic\n",
        "for i, name in enumerate(names):\n",
        "    print(f\"name {i} is {name}\")"
      ],
      "execution_count": 59,
      "outputs": [
        {
          "output_type": "stream",
          "text": [
            "name 0 is Alice\n",
            "name 1 is Bob\n",
            "name 2 is Charlie\n",
            "name 3 is Debbie\n",
            "name 0 is Alice\n",
            "name 1 is Bob\n",
            "name 2 is Charlie\n",
            "name 3 is Debbie\n",
            "name 0 is Alice\n",
            "name 1 is Bob\n",
            "name 2 is Charlie\n",
            "name 3 is Debbie\n"
          ],
          "name": "stdout"
        }
      ]
    },
    {
      "cell_type": "markdown",
      "metadata": {
        "id": "UnvcM4wF173S"
      },
      "source": [
        "## Randomness"
      ]
    },
    {
      "cell_type": "code",
      "metadata": {
        "id": "ItvTxIYc1-GN"
      },
      "source": [
        "import random\n",
        "random.seed(10)  # this ensures we get the same results every time\n",
        "\n",
        "four_uniform_randoms = [random.random() for _ in range(4)]\n",
        "\n",
        "# [0.5714025946899135,       # random.random() produces numbers\n",
        "#  0.4288890546751146,       # uniformly between 0 and 1.\n",
        "#  0.5780913011344704,       # It's the random function we'll use\n",
        "#  0.20609823213950174]      # most often."
      ],
      "execution_count": 60,
      "outputs": []
    },
    {
      "cell_type": "code",
      "metadata": {
        "colab": {
          "base_uri": "https://localhost:8080/"
        },
        "id": "-61p8PGU1-Oc",
        "outputId": "b2b5be53-f860-4b57-ae6c-6457791123ff"
      },
      "source": [
        "random.seed(10)         # set the seed to 10\n",
        "print(random.random())  # 0.57140259469\n",
        "random.seed(10)         # reset the seed to 10\n",
        "print(random.random())  # 0.57140259469 again"
      ],
      "execution_count": 61,
      "outputs": [
        {
          "output_type": "stream",
          "text": [
            "0.5714025946899135\n",
            "0.5714025946899135\n"
          ],
          "name": "stdout"
        }
      ]
    },
    {
      "cell_type": "code",
      "metadata": {
        "colab": {
          "base_uri": "https://localhost:8080/"
        },
        "id": "AxVycm8W1-Tl",
        "outputId": "c0c349ae-5947-45f4-b725-8ceae43431a3"
      },
      "source": [
        "random.randrange(10)    # choose randomly from range(10) = [0, 1, ..., 9]\n",
        "random.randrange(3, 6)  # choose randomly from range(3, 6) = [3, 4, 5]"
      ],
      "execution_count": 62,
      "outputs": [
        {
          "output_type": "execute_result",
          "data": {
            "text/plain": [
              "4"
            ]
          },
          "metadata": {
            "tags": []
          },
          "execution_count": 62
        }
      ]
    },
    {
      "cell_type": "code",
      "metadata": {
        "colab": {
          "base_uri": "https://localhost:8080/"
        },
        "id": "3fs_z66D1-Zl",
        "outputId": "65629ef0-dee7-444c-d582-573aa27e40ff"
      },
      "source": [
        "up_to_ten = [1, 2, 3, 4, 5, 6, 7, 8, 9, 10]\n",
        "random.shuffle(up_to_ten)\n",
        "print(up_to_ten)\n",
        "# [7, 2, 6, 8, 9, 4, 10, 1, 3, 5]   (your results will probably be different)"
      ],
      "execution_count": 63,
      "outputs": [
        {
          "output_type": "stream",
          "text": [
            "[5, 6, 9, 2, 3, 7, 8, 4, 1, 10]\n"
          ],
          "name": "stdout"
        }
      ]
    },
    {
      "cell_type": "code",
      "metadata": {
        "id": "DQc2OWRd2PZT"
      },
      "source": [
        "my_best_friend = random.choice([\"Alice\", \"Bob\", \"Charlie\"])     # \"Bob\" for me"
      ],
      "execution_count": 64,
      "outputs": []
    },
    {
      "cell_type": "code",
      "metadata": {
        "id": "FhiKlxue2RU_"
      },
      "source": [
        "lottery_numbers = range(60)\n",
        "winning_numbers = random.sample(lottery_numbers, 6)  # [16, 36, 10, 6, 25, 9]"
      ],
      "execution_count": 65,
      "outputs": []
    },
    {
      "cell_type": "code",
      "metadata": {
        "id": "BaL6YP982Rfs"
      },
      "source": [
        "four_with_replacement = [random.choice(range(10)) for _ in range(4)]\n",
        "print(four_with_replacement)  # [9, 4, 4, 2]"
      ],
      "execution_count": null,
      "outputs": []
    },
    {
      "cell_type": "markdown",
      "metadata": {
        "id": "B_L0ilBa2Z_9"
      },
      "source": [
        "## Regular Expressions"
      ]
    },
    {
      "cell_type": "code",
      "metadata": {
        "id": "pjxJJKJl2aQk"
      },
      "source": [
        "import re\n",
        "\n",
        "re_examples = [                        # All of these are True, because\n",
        "    not re.match(\"a\", \"cat\"),              #  'cat' doesn't start with 'a'\n",
        "    re.search(\"a\", \"cat\"),                 #  'cat' has an 'a' in it\n",
        "    not re.search(\"c\", \"dog\"),             #  'dog' doesn't have a 'c' in it.\n",
        "    3 == len(re.split(\"[ab]\", \"carbs\")),   #  Split on a or b to ['c','r','s'].\n",
        "    \"R-D-\" == re.sub(\"[0-9]\", \"-\", \"R2D2\") #  Replace digits with dashes.\n",
        "    ]\n",
        "\n",
        "assert all(re_examples), \"all the regex examples should be True\""
      ],
      "execution_count": 67,
      "outputs": []
    },
    {
      "cell_type": "markdown",
      "metadata": {
        "id": "fKMEfcPJ28AJ"
      },
      "source": [
        "## Functional Programming\n",
        "\n",
        "Note: The first edition of this book introduced the Python functions partial, map, reduce, and filter at this point. On my journey toward enlightenment I have realized that these functions are best avoided, and their uses in the book have been replaced with list comprehensions, for loops, and other, more Pythonic constructs."
      ]
    },
    {
      "cell_type": "markdown",
      "metadata": {
        "id": "BW2DM7AM3Cxi"
      },
      "source": [
        "## zip and Argument Unpacking\n",
        "\n",
        "The **zip** function transforms multiple iterables into a **single iterable of tuples** of corresponding function."
      ]
    },
    {
      "cell_type": "code",
      "metadata": {
        "colab": {
          "base_uri": "https://localhost:8080/"
        },
        "id": "OfF9q9jf3C8P",
        "outputId": "c6073f0a-3b97-4bd9-c234-7395028310dc"
      },
      "source": [
        "list1 = ['a', 'b', 'c']\n",
        "list2 = [1, 2, 3]\n",
        "\n",
        "# zip is lazy, so you have to do something like the following\n",
        "[pair for pair in zip(list1, list2)]  # [('a', 1), ('b', 2), ('c', 3)]"
      ],
      "execution_count": 68,
      "outputs": [
        {
          "output_type": "execute_result",
          "data": {
            "text/plain": [
              "[('a', 1), ('b', 2), ('c', 3)]"
            ]
          },
          "metadata": {
            "tags": []
          },
          "execution_count": 68
        }
      ]
    },
    {
      "cell_type": "code",
      "metadata": {
        "id": "8juyI6rG28Ix"
      },
      "source": [
        "# unzip\n",
        "pairs = [('a', 1), ('b', 2), ('c', 3)]\n",
        "letters, numbers = zip(*pairs)"
      ],
      "execution_count": 69,
      "outputs": []
    },
    {
      "cell_type": "markdown",
      "metadata": {
        "id": "YDR6QrYx3wJa"
      },
      "source": [
        "The asterisk (*) performs argument unpacking, which uses the elements of pairs as individual arguments to zip. It ends up the same as if you’d called."
      ]
    },
    {
      "cell_type": "code",
      "metadata": {
        "id": "lZiU77S_3ouP"
      },
      "source": [
        "letters, numbers = zip(('a', 1), ('b', 2), ('c', 3))"
      ],
      "execution_count": 70,
      "outputs": []
    },
    {
      "cell_type": "code",
      "metadata": {
        "colab": {
          "base_uri": "https://localhost:8080/",
          "height": 130
        },
        "id": "Bpaps1DC30AD",
        "outputId": "ebaa69fd-a986-42d7-f82b-1e1d03d44a2d"
      },
      "source": [
        "# argument unpacking\n",
        "\n",
        "def add(a, b): return a + b\n",
        "\n",
        "add(1, 2). # return 3\n",
        "\n",
        "try:\n",
        "  add([1, 2])\n",
        "except TypeError:\n",
        "  print(\"add expects two inputs\")\n",
        "\n",
        "add(*[1, 2]) # return 3"
      ],
      "execution_count": 71,
      "outputs": [
        {
          "output_type": "error",
          "ename": "SyntaxError",
          "evalue": "ignored",
          "traceback": [
            "\u001b[0;36m  File \u001b[0;32m\"<ipython-input-71-d962d72833ca>\"\u001b[0;36m, line \u001b[0;32m5\u001b[0m\n\u001b[0;31m    add(1, 2). # return 3\u001b[0m\n\u001b[0m                         ^\u001b[0m\n\u001b[0;31mSyntaxError\u001b[0m\u001b[0;31m:\u001b[0m invalid syntax\n"
          ]
        }
      ]
    },
    {
      "cell_type": "markdown",
      "metadata": {
        "id": "jgYg66RO4Smy"
      },
      "source": [
        "## args and kwargs"
      ]
    },
    {
      "cell_type": "code",
      "metadata": {
        "colab": {
          "base_uri": "https://localhost:8080/"
        },
        "id": "959R_K_74QTC",
        "outputId": "ed163527-b343-422d-de10-959435d7f979"
      },
      "source": [
        "def doubler(f):\n",
        "    # Here we define a new function that keeps a reference to f\n",
        "    def g(x):\n",
        "        return 2 * f(x)\n",
        "\n",
        "    # And return that new function\n",
        "    return g\n",
        "\n",
        "# this works in some cases\n",
        "def f1(x):\n",
        "    return x + 1\n",
        "\n",
        "g = doubler(f1)\n",
        "assert g(3) == 8,  \"(3 + 1) * 2 should equal 8\"\n",
        "assert g(-1) == 0, \"(-1 + 1) * 2 should equal 0\"    \n",
        "\n",
        "# does not work here\n",
        "def f2(x, y):\n",
        "    return x + y\n",
        "\n",
        "g = doubler(f2)\n",
        "try:\n",
        "    g(1, 2)\n",
        "except TypeError:\n",
        "    print(\"as defined, g only takes one argument\")"
      ],
      "execution_count": 72,
      "outputs": [
        {
          "output_type": "stream",
          "text": [
            "as defined, g only takes one argument\n"
          ],
          "name": "stdout"
        }
      ]
    },
    {
      "cell_type": "code",
      "metadata": {
        "colab": {
          "base_uri": "https://localhost:8080/"
        },
        "id": "t07TQZ2w400d",
        "outputId": "03f78acb-3605-438a-c38b-991c7a93aa24"
      },
      "source": [
        "def magic(*args, **kwargs):\n",
        "    print(\"unnamed args:\", args)\n",
        "    print(\"keyword args:\", kwargs)\n",
        "\n",
        "magic(1, 2, key=\"word\", key2=\"word2\")\n",
        "\n",
        "# prints\n",
        "#  unnamed args: (1, 2)\n",
        "#  keyword args: {'key': 'word', 'key2': 'word2'}"
      ],
      "execution_count": 73,
      "outputs": [
        {
          "output_type": "stream",
          "text": [
            "unnamed args: (1, 2)\n",
            "keyword args: {'key': 'word', 'key2': 'word2'}\n"
          ],
          "name": "stdout"
        }
      ]
    },
    {
      "cell_type": "code",
      "metadata": {
        "id": "eYfU3GoA5OtB"
      },
      "source": [
        "def other_way_magic(x, y, z):\n",
        "    return x + y + z\n",
        "\n",
        "x_y_list = [1, 2]\n",
        "z_dict = {\"z\": 3}\n",
        "assert other_way_magic(*x_y_list, **z_dict) == 6, \"1 + 2 + 3 should be 6\""
      ],
      "execution_count": 75,
      "outputs": []
    },
    {
      "cell_type": "code",
      "metadata": {
        "id": "C4Tn6FJ85sOB"
      },
      "source": [
        "def doubler_correct(f):\n",
        "    \"\"\"works no matter what kind of inputs f expects\"\"\"\n",
        "    def g(*args, **kwargs):\n",
        "        \"\"\"whatever arguments g is supplied, pass them through to f\"\"\"\n",
        "        return 2 * f(*args, **kwargs)\n",
        "    return g\n",
        "\n",
        "g = doubler_correct(f2)\n",
        "assert g(1, 2) == 6, \"doubler should work now\""
      ],
      "execution_count": 77,
      "outputs": []
    }
  ]
}