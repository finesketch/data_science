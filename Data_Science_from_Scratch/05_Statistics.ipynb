{
  "nbformat": 4,
  "nbformat_minor": 0,
  "metadata": {
    "colab": {
      "name": "05_Statistics.ipynb",
      "provenance": [],
      "authorship_tag": "ABX9TyOOB5o2OB9km+xIil0MwVPh",
      "include_colab_link": true
    },
    "kernelspec": {
      "name": "python3",
      "display_name": "Python 3"
    },
    "language_info": {
      "name": "python"
    }
  },
  "cells": [
    {
      "cell_type": "markdown",
      "metadata": {
        "id": "view-in-github",
        "colab_type": "text"
      },
      "source": [
        "<a href=\"https://colab.research.google.com/github/finesketch/data_science/blob/main/Data_Science_from_Scratch/05_Statistics.ipynb\" target=\"_parent\"><img src=\"https://colab.research.google.com/assets/colab-badge.svg\" alt=\"Open In Colab\"/></a>"
      ]
    },
    {
      "cell_type": "code",
      "metadata": {
        "id": "nuw4r5uo5v7B"
      },
      "source": [
        "import numpy as np\n",
        "\n",
        "num_friends = np.random.randint(1, 101, 1000)"
      ],
      "execution_count": 18,
      "outputs": []
    },
    {
      "cell_type": "code",
      "metadata": {
        "colab": {
          "base_uri": "https://localhost:8080/",
          "height": 295
        },
        "id": "lWjzFzIH8ZeZ",
        "outputId": "5d4df013-9580-404b-ed19-e005b1341aba"
      },
      "source": [
        "from collections import Counter\n",
        "import matplotlib.pyplot as plt\n",
        "\n",
        "friend_counts = Counter(num_friends)\n",
        "xs = range(101)\n",
        "ys = [friend_counts[x] for x in xs]\n",
        "\n",
        "plt.bar(xs, ys)\n",
        "plt.axis([0, 101, 0, 25])\n",
        "plt.title('Histogram of Friend Counts')\n",
        "plt.xlabel('# of friends')\n",
        "plt.ylabel('# of people')\n",
        "plt.show()"
      ],
      "execution_count": 6,
      "outputs": [
        {
          "output_type": "display_data",
          "data": {
            "image/png": "[encoded data removed]",
            "text/plain": [
              "<Figure size 432x288 with 1 Axes>"
            ]
          },
          "metadata": {
            "tags": [],
            "needs_background": "light"
          }
        }
      ]
    },
    {
      "cell_type": "code",
      "metadata": {
        "colab": {
          "base_uri": "https://localhost:8080/"
        },
        "id": "ujFM9Up-8vbI",
        "outputId": "6f6deb8b-eeeb-4d30-dffc-72ebff68d3c7"
      },
      "source": [
        "num_points = len(num_friends)\n",
        "num_points"
      ],
      "execution_count": 7,
      "outputs": [
        {
          "output_type": "execute_result",
          "data": {
            "text/plain": [
              "1000"
            ]
          },
          "metadata": {
            "tags": []
          },
          "execution_count": 7
        }
      ]
    },
    {
      "cell_type": "code",
      "metadata": {
        "colab": {
          "base_uri": "https://localhost:8080/"
        },
        "id": "wc2PrYs68xsV",
        "outputId": "5e6e86da-b4d6-4aaa-ac52-e43e696104ac"
      },
      "source": [
        "largest_value = max(num_friends)\n",
        "largest_value"
      ],
      "execution_count": 8,
      "outputs": [
        {
          "output_type": "execute_result",
          "data": {
            "text/plain": [
              "100"
            ]
          },
          "metadata": {
            "tags": []
          },
          "execution_count": 8
        }
      ]
    },
    {
      "cell_type": "code",
      "metadata": {
        "colab": {
          "base_uri": "https://localhost:8080/"
        },
        "id": "sJ2z4pUN-LEq",
        "outputId": "70cf3bdf-f16d-4a5a-9096-a85dfdaa6b89"
      },
      "source": [
        "smallest_value = min(num_friends)\n",
        "smallest_value"
      ],
      "execution_count": 9,
      "outputs": [
        {
          "output_type": "execute_result",
          "data": {
            "text/plain": [
              "1"
            ]
          },
          "metadata": {
            "tags": []
          },
          "execution_count": 9
        }
      ]
    },
    {
      "cell_type": "code",
      "metadata": {
        "id": "CuLETcoC-RA3"
      },
      "source": [
        "sorted_values = sorted(num_friends)\n",
        "smallest_value = sorted_values[0]         # 1\n",
        "second_smallest_value = sorted_values[1]  # 1\n",
        "second_largest_value = sorted_values[-10]  # 99"
      ],
      "execution_count": 11,
      "outputs": []
    },
    {
      "cell_type": "code",
      "metadata": {
        "colab": {
          "base_uri": "https://localhost:8080/"
        },
        "id": "rjKRv9bX-t44",
        "outputId": "2598fb36-06d5-4714-c97e-52c43e157512"
      },
      "source": [
        "def mean(xs):\n",
        "  return sum(xs) / len(xs)\n",
        "\n",
        "mean(num_friends)"
      ],
      "execution_count": 14,
      "outputs": [
        {
          "output_type": "execute_result",
          "data": {
            "text/plain": [
              "50.279"
            ]
          },
          "metadata": {
            "tags": []
          },
          "execution_count": 14
        }
      ]
    },
    {
      "cell_type": "code",
      "metadata": {
        "id": "SHymk9RE-zVd"
      },
      "source": [
        "# The underscores indicate that these are \"private\" functions, as they're\n",
        "# intended to be called by our median function but not by other people\n",
        "# using our statistics library.\n",
        "\n",
        "def _median_odd(xs):\n",
        "  \"\"\"If len(xs) is odd, the median is the middle element\"\"\"\n",
        "  return sorted(xs)[len(xs) // 2]\n",
        "\n",
        "def _median_even(xs):\n",
        "  \"\"\"If len(xs) is even, it's the average of the middle two elements\"\"\"\n",
        "  sorted_xs = sorted(xs)\n",
        "  hi_midpoint = len(xs) // 2\n",
        "  return (sorted_xs[hi_midpoint - 1] + sorted_xs[hi_midpoint]) / 2\n",
        "\n",
        "def median(xs):\n",
        "  \"\"\"Finds the 'middle-most' value of v\"\"\"\n",
        "  return _median_even(xs) if len(xs) % 2 == 0 else _median_odd(xs)\n",
        "\n",
        "assert median([1, 10, 2, 9, 5]) == 5\n",
        "assert median([1, 9, 2, 10]) == (2 + 9) / 2"
      ],
      "execution_count": 15,
      "outputs": []
    },
    {
      "cell_type": "code",
      "metadata": {
        "colab": {
          "base_uri": "https://localhost:8080/"
        },
        "id": "_uJQc5KZFAnr",
        "outputId": "67ad36cd-2200-40dd-f228-db1f2ad0b317"
      },
      "source": [
        "print(median(num_friends))"
      ],
      "execution_count": 19,
      "outputs": [
        {
          "output_type": "stream",
          "text": [
            "50.0\n"
          ],
          "name": "stdout"
        }
      ]
    },
    {
      "cell_type": "code",
      "metadata": {
        "id": "bGfGMzdMFICL"
      },
      "source": [
        "def quantile(xs, p):\n",
        "  \"\"\"Returns the pth-percentile value in x\"\"\"\n",
        "  p_index = int(p * len(xs))\n",
        "  return sorted(xs)[p_index]\n",
        "\n",
        "#assert quantile(num_friends, 0.10) == 1\n",
        "#assert quantile(num_friends, 0.25) == 3\n",
        "#assert quantile(num_friends, 0.75) == 9\n",
        "#assert quantile(num_friends, 0.90) == 13"
      ],
      "execution_count": 22,
      "outputs": []
    },
    {
      "cell_type": "code",
      "metadata": {
        "colab": {
          "base_uri": "https://localhost:8080/"
        },
        "id": "ZWnO81IvGPG1",
        "outputId": "c7659a72-e20f-4cb2-a8ec-dad57768229c"
      },
      "source": [
        "print(quantile(num_friends, 0.10))\n",
        "print(quantile(num_friends, 0.25))\n",
        "print(quantile(num_friends, 0.50))\n",
        "print(quantile(num_friends, 0.75))\n",
        "print(quantile(num_friends, 0.90))"
      ],
      "execution_count": 21,
      "outputs": [
        {
          "output_type": "stream",
          "text": [
            "10\n",
            "26\n",
            "50\n",
            "74\n",
            "91\n"
          ],
          "name": "stdout"
        }
      ]
    },
    {
      "cell_type": "code",
      "metadata": {
        "colab": {
          "base_uri": "https://localhost:8080/"
        },
        "id": "pV0gskl6Gcka",
        "outputId": "e02536af-565d-4f63-a5a5-dcb951c13627"
      },
      "source": [
        "def mode(x):\n",
        "  \"\"\"Returns a list, since there might be more than one mode\"\"\"\n",
        "  counts = Counter(x)\n",
        "  max_count = max(counts.values())\n",
        "  return [x_i for x_i, count in counts.items() if count == max_count]\n",
        "\n",
        "print(mode(num_friends))"
      ],
      "execution_count": 24,
      "outputs": [
        {
          "output_type": "stream",
          "text": [
            "[85]\n"
          ],
          "name": "stdout"
        }
      ]
    },
    {
      "cell_type": "code",
      "metadata": {
        "colab": {
          "base_uri": "https://localhost:8080/"
        },
        "id": "VS46nphQG73H",
        "outputId": "4d2530c6-cb1c-4398-b89e-024274a4b293"
      },
      "source": [
        "def data_range(xs):\n",
        "  # \"range\" already means something in Python, so we'll use a different name\n",
        "  return max(xs) - min(xs)\n",
        "\n",
        "data_range(num_friends)"
      ],
      "execution_count": 25,
      "outputs": [
        {
          "output_type": "execute_result",
          "data": {
            "text/plain": [
              "99"
            ]
          },
          "metadata": {
            "tags": []
          },
          "execution_count": 25
        }
      ]
    },
    {
      "cell_type": "code",
      "metadata": {
        "id": "HRR8tPRxILTG"
      },
      "source": [
        ""
      ],
      "execution_count": null,
      "outputs": []
    }
  ]
}