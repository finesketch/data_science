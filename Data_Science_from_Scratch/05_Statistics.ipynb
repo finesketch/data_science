{
  "nbformat": 4,
  "nbformat_minor": 0,
  "metadata": {
    "colab": {
      "name": "05_Statistics.ipynb",
      "provenance": [],
      "authorship_tag": "ABX9TyOyVAgoKXPp+WDXLoksYM0J",
      "include_colab_link": true
    },
    "kernelspec": {
      "name": "python3",
      "display_name": "Python 3"
    },
    "language_info": {
      "name": "python"
    }
  },
  "cells": [
    {
      "cell_type": "markdown",
      "metadata": {
        "id": "view-in-github",
        "colab_type": "text"
      },
      "source": [
        "<a href=\"https://colab.research.google.com/github/finesketch/data_science/blob/main/Data_Science_from_Scratch/05_Statistics.ipynb\" target=\"_parent\"><img src=\"https://colab.research.google.com/assets/colab-badge.svg\" alt=\"Open In Colab\"/></a>"
      ]
    },
    {
      "cell_type": "code",
      "metadata": {
        "id": "nuw4r5uo5v7B"
      },
      "source": [
        "import numpy as np\n",
        "\n",
        "num_friends = np.random.randint(1, 101, 1000)"
      ],
      "execution_count": 19,
      "outputs": []
    },
    {
      "cell_type": "code",
      "metadata": {
        "colab": {
          "base_uri": "https://localhost:8080/",
          "height": 295
        },
        "id": "lWjzFzIH8ZeZ",
        "outputId": "5d4df013-9580-404b-ed19-e005b1341aba"
      },
      "source": [
        "from collections import Counter\n",
        "import matplotlib.pyplot as plt\n",
        "\n",
        "friend_counts = Counter(num_friends)\n",
        "xs = range(101)\n",
        "ys = [friend_counts[x] for x in xs]\n",
        "\n",
        "plt.bar(xs, ys)\n",
        "plt.axis([0, 101, 0, 25])\n",
        "plt.title('Histogram of Friend Counts')\n",
        "plt.xlabel('# of friends')\n",
        "plt.ylabel('# of people')\n",
        "plt.show()"
      ],
      "execution_count": null,
      "outputs": [
        {
          "output_type": "display_data",
          "data": {
            "image/png": "[encoded data removed]",
            "text/plain": [
              "<Figure size 432x288 with 1 Axes>"
            ]
          },
          "metadata": {
            "tags": [],
            "needs_background": "light"
          }
        }
      ]
    },
    {
      "cell_type": "code",
      "metadata": {
        "colab": {
          "base_uri": "https://localhost:8080/"
        },
        "id": "ujFM9Up-8vbI",
        "outputId": "6f6deb8b-eeeb-4d30-dffc-72ebff68d3c7"
      },
      "source": [
        "num_points = len(num_friends)\n",
        "num_points"
      ],
      "execution_count": null,
      "outputs": [
        {
          "output_type": "execute_result",
          "data": {
            "text/plain": [
              "1000"
            ]
          },
          "metadata": {
            "tags": []
          },
          "execution_count": 7
        }
      ]
    },
    {
      "cell_type": "code",
      "metadata": {
        "colab": {
          "base_uri": "https://localhost:8080/"
        },
        "id": "wc2PrYs68xsV",
        "outputId": "5e6e86da-b4d6-4aaa-ac52-e43e696104ac"
      },
      "source": [
        "largest_value = max(num_friends)\n",
        "largest_value"
      ],
      "execution_count": null,
      "outputs": [
        {
          "output_type": "execute_result",
          "data": {
            "text/plain": [
              "100"
            ]
          },
          "metadata": {
            "tags": []
          },
          "execution_count": 8
        }
      ]
    },
    {
      "cell_type": "code",
      "metadata": {
        "colab": {
          "base_uri": "https://localhost:8080/"
        },
        "id": "sJ2z4pUN-LEq",
        "outputId": "70cf3bdf-f16d-4a5a-9096-a85dfdaa6b89"
      },
      "source": [
        "smallest_value = min(num_friends)\n",
        "smallest_value"
      ],
      "execution_count": null,
      "outputs": [
        {
          "output_type": "execute_result",
          "data": {
            "text/plain": [
              "1"
            ]
          },
          "metadata": {
            "tags": []
          },
          "execution_count": 9
        }
      ]
    },
    {
      "cell_type": "code",
      "metadata": {
        "id": "CuLETcoC-RA3"
      },
      "source": [
        "sorted_values = sorted(num_friends)\n",
        "smallest_value = sorted_values[0]         # 1\n",
        "second_smallest_value = sorted_values[1]  # 1\n",
        "second_largest_value = sorted_values[-10]  # 99"
      ],
      "execution_count": null,
      "outputs": []
    },
    {
      "cell_type": "code",
      "metadata": {
        "colab": {
          "base_uri": "https://localhost:8080/"
        },
        "id": "rjKRv9bX-t44",
        "outputId": "bca75925-fdc6-47e9-f6ab-697052a0c3da"
      },
      "source": [
        "def mean(xs):\n",
        "  return sum(xs) / len(xs)\n",
        "\n",
        "mean(num_friends)"
      ],
      "execution_count": 6,
      "outputs": [
        {
          "output_type": "execute_result",
          "data": {
            "text/plain": [
              "50.217"
            ]
          },
          "metadata": {
            "tags": []
          },
          "execution_count": 6
        }
      ]
    },
    {
      "cell_type": "code",
      "metadata": {
        "id": "SHymk9RE-zVd"
      },
      "source": [
        "# The underscores indicate that these are \"private\" functions, as they're\n",
        "# intended to be called by our median function but not by other people\n",
        "# using our statistics library.\n",
        "\n",
        "def _median_odd(xs):\n",
        "  \"\"\"If len(xs) is odd, the median is the middle element\"\"\"\n",
        "  return sorted(xs)[len(xs) // 2]\n",
        "\n",
        "def _median_even(xs):\n",
        "  \"\"\"If len(xs) is even, it's the average of the middle two elements\"\"\"\n",
        "  sorted_xs = sorted(xs)\n",
        "  hi_midpoint = len(xs) // 2\n",
        "  return (sorted_xs[hi_midpoint - 1] + sorted_xs[hi_midpoint]) / 2\n",
        "\n",
        "def median(xs):\n",
        "  \"\"\"Finds the 'middle-most' value of v\"\"\"\n",
        "  return _median_even(xs) if len(xs) % 2 == 0 else _median_odd(xs)\n",
        "\n",
        "assert median([1, 10, 2, 9, 5]) == 5\n",
        "assert median([1, 9, 2, 10]) == (2 + 9) / 2"
      ],
      "execution_count": null,
      "outputs": []
    },
    {
      "cell_type": "code",
      "metadata": {
        "colab": {
          "base_uri": "https://localhost:8080/"
        },
        "id": "_uJQc5KZFAnr",
        "outputId": "67ad36cd-2200-40dd-f228-db1f2ad0b317"
      },
      "source": [
        "print(median(num_friends))"
      ],
      "execution_count": null,
      "outputs": [
        {
          "output_type": "stream",
          "text": [
            "50.0\n"
          ],
          "name": "stdout"
        }
      ]
    },
    {
      "cell_type": "code",
      "metadata": {
        "id": "bGfGMzdMFICL"
      },
      "source": [
        "def quantile(xs, p):\n",
        "  \"\"\"Returns the pth-percentile value in x\"\"\"\n",
        "  p_index = int(p * len(xs))\n",
        "  return sorted(xs)[p_index]\n",
        "\n",
        "#assert quantile(num_friends, 0.10) == 1\n",
        "#assert quantile(num_friends, 0.25) == 3\n",
        "#assert quantile(num_friends, 0.75) == 9\n",
        "#assert quantile(num_friends, 0.90) == 13"
      ],
      "execution_count": null,
      "outputs": []
    },
    {
      "cell_type": "code",
      "metadata": {
        "colab": {
          "base_uri": "https://localhost:8080/"
        },
        "id": "ZWnO81IvGPG1",
        "outputId": "c7659a72-e20f-4cb2-a8ec-dad57768229c"
      },
      "source": [
        "print(quantile(num_friends, 0.10))\n",
        "print(quantile(num_friends, 0.25))\n",
        "print(quantile(num_friends, 0.50))\n",
        "print(quantile(num_friends, 0.75))\n",
        "print(quantile(num_friends, 0.90))"
      ],
      "execution_count": null,
      "outputs": [
        {
          "output_type": "stream",
          "text": [
            "10\n",
            "26\n",
            "50\n",
            "74\n",
            "91\n"
          ],
          "name": "stdout"
        }
      ]
    },
    {
      "cell_type": "code",
      "metadata": {
        "colab": {
          "base_uri": "https://localhost:8080/"
        },
        "id": "pV0gskl6Gcka",
        "outputId": "e02536af-565d-4f63-a5a5-dcb951c13627"
      },
      "source": [
        "def mode(x):\n",
        "  \"\"\"Returns a list, since there might be more than one mode\"\"\"\n",
        "  counts = Counter(x)\n",
        "  max_count = max(counts.values())\n",
        "  return [x_i for x_i, count in counts.items() if count == max_count]\n",
        "\n",
        "print(mode(num_friends))"
      ],
      "execution_count": null,
      "outputs": [
        {
          "output_type": "stream",
          "text": [
            "[85]\n"
          ],
          "name": "stdout"
        }
      ]
    },
    {
      "cell_type": "code",
      "metadata": {
        "colab": {
          "base_uri": "https://localhost:8080/"
        },
        "id": "VS46nphQG73H",
        "outputId": "4d2530c6-cb1c-4398-b89e-024274a4b293"
      },
      "source": [
        "def data_range(xs):\n",
        "  # \"range\" already means something in Python, so we'll use a different name\n",
        "  return max(xs) - min(xs)\n",
        "\n",
        "from data_range(num_friends)"
      ],
      "execution_count": null,
      "outputs": [
        {
          "output_type": "execute_result",
          "data": {
            "text/plain": [
              "99"
            ]
          },
          "metadata": {
            "tags": []
          },
          "execution_count": 25
        }
      ]
    },
    {
      "cell_type": "code",
      "metadata": {
        "id": "HRR8tPRxILTG",
        "colab": {
          "base_uri": "https://localhost:8080/"
        },
        "outputId": "5a71e278-9e4d-4214-abf3-44ff4f3bddfc"
      },
      "source": [
        "from functools import reduce\n",
        "\n",
        "def sum_of_squares(test_list):\n",
        "  # printing original list \n",
        "  print (\"The original list is : \" + str(test_list))\n",
        "    \n",
        "  # using reduce() + lambda\n",
        "  # sum of squares \n",
        "  res = reduce(lambda i, j: i + j * j, [test_list[:1][0]**2]+test_list[1:])\n",
        "    \n",
        "  # printing result\n",
        "  print (\"The sum of squares of list is : \" + str(res))\n",
        "\n",
        "  return res\n",
        "\n",
        "def de_mean(xs):\n",
        "    \"\"\"Translate xs by subtracting its mean (so the result has mean 0)\"\"\"\n",
        "    x_bar = mean(xs)\n",
        "    return [x - x_bar for x in xs]\n",
        "\n",
        "def variance(xs):\n",
        "    \"\"\"Almost the average squared deviation from the mean\"\"\"\n",
        "    assert len(xs) >= 2, \"variance requires at least two elements\"\n",
        "\n",
        "    n = len(xs)\n",
        "    deviations = de_mean(xs)\n",
        "    sos = sum_of_squares(deviations)\n",
        "    nn = n - 1\n",
        "    print(sos)\n",
        "    print(nn)\n",
        "    return sos / nn\n",
        "\n",
        "\n",
        "print(f'variance(num_friends): {variance(num_friends)}')\n",
        "\n",
        "#assert 81.54 < variance(num_friends) < 1000"
      ],
      "execution_count": 22,
      "outputs": [
        {
          "output_type": "stream",
          "text": [
            "The original list is : [18.295, 18.295, -28.705, -27.705, -48.705, -45.705, -10.704999999999998, 29.295, 0.2950000000000017, -25.705, 43.295, -28.705, -19.705, -24.705, 11.295000000000002, 22.295, 20.295, 3.2950000000000017, 46.295, 46.295, -30.705, -45.705, -18.705, 23.295, -30.705, -7.704999999999998, -23.705, -13.704999999999998, 32.295, -42.705, -37.705, -36.705, 43.295, -48.705, 40.295, -10.704999999999998, -20.705, -6.704999999999998, -33.705, -35.705, 7.295000000000002, -22.705, 17.295, 38.295, 13.295000000000002, -46.705, 24.295, -28.705, 44.295, 35.295, -28.705, -18.705, -19.705, -21.705, -15.704999999999998, -40.705, 22.295, 20.295, 18.295, 27.295, 5.295000000000002, -37.705, 3.2950000000000017, -37.705, -42.705, -3.7049999999999983, -28.705, 12.295000000000002, -12.704999999999998, 42.295, 28.295, -24.705, -6.704999999999998, 14.295000000000002, 42.295, 49.295, -17.705, 35.295, 9.295000000000002, -42.705, 20.295, 9.295000000000002, -25.705, -24.705, 39.295, 16.295, -40.705, -12.704999999999998, -29.705, 33.295, -25.705, -45.705, -9.704999999999998, 49.295, -21.705, -47.705, 26.295, -16.705, 8.295000000000002, -30.705, -17.705, 27.295, -18.705, 11.295000000000002, 18.295, -8.704999999999998, -19.705, 7.295000000000002, 47.295, 27.295, 38.295, -8.704999999999998, -14.704999999999998, -26.705, -45.705, -34.705, -31.705, 17.295, 8.295000000000002, 28.295, -44.705, 32.295, -13.704999999999998, 44.295, -0.7049999999999983, -28.705, -13.704999999999998, 37.295, 44.295, -25.705, 47.295, -3.7049999999999983, -13.704999999999998, -14.704999999999998, -21.705, 30.295, -31.705, 26.295, -9.704999999999998, -7.704999999999998, -3.7049999999999983, 41.295, 24.295, 41.295, -12.704999999999998, -11.704999999999998, 48.295, -7.704999999999998, 13.295000000000002, -39.705, 13.295000000000002, -3.7049999999999983, 7.295000000000002, 37.295, 22.295, 5.295000000000002, 35.295, 6.295000000000002, -13.704999999999998, 41.295, 24.295, 45.295, 24.295, -22.705, 42.295, -41.705, 40.295, 36.295, -18.705, -37.705, 26.295, 7.295000000000002, -25.705, -16.705, -49.705, -9.704999999999998, 16.295, 40.295, 12.295000000000002, -39.705, -35.705, -28.705, -31.705, -46.705, 26.295, -17.705, -3.7049999999999983, -46.705, -25.705, 25.295, 41.295, -8.704999999999998, 32.295, 0.2950000000000017, 41.295, -0.7049999999999983, -23.705, 29.295, 15.295000000000002, 44.295, -37.705, 43.295, 26.295, -38.705, -46.705, -21.705, -43.705, -11.704999999999998, -31.705, -41.705, 18.295, -10.704999999999998, -8.704999999999998, 5.295000000000002, 30.295, -13.704999999999998, 28.295, -9.704999999999998, -28.705, 22.295, -15.704999999999998, 45.295, 20.295, 45.295, 32.295, 49.295, -22.705, 35.295, -15.704999999999998, 19.295, 39.295, -7.704999999999998, 44.295, 46.295, -13.704999999999998, 34.295, -2.7049999999999983, -27.705, -20.705, 45.295, 49.295, -19.705, 37.295, -22.705, -38.705, 42.295, -0.7049999999999983, 5.295000000000002, -13.704999999999998, -36.705, -13.704999999999998, 47.295, 45.295, 32.295, -28.705, 5.295000000000002, 23.295, 12.295000000000002, -33.705, -8.704999999999998, -48.705, 29.295, -45.705, 19.295, 31.295, 28.295, 48.295, 47.295, 4.295000000000002, -31.705, -26.705, -7.704999999999998, -46.705, -9.704999999999998, 18.295, -18.705, 47.295, -41.705, 43.295, -29.705, 22.295, 14.295000000000002, 46.295, -26.705, 3.2950000000000017, -33.705, 29.295, -18.705, -1.7049999999999983, -42.705, 25.295, -18.705, 39.295, -21.705, -41.705, -12.704999999999998, 15.295000000000002, 5.295000000000002, -34.705, -40.705, -19.705, -37.705, 0.2950000000000017, 1.2950000000000017, -4.704999999999998, -44.705, -47.705, -47.705, 18.295, 21.295, -35.705, 37.295, 13.295000000000002, -13.704999999999998, -41.705, -13.704999999999998, 2.2950000000000017, 40.295, -14.704999999999998, 12.295000000000002, -5.704999999999998, -29.705, -21.705, -2.7049999999999983, -2.7049999999999983, 27.295, -30.705, 43.295, -31.705, -15.704999999999998, 6.295000000000002, 21.295, 15.295000000000002, -17.705, -8.704999999999998, 49.295, -3.7049999999999983, -44.705, 5.295000000000002, -3.7049999999999983, -16.705, -45.705, 24.295, -9.704999999999998, -33.705, 14.295000000000002, 15.295000000000002, 16.295, -27.705, 10.295000000000002, -10.704999999999998, 42.295, 3.2950000000000017, 15.295000000000002, 14.295000000000002, -18.705, -8.704999999999998, 39.295, 37.295, 49.295, 13.295000000000002, -37.705, 28.295, -8.704999999999998, 33.295, 20.295, -9.704999999999998, 30.295, -12.704999999999998, 26.295, -8.704999999999998, -4.704999999999998, -25.705, -14.704999999999998, -5.704999999999998, 21.295, 25.295, -39.705, 27.295, -23.705, 45.295, -14.704999999999998, -5.704999999999998, 42.295, 37.295, 16.295, -41.705, 28.295, -4.704999999999998, 39.295, 13.295000000000002, -29.705, 3.2950000000000017, -9.704999999999998, 34.295, -20.705, -23.705, -7.704999999999998, 19.295, -46.705, -1.7049999999999983, -13.704999999999998, -15.704999999999998, 30.295, -47.705, -40.705, 17.295, -14.704999999999998, -20.705, -17.705, -16.705, -36.705, -36.705, -26.705, -40.705, -48.705, -47.705, -29.705, 2.2950000000000017, 9.295000000000002, 48.295, 34.295, -31.705, -25.705, -43.705, -35.705, -15.704999999999998, -8.704999999999998, 23.295, 13.295000000000002, -19.705, 48.295, -22.705, 11.295000000000002, -24.705, -48.705, 24.295, -35.705, -31.705, 16.295, 25.295, -22.705, 38.295, -3.7049999999999983, 6.295000000000002, -11.704999999999998, 22.295, 41.295, 32.295, 6.295000000000002, 24.295, 3.2950000000000017, 29.295, 15.295000000000002, 47.295, -7.704999999999998, 3.2950000000000017, -30.705, -46.705, -24.705, 19.295, 45.295, 0.2950000000000017, 24.295, 6.295000000000002, -19.705, 23.295, -4.704999999999998, 12.295000000000002, -13.704999999999998, -17.705, -17.705, 20.295, 24.295, 21.295, -10.704999999999998, -14.704999999999998, 10.295000000000002, -42.705, -15.704999999999998, 33.295, -32.705, -26.705, 19.295, 2.2950000000000017, 27.295, 42.295, -37.705, 22.295, -15.704999999999998, -17.705, -16.705, 14.295000000000002, 14.295000000000002, 13.295000000000002, 2.2950000000000017, 8.295000000000002, -41.705, 2.2950000000000017, 6.295000000000002, 0.2950000000000017, 48.295, 38.295, 45.295, 37.295, -28.705, -25.705, -23.705, -10.704999999999998, 32.295, -38.705, 2.2950000000000017, 47.295, 4.295000000000002, 38.295, 10.295000000000002, 27.295, 19.295, -31.705, 29.295, -22.705, 9.295000000000002, -6.704999999999998, -9.704999999999998, 8.295000000000002, -0.7049999999999983, -12.704999999999998, 46.295, 21.295, 2.2950000000000017, -13.704999999999998, -47.705, -32.705, -29.705, -41.705, 3.2950000000000017, -38.705, -8.704999999999998, -32.705, -17.705, 1.2950000000000017, -45.705, 11.295000000000002, -9.704999999999998, 23.295, -3.7049999999999983, -41.705, -2.7049999999999983, 16.295, -47.705, -3.7049999999999983, 10.295000000000002, 39.295, 6.295000000000002, -11.704999999999998, -14.704999999999998, 5.295000000000002, -0.7049999999999983, -23.705, 27.295, 39.295, -37.705, -21.705, -39.705, -44.705, 40.295, 12.295000000000002, 43.295, 38.295, 25.295, -2.7049999999999983, -46.705, -37.705, 46.295, 33.295, -4.704999999999998, -7.704999999999998, 11.295000000000002, 15.295000000000002, 28.295, 34.295, -3.7049999999999983, -30.705, -39.705, -21.705, 31.295, 29.295, -32.705, 41.295, -27.705, 38.295, -31.705, 30.295, 34.295, -14.704999999999998, 45.295, 31.295, -27.705, 31.295, -36.705, -33.705, -0.7049999999999983, -39.705, 6.295000000000002, -6.704999999999998, -23.705, 34.295, 35.295, 35.295, 38.295, -26.705, 12.295000000000002, 38.295, 46.295, -19.705, -18.705, -47.705, 6.295000000000002, -48.705, -38.705, -33.705, 40.295, -16.705, 44.295, -47.705, 8.295000000000002, -26.705, -27.705, 2.2950000000000017, -15.704999999999998, -38.705, -44.705, 49.295, 3.2950000000000017, -38.705, -16.705, 25.295, 35.295, 44.295, 31.295, 42.295, 8.295000000000002, -21.705, 40.295, 6.295000000000002, 23.295, -18.705, 28.295, -29.705, 36.295, 16.295, 30.295, 37.295, 27.295, 7.295000000000002, 49.295, -27.705, -17.705, -16.705, 10.295000000000002, 39.295, 26.295, 48.295, 41.295, -18.705, 47.295, 30.295, -47.705, 11.295000000000002, -34.705, 16.295, -25.705, -1.7049999999999983, -17.705, -17.705, -31.705, 28.295, 27.295, 29.295, -0.7049999999999983, 11.295000000000002, 4.295000000000002, 36.295, 39.295, 2.2950000000000017, -5.704999999999998, -45.705, 0.2950000000000017, 4.295000000000002, -20.705, -41.705, 6.295000000000002, 5.295000000000002, -30.705, 23.295, -23.705, -40.705, 27.295, -44.705, 26.295, -6.704999999999998, -45.705, 47.295, -31.705, 33.295, 36.295, 20.295, -46.705, 31.295, 28.295, -0.7049999999999983, -0.7049999999999983, 2.2950000000000017, 38.295, -30.705, 39.295, 36.295, -4.704999999999998, -1.7049999999999983, -39.705, -22.705, 10.295000000000002, -8.704999999999998, -40.705, -4.704999999999998, -4.704999999999998, 2.2950000000000017, -23.705, -5.704999999999998, -49.705, -3.7049999999999983, -29.705, -12.704999999999998, -18.705, 19.295, -26.705, 45.295, 7.295000000000002, -43.705, 42.295, -25.705, -39.705, -18.705, -8.704999999999998, 24.295, 30.295, -8.704999999999998, -40.705, 35.295, -10.704999999999998, 33.295, 15.295000000000002, 9.295000000000002, -44.705, -32.705, -19.705, -32.705, 11.295000000000002, 38.295, 7.295000000000002, 9.295000000000002, -23.705, 43.295, 38.295, -20.705, 13.295000000000002, 14.295000000000002, 48.295, 36.295, -39.705, -17.705, 17.295, 18.295, 37.295, -13.704999999999998, 18.295, -26.705, -42.705, 31.295, 17.295, -2.7049999999999983, 8.295000000000002, -45.705, 18.295, -44.705, -43.705, 13.295000000000002, -4.704999999999998, -2.7049999999999983, 48.295, -16.705, -44.705, 48.295, 18.295, -5.704999999999998, -4.704999999999998, 18.295, -44.705, -13.704999999999998, -11.704999999999998, 17.295, 20.295, -16.705, 41.295, -38.705, 5.295000000000002, 8.295000000000002, 47.295, -48.705, -9.704999999999998, 3.2950000000000017, -49.705, -25.705, 49.295, 26.295, 36.295, 8.295000000000002, -10.704999999999998, -31.705, 30.295, -36.705, 38.295, -2.7049999999999983, -0.7049999999999983, -28.705, -7.704999999999998, -28.705, 29.295, -41.705, 20.295, -9.704999999999998, 38.295, 5.295000000000002, 28.295, 36.295, 46.295, -22.705, -46.705, -24.705, 11.295000000000002, -9.704999999999998, -1.7049999999999983, -35.705, -8.704999999999998, -48.705, 44.295, -25.705, 45.295, 29.295, -22.705, -24.705, -14.704999999999998, -45.705, 45.295, -5.704999999999998, 43.295, 10.295000000000002, 19.295, -30.705, 26.295, 17.295, 8.295000000000002, -44.705, 24.295, -49.705, -41.705, 14.295000000000002, -33.705, -5.704999999999998, -12.704999999999998, -2.7049999999999983, 10.295000000000002, 4.295000000000002, -31.705, 28.295, -46.705, -14.704999999999998, 6.295000000000002, 44.295, 14.295000000000002, 5.295000000000002, -40.705, 20.295, -48.705, -5.704999999999998, -6.704999999999998, 3.2950000000000017, -48.705, -33.705, -37.705, -12.704999999999998, 1.2950000000000017, 23.295, -25.705, -36.705, 16.295, 17.295, -42.705, 18.295, -20.705, -27.705, 39.295, 2.2950000000000017, 30.295, -0.7049999999999983, 45.295, -30.705, 10.295000000000002, 21.295, -11.704999999999998, -44.705, 33.295, -11.704999999999998, 48.295, 18.295, -6.704999999999998, -3.7049999999999983, -9.704999999999998, -32.705, -7.704999999999998, 10.295000000000002, 10.295000000000002, -15.704999999999998, 7.295000000000002, 18.295, 37.295, -1.7049999999999983, 23.295, 45.295, -10.704999999999998, 48.295, 17.295, 28.295, -25.705, 37.295, -48.705, 36.295, -17.705, 29.295, -34.705, -4.704999999999998, 11.295000000000002, -37.705, 35.295, 7.295000000000002, 13.295000000000002, -36.705, 42.295, 10.295000000000002, -49.705, 42.295, 28.295, -41.705, 27.295, -22.705, 27.295, 41.295, 33.295, 6.295000000000002, 6.295000000000002, 32.295, 3.2950000000000017, 6.295000000000002, -13.704999999999998, -43.705, -14.704999999999998, 13.295000000000002, 45.295, 39.295, 4.295000000000002, -29.705, 2.2950000000000017, 11.295000000000002, -19.705, -26.705, 38.295, 5.295000000000002, -9.704999999999998, -31.705, 35.295, -38.705, 38.295, 1.2950000000000017, 39.295, -2.7049999999999983, -37.705, -9.704999999999998, 11.295000000000002, 44.295, 10.295000000000002, -16.705, -31.705, -14.704999999999998, -49.705, -41.705, 4.295000000000002, -0.7049999999999983, -22.705, -33.705, 46.295]\n",
            "The sum of squares of list is : 820093.9750000001\n",
            "820093.9750000001\n",
            "999\n",
            "variance(num_friends): 820.91488988989\n"
          ],
          "name": "stdout"
        }
      ]
    },
    {
      "cell_type": "code",
      "metadata": {
        "colab": {
          "base_uri": "https://localhost:8080/"
        },
        "id": "nn-V58BI1o5Z",
        "outputId": "a47e6f12-e9f6-4618-c27a-0b50e40cd5dd"
      },
      "source": [
        "import math\n",
        "\n",
        "def standard_deviation(xs):\n",
        "    \"\"\"The standard deviation is the square root of the variance\"\"\"\n",
        "    return math.sqrt(variance(xs))\n",
        "\n",
        "print(f'standard_deviation(num_friends): {standard_deviation(num_friends)}')\n",
        "\n",
        "#assert 9.02 < standard_deviation(num_friends) < 9.04"
      ],
      "execution_count": 23,
      "outputs": [
        {
          "output_type": "stream",
          "text": [
            "The original list is : [18.295, 18.295, -28.705, -27.705, -48.705, -45.705, -10.704999999999998, 29.295, 0.2950000000000017, -25.705, 43.295, -28.705, -19.705, -24.705, 11.295000000000002, 22.295, 20.295, 3.2950000000000017, 46.295, 46.295, -30.705, -45.705, -18.705, 23.295, -30.705, -7.704999999999998, -23.705, -13.704999999999998, 32.295, -42.705, -37.705, -36.705, 43.295, -48.705, 40.295, -10.704999999999998, -20.705, -6.704999999999998, -33.705, -35.705, 7.295000000000002, -22.705, 17.295, 38.295, 13.295000000000002, -46.705, 24.295, -28.705, 44.295, 35.295, -28.705, -18.705, -19.705, -21.705, -15.704999999999998, -40.705, 22.295, 20.295, 18.295, 27.295, 5.295000000000002, -37.705, 3.2950000000000017, -37.705, -42.705, -3.7049999999999983, -28.705, 12.295000000000002, -12.704999999999998, 42.295, 28.295, -24.705, -6.704999999999998, 14.295000000000002, 42.295, 49.295, -17.705, 35.295, 9.295000000000002, -42.705, 20.295, 9.295000000000002, -25.705, -24.705, 39.295, 16.295, -40.705, -12.704999999999998, -29.705, 33.295, -25.705, -45.705, -9.704999999999998, 49.295, -21.705, -47.705, 26.295, -16.705, 8.295000000000002, -30.705, -17.705, 27.295, -18.705, 11.295000000000002, 18.295, -8.704999999999998, -19.705, 7.295000000000002, 47.295, 27.295, 38.295, -8.704999999999998, -14.704999999999998, -26.705, -45.705, -34.705, -31.705, 17.295, 8.295000000000002, 28.295, -44.705, 32.295, -13.704999999999998, 44.295, -0.7049999999999983, -28.705, -13.704999999999998, 37.295, 44.295, -25.705, 47.295, -3.7049999999999983, -13.704999999999998, -14.704999999999998, -21.705, 30.295, -31.705, 26.295, -9.704999999999998, -7.704999999999998, -3.7049999999999983, 41.295, 24.295, 41.295, -12.704999999999998, -11.704999999999998, 48.295, -7.704999999999998, 13.295000000000002, -39.705, 13.295000000000002, -3.7049999999999983, 7.295000000000002, 37.295, 22.295, 5.295000000000002, 35.295, 6.295000000000002, -13.704999999999998, 41.295, 24.295, 45.295, 24.295, -22.705, 42.295, -41.705, 40.295, 36.295, -18.705, -37.705, 26.295, 7.295000000000002, -25.705, -16.705, -49.705, -9.704999999999998, 16.295, 40.295, 12.295000000000002, -39.705, -35.705, -28.705, -31.705, -46.705, 26.295, -17.705, -3.7049999999999983, -46.705, -25.705, 25.295, 41.295, -8.704999999999998, 32.295, 0.2950000000000017, 41.295, -0.7049999999999983, -23.705, 29.295, 15.295000000000002, 44.295, -37.705, 43.295, 26.295, -38.705, -46.705, -21.705, -43.705, -11.704999999999998, -31.705, -41.705, 18.295, -10.704999999999998, -8.704999999999998, 5.295000000000002, 30.295, -13.704999999999998, 28.295, -9.704999999999998, -28.705, 22.295, -15.704999999999998, 45.295, 20.295, 45.295, 32.295, 49.295, -22.705, 35.295, -15.704999999999998, 19.295, 39.295, -7.704999999999998, 44.295, 46.295, -13.704999999999998, 34.295, -2.7049999999999983, -27.705, -20.705, 45.295, 49.295, -19.705, 37.295, -22.705, -38.705, 42.295, -0.7049999999999983, 5.295000000000002, -13.704999999999998, -36.705, -13.704999999999998, 47.295, 45.295, 32.295, -28.705, 5.295000000000002, 23.295, 12.295000000000002, -33.705, -8.704999999999998, -48.705, 29.295, -45.705, 19.295, 31.295, 28.295, 48.295, 47.295, 4.295000000000002, -31.705, -26.705, -7.704999999999998, -46.705, -9.704999999999998, 18.295, -18.705, 47.295, -41.705, 43.295, -29.705, 22.295, 14.295000000000002, 46.295, -26.705, 3.2950000000000017, -33.705, 29.295, -18.705, -1.7049999999999983, -42.705, 25.295, -18.705, 39.295, -21.705, -41.705, -12.704999999999998, 15.295000000000002, 5.295000000000002, -34.705, -40.705, -19.705, -37.705, 0.2950000000000017, 1.2950000000000017, -4.704999999999998, -44.705, -47.705, -47.705, 18.295, 21.295, -35.705, 37.295, 13.295000000000002, -13.704999999999998, -41.705, -13.704999999999998, 2.2950000000000017, 40.295, -14.704999999999998, 12.295000000000002, -5.704999999999998, -29.705, -21.705, -2.7049999999999983, -2.7049999999999983, 27.295, -30.705, 43.295, -31.705, -15.704999999999998, 6.295000000000002, 21.295, 15.295000000000002, -17.705, -8.704999999999998, 49.295, -3.7049999999999983, -44.705, 5.295000000000002, -3.7049999999999983, -16.705, -45.705, 24.295, -9.704999999999998, -33.705, 14.295000000000002, 15.295000000000002, 16.295, -27.705, 10.295000000000002, -10.704999999999998, 42.295, 3.2950000000000017, 15.295000000000002, 14.295000000000002, -18.705, -8.704999999999998, 39.295, 37.295, 49.295, 13.295000000000002, -37.705, 28.295, -8.704999999999998, 33.295, 20.295, -9.704999999999998, 30.295, -12.704999999999998, 26.295, -8.704999999999998, -4.704999999999998, -25.705, -14.704999999999998, -5.704999999999998, 21.295, 25.295, -39.705, 27.295, -23.705, 45.295, -14.704999999999998, -5.704999999999998, 42.295, 37.295, 16.295, -41.705, 28.295, -4.704999999999998, 39.295, 13.295000000000002, -29.705, 3.2950000000000017, -9.704999999999998, 34.295, -20.705, -23.705, -7.704999999999998, 19.295, -46.705, -1.7049999999999983, -13.704999999999998, -15.704999999999998, 30.295, -47.705, -40.705, 17.295, -14.704999999999998, -20.705, -17.705, -16.705, -36.705, -36.705, -26.705, -40.705, -48.705, -47.705, -29.705, 2.2950000000000017, 9.295000000000002, 48.295, 34.295, -31.705, -25.705, -43.705, -35.705, -15.704999999999998, -8.704999999999998, 23.295, 13.295000000000002, -19.705, 48.295, -22.705, 11.295000000000002, -24.705, -48.705, 24.295, -35.705, -31.705, 16.295, 25.295, -22.705, 38.295, -3.7049999999999983, 6.295000000000002, -11.704999999999998, 22.295, 41.295, 32.295, 6.295000000000002, 24.295, 3.2950000000000017, 29.295, 15.295000000000002, 47.295, -7.704999999999998, 3.2950000000000017, -30.705, -46.705, -24.705, 19.295, 45.295, 0.2950000000000017, 24.295, 6.295000000000002, -19.705, 23.295, -4.704999999999998, 12.295000000000002, -13.704999999999998, -17.705, -17.705, 20.295, 24.295, 21.295, -10.704999999999998, -14.704999999999998, 10.295000000000002, -42.705, -15.704999999999998, 33.295, -32.705, -26.705, 19.295, 2.2950000000000017, 27.295, 42.295, -37.705, 22.295, -15.704999999999998, -17.705, -16.705, 14.295000000000002, 14.295000000000002, 13.295000000000002, 2.2950000000000017, 8.295000000000002, -41.705, 2.2950000000000017, 6.295000000000002, 0.2950000000000017, 48.295, 38.295, 45.295, 37.295, -28.705, -25.705, -23.705, -10.704999999999998, 32.295, -38.705, 2.2950000000000017, 47.295, 4.295000000000002, 38.295, 10.295000000000002, 27.295, 19.295, -31.705, 29.295, -22.705, 9.295000000000002, -6.704999999999998, -9.704999999999998, 8.295000000000002, -0.7049999999999983, -12.704999999999998, 46.295, 21.295, 2.2950000000000017, -13.704999999999998, -47.705, -32.705, -29.705, -41.705, 3.2950000000000017, -38.705, -8.704999999999998, -32.705, -17.705, 1.2950000000000017, -45.705, 11.295000000000002, -9.704999999999998, 23.295, -3.7049999999999983, -41.705, -2.7049999999999983, 16.295, -47.705, -3.7049999999999983, 10.295000000000002, 39.295, 6.295000000000002, -11.704999999999998, -14.704999999999998, 5.295000000000002, -0.7049999999999983, -23.705, 27.295, 39.295, -37.705, -21.705, -39.705, -44.705, 40.295, 12.295000000000002, 43.295, 38.295, 25.295, -2.7049999999999983, -46.705, -37.705, 46.295, 33.295, -4.704999999999998, -7.704999999999998, 11.295000000000002, 15.295000000000002, 28.295, 34.295, -3.7049999999999983, -30.705, -39.705, -21.705, 31.295, 29.295, -32.705, 41.295, -27.705, 38.295, -31.705, 30.295, 34.295, -14.704999999999998, 45.295, 31.295, -27.705, 31.295, -36.705, -33.705, -0.7049999999999983, -39.705, 6.295000000000002, -6.704999999999998, -23.705, 34.295, 35.295, 35.295, 38.295, -26.705, 12.295000000000002, 38.295, 46.295, -19.705, -18.705, -47.705, 6.295000000000002, -48.705, -38.705, -33.705, 40.295, -16.705, 44.295, -47.705, 8.295000000000002, -26.705, -27.705, 2.2950000000000017, -15.704999999999998, -38.705, -44.705, 49.295, 3.2950000000000017, -38.705, -16.705, 25.295, 35.295, 44.295, 31.295, 42.295, 8.295000000000002, -21.705, 40.295, 6.295000000000002, 23.295, -18.705, 28.295, -29.705, 36.295, 16.295, 30.295, 37.295, 27.295, 7.295000000000002, 49.295, -27.705, -17.705, -16.705, 10.295000000000002, 39.295, 26.295, 48.295, 41.295, -18.705, 47.295, 30.295, -47.705, 11.295000000000002, -34.705, 16.295, -25.705, -1.7049999999999983, -17.705, -17.705, -31.705, 28.295, 27.295, 29.295, -0.7049999999999983, 11.295000000000002, 4.295000000000002, 36.295, 39.295, 2.2950000000000017, -5.704999999999998, -45.705, 0.2950000000000017, 4.295000000000002, -20.705, -41.705, 6.295000000000002, 5.295000000000002, -30.705, 23.295, -23.705, -40.705, 27.295, -44.705, 26.295, -6.704999999999998, -45.705, 47.295, -31.705, 33.295, 36.295, 20.295, -46.705, 31.295, 28.295, -0.7049999999999983, -0.7049999999999983, 2.2950000000000017, 38.295, -30.705, 39.295, 36.295, -4.704999999999998, -1.7049999999999983, -39.705, -22.705, 10.295000000000002, -8.704999999999998, -40.705, -4.704999999999998, -4.704999999999998, 2.2950000000000017, -23.705, -5.704999999999998, -49.705, -3.7049999999999983, -29.705, -12.704999999999998, -18.705, 19.295, -26.705, 45.295, 7.295000000000002, -43.705, 42.295, -25.705, -39.705, -18.705, -8.704999999999998, 24.295, 30.295, -8.704999999999998, -40.705, 35.295, -10.704999999999998, 33.295, 15.295000000000002, 9.295000000000002, -44.705, -32.705, -19.705, -32.705, 11.295000000000002, 38.295, 7.295000000000002, 9.295000000000002, -23.705, 43.295, 38.295, -20.705, 13.295000000000002, 14.295000000000002, 48.295, 36.295, -39.705, -17.705, 17.295, 18.295, 37.295, -13.704999999999998, 18.295, -26.705, -42.705, 31.295, 17.295, -2.7049999999999983, 8.295000000000002, -45.705, 18.295, -44.705, -43.705, 13.295000000000002, -4.704999999999998, -2.7049999999999983, 48.295, -16.705, -44.705, 48.295, 18.295, -5.704999999999998, -4.704999999999998, 18.295, -44.705, -13.704999999999998, -11.704999999999998, 17.295, 20.295, -16.705, 41.295, -38.705, 5.295000000000002, 8.295000000000002, 47.295, -48.705, -9.704999999999998, 3.2950000000000017, -49.705, -25.705, 49.295, 26.295, 36.295, 8.295000000000002, -10.704999999999998, -31.705, 30.295, -36.705, 38.295, -2.7049999999999983, -0.7049999999999983, -28.705, -7.704999999999998, -28.705, 29.295, -41.705, 20.295, -9.704999999999998, 38.295, 5.295000000000002, 28.295, 36.295, 46.295, -22.705, -46.705, -24.705, 11.295000000000002, -9.704999999999998, -1.7049999999999983, -35.705, -8.704999999999998, -48.705, 44.295, -25.705, 45.295, 29.295, -22.705, -24.705, -14.704999999999998, -45.705, 45.295, -5.704999999999998, 43.295, 10.295000000000002, 19.295, -30.705, 26.295, 17.295, 8.295000000000002, -44.705, 24.295, -49.705, -41.705, 14.295000000000002, -33.705, -5.704999999999998, -12.704999999999998, -2.7049999999999983, 10.295000000000002, 4.295000000000002, -31.705, 28.295, -46.705, -14.704999999999998, 6.295000000000002, 44.295, 14.295000000000002, 5.295000000000002, -40.705, 20.295, -48.705, -5.704999999999998, -6.704999999999998, 3.2950000000000017, -48.705, -33.705, -37.705, -12.704999999999998, 1.2950000000000017, 23.295, -25.705, -36.705, 16.295, 17.295, -42.705, 18.295, -20.705, -27.705, 39.295, 2.2950000000000017, 30.295, -0.7049999999999983, 45.295, -30.705, 10.295000000000002, 21.295, -11.704999999999998, -44.705, 33.295, -11.704999999999998, 48.295, 18.295, -6.704999999999998, -3.7049999999999983, -9.704999999999998, -32.705, -7.704999999999998, 10.295000000000002, 10.295000000000002, -15.704999999999998, 7.295000000000002, 18.295, 37.295, -1.7049999999999983, 23.295, 45.295, -10.704999999999998, 48.295, 17.295, 28.295, -25.705, 37.295, -48.705, 36.295, -17.705, 29.295, -34.705, -4.704999999999998, 11.295000000000002, -37.705, 35.295, 7.295000000000002, 13.295000000000002, -36.705, 42.295, 10.295000000000002, -49.705, 42.295, 28.295, -41.705, 27.295, -22.705, 27.295, 41.295, 33.295, 6.295000000000002, 6.295000000000002, 32.295, 3.2950000000000017, 6.295000000000002, -13.704999999999998, -43.705, -14.704999999999998, 13.295000000000002, 45.295, 39.295, 4.295000000000002, -29.705, 2.2950000000000017, 11.295000000000002, -19.705, -26.705, 38.295, 5.295000000000002, -9.704999999999998, -31.705, 35.295, -38.705, 38.295, 1.2950000000000017, 39.295, -2.7049999999999983, -37.705, -9.704999999999998, 11.295000000000002, 44.295, 10.295000000000002, -16.705, -31.705, -14.704999999999998, -49.705, -41.705, 4.295000000000002, -0.7049999999999983, -22.705, -33.705, 46.295]\n",
            "The sum of squares of list is : 820093.9750000001\n",
            "820093.9750000001\n",
            "999\n",
            "standard_deviation(num_friends): 28.65161234363417\n"
          ],
          "name": "stdout"
        }
      ]
    },
    {
      "cell_type": "code",
      "metadata": {
        "id": "JNDWH4tN26-t"
      },
      "source": [
        ""
      ],
      "execution_count": null,
      "outputs": []
    }
  ]
}