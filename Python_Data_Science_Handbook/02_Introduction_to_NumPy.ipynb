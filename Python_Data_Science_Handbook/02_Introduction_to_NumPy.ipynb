{
  "nbformat": 4,
  "nbformat_minor": 0,
  "metadata": {
    "colab": {
      "name": "02 - Introduction to NumPy.ipynb",
      "provenance": [],
      "authorship_tag": "ABX9TyOm7boJxSPmgGx4woBsuEfX",
      "include_colab_link": true
    },
    "kernelspec": {
      "name": "python3",
      "display_name": "Python 3"
    },
    "language_info": {
      "name": "python"
    }
  },
  "cells": [
    {
      "cell_type": "markdown",
      "metadata": {
        "id": "view-in-github",
        "colab_type": "text"
      },
      "source": [
        "<a href=\"https://colab.research.google.com/github/finesketch/data_science/blob/main/Python_Data_Science_Handbook/02_Introduction_to_NumPy.ipynb\" target=\"_parent\"><img src=\"https://colab.research.google.com/assets/colab-badge.svg\" alt=\"Open In Colab\"/></a>"
      ]
    },
    {
      "cell_type": "markdown",
      "metadata": {
        "id": "ogNnvuL318Et"
      },
      "source": [
        "It is important that data can be in any form, here are some of the examples to think about:\n",
        "\n",
        "* Collections of documents\n",
        "* Collections of images\n",
        "* Collections of sound clips\n",
        "* Collections of measurements\n",
        "* etc.\n",
        "\n",
        "Despite the heterogeneity of data, but fundamentally all data are just arrays of numbers.\n",
        "\n",
        "* Image: 2**x**3 (or 2**x**4) dimensions of arrays for RGB (or ARGB)\n",
        "* Sound clip: One dimension of intensity versus time\n",
        "\n",
        "**Important**: No matter what the data are, the first step in making them analyzable will be to transform them into arrays of numbers."
      ]
    },
    {
      "cell_type": "code",
      "metadata": {
        "colab": {
          "base_uri": "https://localhost:8080/",
          "height": 35
        },
        "id": "tuOaYN-x18Va",
        "outputId": "4a644bda-4631-4f4c-b58a-a0f4a5222515"
      },
      "source": [
        "import numpy\n",
        "numpy.__version__"
      ],
      "execution_count": 1,
      "outputs": [
        {
          "output_type": "execute_result",
          "data": {
            "application/vnd.google.colaboratory.intrinsic+json": {
              "type": "string"
            },
            "text/plain": [
              "'1.19.5'"
            ]
          },
          "metadata": {
            "tags": []
          },
          "execution_count": 1
        }
      ]
    },
    {
      "cell_type": "code",
      "metadata": {
        "id": "QineyuQ33-HX"
      },
      "source": [
        ""
      ],
      "execution_count": null,
      "outputs": []
    }
  ]
}