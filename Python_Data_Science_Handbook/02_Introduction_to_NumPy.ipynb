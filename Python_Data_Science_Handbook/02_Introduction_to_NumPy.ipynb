{
  "nbformat": 4,
  "nbformat_minor": 0,
  "metadata": {
    "colab": {
      "name": "02 - Introduction to NumPy.ipynb",
      "provenance": [],
      "toc_visible": true,
      "authorship_tag": "ABX9TyMn1o/I3old7ltrIMm54f2y",
      "include_colab_link": true
    },
    "kernelspec": {
      "name": "python3",
      "display_name": "Python 3"
    },
    "language_info": {
      "name": "python"
    }
  },
  "cells": [
    {
      "cell_type": "markdown",
      "metadata": {
        "id": "view-in-github",
        "colab_type": "text"
      },
      "source": [
        "<a href=\"https://colab.research.google.com/github/finesketch/data_science/blob/main/Python_Data_Science_Handbook/02_Introduction_to_NumPy.ipynb\" target=\"_parent\"><img src=\"https://colab.research.google.com/assets/colab-badge.svg\" alt=\"Open In Colab\"/></a>"
      ]
    },
    {
      "cell_type": "markdown",
      "metadata": {
        "id": "ogNnvuL318Et"
      },
      "source": [
        "It is important that data can be in any form, here are some of the examples to think about:\n",
        "\n",
        "* Collections of documents\n",
        "* Collections of images\n",
        "* Collections of sound clips\n",
        "* Collections of measurements\n",
        "* etc.\n",
        "\n",
        "Despite the heterogeneity of data, but fundamentally all data are just arrays of numbers.\n",
        "\n",
        "* Image: 2**x**3 (or 2**x**4) dimensions of arrays for RGB (or ARGB)\n",
        "* Sound clip: One dimension of intensity versus time\n",
        "\n",
        "**Important**: No matter what the data are, the first step in making them analyzable will be to transform them into arrays of numbers. Efficient storage and manipulation of numerical arrays is absolutely fundamental to the process of doing data science.\n",
        "\n",
        "Reference: \n",
        "* https://jakevdp.github.io/PythonDataScienceHandbook\n",
        "* https://github.com/jakevdp/PythonDataScienceHandbook"
      ]
    },
    {
      "cell_type": "code",
      "metadata": {
        "colab": {
          "base_uri": "https://localhost:8080/",
          "height": 35
        },
        "id": "tuOaYN-x18Va",
        "outputId": "4a644bda-4631-4f4c-b58a-a0f4a5222515"
      },
      "source": [
        "import numpy\n",
        "numpy.__version__"
      ],
      "execution_count": 1,
      "outputs": [
        {
          "output_type": "execute_result",
          "data": {
            "application/vnd.google.colaboratory.intrinsic+json": {
              "type": "string"
            },
            "text/plain": [
              "'1.19.5'"
            ]
          },
          "metadata": {
            "tags": []
          },
          "execution_count": 1
        }
      ]
    },
    {
      "cell_type": "code",
      "metadata": {
        "colab": {
          "base_uri": "https://localhost:8080/",
          "height": 35
        },
        "id": "QineyuQ33-HX",
        "outputId": "d7b2a3e6-9031-41b4-ab75-d2a3403bfce8"
      },
      "source": [
        "# most people in the SciPy/PyData world will import NumPy using \"np\"\n",
        "import numpy as np\n",
        "np.__version__"
      ],
      "execution_count": 3,
      "outputs": [
        {
          "output_type": "execute_result",
          "data": {
            "application/vnd.google.colaboratory.intrinsic+json": {
              "type": "string"
            },
            "text/plain": [
              "'1.19.5'"
            ]
          },
          "metadata": {
            "tags": []
          },
          "execution_count": 3
        }
      ]
    },
    {
      "cell_type": "code",
      "metadata": {
        "id": "FJ1CxoXpqT60"
      },
      "source": [
        "# getting help on Numpy, just use \"np?\"\n",
        "np?"
      ],
      "execution_count": 3,
      "outputs": []
    },
    {
      "cell_type": "markdown",
      "metadata": {
        "id": "T-huq3XNqpBX"
      },
      "source": [
        "## Understanding Data Types in Python\n",
        "\n",
        "This section outlines and contrasts how arrays of data are handled in the Python language itself, and how NumPy improves on this. \n"
      ]
    },
    {
      "cell_type": "code",
      "metadata": {
        "colab": {
          "base_uri": "https://localhost:8080/"
        },
        "id": "GGIlqwPHqeOG",
        "outputId": "b6dbe24d-1655-40f8-c48c-a563d293549e"
      },
      "source": [
        "# beauty of \"dynamic typed\" programming language\n",
        "result = 0\n",
        "for i in range(100):\n",
        "  result += i\n",
        "\n",
        "print(result)\n",
        "\n",
        "# type can be used on the fly, or change\n",
        "x = 0\n",
        "x = 'four'"
      ],
      "execution_count": 5,
      "outputs": [
        {
          "output_type": "stream",
          "text": [
            "4950\n"
          ],
          "name": "stdout"
        }
      ]
    },
    {
      "cell_type": "markdown",
      "metadata": {
        "id": "-mSBH75Vrzp_"
      },
      "source": [
        "### A Python Integer Is More Than Just an Integer\n",
        "\n",
        "The standard Python implementation is written in C. This means that every Python object is simply a cleverly disguised C structure, which contains not only its value, but other information as well. \n",
        "\n",
        "This means that there is some overhead in storing an integer in Python as compared to an integer in a compiled language like C."
      ]
    },
    {
      "cell_type": "markdown",
      "metadata": {
        "id": "F5DKPuAFstXd"
      },
      "source": [
        "### A Python List Is More Than Just a List\n",
        "\n",
        "Let’s consider now what happens when we use a Python data structure that holds many Python objects. The standard mutable multielement container in Python is the list."
      ]
    },
    {
      "cell_type": "code",
      "metadata": {
        "colab": {
          "base_uri": "https://localhost:8080/"
        },
        "id": "RAx-qCXSrXFO",
        "outputId": "d778a107-c095-4c48-a0f3-98a36bc9dfa3"
      },
      "source": [
        "L = list(range(100))\n",
        "print(L)"
      ],
      "execution_count": 7,
      "outputs": [
        {
          "output_type": "stream",
          "text": [
            "[0, 1, 2, 3, 4, 5, 6, 7, 8, 9, 10, 11, 12, 13, 14, 15, 16, 17, 18, 19, 20, 21, 22, 23, 24, 25, 26, 27, 28, 29, 30, 31, 32, 33, 34, 35, 36, 37, 38, 39, 40, 41, 42, 43, 44, 45, 46, 47, 48, 49, 50, 51, 52, 53, 54, 55, 56, 57, 58, 59, 60, 61, 62, 63, 64, 65, 66, 67, 68, 69, 70, 71, 72, 73, 74, 75, 76, 77, 78, 79, 80, 81, 82, 83, 84, 85, 86, 87, 88, 89, 90, 91, 92, 93, 94, 95, 96, 97, 98, 99]\n"
          ],
          "name": "stdout"
        }
      ]
    },
    {
      "cell_type": "code",
      "metadata": {
        "colab": {
          "base_uri": "https://localhost:8080/"
        },
        "id": "eemDd752s84t",
        "outputId": "d576be13-5aed-4aec-a4b4-759d74302f77"
      },
      "source": [
        "print(type(L))"
      ],
      "execution_count": 8,
      "outputs": [
        {
          "output_type": "stream",
          "text": [
            "<class 'list'>\n"
          ],
          "name": "stdout"
        }
      ]
    },
    {
      "cell_type": "code",
      "metadata": {
        "colab": {
          "base_uri": "https://localhost:8080/"
        },
        "id": "cbeR1opRtC54",
        "outputId": "fe6a7845-061f-4da2-a20f-d7f3ab3443a5"
      },
      "source": [
        "print(type(L[0]))"
      ],
      "execution_count": 10,
      "outputs": [
        {
          "output_type": "stream",
          "text": [
            "<class 'int'>\n"
          ],
          "name": "stdout"
        }
      ]
    },
    {
      "cell_type": "code",
      "metadata": {
        "colab": {
          "base_uri": "https://localhost:8080/"
        },
        "id": "ci47yv7ttGrP",
        "outputId": "6c6b88bb-ad37-4d70-ce2f-a21e3b3bced4"
      },
      "source": [
        "L2 = [str(c) for c in L]\n",
        "print(L2)\n",
        "print(type(L2[0]))"
      ],
      "execution_count": 11,
      "outputs": [
        {
          "output_type": "stream",
          "text": [
            "['0', '1', '2', '3', '4', '5', '6', '7', '8', '9', '10', '11', '12', '13', '14', '15', '16', '17', '18', '19', '20', '21', '22', '23', '24', '25', '26', '27', '28', '29', '30', '31', '32', '33', '34', '35', '36', '37', '38', '39', '40', '41', '42', '43', '44', '45', '46', '47', '48', '49', '50', '51', '52', '53', '54', '55', '56', '57', '58', '59', '60', '61', '62', '63', '64', '65', '66', '67', '68', '69', '70', '71', '72', '73', '74', '75', '76', '77', '78', '79', '80', '81', '82', '83', '84', '85', '86', '87', '88', '89', '90', '91', '92', '93', '94', '95', '96', '97', '98', '99']\n",
            "<class 'str'>\n"
          ],
          "name": "stdout"
        }
      ]
    },
    {
      "cell_type": "code",
      "metadata": {
        "colab": {
          "base_uri": "https://localhost:8080/"
        },
        "id": "th3nmXhRtXXc",
        "outputId": "c2bc84ba-2403-4b95-da9b-81658a6c564b"
      },
      "source": [
        "# Because of Python’s dynamic typing, we can even create heterogeneous lists\n",
        "L3 = [True, '2', 3.0, 4]\n",
        "L3_type = [type(item) for item in L3]\n",
        "print(L3)\n",
        "print(L3_type)\n"
      ],
      "execution_count": 12,
      "outputs": [
        {
          "output_type": "stream",
          "text": [
            "[True, '2', 3.0, 4]\n",
            "[<class 'bool'>, <class 'str'>, <class 'float'>, <class 'int'>]\n"
          ],
          "name": "stdout"
        }
      ]
    },
    {
      "cell_type": "markdown",
      "metadata": {
        "id": "qav-n5RDt-ew"
      },
      "source": [
        "But this flexibility comes at a cost: to allow these flexible types, each item in the list must contain its own type info, reference count, and other information—that is, each item is a complete Python object.\n",
        "\n",
        "So it can be much more efficient to store data in a fixed-type array.\n",
        "\n",
        "NumPy list is a *fixed-type* array, much efficient."
      ]
    },
    {
      "cell_type": "markdown",
      "metadata": {
        "id": "Q4Zt1q_5u8Ic"
      },
      "source": [
        "### Fixed-Type Arrays in Python\n",
        "\n",
        "Python offers several different options for storing data in efficient, fixed-type data buffers. The built-in array module (available since Python 3.3) can be used to create dense arrays of a uniform type:"
      ]
    },
    {
      "cell_type": "code",
      "metadata": {
        "colab": {
          "base_uri": "https://localhost:8080/"
        },
        "id": "u9zDQXpgts42",
        "outputId": "91a9f96e-193d-48eb-8e0d-6280c55ed2f0"
      },
      "source": [
        "import array\n",
        "\n",
        "L = list(range(10))\n",
        "A = array.array('i', L) # 'i' is a type code indicating the contents are integers\n",
        "\n",
        "print(A)"
      ],
      "execution_count": 14,
      "outputs": [
        {
          "output_type": "stream",
          "text": [
            "array('i', [0, 1, 2, 3, 4, 5, 6, 7, 8, 9])\n"
          ],
          "name": "stdout"
        }
      ]
    },
    {
      "cell_type": "markdown",
      "metadata": {
        "id": "7QVZvYS8vsB7"
      },
      "source": [
        "Much more useful, however, is the ndarray object of the NumPy package. While Python’s array object provides efficient storage of array-based data, NumPy adds to this efficient operations on that data. "
      ]
    },
    {
      "cell_type": "markdown",
      "metadata": {
        "id": "VNKtKJr2vvcQ"
      },
      "source": [
        "### Creating Arrays from Python Lists\n",
        "\n",
        "Start with the standard NumPy import, under the alias np:\n"
      ]
    },
    {
      "cell_type": "code",
      "metadata": {
        "colab": {
          "base_uri": "https://localhost:8080/"
        },
        "id": "4RxbVMnrvO2B",
        "outputId": "39debba9-f895-4cfe-81b3-36f63521a9a6"
      },
      "source": [
        "import numpy as np\n",
        "\n",
        "# integer array\n",
        "np.array([1, 4, 2, 5, 3])"
      ],
      "execution_count": 17,
      "outputs": [
        {
          "output_type": "execute_result",
          "data": {
            "text/plain": [
              "array([1, 4, 2, 5, 3])"
            ]
          },
          "metadata": {
            "tags": []
          },
          "execution_count": 17
        }
      ]
    },
    {
      "cell_type": "markdown",
      "metadata": {
        "id": "7drhobGXwNMh"
      },
      "source": [
        "Remember that unlike Python lists, NumPy is constrained to arrays that all contain the same type. If types do not match, NumPy will **upcast** if possible (here, integers are upcast to floating point):"
      ]
    },
    {
      "cell_type": "code",
      "metadata": {
        "colab": {
          "base_uri": "https://localhost:8080/"
        },
        "id": "KucyXZmcwGKI",
        "outputId": "ace4ab13-d16a-4503-db02-ad2033da2d6e"
      },
      "source": [
        "np.array([3.14, 4, 2, 3])"
      ],
      "execution_count": 16,
      "outputs": [
        {
          "output_type": "execute_result",
          "data": {
            "text/plain": [
              "array([3.14, 4.  , 2.  , 3.  ])"
            ]
          },
          "metadata": {
            "tags": []
          },
          "execution_count": 16
        }
      ]
    },
    {
      "cell_type": "code",
      "metadata": {
        "colab": {
          "base_uri": "https://localhost:8080/"
        },
        "id": "kFngwjHQwSD-",
        "outputId": "b15b6a8d-0e1a-4281-a44b-283c87cf3980"
      },
      "source": [
        "# use explicity type in an array\n",
        "np.array([1, 2, 3, 4], dtype='float32')"
      ],
      "execution_count": 18,
      "outputs": [
        {
          "output_type": "execute_result",
          "data": {
            "text/plain": [
              "array([1., 2., 3., 4.], dtype=float32)"
            ]
          },
          "metadata": {
            "tags": []
          },
          "execution_count": 18
        }
      ]
    },
    {
      "cell_type": "markdown",
      "metadata": {
        "id": "Zt2DN1XnwvaR"
      },
      "source": [
        "Finally, unlike Python lists, NumPy arrays can explicitly be multidimensional; here’s one way of initializing a multidimensional array using a list of lists:"
      ]
    },
    {
      "cell_type": "code",
      "metadata": {
        "colab": {
          "base_uri": "https://localhost:8080/"
        },
        "id": "blEpY37WwoD0",
        "outputId": "d34fc6d3-edf3-42db-ce12-b7194b8527b2"
      },
      "source": [
        "# nested lists result in multi-dimensional arrays\n",
        "np.array([range(i, i + 6) for i in [2, 4, 6]])"
      ],
      "execution_count": 20,
      "outputs": [
        {
          "output_type": "execute_result",
          "data": {
            "text/plain": [
              "array([[ 2,  3,  4,  5,  6,  7],\n",
              "       [ 4,  5,  6,  7,  8,  9],\n",
              "       [ 6,  7,  8,  9, 10, 11]])"
            ]
          },
          "metadata": {
            "tags": []
          },
          "execution_count": 20
        }
      ]
    },
    {
      "cell_type": "markdown",
      "metadata": {
        "id": "ApDKaKBmxRqH"
      },
      "source": [
        "### Creating Arrays from Scratch\n",
        "\n",
        "Especially for larger arrays, it is more efficient to create arrays from scratch using routines built into NumPy."
      ]
    },
    {
      "cell_type": "code",
      "metadata": {
        "colab": {
          "base_uri": "https://localhost:8080/"
        },
        "id": "cfwHcwwYw9w-",
        "outputId": "3136d913-8bc4-4cd1-cfee-d6ad1e4c263c"
      },
      "source": [
        "# create a length-10 integer array filled with zeros\n",
        "np.zeros(10, dtype=int)"
      ],
      "execution_count": 21,
      "outputs": [
        {
          "output_type": "execute_result",
          "data": {
            "text/plain": [
              "array([0, 0, 0, 0, 0, 0, 0, 0, 0, 0])"
            ]
          },
          "metadata": {
            "tags": []
          },
          "execution_count": 21
        }
      ]
    },
    {
      "cell_type": "code",
      "metadata": {
        "colab": {
          "base_uri": "https://localhost:8080/"
        },
        "id": "FTdkuAw8xhV9",
        "outputId": "d4bfab72-6e8d-4262-e23a-df78cd01f3e4"
      },
      "source": [
        "# create a 3x5 floating-point array filled with ones\n",
        "np.ones((3, 5), dtype=float)"
      ],
      "execution_count": 22,
      "outputs": [
        {
          "output_type": "execute_result",
          "data": {
            "text/plain": [
              "array([[1., 1., 1., 1., 1.],\n",
              "       [1., 1., 1., 1., 1.],\n",
              "       [1., 1., 1., 1., 1.]])"
            ]
          },
          "metadata": {
            "tags": []
          },
          "execution_count": 22
        }
      ]
    },
    {
      "cell_type": "code",
      "metadata": {
        "colab": {
          "base_uri": "https://localhost:8080/"
        },
        "id": "8KMn9rNOxwIk",
        "outputId": "8957f9e2-9170-411c-d360-3d840ddf67b0"
      },
      "source": [
        "# create a 3x5 array filled with 3.14\n",
        "np.full((3, 5), 3.14)"
      ],
      "execution_count": 23,
      "outputs": [
        {
          "output_type": "execute_result",
          "data": {
            "text/plain": [
              "array([[3.14, 3.14, 3.14, 3.14, 3.14],\n",
              "       [3.14, 3.14, 3.14, 3.14, 3.14],\n",
              "       [3.14, 3.14, 3.14, 3.14, 3.14]])"
            ]
          },
          "metadata": {
            "tags": []
          },
          "execution_count": 23
        }
      ]
    },
    {
      "cell_type": "code",
      "metadata": {
        "colab": {
          "base_uri": "https://localhost:8080/"
        },
        "id": "Kc-pAuUUxuPo",
        "outputId": "babdc256-3b04-49a7-c1c6-b827f964283b"
      },
      "source": [
        "# create an array filled with a linear sequence\n",
        "# starting at 0, ending at 20, stepping by 2\n",
        "# (this is similar to the built-in range() function)\n",
        "np.arange(0, 20, 2)"
      ],
      "execution_count": 24,
      "outputs": [
        {
          "output_type": "execute_result",
          "data": {
            "text/plain": [
              "array([ 0,  2,  4,  6,  8, 10, 12, 14, 16, 18])"
            ]
          },
          "metadata": {
            "tags": []
          },
          "execution_count": 24
        }
      ]
    },
    {
      "cell_type": "code",
      "metadata": {
        "colab": {
          "base_uri": "https://localhost:8080/"
        },
        "id": "Gz7suDk-yNRp",
        "outputId": "b4dff2e9-9feb-4608-b172-ac1f86ce8971"
      },
      "source": [
        "# create an array of five values evenly spaced between 0 and 1\n",
        "np.linspace(0, 1, 5)"
      ],
      "execution_count": 25,
      "outputs": [
        {
          "output_type": "execute_result",
          "data": {
            "text/plain": [
              "array([0.  , 0.25, 0.5 , 0.75, 1.  ])"
            ]
          },
          "metadata": {
            "tags": []
          },
          "execution_count": 25
        }
      ]
    },
    {
      "cell_type": "code",
      "metadata": {
        "colab": {
          "base_uri": "https://localhost:8080/"
        },
        "id": "1iid4Dv2yY5N",
        "outputId": "79475dc6-04c4-4ae2-e73b-14fdf5f265d0"
      },
      "source": [
        "# create a 3x3 array of uniformly distributed\n",
        "# random values between 0 and 1\n",
        "np.random.random((3, 3))"
      ],
      "execution_count": 26,
      "outputs": [
        {
          "output_type": "execute_result",
          "data": {
            "text/plain": [
              "array([[0.75901071, 0.46595166, 0.9013545 ],\n",
              "       [0.47276073, 0.4059979 , 0.6234351 ],\n",
              "       [0.18812559, 0.09650019, 0.74786742]])"
            ]
          },
          "metadata": {
            "tags": []
          },
          "execution_count": 26
        }
      ]
    },
    {
      "cell_type": "code",
      "metadata": {
        "colab": {
          "base_uri": "https://localhost:8080/"
        },
        "id": "zI0m-LliylU-",
        "outputId": "8ceeefc5-9934-42ea-d66f-d754208b27a3"
      },
      "source": [
        "# create a 3x3 array of normally distributed random values\n",
        "# with mean 0 and standard deviation 1\n",
        "np.random.normal(0, 1, (3, 3))"
      ],
      "execution_count": 27,
      "outputs": [
        {
          "output_type": "execute_result",
          "data": {
            "text/plain": [
              "array([[-0.20917477, -0.55849793,  0.71047601],\n",
              "       [ 0.61411326, -0.80282626, -1.5417945 ],\n",
              "       [ 0.87953122,  0.31011075,  1.1078033 ]])"
            ]
          },
          "metadata": {
            "tags": []
          },
          "execution_count": 27
        }
      ]
    },
    {
      "cell_type": "code",
      "metadata": {
        "colab": {
          "base_uri": "https://localhost:8080/"
        },
        "id": "qlUAn_wey3_E",
        "outputId": "023591f4-0202-456a-8232-7b7eaf8da150"
      },
      "source": [
        "np.random.normal(0, 10, (3, 3))"
      ],
      "execution_count": 28,
      "outputs": [
        {
          "output_type": "execute_result",
          "data": {
            "text/plain": [
              "array([[ 2.25598989, 18.76435839, -2.90220591],\n",
              "       [-3.74801385,  4.92189167, -1.58842967],\n",
              "       [ 5.71005728, -4.49953657, -8.86847028]])"
            ]
          },
          "metadata": {
            "tags": []
          },
          "execution_count": 28
        }
      ]
    },
    {
      "cell_type": "code",
      "metadata": {
        "colab": {
          "base_uri": "https://localhost:8080/"
        },
        "id": "x7c6w6r1zCwA",
        "outputId": "cb17680d-0ab7-4a4b-8edd-34740f463d91"
      },
      "source": [
        "np.random.normal(0.25, 1, (3, 3))"
      ],
      "execution_count": 29,
      "outputs": [
        {
          "output_type": "execute_result",
          "data": {
            "text/plain": [
              "array([[-0.6925484 , -1.00791755,  0.27267914],\n",
              "       [ 0.21651026, -2.38423098, -0.41996225],\n",
              "       [-0.53815537, -0.70858447, -1.00990208]])"
            ]
          },
          "metadata": {
            "tags": []
          },
          "execution_count": 29
        }
      ]
    },
    {
      "cell_type": "code",
      "metadata": {
        "colab": {
          "base_uri": "https://localhost:8080/"
        },
        "id": "cys8qW2dzGAq",
        "outputId": "40ea491b-102b-406c-9fa9-06c6b80f1d0c"
      },
      "source": [
        "# create a 3x3 array of random integers in the interval [0, 10)\n",
        "np.random.randint(0, 10, (3, 3))"
      ],
      "execution_count": 32,
      "outputs": [
        {
          "output_type": "execute_result",
          "data": {
            "text/plain": [
              "array([[0, 1, 2],\n",
              "       [3, 8, 5],\n",
              "       [4, 2, 1]])"
            ]
          },
          "metadata": {
            "tags": []
          },
          "execution_count": 32
        }
      ]
    },
    {
      "cell_type": "code",
      "metadata": {
        "colab": {
          "base_uri": "https://localhost:8080/"
        },
        "id": "M6fAcbF5zPsJ",
        "outputId": "d9f750bf-b4f9-4287-be67-ad04bef6e7ed"
      },
      "source": [
        "# create a 3x3 identity matrix\n",
        "np.eye(3)"
      ],
      "execution_count": 33,
      "outputs": [
        {
          "output_type": "execute_result",
          "data": {
            "text/plain": [
              "array([[1., 0., 0.],\n",
              "       [0., 1., 0.],\n",
              "       [0., 0., 1.]])"
            ]
          },
          "metadata": {
            "tags": []
          },
          "execution_count": 33
        }
      ]
    },
    {
      "cell_type": "code",
      "metadata": {
        "colab": {
          "base_uri": "https://localhost:8080/"
        },
        "id": "jBoa3uPAzb1J",
        "outputId": "00b3836b-4b8c-4de6-92aa-024abd3ea33a"
      },
      "source": [
        "# create an uninitialized array of three integers\n",
        "# the values will be whatever happens to already exist at that\n",
        "# memory location\n",
        "np.empty(3)"
      ],
      "execution_count": 34,
      "outputs": [
        {
          "output_type": "execute_result",
          "data": {
            "text/plain": [
              "array([1., 1., 1.])"
            ]
          },
          "metadata": {
            "tags": []
          },
          "execution_count": 34
        }
      ]
    },
    {
      "cell_type": "markdown",
      "metadata": {
        "id": "kkN0iYEHzreI"
      },
      "source": [
        "### NumPy Standard Data Types\n",
        "\n",
        "NumPy arrays contain values of a single type, so it is important to have detailed knowledge of those types and their limitations. Because NumPy is built in C, the types will be familiar to users of C, Fortran, and other related languages.\n",
        "\n",
        "Reference: \n",
        "* https://numpy.org/devdocs/user/basics.types.html\n",
        "* https://jakevdp.github.io/PythonDataScienceHandbook/02.01-understanding-data-types.html\n"
      ]
    },
    {
      "cell_type": "code",
      "metadata": {
        "colab": {
          "base_uri": "https://localhost:8080/"
        },
        "id": "gnzGWtFWzmp6",
        "outputId": "e4dc8fac-a48c-4628-9f15-7c4c712c9b69"
      },
      "source": [
        "# specify them using a string:\n",
        "np.zeros(10, dtype='int16')"
      ],
      "execution_count": 35,
      "outputs": [
        {
          "output_type": "execute_result",
          "data": {
            "text/plain": [
              "array([0, 0, 0, 0, 0, 0, 0, 0, 0, 0], dtype=int16)"
            ]
          },
          "metadata": {
            "tags": []
          },
          "execution_count": 35
        }
      ]
    },
    {
      "cell_type": "code",
      "metadata": {
        "colab": {
          "base_uri": "https://localhost:8080/"
        },
        "id": "I29sX7Sp0BZr",
        "outputId": "ba5e4d13-04bf-4bb3-89d5-830dd75e062b"
      },
      "source": [
        "# Or using the associated NumPy object\n",
        "np.zeros(10, dtype=np.int16)"
      ],
      "execution_count": 36,
      "outputs": [
        {
          "output_type": "execute_result",
          "data": {
            "text/plain": [
              "array([0, 0, 0, 0, 0, 0, 0, 0, 0, 0], dtype=int16)"
            ]
          },
          "metadata": {
            "tags": []
          },
          "execution_count": 36
        }
      ]
    },
    {
      "cell_type": "markdown",
      "metadata": {
        "id": "Kj0I8L0T1aHE"
      },
      "source": [
        "## The Basics of NumPy Arrays\n",
        "\n",
        "Data manipulation in Python is nearly synonymous with NumPy array manipulation: even newer tools like Pandas are built around the NumPy array. \n",
        "\n",
        "*Numpy arrays comprise the building blocks of many other examples used throughout the book.*"
      ]
    },
    {
      "cell_type": "markdown",
      "metadata": {
        "id": "-_wVlvFu16Ot"
      },
      "source": [
        "### NumPy Array Attributes\n",
        "\n",
        "Let start by defining three random arrays: a one-dimensional, two-dimensional, and three-dimensional array. And *seed* value will set to **0**."
      ]
    },
    {
      "cell_type": "code",
      "metadata": {
        "colab": {
          "base_uri": "https://localhost:8080/"
        },
        "id": "cKLiEoBp0LtT",
        "outputId": "22e2532f-5356-4716-e977-e6d539e1ad93"
      },
      "source": [
        "import numpy as np\n",
        "\n",
        "# seed for reproducibility\n",
        "np.random.seed(0)\n",
        "\n",
        "# one-dimentional array\n",
        "x1 = np.random.randint(10, size=6)\n",
        "print(x1)"
      ],
      "execution_count": 3,
      "outputs": [
        {
          "output_type": "stream",
          "text": [
            "[5 0 3 3 7 9]\n"
          ],
          "name": "stdout"
        }
      ]
    },
    {
      "cell_type": "code",
      "metadata": {
        "colab": {
          "base_uri": "https://localhost:8080/"
        },
        "id": "YSLx2Ykb2s09",
        "outputId": "18fe71fc-98b8-49c1-8ba9-736365f105ed"
      },
      "source": [
        "# two-dimensional array\n",
        "x2 = np.random.randint(10, size=(3, 4))\n",
        "print(x2)"
      ],
      "execution_count": 4,
      "outputs": [
        {
          "output_type": "stream",
          "text": [
            "[[3 5 2 4]\n",
            " [7 6 8 8]\n",
            " [1 6 7 7]]\n"
          ],
          "name": "stdout"
        }
      ]
    },
    {
      "cell_type": "code",
      "metadata": {
        "colab": {
          "base_uri": "https://localhost:8080/"
        },
        "id": "jeF-kSLk24Yw",
        "outputId": "7f064e6b-9419-4588-c848-fd9429fede9e"
      },
      "source": [
        "# three-dimensional array\n",
        "x3 = np.random.randint(10, size=(3, 4, 5))\n",
        "print(x3)"
      ],
      "execution_count": 5,
      "outputs": [
        {
          "output_type": "stream",
          "text": [
            "[[[8 1 5 9 8]\n",
            "  [9 4 3 0 3]\n",
            "  [5 0 2 3 8]\n",
            "  [1 3 3 3 7]]\n",
            "\n",
            " [[0 1 9 9 0]\n",
            "  [4 7 3 2 7]\n",
            "  [2 0 0 4 5]\n",
            "  [5 6 8 4 1]]\n",
            "\n",
            " [[4 9 8 1 1]\n",
            "  [7 9 9 3 6]\n",
            "  [7 2 0 3 5]\n",
            "  [9 4 4 6 4]]]\n"
          ],
          "name": "stdout"
        }
      ]
    },
    {
      "cell_type": "code",
      "metadata": {
        "colab": {
          "base_uri": "https://localhost:8080/"
        },
        "id": "6XSH7jdJ35zZ",
        "outputId": "4f9b0c5a-a9f7-4bb6-810c-0f5047dace15"
      },
      "source": [
        "print(\"x3 ndim: \", x3.ndim)\n",
        "print(\"x3 shape:\", x3.shape)\n",
        "print(\"x3 size: \", x3.size)\n",
        "print(\"dtype:\", x3.dtype)\n",
        "print(\"itemsize:\", x3.itemsize, \"bytes\") # itemsize, which lists the size (in bytes) of each array element\n",
        "print(\"nbytes:\", x3.nbytes, \"bytes\") # nbytes, which lists the total size (in bytes) of the array\n",
        "\n",
        "# nbytes is equal to itemsize times size"
      ],
      "execution_count": 6,
      "outputs": [
        {
          "output_type": "stream",
          "text": [
            "x3 ndim:  3\n",
            "x3 shape: (3, 4, 5)\n",
            "x3 size:  60\n",
            "dtype: int64\n",
            "itemsize: 8 bytes\n",
            "nbytes: 480 bytes\n"
          ],
          "name": "stdout"
        }
      ]
    },
    {
      "cell_type": "code",
      "metadata": {
        "colab": {
          "base_uri": "https://localhost:8080/"
        },
        "id": "ffmJLtaM3Cy0",
        "outputId": "7cc1c3f5-89c2-401b-9891-535eb0a68834"
      },
      "source": [
        "# four-dimensional array\n",
        "x4 = np.random.randint(10, size=(2, 3, 4, 5))\n",
        "print(x4)"
      ],
      "execution_count": 7,
      "outputs": [
        {
          "output_type": "stream",
          "text": [
            "[[[[4 3 4 4 8]\n",
            "   [4 3 7 5 5]\n",
            "   [0 1 5 9 3]\n",
            "   [0 5 0 1 2]]\n",
            "\n",
            "  [[4 2 0 3 2]\n",
            "   [0 7 5 9 0]\n",
            "   [2 7 2 9 2]\n",
            "   [3 3 2 3 4]]\n",
            "\n",
            "  [[1 2 9 1 4]\n",
            "   [6 8 2 3 0]\n",
            "   [0 6 0 6 3]\n",
            "   [3 8 8 8 2]]]\n",
            "\n",
            "\n",
            " [[[3 2 0 8 8]\n",
            "   [3 8 2 8 4]\n",
            "   [3 0 4 3 6]\n",
            "   [9 8 0 8 5]]\n",
            "\n",
            "  [[9 0 9 6 5]\n",
            "   [3 1 8 0 4]\n",
            "   [9 6 5 7 8]\n",
            "   [8 9 2 8 6]]\n",
            "\n",
            "  [[6 9 1 6 8]\n",
            "   [8 3 2 3 6]\n",
            "   [3 6 5 7 0]\n",
            "   [8 4 6 5 8]]]]\n"
          ],
          "name": "stdout"
        }
      ]
    },
    {
      "cell_type": "code",
      "metadata": {
        "colab": {
          "base_uri": "https://localhost:8080/"
        },
        "id": "qQP7d5Jx3ODN",
        "outputId": "605da158-aff1-42c6-8b61-5fcdb86dc82f"
      },
      "source": [
        "print(\"x4 ndim: \", x4.ndim)\n",
        "print(\"x4 shape:\", x4.shape)\n",
        "print(\"x4 size: \", x4.size)\n",
        "print(\"dtype:\", x4.dtype)\n",
        "print(\"itemsize:\", x4.itemsize, \"bytes\") # itemsize, which lists the size (in bytes) of each array element\n",
        "print(\"nbytes:\", x4.nbytes, \"bytes\") # nbytes, which lists the total size (in bytes) of the array\n",
        "\n",
        "# nbytes is equal to itemsize times size"
      ],
      "execution_count": 8,
      "outputs": [
        {
          "output_type": "stream",
          "text": [
            "x4 ndim:  4\n",
            "x4 shape: (2, 3, 4, 5)\n",
            "x4 size:  120\n",
            "dtype: int64\n",
            "itemsize: 8 bytes\n",
            "nbytes: 960 bytes\n"
          ],
          "name": "stdout"
        }
      ]
    },
    {
      "cell_type": "markdown",
      "metadata": {
        "id": "_AYk8B3h47eg"
      },
      "source": [
        "### Array Indexing: Accessing Single Elements\n",
        "\n",
        "If you are familiar with Python’s standard list indexing, indexing in NumPy will feel quite familiar. In a one-dimensional array, you can access the ith value (counting from zero) by specifying the desired index in square brackets, just as with Python lists\n",
        "\n"
      ]
    },
    {
      "cell_type": "code",
      "metadata": {
        "colab": {
          "base_uri": "https://localhost:8080/"
        },
        "id": "Zrjq9O2D3ibN",
        "outputId": "cab12117-af20-4519-99ec-be1bca9da520"
      },
      "source": [
        "x1"
      ],
      "execution_count": 9,
      "outputs": [
        {
          "output_type": "execute_result",
          "data": {
            "text/plain": [
              "array([5, 0, 3, 3, 7, 9])"
            ]
          },
          "metadata": {
            "tags": []
          },
          "execution_count": 9
        }
      ]
    },
    {
      "cell_type": "code",
      "metadata": {
        "colab": {
          "base_uri": "https://localhost:8080/"
        },
        "id": "rbXVSbq-5E4I",
        "outputId": "7483f239-41e8-412b-e3fd-17a3ebf53e82"
      },
      "source": [
        "x1[0]"
      ],
      "execution_count": 62,
      "outputs": [
        {
          "output_type": "execute_result",
          "data": {
            "text/plain": [
              "5"
            ]
          },
          "metadata": {
            "tags": []
          },
          "execution_count": 62
        }
      ]
    },
    {
      "cell_type": "code",
      "metadata": {
        "colab": {
          "base_uri": "https://localhost:8080/"
        },
        "id": "tr85Do8M5Gn8",
        "outputId": "30f7fbff-1e2b-498a-8b43-a726d342e2bb"
      },
      "source": [
        "x1[4]"
      ],
      "execution_count": 63,
      "outputs": [
        {
          "output_type": "execute_result",
          "data": {
            "text/plain": [
              "7"
            ]
          },
          "metadata": {
            "tags": []
          },
          "execution_count": 63
        }
      ]
    },
    {
      "cell_type": "code",
      "metadata": {
        "colab": {
          "base_uri": "https://localhost:8080/"
        },
        "id": "msybF6pY5I1c",
        "outputId": "9533db8a-cdba-4fe8-8296-12b310d0d966"
      },
      "source": [
        "# To index from the end of the array, you can use negative indices\n",
        "x1[-1]"
      ],
      "execution_count": 64,
      "outputs": [
        {
          "output_type": "execute_result",
          "data": {
            "text/plain": [
              "9"
            ]
          },
          "metadata": {
            "tags": []
          },
          "execution_count": 64
        }
      ]
    },
    {
      "cell_type": "code",
      "metadata": {
        "colab": {
          "base_uri": "https://localhost:8080/"
        },
        "id": "R-tviFVP5Paz",
        "outputId": "e7ee090b-63ec-44f6-d4f3-af4c495d2d27"
      },
      "source": [
        "x1[-2]"
      ],
      "execution_count": 65,
      "outputs": [
        {
          "output_type": "execute_result",
          "data": {
            "text/plain": [
              "7"
            ]
          },
          "metadata": {
            "tags": []
          },
          "execution_count": 65
        }
      ]
    },
    {
      "cell_type": "code",
      "metadata": {
        "colab": {
          "base_uri": "https://localhost:8080/"
        },
        "id": "vSQsDtB15TyJ",
        "outputId": "34743151-0a94-4087-ada4-4773c155ccc0"
      },
      "source": [
        "# In a multidimensional array, you access items using a comma-separated tuple of indices\n",
        "x2"
      ],
      "execution_count": 66,
      "outputs": [
        {
          "output_type": "execute_result",
          "data": {
            "text/plain": [
              "array([[3, 5, 2, 4],\n",
              "       [7, 6, 8, 8],\n",
              "       [1, 6, 7, 7]])"
            ]
          },
          "metadata": {
            "tags": []
          },
          "execution_count": 66
        }
      ]
    },
    {
      "cell_type": "code",
      "metadata": {
        "colab": {
          "base_uri": "https://localhost:8080/"
        },
        "id": "ckzXxUBl5Yqh",
        "outputId": "894af8c5-9dee-4d7f-f97e-36088d08753d"
      },
      "source": [
        "x2[0,0]"
      ],
      "execution_count": 67,
      "outputs": [
        {
          "output_type": "execute_result",
          "data": {
            "text/plain": [
              "3"
            ]
          },
          "metadata": {
            "tags": []
          },
          "execution_count": 67
        }
      ]
    },
    {
      "cell_type": "code",
      "metadata": {
        "colab": {
          "base_uri": "https://localhost:8080/"
        },
        "id": "9kXxLzkk5bJm",
        "outputId": "b6dc1e8e-1d58-46b5-cbfa-1133594db935"
      },
      "source": [
        "x2[0][0]"
      ],
      "execution_count": 68,
      "outputs": [
        {
          "output_type": "execute_result",
          "data": {
            "text/plain": [
              "3"
            ]
          },
          "metadata": {
            "tags": []
          },
          "execution_count": 68
        }
      ]
    },
    {
      "cell_type": "code",
      "metadata": {
        "colab": {
          "base_uri": "https://localhost:8080/"
        },
        "id": "Sh4qpDnR5dsv",
        "outputId": "1ed2788f-a50e-406a-8fe4-50997f9f9362"
      },
      "source": [
        "x2[2, 0]"
      ],
      "execution_count": 69,
      "outputs": [
        {
          "output_type": "execute_result",
          "data": {
            "text/plain": [
              "1"
            ]
          },
          "metadata": {
            "tags": []
          },
          "execution_count": 69
        }
      ]
    },
    {
      "cell_type": "code",
      "metadata": {
        "colab": {
          "base_uri": "https://localhost:8080/"
        },
        "id": "UXrXcia85f98",
        "outputId": "2728738d-2efc-43c6-f62c-2066da0cb20c"
      },
      "source": [
        "x2[2][0]"
      ],
      "execution_count": 70,
      "outputs": [
        {
          "output_type": "execute_result",
          "data": {
            "text/plain": [
              "1"
            ]
          },
          "metadata": {
            "tags": []
          },
          "execution_count": 70
        }
      ]
    },
    {
      "cell_type": "code",
      "metadata": {
        "colab": {
          "base_uri": "https://localhost:8080/"
        },
        "id": "wCd_73JV5h7S",
        "outputId": "6dee2cde-0b21-4b92-c589-9e1c78867687"
      },
      "source": [
        "x2[2,-1]"
      ],
      "execution_count": 71,
      "outputs": [
        {
          "output_type": "execute_result",
          "data": {
            "text/plain": [
              "7"
            ]
          },
          "metadata": {
            "tags": []
          },
          "execution_count": 71
        }
      ]
    },
    {
      "cell_type": "code",
      "metadata": {
        "colab": {
          "base_uri": "https://localhost:8080/"
        },
        "id": "36loSmNa5lhv",
        "outputId": "449d5c1e-0493-4253-e2c8-2bbd1148bcfe"
      },
      "source": [
        "x2[2][-1]"
      ],
      "execution_count": 72,
      "outputs": [
        {
          "output_type": "execute_result",
          "data": {
            "text/plain": [
              "7"
            ]
          },
          "metadata": {
            "tags": []
          },
          "execution_count": 72
        }
      ]
    },
    {
      "cell_type": "code",
      "metadata": {
        "colab": {
          "base_uri": "https://localhost:8080/"
        },
        "id": "Sl49pIXR5ppF",
        "outputId": "ea611154-a026-4aa6-a5de-b8b8b4003bfe"
      },
      "source": [
        "# modify values using any of the above index notation\n",
        "x2[2,-1]"
      ],
      "execution_count": 73,
      "outputs": [
        {
          "output_type": "execute_result",
          "data": {
            "text/plain": [
              "7"
            ]
          },
          "metadata": {
            "tags": []
          },
          "execution_count": 73
        }
      ]
    },
    {
      "cell_type": "code",
      "metadata": {
        "id": "np9vVZGE5xLR"
      },
      "source": [
        "x2[2,-1] = 9"
      ],
      "execution_count": 74,
      "outputs": []
    },
    {
      "cell_type": "code",
      "metadata": {
        "colab": {
          "base_uri": "https://localhost:8080/"
        },
        "id": "G1tLyg695zQs",
        "outputId": "68ef1339-0041-4ad7-b18c-500500a05684"
      },
      "source": [
        "x2[2,-1]"
      ],
      "execution_count": 75,
      "outputs": [
        {
          "output_type": "execute_result",
          "data": {
            "text/plain": [
              "9"
            ]
          },
          "metadata": {
            "tags": []
          },
          "execution_count": 75
        }
      ]
    },
    {
      "cell_type": "code",
      "metadata": {
        "colab": {
          "base_uri": "https://localhost:8080/"
        },
        "id": "NDhTL2d051Jz",
        "outputId": "f1725c8e-364f-4b59-b790-4fc66922dd1b"
      },
      "source": [
        "x2"
      ],
      "execution_count": 76,
      "outputs": [
        {
          "output_type": "execute_result",
          "data": {
            "text/plain": [
              "array([[3, 5, 2, 4],\n",
              "       [7, 6, 8, 8],\n",
              "       [1, 6, 7, 9]])"
            ]
          },
          "metadata": {
            "tags": []
          },
          "execution_count": 76
        }
      ]
    },
    {
      "cell_type": "code",
      "metadata": {
        "id": "m8wUxipK52SZ"
      },
      "source": [
        "x1[0] = 3.14159  # this will be truncated!"
      ],
      "execution_count": 77,
      "outputs": []
    },
    {
      "cell_type": "code",
      "metadata": {
        "colab": {
          "base_uri": "https://localhost:8080/"
        },
        "id": "bPBAxSHC58IU",
        "outputId": "9ad2c842-3de7-42f9-bcfb-c17437ea5ae9"
      },
      "source": [
        "x1[0]"
      ],
      "execution_count": 78,
      "outputs": [
        {
          "output_type": "execute_result",
          "data": {
            "text/plain": [
              "3"
            ]
          },
          "metadata": {
            "tags": []
          },
          "execution_count": 78
        }
      ]
    },
    {
      "cell_type": "code",
      "metadata": {
        "id": "JL3ydzXQ59o0"
      },
      "source": [
        "x1[0] = 5.865  # this will be truncated!"
      ],
      "execution_count": 79,
      "outputs": []
    },
    {
      "cell_type": "code",
      "metadata": {
        "colab": {
          "base_uri": "https://localhost:8080/"
        },
        "id": "B2vz-T_N6Cp_",
        "outputId": "78892390-a2e4-477f-fe54-2c9d6d936f7d"
      },
      "source": [
        "x1[0]"
      ],
      "execution_count": 80,
      "outputs": [
        {
          "output_type": "execute_result",
          "data": {
            "text/plain": [
              "5"
            ]
          },
          "metadata": {
            "tags": []
          },
          "execution_count": 80
        }
      ]
    },
    {
      "cell_type": "markdown",
      "metadata": {
        "id": "tiqr7jODpRk6"
      },
      "source": [
        "### Array Slicing: Accessing Subarrays\n",
        "\n",
        "Just as we can use square brackets to access individual array elements, we can also use them to access subarrays with the slice notation, marked by the colon (:) character.\n",
        "\n",
        "**x[start:stop:step]**\n",
        "\n",
        "If any of these are unspecified, they default to the values \n",
        "- start=0\n",
        "- stop=size of dimension\n",
        "- step=1"
      ]
    },
    {
      "cell_type": "code",
      "metadata": {
        "colab": {
          "base_uri": "https://localhost:8080/"
        },
        "id": "EHadCrsH6D2o",
        "outputId": "4c2d1eda-6d0e-4bc9-c5eb-c36bfb309587"
      },
      "source": [
        "x1[1:5]"
      ],
      "execution_count": 11,
      "outputs": [
        {
          "output_type": "execute_result",
          "data": {
            "text/plain": [
              "array([0, 3, 3, 7])"
            ]
          },
          "metadata": {
            "tags": []
          },
          "execution_count": 11
        }
      ]
    },
    {
      "cell_type": "markdown",
      "metadata": {
        "id": "LDPvPw66qLjf"
      },
      "source": [
        "#### One-Dimensional Subarrays"
      ]
    },
    {
      "cell_type": "code",
      "metadata": {
        "colab": {
          "base_uri": "https://localhost:8080/"
        },
        "id": "sy1J34vkp-s_",
        "outputId": "e10e6363-74e1-49c8-fc3d-afabbf921b2b"
      },
      "source": [
        "x = np.arange(10)\n",
        "x"
      ],
      "execution_count": 12,
      "outputs": [
        {
          "output_type": "execute_result",
          "data": {
            "text/plain": [
              "array([0, 1, 2, 3, 4, 5, 6, 7, 8, 9])"
            ]
          },
          "metadata": {
            "tags": []
          },
          "execution_count": 12
        }
      ]
    },
    {
      "cell_type": "code",
      "metadata": {
        "colab": {
          "base_uri": "https://localhost:8080/"
        },
        "id": "D9wjR5epqs5I",
        "outputId": "7e40346d-8ee0-4e7a-9580-84585b551fcd"
      },
      "source": [
        "x[:5]"
      ],
      "execution_count": 13,
      "outputs": [
        {
          "output_type": "execute_result",
          "data": {
            "text/plain": [
              "array([0, 1, 2, 3, 4])"
            ]
          },
          "metadata": {
            "tags": []
          },
          "execution_count": 13
        }
      ]
    },
    {
      "cell_type": "code",
      "metadata": {
        "colab": {
          "base_uri": "https://localhost:8080/"
        },
        "id": "yJ0AJCchqv3L",
        "outputId": "a10f408b-0a45-4b55-d971-69b2d8669e93"
      },
      "source": [
        "x[5:]"
      ],
      "execution_count": 14,
      "outputs": [
        {
          "output_type": "execute_result",
          "data": {
            "text/plain": [
              "array([5, 6, 7, 8, 9])"
            ]
          },
          "metadata": {
            "tags": []
          },
          "execution_count": 14
        }
      ]
    },
    {
      "cell_type": "code",
      "metadata": {
        "colab": {
          "base_uri": "https://localhost:8080/"
        },
        "id": "8pneVo_eqx5-",
        "outputId": "659dd5e1-e6b8-4b2b-f6b2-1ffa50076a9b"
      },
      "source": [
        "x[4:7]"
      ],
      "execution_count": 15,
      "outputs": [
        {
          "output_type": "execute_result",
          "data": {
            "text/plain": [
              "array([4, 5, 6])"
            ]
          },
          "metadata": {
            "tags": []
          },
          "execution_count": 15
        }
      ]
    },
    {
      "cell_type": "code",
      "metadata": {
        "colab": {
          "base_uri": "https://localhost:8080/"
        },
        "id": "vbOBOUNrq1Gw",
        "outputId": "d74715df-9960-4f1b-f04e-e75a0a18da3f"
      },
      "source": [
        "x[::2]"
      ],
      "execution_count": 16,
      "outputs": [
        {
          "output_type": "execute_result",
          "data": {
            "text/plain": [
              "array([0, 2, 4, 6, 8])"
            ]
          },
          "metadata": {
            "tags": []
          },
          "execution_count": 16
        }
      ]
    },
    {
      "cell_type": "code",
      "metadata": {
        "colab": {
          "base_uri": "https://localhost:8080/"
        },
        "id": "B4NIOvlVq3gZ",
        "outputId": "bcd3d0ef-2033-4155-fc90-045a44c3be98"
      },
      "source": [
        "x[1::2]"
      ],
      "execution_count": 17,
      "outputs": [
        {
          "output_type": "execute_result",
          "data": {
            "text/plain": [
              "array([1, 3, 5, 7, 9])"
            ]
          },
          "metadata": {
            "tags": []
          },
          "execution_count": 17
        }
      ]
    },
    {
      "cell_type": "markdown",
      "metadata": {
        "id": "fRzbOaXAq_K2"
      },
      "source": [
        "A potentially confusing case is when the step value is negative. In this case, the defaults for start and stop are swapped. This becomes a convenient way to reverse an array:"
      ]
    },
    {
      "cell_type": "code",
      "metadata": {
        "colab": {
          "base_uri": "https://localhost:8080/"
        },
        "id": "j4w8-9iarEne",
        "outputId": "299c18a5-4bad-4279-cd3c-4513faeb2baf"
      },
      "source": [
        "x[::-1]"
      ],
      "execution_count": 18,
      "outputs": [
        {
          "output_type": "execute_result",
          "data": {
            "text/plain": [
              "array([9, 8, 7, 6, 5, 4, 3, 2, 1, 0])"
            ]
          },
          "metadata": {
            "tags": []
          },
          "execution_count": 18
        }
      ]
    },
    {
      "cell_type": "code",
      "metadata": {
        "colab": {
          "base_uri": "https://localhost:8080/"
        },
        "id": "TZTr0qiuq62z",
        "outputId": "db6419ec-ae24-4de1-fd2d-6cb2ff46100a"
      },
      "source": [
        "x[5::-2]"
      ],
      "execution_count": 19,
      "outputs": [
        {
          "output_type": "execute_result",
          "data": {
            "text/plain": [
              "array([5, 3, 1])"
            ]
          },
          "metadata": {
            "tags": []
          },
          "execution_count": 19
        }
      ]
    },
    {
      "cell_type": "markdown",
      "metadata": {
        "id": "cSgcUWUKre3c"
      },
      "source": [
        "#### Multi-Dimensional Subarrays"
      ]
    },
    {
      "cell_type": "code",
      "metadata": {
        "colab": {
          "base_uri": "https://localhost:8080/"
        },
        "id": "pE7buDhtrQa9",
        "outputId": "bbc92ccb-e63f-49f9-a006-2e64463f0269"
      },
      "source": [
        "x2"
      ],
      "execution_count": 20,
      "outputs": [
        {
          "output_type": "execute_result",
          "data": {
            "text/plain": [
              "array([[3, 5, 2, 4],\n",
              "       [7, 6, 8, 8],\n",
              "       [1, 6, 7, 7]])"
            ]
          },
          "metadata": {
            "tags": []
          },
          "execution_count": 20
        }
      ]
    },
    {
      "cell_type": "code",
      "metadata": {
        "colab": {
          "base_uri": "https://localhost:8080/"
        },
        "id": "49wcfTu-rleU",
        "outputId": "7455b75e-208b-4a8c-a4f1-511199726824"
      },
      "source": [
        "x2[:2, :3] # two rows, three columns"
      ],
      "execution_count": 21,
      "outputs": [
        {
          "output_type": "execute_result",
          "data": {
            "text/plain": [
              "array([[3, 5, 2],\n",
              "       [7, 6, 8]])"
            ]
          },
          "metadata": {
            "tags": []
          },
          "execution_count": 21
        }
      ]
    },
    {
      "cell_type": "code",
      "metadata": {
        "colab": {
          "base_uri": "https://localhost:8080/"
        },
        "id": "KPpzrQl_rsI4",
        "outputId": "f21bdfc9-1684-4125-9738-1803778e8683"
      },
      "source": [
        "x2[:3, ::2] # all rows, every other column"
      ],
      "execution_count": 22,
      "outputs": [
        {
          "output_type": "execute_result",
          "data": {
            "text/plain": [
              "array([[3, 2],\n",
              "       [7, 8],\n",
              "       [1, 7]])"
            ]
          },
          "metadata": {
            "tags": []
          },
          "execution_count": 22
        }
      ]
    },
    {
      "cell_type": "code",
      "metadata": {
        "colab": {
          "base_uri": "https://localhost:8080/"
        },
        "id": "RGPOq3QDsIfB",
        "outputId": "1e576fad-3c70-4ea0-f54f-72e2bc65be0a"
      },
      "source": [
        "x2[::-1, ::-1]"
      ],
      "execution_count": 23,
      "outputs": [
        {
          "output_type": "execute_result",
          "data": {
            "text/plain": [
              "array([[7, 7, 6, 1],\n",
              "       [8, 8, 6, 7],\n",
              "       [4, 2, 5, 3]])"
            ]
          },
          "metadata": {
            "tags": []
          },
          "execution_count": 23
        }
      ]
    },
    {
      "cell_type": "markdown",
      "metadata": {
        "id": "nrYc8jZhsUSc"
      },
      "source": [
        "#### Accessing array rows and columns\n",
        "\n",
        "One commonly needed routine is accessing single rows or columns of an array. You can do this by combining indexing and slicing, using an empty slice marked by a single colon (:)."
      ]
    },
    {
      "cell_type": "code",
      "metadata": {
        "colab": {
          "base_uri": "https://localhost:8080/"
        },
        "id": "nzlKaXaxsMep",
        "outputId": "b387827b-a85c-4e16-f4ae-0de17ce66289"
      },
      "source": [
        "x2[:, 0] # first column of x2"
      ],
      "execution_count": 24,
      "outputs": [
        {
          "output_type": "execute_result",
          "data": {
            "text/plain": [
              "array([3, 7, 1])"
            ]
          },
          "metadata": {
            "tags": []
          },
          "execution_count": 24
        }
      ]
    },
    {
      "cell_type": "code",
      "metadata": {
        "colab": {
          "base_uri": "https://localhost:8080/"
        },
        "id": "CixwoeIEsfN5",
        "outputId": "31a9d725-a7a4-45ee-e6c0-ac3bc28de246"
      },
      "source": [
        "x2[0, :] # first row of x2"
      ],
      "execution_count": 25,
      "outputs": [
        {
          "output_type": "execute_result",
          "data": {
            "text/plain": [
              "array([3, 5, 2, 4])"
            ]
          },
          "metadata": {
            "tags": []
          },
          "execution_count": 25
        }
      ]
    },
    {
      "cell_type": "code",
      "metadata": {
        "colab": {
          "base_uri": "https://localhost:8080/"
        },
        "id": "qh-z1m_Asoqo",
        "outputId": "39523820-525c-4fe5-e072-4c2bd02f4832"
      },
      "source": [
        "x2[0] # equivalent to x2[0, :]"
      ],
      "execution_count": 26,
      "outputs": [
        {
          "output_type": "execute_result",
          "data": {
            "text/plain": [
              "array([3, 5, 2, 4])"
            ]
          },
          "metadata": {
            "tags": []
          },
          "execution_count": 26
        }
      ]
    },
    {
      "cell_type": "markdown",
      "metadata": {
        "id": "jWP7sef_tYWr"
      },
      "source": [
        "#### Subarrays as No-Copy Views\n",
        "\n",
        "One important—and extremely useful—thing to know about array slices is that they return views rather than copies of the array data. This is one area in which NumPy array slicing differs from Python list slicing: in lists, slices will be copies."
      ]
    },
    {
      "cell_type": "code",
      "metadata": {
        "colab": {
          "base_uri": "https://localhost:8080/"
        },
        "id": "xKfU1by0s0kU",
        "outputId": "eba3ce1a-2093-40fc-fea0-7453f62f87c0"
      },
      "source": [
        "x2"
      ],
      "execution_count": 27,
      "outputs": [
        {
          "output_type": "execute_result",
          "data": {
            "text/plain": [
              "array([[3, 5, 2, 4],\n",
              "       [7, 6, 8, 8],\n",
              "       [1, 6, 7, 7]])"
            ]
          },
          "metadata": {
            "tags": []
          },
          "execution_count": 27
        }
      ]
    },
    {
      "cell_type": "code",
      "metadata": {
        "colab": {
          "base_uri": "https://localhost:8080/"
        },
        "id": "vYqD4D-ZtvWz",
        "outputId": "7d1f1386-2498-4711-d4bb-6d9b8068bb28"
      },
      "source": [
        "x2_sub = x2[:2, :2]\n",
        "x2_sub"
      ],
      "execution_count": 28,
      "outputs": [
        {
          "output_type": "execute_result",
          "data": {
            "text/plain": [
              "array([[3, 5],\n",
              "       [7, 6]])"
            ]
          },
          "metadata": {
            "tags": []
          },
          "execution_count": 28
        }
      ]
    },
    {
      "cell_type": "code",
      "metadata": {
        "colab": {
          "base_uri": "https://localhost:8080/"
        },
        "id": "FknfF_MAt22u",
        "outputId": "36845e4e-6c01-431a-e2d7-b5982c5c185b"
      },
      "source": [
        "# let's modify the value\n",
        "x2_sub[0, 0] = 99\n",
        "x2_sub"
      ],
      "execution_count": 30,
      "outputs": [
        {
          "output_type": "execute_result",
          "data": {
            "text/plain": [
              "array([[99,  5],\n",
              "       [ 7,  6]])"
            ]
          },
          "metadata": {
            "tags": []
          },
          "execution_count": 30
        }
      ]
    },
    {
      "cell_type": "code",
      "metadata": {
        "colab": {
          "base_uri": "https://localhost:8080/"
        },
        "id": "TY5ngL8nuF--",
        "outputId": "0e7bfc83-3dd2-4390-a09f-12f82bc1198b"
      },
      "source": [
        "x2"
      ],
      "execution_count": 31,
      "outputs": [
        {
          "output_type": "execute_result",
          "data": {
            "text/plain": [
              "array([[99,  5,  2,  4],\n",
              "       [ 7,  6,  8,  8],\n",
              "       [ 1,  6,  7,  7]])"
            ]
          },
          "metadata": {
            "tags": []
          },
          "execution_count": 31
        }
      ]
    },
    {
      "cell_type": "markdown",
      "metadata": {
        "id": "78jDkrfOuLDf"
      },
      "source": [
        "#### Creating Copies of Arrays\n",
        "\n",
        "Despite the nice features of array views, it is sometimes useful to instead explicitly copy the data within an array or a subarray."
      ]
    },
    {
      "cell_type": "code",
      "metadata": {
        "colab": {
          "base_uri": "https://localhost:8080/"
        },
        "id": "D_9rqEtKuIzr",
        "outputId": "8bc1cec4-692b-4e0a-e21c-48ae4936c91a"
      },
      "source": [
        "x2_sub_copy = x2[:2, :2].copy()\n",
        "x2_sub_copy"
      ],
      "execution_count": 32,
      "outputs": [
        {
          "output_type": "execute_result",
          "data": {
            "text/plain": [
              "array([[99,  5],\n",
              "       [ 7,  6]])"
            ]
          },
          "metadata": {
            "tags": []
          },
          "execution_count": 32
        }
      ]
    },
    {
      "cell_type": "code",
      "metadata": {
        "colab": {
          "base_uri": "https://localhost:8080/"
        },
        "id": "EzTZ7BhPucaT",
        "outputId": "07f4749e-9071-43fd-c08d-32d58b7ffe3e"
      },
      "source": [
        "x2_sub_copy[0, 0] = 42\n",
        "x2_sub_copy"
      ],
      "execution_count": 33,
      "outputs": [
        {
          "output_type": "execute_result",
          "data": {
            "text/plain": [
              "array([[42,  5],\n",
              "       [ 7,  6]])"
            ]
          },
          "metadata": {
            "tags": []
          },
          "execution_count": 33
        }
      ]
    },
    {
      "cell_type": "code",
      "metadata": {
        "colab": {
          "base_uri": "https://localhost:8080/"
        },
        "id": "kahWqCEDujk1",
        "outputId": "011bbd7e-2e39-4928-b34f-b2806501cff3"
      },
      "source": [
        "x2"
      ],
      "execution_count": 34,
      "outputs": [
        {
          "output_type": "execute_result",
          "data": {
            "text/plain": [
              "array([[99,  5,  2,  4],\n",
              "       [ 7,  6,  8,  8],\n",
              "       [ 1,  6,  7,  7]])"
            ]
          },
          "metadata": {
            "tags": []
          },
          "execution_count": 34
        }
      ]
    },
    {
      "cell_type": "markdown",
      "metadata": {
        "id": "5Yg04ByQuoIV"
      },
      "source": [
        "### Reshaping of Arrays\n",
        "\n",
        "Another useful type of operation is reshaping of arrays.\n",
        "\n",
        "*Note that for this to work, the size of the initial array must match the size of the reshaped array.*"
      ]
    },
    {
      "cell_type": "code",
      "metadata": {
        "colab": {
          "base_uri": "https://localhost:8080/"
        },
        "id": "siMBODudumBQ",
        "outputId": "a6691638-95c2-4efa-d341-de8987035558"
      },
      "source": [
        "grid = np.arange(1, 10).reshape((3, 3))\n",
        "grid"
      ],
      "execution_count": 35,
      "outputs": [
        {
          "output_type": "execute_result",
          "data": {
            "text/plain": [
              "array([[1, 2, 3],\n",
              "       [4, 5, 6],\n",
              "       [7, 8, 9]])"
            ]
          },
          "metadata": {
            "tags": []
          },
          "execution_count": 35
        }
      ]
    },
    {
      "cell_type": "markdown",
      "metadata": {
        "id": "fWYzyZ9tve-T"
      },
      "source": [
        "Another common reshaping pattern is the conversion of a one-dimensional array into a two-dimensional row or column matrix. You can do this with the **reshape** method, or more easily by making use of the **newaxis** keyword within a slice operation."
      ]
    },
    {
      "cell_type": "code",
      "metadata": {
        "colab": {
          "base_uri": "https://localhost:8080/"
        },
        "id": "RDi6c537u3kg",
        "outputId": "77cc32d3-abdd-4986-ede9-06ac88f9b3b1"
      },
      "source": [
        "x = np.array([1, 2, 3])\n",
        "\n",
        "# row vector via reshape\n",
        "x.reshape((1, 3)). # reshape((row_number, col_number))"
      ],
      "execution_count": 4,
      "outputs": [
        {
          "output_type": "execute_result",
          "data": {
            "text/plain": [
              "array([[1, 2, 3]])"
            ]
          },
          "metadata": {
            "tags": []
          },
          "execution_count": 4
        }
      ]
    },
    {
      "cell_type": "code",
      "metadata": {
        "colab": {
          "base_uri": "https://localhost:8080/"
        },
        "id": "xYXjhN--vxb7",
        "outputId": "df8f6d93-2e8d-4079-fd87-8b396d563065"
      },
      "source": [
        "# row vector via newaxis\n",
        "x[np.newaxis, :] # add a new \"row\" axis"
      ],
      "execution_count": 5,
      "outputs": [
        {
          "output_type": "execute_result",
          "data": {
            "text/plain": [
              "array([[1, 2, 3]])"
            ]
          },
          "metadata": {
            "tags": []
          },
          "execution_count": 5
        }
      ]
    },
    {
      "cell_type": "code",
      "metadata": {
        "colab": {
          "base_uri": "https://localhost:8080/"
        },
        "id": "7vtsVFEEv9CA",
        "outputId": "3f55b443-f405-44a0-b8dc-7b66b413e4ac"
      },
      "source": [
        "# column vector via reshape\n",
        "x.reshape((3, 1)). # reshape((row_number, col_number)) => 3 rows and 1 column"
      ],
      "execution_count": 6,
      "outputs": [
        {
          "output_type": "execute_result",
          "data": {
            "text/plain": [
              "array([[1],\n",
              "       [2],\n",
              "       [3]])"
            ]
          },
          "metadata": {
            "tags": []
          },
          "execution_count": 6
        }
      ]
    },
    {
      "cell_type": "code",
      "metadata": {
        "colab": {
          "base_uri": "https://localhost:8080/"
        },
        "id": "nEo2E2HQ2ep-",
        "outputId": "ffea11ac-1ac0-4b08-88a3-64fec1294137"
      },
      "source": [
        "# column vector via newaxis\n",
        "x[:, np.newaxis] # add a new \"col\" axis"
      ],
      "execution_count": 7,
      "outputs": [
        {
          "output_type": "execute_result",
          "data": {
            "text/plain": [
              "array([[1],\n",
              "       [2],\n",
              "       [3]])"
            ]
          },
          "metadata": {
            "tags": []
          },
          "execution_count": 7
        }
      ]
    },
    {
      "cell_type": "code",
      "metadata": {
        "id": "k0JKNFaC3Tdh"
      },
      "source": [
        ""
      ],
      "execution_count": null,
      "outputs": []
    }
  ]
}