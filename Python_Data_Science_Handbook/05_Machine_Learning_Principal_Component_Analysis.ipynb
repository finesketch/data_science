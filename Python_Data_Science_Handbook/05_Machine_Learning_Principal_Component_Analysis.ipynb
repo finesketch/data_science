{
  "nbformat": 4,
  "nbformat_minor": 0,
  "metadata": {
    "colab": {
      "name": "05_Machine_Learning - Principal_Component_Analysis.ipynb",
      "provenance": [],
      "authorship_tag": "ABX9TyMOQkVvV88MEfmvJ+p+7ZYw",
      "include_colab_link": true
    },
    "kernelspec": {
      "name": "python3",
      "display_name": "Python 3"
    },
    "language_info": {
      "name": "python"
    }
  },
  "cells": [
    {
      "cell_type": "markdown",
      "metadata": {
        "id": "view-in-github",
        "colab_type": "text"
      },
      "source": [
        "<a href=\"https://colab.research.google.com/github/finesketch/data_science/blob/main/Python_Data_Science_Handbook/05_Machine_Learning_Principal_Component_Analysis.ipynb\" target=\"_parent\"><img src=\"https://colab.research.google.com/assets/colab-badge.svg\" alt=\"Open In Colab\"/></a>"
      ]
    },
    {
      "cell_type": "code",
      "metadata": {
        "id": "oUlqW4Vigp8b"
      },
      "source": [
        "import numpy as np\n",
        "import matplotlib.pyplot as plt\n",
        "import seaborn as sns\n",
        "\n",
        "sns.set()"
      ],
      "execution_count": 1,
      "outputs": []
    },
    {
      "cell_type": "code",
      "metadata": {
        "colab": {
          "base_uri": "https://localhost:8080/",
          "height": 268
        },
        "id": "YFH2YC-Ug1PA",
        "outputId": "84416237-7c80-4926-c3ab-ac1c7de1ee1d"
      },
      "source": [
        "rng = np.random.RandomState(1)\n",
        "X = np.dot(rng.rand(2, 2), rng.randn(2, 200)).T\n",
        "\n",
        "plt.scatter(X[:,0], X[:,1])\n",
        "plt.axis('equal');"
      ],
      "execution_count": 2,
      "outputs": [
        {
          "output_type": "display_data",
          "data": {
            "image/png": "[encoded data removed]",
            "text/plain": [
              "<Figure size 432x288 with 1 Axes>"
            ]
          },
          "metadata": {
            "needs_background": "light"
          }
        }
      ]
    },
    {
      "cell_type": "code",
      "metadata": {
        "colab": {
          "base_uri": "https://localhost:8080/"
        },
        "id": "qw8plRrMhWae",
        "outputId": "dfe2a02c-106f-4087-e59d-144806139afd"
      },
      "source": [
        "from sklearn.decomposition import PCA\n",
        "\n",
        "pca = PCA(n_components=2)\n",
        "pca.fit(X)"
      ],
      "execution_count": 29,
      "outputs": [
        {
          "output_type": "execute_result",
          "data": {
            "text/plain": [
              "PCA(copy=True, iterated_power='auto', n_components=2, random_state=None,\n",
              "    svd_solver='auto', tol=0.0, whiten=False)"
            ]
          },
          "metadata": {},
          "execution_count": 29
        }
      ]
    },
    {
      "cell_type": "code",
      "metadata": {
        "colab": {
          "base_uri": "https://localhost:8080/"
        },
        "id": "P7CzLwsJi8Al",
        "outputId": "b9a81ffe-a18a-4158-9232-3c65a5305493"
      },
      "source": [
        "print(pca.components_)"
      ],
      "execution_count": 30,
      "outputs": [
        {
          "output_type": "stream",
          "name": "stdout",
          "text": [
            "[[-0.94446029 -0.32862557]\n",
            " [-0.32862557  0.94446029]]\n"
          ]
        }
      ]
    },
    {
      "cell_type": "code",
      "metadata": {
        "colab": {
          "base_uri": "https://localhost:8080/"
        },
        "id": "JkQEgG1vj3Fa",
        "outputId": "5d74d1cf-7720-4843-ccbe-542cdcbd7011"
      },
      "source": [
        "print(pca.explained_variance_)"
      ],
      "execution_count": 31,
      "outputs": [
        {
          "output_type": "stream",
          "name": "stdout",
          "text": [
            "[0.7625315 0.0184779]\n"
          ]
        }
      ]
    },
    {
      "cell_type": "code",
      "metadata": {
        "colab": {
          "base_uri": "https://localhost:8080/",
          "height": 337
        },
        "id": "yeAMcHWVkABr",
        "outputId": "1feab19a-a2a3-41ec-b13a-8858f9a7819f"
      },
      "source": [
        "def draw_vector(v0, v1, ax=None):\n",
        "  ax = ax or plt.gca()\n",
        "  arrowprops = dict(arrowstyle='->', linewidth=2, shrinkA=0, shrinkB=0)\n",
        "  ax.annotate('', v1, v0, arrowprops=arrowprops)\n",
        "\n",
        "plt.scatter(X[:,0], X[:,1], alpha=0.2)\n",
        "\n",
        "for length, vector in zip(pca.explained_variance_, pca.components_):\n",
        "  print(length)\n",
        "  print(vector)\n",
        "\n",
        "  v = vector * 3 * np.sqrt(length)\n",
        "  draw_vector(pca.mean_, pca.mean_ + v)\n",
        "\n",
        "plt.axis('equal');"
      ],
      "execution_count": 33,
      "outputs": [
        {
          "output_type": "stream",
          "name": "stdout",
          "text": [
            "0.7625315008826115\n",
            "[-0.94446029 -0.32862557]\n",
            "0.018477895513562572\n",
            "[-0.32862557  0.94446029]\n"
          ]
        },
        {
          "output_type": "display_data",
          "data": {
            "image/png": "[encoded data removed]",
            "text/plain": [
              "<Figure size 432x288 with 1 Axes>"
            ]
          },
          "metadata": {
            "needs_background": "light"
          }
        }
      ]
    },
    {
      "cell_type": "code",
      "metadata": {
        "id": "hov6sLKDlNt9"
      },
      "source": [
        ""
      ],
      "execution_count": null,
      "outputs": []
    }
  ]
}