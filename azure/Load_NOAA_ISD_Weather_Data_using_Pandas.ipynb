{
  "nbformat": 4,
  "nbformat_minor": 0,
  "metadata": {
    "colab": {
      "name": "Load NOAA ISD Weather Data using Pandas.ipynb",
      "provenance": [],
      "authorship_tag": "ABX9TyNiaPD1DWYv9RQXNiV9Wws3",
      "include_colab_link": true
    },
    "kernelspec": {
      "name": "python3",
      "display_name": "Python 3"
    },
    "language_info": {
      "name": "python"
    }
  },
  "cells": [
    {
      "cell_type": "markdown",
      "metadata": {
        "id": "view-in-github",
        "colab_type": "text"
      },
      "source": [
        "<a href=\"https://colab.research.google.com/github/finesketch/data_science/blob/main/azure/Load_NOAA_ISD_Weather_Data_using_Pandas.ipynb\" target=\"_parent\"><img src=\"https://colab.research.google.com/assets/colab-badge.svg\" alt=\"Open In Colab\"/></a>"
      ]
    },
    {
      "cell_type": "markdown",
      "metadata": {
        "id": "dT0ObjadYbeY"
      },
      "source": [
        "# Load NOAA ISD Weather Data using Pandas\n",
        "\n",
        "> Reference: https://github.com/Azure/OpenDatasetsNotebooks"
      ]
    },
    {
      "cell_type": "markdown",
      "metadata": {
        "id": "O80uca-rYpBX"
      },
      "source": [
        "## Install azureml-opendatasets SDK"
      ]
    },
    {
      "cell_type": "code",
      "metadata": {
        "colab": {
          "base_uri": "https://localhost:8080/"
        },
        "id": "ILA0vAnCYqeH",
        "outputId": "8c7f7d9b-f527-4035-84b6-96f3450e91f7"
      },
      "source": [
        "!pip uninstall -y azureml-opendatasets"
      ],
      "execution_count": 1,
      "outputs": [
        {
          "output_type": "stream",
          "text": [
            "\u001b[33mWARNING: Skipping azureml-opendatasets as it is not installed.\u001b[0m\n"
          ],
          "name": "stdout"
        }
      ]
    },
    {
      "cell_type": "code",
      "metadata": {
        "colab": {
          "base_uri": "https://localhost:8080/",
          "height": 1000
        },
        "id": "LaKh0otFYv9P",
        "outputId": "11131386-7030-42cb-f61f-09fa3a9b0d9b"
      },
      "source": [
        "!pip install azureml-opendatasets"
      ],
      "execution_count": 2,
      "outputs": [
        {
          "output_type": "stream",
          "text": [
            "Collecting azureml-opendatasets\n",
            "\u001b[?25l  Downloading https://files.pythonhosted.org/packages/00/2a/6fb4affc76e44b18ec27f297aa78fafb1697d22f3ed416fa64e4fe37dbce/azureml_opendatasets-1.27.0-py3-none-any.whl (1.3MB)\n",
            "\u001b[K     |████████████████████████████████| 1.3MB 8.5MB/s \n",
            "\u001b[?25hCollecting azureml-telemetry~=1.27.0\n",
            "  Downloading https://files.pythonhosted.org/packages/2a/3d/18ca01b7cc9b20073a7ba8ac27ab20ed03a8d5d90c9931d9416cae7f8903/azureml_telemetry-1.27.0-py3-none-any.whl\n",
            "Collecting azureml-core~=1.27.0\n",
            "\u001b[?25l  Downloading https://files.pythonhosted.org/packages/77/cd/c151f989b6ac5910e9e79347ca5c26d8161c002b7369e0f1e7b1c4f5e293/azureml_core-1.27.0-py3-none-any.whl (2.2MB)\n",
            "\u001b[K     |████████████████████████████████| 2.2MB 28.3MB/s \n",
            "\u001b[?25hCollecting numpy<=1.19.0,>=1.16.0\n",
            "\u001b[?25l  Downloading https://files.pythonhosted.org/packages/a8/31/e2c3eda7afe7dab08e1f24767b8e38ff2f30dc82bd74aa3a5324c550366a/numpy-1.19.0-cp37-cp37m-manylinux2010_x86_64.whl (14.6MB)\n",
            "\u001b[K     |████████████████████████████████| 14.6MB 287kB/s \n",
            "\u001b[?25hCollecting azureml-dataset-runtime[fuse,pandas]~=1.27.0\n",
            "  Downloading https://files.pythonhosted.org/packages/1a/cc/f3bbc177c175838c210bfe7284537b4d8039cd0f4c8d1f64f29d0042b142/azureml_dataset_runtime-1.27.0-py3-none-any.whl\n",
            "Requirement already satisfied: scipy<=1.4.1,>=1.0.0 in /usr/local/lib/python3.7/dist-packages (from azureml-opendatasets) (1.4.1)\n",
            "Requirement already satisfied: pyarrow>=0.16.0 in /usr/local/lib/python3.7/dist-packages (from azureml-opendatasets) (3.0.0)\n",
            "Collecting pandas<=1.0.0,>=0.21.0\n",
            "\u001b[?25l  Downloading https://files.pythonhosted.org/packages/16/cf/5d4614610a6be006ea5715f76e261cb8bc0031a97e43f9915bddb404a3f5/pandas-1.0.0-cp37-cp37m-manylinux1_x86_64.whl (10.0MB)\n",
            "\u001b[K     |████████████████████████████████| 10.1MB 45.3MB/s \n",
            "\u001b[?25hCollecting pyspark\n",
            "\u001b[?25l  Downloading https://files.pythonhosted.org/packages/45/b0/9d6860891ab14a39d4bddf80ba26ce51c2f9dc4805e5c6978ac0472c120a/pyspark-3.1.1.tar.gz (212.3MB)\n",
            "\u001b[K     |████████████████████████████████| 212.3MB 69kB/s \n",
            "\u001b[?25hCollecting applicationinsights\n",
            "\u001b[?25l  Downloading https://files.pythonhosted.org/packages/f4/0d/cb6b23164eb55eebaa5f9f302dfe557cfa751bd7b2779863f1abd0343b6b/applicationinsights-0.11.10-py2.py3-none-any.whl (55kB)\n",
            "\u001b[K     |████████████████████████████████| 61kB 9.1MB/s \n",
            "\u001b[?25hCollecting jmespath<1.0.0\n",
            "  Downloading https://files.pythonhosted.org/packages/07/cb/5f001272b6faeb23c1c9e0acc04d48eaaf5c862c17709d20e3469c6e0139/jmespath-0.10.0-py2.py3-none-any.whl\n",
            "Collecting adal>=1.2.0\n",
            "\u001b[?25l  Downloading https://files.pythonhosted.org/packages/49/8d/58008a9a86075827f99aa8bb75d8db515bb9c34654f95e647cda31987db7/adal-1.2.7-py2.py3-none-any.whl (55kB)\n",
            "\u001b[K     |████████████████████████████████| 61kB 8.7MB/s \n",
            "\u001b[?25hCollecting jsonpickle<3.0.0\n",
            "  Downloading https://files.pythonhosted.org/packages/bb/1a/f2db026d4d682303793559f1c2bb425ba3ec0d6fd7ac63397790443f2461/jsonpickle-2.0.0-py2.py3-none-any.whl\n",
            "Collecting azure-mgmt-resource<15.0.0,>=1.2.1\n",
            "\u001b[?25l  Downloading https://files.pythonhosted.org/packages/55/f6/7db7f9f144cac5924dbd6a8bcba2bac872dfbf3137b83c41a0ea136b3449/azure_mgmt_resource-12.1.0-py2.py3-none-any.whl (1.1MB)\n",
            "\u001b[K     |████████████████████████████████| 1.1MB 29.7MB/s \n",
            "\u001b[?25hCollecting backports.tempfile\n",
            "  Downloading https://files.pythonhosted.org/packages/b4/5c/077f910632476281428fe254807952eb47ca78e720d059a46178c541e669/backports.tempfile-1.0-py2.py3-none-any.whl\n",
            "Collecting azure-mgmt-authorization<1.0.0,>=0.40.0\n",
            "\u001b[?25l  Downloading https://files.pythonhosted.org/packages/b4/50/7a923f58bf053280fe1890f3332c08f6a82a208c92035ad8f7888c87b786/azure_mgmt_authorization-0.61.0-py2.py3-none-any.whl (94kB)\n",
            "\u001b[K     |████████████████████████████████| 102kB 13.0MB/s \n",
            "\u001b[?25hCollecting msrest<1.0.0,>=0.5.1\n",
            "\u001b[?25l  Downloading https://files.pythonhosted.org/packages/e8/cc/6c96bfb3d3cf4c3bdedfa6b46503223f4c2a4fa388377697e0f8082a4fed/msrest-0.6.21-py2.py3-none-any.whl (85kB)\n",
            "\u001b[K     |████████████████████████████████| 92kB 10.0MB/s \n",
            "\u001b[?25hCollecting cryptography!=1.9,!=2.0.*,!=2.1.*,!=2.2.*,<4.0.0\n",
            "\u001b[?25l  Downloading https://files.pythonhosted.org/packages/b2/26/7af637e6a7e87258b963f1731c5982fb31cd507f0d90d91836e446955d02/cryptography-3.4.7-cp36-abi3-manylinux2014_x86_64.whl (3.2MB)\n",
            "\u001b[K     |████████████████████████████████| 3.2MB 51.1MB/s \n",
            "\u001b[?25hCollecting pathspec<1.0.0\n",
            "  Downloading https://files.pythonhosted.org/packages/29/29/a465741a3d97ea3c17d21eaad4c64205428bde56742360876c4391f930d4/pathspec-0.8.1-py2.py3-none-any.whl\n",
            "Collecting PyJWT<3.0.0\n",
            "  Downloading https://files.pythonhosted.org/packages/3f/32/d5d3cab27fee7f6b22d7cd7507547ae45d52e26030fa77d1f83d0526c6e5/PyJWT-2.1.0-py3-none-any.whl\n",
            "Requirement already satisfied: contextlib2<1.0.0 in /usr/local/lib/python3.7/dist-packages (from azureml-core~=1.27.0->azureml-opendatasets) (0.5.5)\n",
            "Collecting ndg-httpsclient\n",
            "  Downloading https://files.pythonhosted.org/packages/fb/67/c2f508c00ed2a6911541494504b7cac16fe0b0473912568df65fd1801132/ndg_httpsclient-0.5.1-py3-none-any.whl\n",
            "Collecting azure-common<2.0.0,>=1.1.12\n",
            "  Downloading https://files.pythonhosted.org/packages/9e/1e/cfe7987493242e8b9ead309cfd76fc500c38bbefe192192b813325d289f3/azure_common-1.1.27-py2.py3-none-any.whl\n",
            "Requirement already satisfied: urllib3>=1.23 in /usr/local/lib/python3.7/dist-packages (from azureml-core~=1.27.0->azureml-opendatasets) (1.24.3)\n",
            "Requirement already satisfied: pytz in /usr/local/lib/python3.7/dist-packages (from azureml-core~=1.27.0->azureml-opendatasets) (2018.9)\n",
            "Collecting azure-graphrbac<1.0.0,>=0.40.0\n",
            "\u001b[?25l  Downloading https://files.pythonhosted.org/packages/3e/93/02056aca45162f9fc275d1eaad12a2a07ef92375afb48eabddc4134b8315/azure_graphrbac-0.61.1-py2.py3-none-any.whl (141kB)\n",
            "\u001b[K     |████████████████████████████████| 143kB 47.1MB/s \n",
            "\u001b[?25hCollecting ruamel.yaml<1.0.0,>=0.15.35\n",
            "\u001b[?25l  Downloading https://files.pythonhosted.org/packages/29/4e/c3105bbbbc662f6a671a505f00ec771e93b5254f09fbb06002af9087071a/ruamel.yaml-0.17.4-py3-none-any.whl (101kB)\n",
            "\u001b[K     |████████████████████████████████| 102kB 391kB/s \n",
            "\u001b[?25hCollecting SecretStorage<4.0.0\n",
            "  Downloading https://files.pythonhosted.org/packages/d9/1e/29cd69fdac7391aa51510dfd42aa70b4e6a826c8cd019ee2a8ab9ec0777f/SecretStorage-3.3.1-py3-none-any.whl\n",
            "Collecting docker<5.0.0\n",
            "\u001b[?25l  Downloading https://files.pythonhosted.org/packages/c4/22/410313ad554477e87ec406d38d85f810e61ddb0d2fc44e64994857476de9/docker-4.4.4-py2.py3-none-any.whl (147kB)\n",
            "\u001b[K     |████████████████████████████████| 153kB 47.4MB/s \n",
            "\u001b[?25hCollecting msrestazure>=0.4.33\n",
            "\u001b[?25l  Downloading https://files.pythonhosted.org/packages/5e/3a/7adb08fd2f0ee6fdfd03685fac38477b64f184943dcf6ea0cbffb205f22d/msrestazure-0.6.4-py2.py3-none-any.whl (40kB)\n",
            "\u001b[K     |████████████████████████████████| 40kB 5.5MB/s \n",
            "\u001b[?25hCollecting azure-mgmt-containerregistry>=2.0.0\n",
            "\u001b[?25l  Downloading https://files.pythonhosted.org/packages/97/70/8c2d0509db466678eba16fa2b0a539499f3b351b1f2993126ad843d5be13/azure_mgmt_containerregistry-2.8.0-py2.py3-none-any.whl (718kB)\n",
            "\u001b[K     |████████████████████████████████| 727kB 41.4MB/s \n",
            "\u001b[?25hCollecting azure-mgmt-storage<16.0.0,>=1.5.0\n",
            "\u001b[?25l  Downloading https://files.pythonhosted.org/packages/33/cc/8ace313fd151af6663b1e1778f216532eab0258133ef21498c0e2caefad6/azure_mgmt_storage-11.2.0-py2.py3-none-any.whl (547kB)\n",
            "\u001b[K     |████████████████████████████████| 552kB 36.7MB/s \n",
            "\u001b[?25hRequirement already satisfied: requests<3.0.0,>=2.19.1 in /usr/local/lib/python3.7/dist-packages (from azureml-core~=1.27.0->azureml-opendatasets) (2.23.0)\n",
            "Requirement already satisfied: python-dateutil<3.0.0,>=2.7.3 in /usr/local/lib/python3.7/dist-packages (from azureml-core~=1.27.0->azureml-opendatasets) (2.8.1)\n",
            "Collecting pyopenssl<21.0.0\n",
            "\u001b[?25l  Downloading https://files.pythonhosted.org/packages/b2/5e/06351ede29fd4899782ad335c2e02f1f862a887c20a3541f17c3fa1a3525/pyOpenSSL-20.0.1-py2.py3-none-any.whl (54kB)\n",
            "\u001b[K     |████████████████████████████████| 61kB 8.7MB/s \n",
            "\u001b[?25hCollecting azure-mgmt-keyvault<7.0.0,>=0.40.0\n",
            "\u001b[?25l  Downloading https://files.pythonhosted.org/packages/f1/af/1ba15e7176bcf6b1531b453e410ae41a983c09f834d8700dfce739451b53/azure_mgmt_keyvault-2.2.0-py2.py3-none-any.whl (89kB)\n",
            "\u001b[K     |████████████████████████████████| 92kB 10.9MB/s \n",
            "\u001b[?25hCollecting azureml-dataprep<2.15.0a,>=2.14.0a\n",
            "\u001b[?25l  Downloading https://files.pythonhosted.org/packages/b5/34/e3590c24afaa67693ba38f9ee5da07f1f974fbe06190debcf2bc0f1e8a80/azureml_dataprep-2.14.2-py3-none-any.whl (39.4MB)\n",
            "\u001b[K     |████████████████████████████████| 39.4MB 1.1MB/s \n",
            "\u001b[?25hCollecting fusepy<4.0.0,>=3.0.1; extra == \"fuse\"\n",
            "  Downloading https://files.pythonhosted.org/packages/04/0b/4506cb2e831cea4b0214d3625430e921faaa05a7fb520458c75a2dbd2152/fusepy-3.0.1.tar.gz\n",
            "Collecting py4j==0.10.9\n",
            "\u001b[?25l  Downloading https://files.pythonhosted.org/packages/9e/b6/6a4fb90cd235dc8e265a6a2067f2a2c99f0d91787f06aca4bcf7c23f3f80/py4j-0.10.9-py2.py3-none-any.whl (198kB)\n",
            "\u001b[K     |████████████████████████████████| 204kB 46.5MB/s \n",
            "\u001b[?25hRequirement already satisfied: importlib-metadata; python_version < \"3.8\" in /usr/local/lib/python3.7/dist-packages (from jsonpickle<3.0.0->azureml-core~=1.27.0->azureml-opendatasets) (3.10.1)\n",
            "Collecting backports.weakref\n",
            "  Downloading https://files.pythonhosted.org/packages/88/ec/f598b633c3d5ffe267aaada57d961c94fdfa183c5c3ebda2b6d151943db6/backports.weakref-1.0.post1-py2.py3-none-any.whl\n",
            "Requirement already satisfied: certifi>=2017.4.17 in /usr/local/lib/python3.7/dist-packages (from msrest<1.0.0,>=0.5.1->azureml-core~=1.27.0->azureml-opendatasets) (2020.12.5)\n",
            "Requirement already satisfied: requests-oauthlib>=0.5.0 in /usr/local/lib/python3.7/dist-packages (from msrest<1.0.0,>=0.5.1->azureml-core~=1.27.0->azureml-opendatasets) (1.3.0)\n",
            "Collecting isodate>=0.6.0\n",
            "\u001b[?25l  Downloading https://files.pythonhosted.org/packages/9b/9f/b36f7774ff5ea8e428fdcfc4bb332c39ee5b9362ddd3d40d9516a55221b2/isodate-0.6.0-py2.py3-none-any.whl (45kB)\n",
            "\u001b[K     |████████████████████████████████| 51kB 7.7MB/s \n",
            "\u001b[?25hRequirement already satisfied: cffi>=1.12 in /usr/local/lib/python3.7/dist-packages (from cryptography!=1.9,!=2.0.*,!=2.1.*,!=2.2.*,<4.0.0->azureml-core~=1.27.0->azureml-opendatasets) (1.14.5)\n",
            "Requirement already satisfied: pyasn1>=0.1.1 in /usr/local/lib/python3.7/dist-packages (from ndg-httpsclient->azureml-core~=1.27.0->azureml-opendatasets) (0.4.8)\n",
            "Collecting ruamel.yaml.clib>=0.1.2; platform_python_implementation == \"CPython\" and python_version < \"3.10\"\n",
            "\u001b[?25l  Downloading https://files.pythonhosted.org/packages/5e/6e/f652c56bbb2c3d3fca252ffc7c0358597f57a1bbdf484dac683054950c63/ruamel.yaml.clib-0.2.2-cp37-cp37m-manylinux1_x86_64.whl (547kB)\n",
            "\u001b[K     |████████████████████████████████| 552kB 36.4MB/s \n",
            "\u001b[?25hCollecting jeepney>=0.6\n",
            "\u001b[?25l  Downloading https://files.pythonhosted.org/packages/51/b0/a6ea72741aaac3f37fb96d195e4ee576a103c4c04e279bc6b446a70960e1/jeepney-0.6.0-py3-none-any.whl (45kB)\n",
            "\u001b[K     |████████████████████████████████| 51kB 8.5MB/s \n",
            "\u001b[?25hCollecting websocket-client>=0.32.0\n",
            "\u001b[?25l  Downloading https://files.pythonhosted.org/packages/f7/0c/d52a2a63512a613817846d430d16a8fbe5ea56dd889e89c68facf6b91cb6/websocket_client-0.59.0-py2.py3-none-any.whl (67kB)\n",
            "\u001b[K     |████████████████████████████████| 71kB 11.1MB/s \n",
            "\u001b[?25hRequirement already satisfied: six>=1.4.0 in /usr/local/lib/python3.7/dist-packages (from docker<5.0.0->azureml-core~=1.27.0->azureml-opendatasets) (1.15.0)\n",
            "Requirement already satisfied: idna<3,>=2.5 in /usr/local/lib/python3.7/dist-packages (from requests<3.0.0,>=2.19.1->azureml-core~=1.27.0->azureml-opendatasets) (2.10)\n",
            "Requirement already satisfied: chardet<4,>=3.0.2 in /usr/local/lib/python3.7/dist-packages (from requests<3.0.0,>=2.19.1->azureml-core~=1.27.0->azureml-opendatasets) (3.0.4)\n",
            "Collecting azureml-dataprep-rslex<1.13.0a,>=1.12.0dev0\n",
            "\u001b[?25l  Downloading https://files.pythonhosted.org/packages/aa/42/e06e773bc026a55a4a495931c2353b16ed63080d92d793819e745e2987a0/azureml_dataprep_rslex-1.12.1-cp37-cp37m-manylinux1_x86_64.whl (9.7MB)\n",
            "\u001b[K     |████████████████████████████████| 9.7MB 42.2MB/s \n",
            "\u001b[?25hCollecting azure-identity<1.5.0,>=1.2.0\n",
            "\u001b[?25l  Downloading https://files.pythonhosted.org/packages/93/97/0e57f9d0bb0e9aee5cce0007616f6d3c2e09931fd24ad140c9cc3b06b7ef/azure_identity-1.4.1-py2.py3-none-any.whl (86kB)\n",
            "\u001b[K     |████████████████████████████████| 92kB 12.6MB/s \n",
            "\u001b[?25hCollecting dotnetcore2<3.0.0,>=2.1.14\n",
            "\u001b[?25l  Downloading https://files.pythonhosted.org/packages/b4/76/464fd2deb6d640547f4c269a0941883a45001103d4756611c52c75232e5a/dotnetcore2-2.1.20-py3-none-manylinux1_x86_64.whl (28.7MB)\n",
            "\u001b[K     |████████████████████████████████| 28.7MB 165kB/s \n",
            "\u001b[?25hCollecting azureml-dataprep-native<34.0.0,>=33.0.0\n",
            "\u001b[?25l  Downloading https://files.pythonhosted.org/packages/8d/49/80ee50ad2c9cb56c3816d25ffcc92315585b9063b17fa6d2c2886cb8dc69/azureml_dataprep_native-33.0.0-cp37-cp37m-manylinux1_x86_64.whl (1.3MB)\n",
            "\u001b[K     |████████████████████████████████| 1.3MB 40.5MB/s \n",
            "\u001b[?25hRequirement already satisfied: cloudpickle<2.0.0,>=1.1.0 in /usr/local/lib/python3.7/dist-packages (from azureml-dataprep<2.15.0a,>=2.14.0a->azureml-dataset-runtime[fuse,pandas]~=1.27.0->azureml-opendatasets) (1.3.0)\n",
            "Requirement already satisfied: zipp>=0.5 in /usr/local/lib/python3.7/dist-packages (from importlib-metadata; python_version < \"3.8\"->jsonpickle<3.0.0->azureml-core~=1.27.0->azureml-opendatasets) (3.4.1)\n",
            "Requirement already satisfied: typing-extensions>=3.6.4; python_version < \"3.8\" in /usr/local/lib/python3.7/dist-packages (from importlib-metadata; python_version < \"3.8\"->jsonpickle<3.0.0->azureml-core~=1.27.0->azureml-opendatasets) (3.7.4.3)\n",
            "Requirement already satisfied: oauthlib>=3.0.0 in /usr/local/lib/python3.7/dist-packages (from requests-oauthlib>=0.5.0->msrest<1.0.0,>=0.5.1->azureml-core~=1.27.0->azureml-opendatasets) (3.1.0)\n",
            "Requirement already satisfied: pycparser in /usr/local/lib/python3.7/dist-packages (from cffi>=1.12->cryptography!=1.9,!=2.0.*,!=2.1.*,!=2.2.*,<4.0.0->azureml-core~=1.27.0->azureml-opendatasets) (2.20)\n",
            "Collecting msal<2.0.0,>=1.3.0\n",
            "\u001b[?25l  Downloading https://files.pythonhosted.org/packages/68/a9/b534f1158ffce8c551dea86d90981e9bd892f310c4c27d079d6b4b88849a/msal-1.11.0-py2.py3-none-any.whl (63kB)\n",
            "\u001b[K     |████████████████████████████████| 71kB 7.6MB/s \n",
            "\u001b[?25hCollecting azure-core<2.0.0,>=1.0.0\n",
            "\u001b[?25l  Downloading https://files.pythonhosted.org/packages/19/18/21cfd7faf7ab24c35689c9f199179081cee8fec44668c7f090e1db61226d/azure_core-1.13.0-py2.py3-none-any.whl (133kB)\n",
            "\u001b[K     |████████████████████████████████| 143kB 50.9MB/s \n",
            "\u001b[?25hCollecting msal-extensions~=0.2.2\n",
            "  Downloading https://files.pythonhosted.org/packages/33/da/eed514cb6902405c5c11a03f1e65adbd95e2c26d9b22eae390eddb561201/msal_extensions-0.2.2-py2.py3-none-any.whl\n",
            "Collecting distro>=1.2.0\n",
            "  Downloading https://files.pythonhosted.org/packages/25/b7/b3c4270a11414cb22c6352ebc7a83aaa3712043be29daa05018fd5a5c956/distro-1.5.0-py2.py3-none-any.whl\n",
            "Collecting portalocker~=1.0; platform_system != \"Windows\"\n",
            "  Downloading https://files.pythonhosted.org/packages/3b/e7/ceef002a300a98a208232fab593183249b6964b306ee7dabb29908419cca/portalocker-1.7.1-py2.py3-none-any.whl\n",
            "Building wheels for collected packages: pyspark, fusepy\n",
            "  Building wheel for pyspark (setup.py) ... \u001b[?25l\u001b[?25hdone\n",
            "  Created wheel for pyspark: filename=pyspark-3.1.1-py2.py3-none-any.whl size=212767604 sha256=11368cbdb78bb1b6abaf7dd298aa041e36adadeac3c0fc7903dfc4fd9a9f528d\n",
            "  Stored in directory: /root/.cache/pip/wheels/0b/90/c0/01de724414ef122bd05f056541fb6a0ecf47c7ca655f8b3c0f\n",
            "  Building wheel for fusepy (setup.py) ... \u001b[?25l\u001b[?25hdone\n",
            "  Created wheel for fusepy: filename=fusepy-3.0.1-cp37-none-any.whl size=10503 sha256=17f348651877ca9b9cddbc56527646b09b98d16f06c7f99e8713bc478e838c85\n",
            "  Stored in directory: /root/.cache/pip/wheels/4c/a5/91/7772af9e21c461f07bb40f26d928d7d231d224977dd8353bab\n",
            "Successfully built pyspark fusepy\n",
            "\u001b[31mERROR: tensorflow 2.4.1 has requirement numpy~=1.19.2, but you'll have numpy 1.19.0 which is incompatible.\u001b[0m\n",
            "\u001b[31mERROR: google-colab 1.0.0 has requirement pandas~=1.1.0; python_version >= \"3.0\", but you'll have pandas 1.0.0 which is incompatible.\u001b[0m\n",
            "\u001b[31mERROR: fbprophet 0.7.1 has requirement pandas>=1.0.4, but you'll have pandas 1.0.0 which is incompatible.\u001b[0m\n",
            "\u001b[31mERROR: datascience 0.10.6 has requirement folium==0.2.1, but you'll have folium 0.8.3 which is incompatible.\u001b[0m\n",
            "\u001b[31mERROR: albumentations 0.1.12 has requirement imgaug<0.2.7,>=0.2.5, but you'll have imgaug 0.2.9 which is incompatible.\u001b[0m\n",
            "\u001b[31mERROR: azureml-dataset-runtime 1.27.0 has requirement pyarrow<2.0.0,>=0.17.0, but you'll have pyarrow 3.0.0 which is incompatible.\u001b[0m\n",
            "Installing collected packages: applicationinsights, jmespath, PyJWT, cryptography, adal, jsonpickle, azure-common, isodate, msrest, msrestazure, azure-mgmt-resource, backports.weakref, backports.tempfile, azure-mgmt-authorization, pathspec, pyopenssl, ndg-httpsclient, azure-graphrbac, ruamel.yaml.clib, ruamel.yaml, jeepney, SecretStorage, websocket-client, docker, azure-mgmt-containerregistry, azure-mgmt-storage, azure-mgmt-keyvault, azureml-core, azureml-telemetry, numpy, azureml-dataprep-rslex, msal, azure-core, portalocker, msal-extensions, azure-identity, distro, dotnetcore2, azureml-dataprep-native, azureml-dataprep, fusepy, pandas, azureml-dataset-runtime, py4j, pyspark, azureml-opendatasets\n",
            "  Found existing installation: numpy 1.19.5\n",
            "    Uninstalling numpy-1.19.5:\n",
            "      Successfully uninstalled numpy-1.19.5\n",
            "  Found existing installation: pandas 1.1.5\n",
            "    Uninstalling pandas-1.1.5:\n",
            "      Successfully uninstalled pandas-1.1.5\n",
            "Successfully installed PyJWT-2.1.0 SecretStorage-3.3.1 adal-1.2.7 applicationinsights-0.11.10 azure-common-1.1.27 azure-core-1.13.0 azure-graphrbac-0.61.1 azure-identity-1.4.1 azure-mgmt-authorization-0.61.0 azure-mgmt-containerregistry-2.8.0 azure-mgmt-keyvault-2.2.0 azure-mgmt-resource-12.1.0 azure-mgmt-storage-11.2.0 azureml-core-1.27.0 azureml-dataprep-2.14.2 azureml-dataprep-native-33.0.0 azureml-dataprep-rslex-1.12.1 azureml-dataset-runtime-1.27.0 azureml-opendatasets-1.27.0 azureml-telemetry-1.27.0 backports.tempfile-1.0 backports.weakref-1.0.post1 cryptography-3.4.7 distro-1.5.0 docker-4.4.4 dotnetcore2-2.1.20 fusepy-3.0.1 isodate-0.6.0 jeepney-0.6.0 jmespath-0.10.0 jsonpickle-2.0.0 msal-1.11.0 msal-extensions-0.2.2 msrest-0.6.21 msrestazure-0.6.4 ndg-httpsclient-0.5.1 numpy-1.19.0 pandas-1.0.0 pathspec-0.8.1 portalocker-1.7.1 py4j-0.10.9 pyopenssl-20.0.1 pyspark-3.1.1 ruamel.yaml-0.17.4 ruamel.yaml.clib-0.2.2 websocket-client-0.59.0\n"
          ],
          "name": "stdout"
        },
        {
          "output_type": "display_data",
          "data": {
            "application/vnd.colab-display-data+json": {
              "pip_warning": {
                "packages": [
                  "numpy",
                  "pandas"
                ]
              }
            }
          },
          "metadata": {
            "tags": []
          }
        }
      ]
    },
    {
      "cell_type": "code",
      "metadata": {
        "id": "8zUR1NssY67V"
      },
      "source": [
        "# import NoaaIsdWeather class from azureml-opendatasets\n",
        "\n",
        "from azureml.opendatasets import NoaaIsdWeather\n",
        "from datetime import datetime\n",
        "from dateutil import parser\n",
        "from dateutil.relativedelta import relativedelta\n"
      ],
      "execution_count": 5,
      "outputs": []
    },
    {
      "cell_type": "markdown",
      "metadata": {
        "id": "TRdAtjuJZmqn"
      },
      "source": [
        "1. Set start_date and end_date.\n",
        "2. New an instance of NoaaIsdWeather.\n",
        "3. Call to_pandas_dataframe() method to get a pandas DataFrame."
      ]
    },
    {
      "cell_type": "code",
      "metadata": {
        "colab": {
          "base_uri": "https://localhost:8080/"
        },
        "id": "BPBO5RNVZYNg",
        "outputId": "284b0d68-cd77-4571-a067-0c1d731653cf"
      },
      "source": [
        "start_date = parser.parse('2018-01-01')\n",
        "end_date = parser.parse('2018-02-28')\n",
        "isd = NoaaIsdWeather(start_date=start_date, end_date=end_date)\n",
        "df = isd.to_pandas_dataframe()\n",
        "print(df.info())\n",
        "print('isd done')"
      ],
      "execution_count": 7,
      "outputs": [
        {
          "output_type": "stream",
          "text": [
            "[Info] read from /tmp/tmpg5j88z73/https%3A/%2Fazureopendatastorage.azurefd.net/isdweatherdatacontainer/ISDWeather/year=2018/month=1/part-00000-tid-8399976593945898762-a12919d0-896d-44dd-8706-1d3327044c4e-5126-1.c000.snappy.parquet\n",
            "[Info] read from /tmp/tmpg5j88z73/https%3A/%2Fazureopendatastorage.azurefd.net/isdweatherdatacontainer/ISDWeather/year=2018/month=1/part-00001-tid-8399976593945898762-a12919d0-896d-44dd-8706-1d3327044c4e-5130-1.c000.snappy.parquet\n",
            "[Info] read from /tmp/tmpg5j88z73/https%3A/%2Fazureopendatastorage.azurefd.net/isdweatherdatacontainer/ISDWeather/year=2018/month=1/part-00002-tid-8399976593945898762-a12919d0-896d-44dd-8706-1d3327044c4e-5128-1.c000.snappy.parquet\n",
            "[Info] read from /tmp/tmpg5j88z73/https%3A/%2Fazureopendatastorage.azurefd.net/isdweatherdatacontainer/ISDWeather/year=2018/month=1/part-00003-tid-8399976593945898762-a12919d0-896d-44dd-8706-1d3327044c4e-5132-1.c000.snappy.parquet\n",
            "[Info] read from /tmp/tmpg5j88z73/https%3A/%2Fazureopendatastorage.azurefd.net/isdweatherdatacontainer/ISDWeather/year=2018/month=1/part-00004-tid-8399976593945898762-a12919d0-896d-44dd-8706-1d3327044c4e-5131-1.c000.snappy.parquet\n",
            "[Info] read from /tmp/tmpg5j88z73/https%3A/%2Fazureopendatastorage.azurefd.net/isdweatherdatacontainer/ISDWeather/year=2018/month=1/part-00005-tid-8399976593945898762-a12919d0-896d-44dd-8706-1d3327044c4e-5129-1.c000.snappy.parquet\n",
            "[Info] read from /tmp/tmpg5j88z73/https%3A/%2Fazureopendatastorage.azurefd.net/isdweatherdatacontainer/ISDWeather/year=2018/month=1/part-00006-tid-8399976593945898762-a12919d0-896d-44dd-8706-1d3327044c4e-5127-1.c000.snappy.parquet\n",
            "[Info] read from /tmp/tmpg5j88z73/https%3A/%2Fazureopendatastorage.azurefd.net/isdweatherdatacontainer/ISDWeather/year=2018/month=1/part-00007-tid-8399976593945898762-a12919d0-896d-44dd-8706-1d3327044c4e-5133-1.c000.snappy.parquet\n",
            "[Info] read from /tmp/tmpg5j88z73/https%3A/%2Fazureopendatastorage.azurefd.net/isdweatherdatacontainer/ISDWeather/year=2018/month=2/part-00000-tid-8399976593945898762-a12919d0-896d-44dd-8706-1d3327044c4e-5126-2.c000.snappy.parquet\n",
            "[Info] read from /tmp/tmpg5j88z73/https%3A/%2Fazureopendatastorage.azurefd.net/isdweatherdatacontainer/ISDWeather/year=2018/month=2/part-00001-tid-8399976593945898762-a12919d0-896d-44dd-8706-1d3327044c4e-5130-2.c000.snappy.parquet\n",
            "[Info] read from /tmp/tmpg5j88z73/https%3A/%2Fazureopendatastorage.azurefd.net/isdweatherdatacontainer/ISDWeather/year=2018/month=2/part-00002-tid-8399976593945898762-a12919d0-896d-44dd-8706-1d3327044c4e-5128-2.c000.snappy.parquet\n",
            "[Info] read from /tmp/tmpg5j88z73/https%3A/%2Fazureopendatastorage.azurefd.net/isdweatherdatacontainer/ISDWeather/year=2018/month=2/part-00003-tid-8399976593945898762-a12919d0-896d-44dd-8706-1d3327044c4e-5132-2.c000.snappy.parquet\n",
            "[Info] read from /tmp/tmpg5j88z73/https%3A/%2Fazureopendatastorage.azurefd.net/isdweatherdatacontainer/ISDWeather/year=2018/month=2/part-00004-tid-8399976593945898762-a12919d0-896d-44dd-8706-1d3327044c4e-5131-2.c000.snappy.parquet\n",
            "[Info] read from /tmp/tmpg5j88z73/https%3A/%2Fazureopendatastorage.azurefd.net/isdweatherdatacontainer/ISDWeather/year=2018/month=2/part-00005-tid-8399976593945898762-a12919d0-896d-44dd-8706-1d3327044c4e-5129-2.c000.snappy.parquet\n",
            "[Info] read from /tmp/tmpg5j88z73/https%3A/%2Fazureopendatastorage.azurefd.net/isdweatherdatacontainer/ISDWeather/year=2018/month=2/part-00006-tid-8399976593945898762-a12919d0-896d-44dd-8706-1d3327044c4e-5127-2.c000.snappy.parquet\n",
            "[Info] read from /tmp/tmpg5j88z73/https%3A/%2Fazureopendatastorage.azurefd.net/isdweatherdatacontainer/ISDWeather/year=2018/month=2/part-00007-tid-8399976593945898762-a12919d0-896d-44dd-8706-1d3327044c4e-5133-2.c000.snappy.parquet\n",
            "<class 'pandas.core.frame.DataFrame'>\n",
            "Int64Index: 21666673 entries, 0 to 1310250\n",
            "Data columns (total 22 columns):\n",
            " #   Column                   Dtype         \n",
            "---  ------                   -----         \n",
            " 0   usaf                     object        \n",
            " 1   wban                     object        \n",
            " 2   datetime                 datetime64[ns]\n",
            " 3   latitude                 float64       \n",
            " 4   longitude                float64       \n",
            " 5   elevation                float64       \n",
            " 6   windAngle                float64       \n",
            " 7   windSpeed                float64       \n",
            " 8   temperature              float64       \n",
            " 9   seaLvlPressure           float64       \n",
            " 10  cloudCoverage            object        \n",
            " 11  presentWeatherIndicator  float64       \n",
            " 12  pastWeatherIndicator     float64       \n",
            " 13  precipTime               float64       \n",
            " 14  precipDepth              float64       \n",
            " 15  snowDepth                float64       \n",
            " 16  stationName              object        \n",
            " 17  countryOrRegion          object        \n",
            " 18  p_k                      object        \n",
            " 19  year                     int32         \n",
            " 20  day                      int32         \n",
            " 21  version                  float64       \n",
            "dtypes: datetime64[ns](1), float64(13), int32(2), object(6)\n",
            "memory usage: 3.6+ GB\n",
            "None\n",
            "isd done\n"
          ],
          "name": "stdout"
        }
      ]
    },
    {
      "cell_type": "code",
      "metadata": {
        "colab": {
          "base_uri": "https://localhost:8080/"
        },
        "id": "YVl6n5-maLAn",
        "outputId": "2c39bc84-2f37-4e94-875d-38d4d490466b"
      },
      "source": [
        "df.shape"
      ],
      "execution_count": 8,
      "outputs": [
        {
          "output_type": "execute_result",
          "data": {
            "text/plain": [
              "(21666673, 22)"
            ]
          },
          "metadata": {
            "tags": []
          },
          "execution_count": 8
        }
      ]
    },
    {
      "cell_type": "code",
      "metadata": {
        "id": "9FFH_RzUauGV"
      },
      "source": [
        ""
      ],
      "execution_count": null,
      "outputs": []
    }
  ]
}