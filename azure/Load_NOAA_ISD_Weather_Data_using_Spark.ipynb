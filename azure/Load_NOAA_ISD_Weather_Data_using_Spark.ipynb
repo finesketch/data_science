{
  "nbformat": 4,
  "nbformat_minor": 0,
  "metadata": {
    "colab": {
      "name": "Load NOAA ISD Weather Data using Spark.ipynb",
      "provenance": [],
      "authorship_tag": "ABX9TyPTjp+ITJlxFpNI74UE1TIt",
      "include_colab_link": true
    },
    "kernelspec": {
      "name": "python3",
      "display_name": "Python 3"
    },
    "language_info": {
      "name": "python"
    }
  },
  "cells": [
    {
      "cell_type": "markdown",
      "metadata": {
        "id": "view-in-github",
        "colab_type": "text"
      },
      "source": [
        "<a href=\"https://colab.research.google.com/github/finesketch/data_science/blob/main/azure/Load_NOAA_ISD_Weather_Data_using_Spark.ipynb\" target=\"_parent\"><img src=\"https://colab.research.google.com/assets/colab-badge.svg\" alt=\"Open In Colab\"/></a>"
      ]
    },
    {
      "cell_type": "markdown",
      "metadata": {
        "id": "LcD1DfH2cOys"
      },
      "source": [
        "# Load NOAA ISD Weather Data using Spark\n",
        "\n",
        "In this tutorial, you load the NOAA ISD Weather Data into Spark DataFrame by calling to_spark_dataframe() method.\n",
        "\n",
        "Prerequesits:\n",
        "\n",
        "* You must install the PyPi package on the cluster: azureml-opendatasets"
      ]
    },
    {
      "cell_type": "code",
      "metadata": {
        "colab": {
          "base_uri": "https://localhost:8080/"
        },
        "id": "jwFijyBvcgdj",
        "outputId": "e046b81b-6178-4451-ee49-e59d39f3b6fd"
      },
      "source": [
        "!pip uninstall -y azureml-opendatasets"
      ],
      "execution_count": 2,
      "outputs": [
        {
          "output_type": "stream",
          "text": [
            "\u001b[33mWARNING: Skipping azureml-opendatasets as it is not installed.\u001b[0m\n"
          ],
          "name": "stdout"
        }
      ]
    },
    {
      "cell_type": "code",
      "metadata": {
        "colab": {
          "base_uri": "https://localhost:8080/",
          "height": 1000
        },
        "id": "FPVJrba8chzs",
        "outputId": "4a7dcb1e-443a-49bf-afe3-6f41f2a82825"
      },
      "source": [
        "!pip install azureml-opendatasets"
      ],
      "execution_count": 3,
      "outputs": [
        {
          "output_type": "stream",
          "text": [
            "Collecting azureml-opendatasets\n",
            "\u001b[?25l  Downloading https://files.pythonhosted.org/packages/00/2a/6fb4affc76e44b18ec27f297aa78fafb1697d22f3ed416fa64e4fe37dbce/azureml_opendatasets-1.27.0-py3-none-any.whl (1.3MB)\n",
            "\r\u001b[K     |▎                               | 10kB 10.2MB/s eta 0:00:01\r\u001b[K     |▌                               | 20kB 14.8MB/s eta 0:00:01\r\u001b[K     |▊                               | 30kB 9.9MB/s eta 0:00:01\r\u001b[K     |█                               | 40kB 8.6MB/s eta 0:00:01\r\u001b[K     |█▎                              | 51kB 5.2MB/s eta 0:00:01\r\u001b[K     |█▌                              | 61kB 5.8MB/s eta 0:00:01\r\u001b[K     |█▊                              | 71kB 5.5MB/s eta 0:00:01\r\u001b[K     |██                              | 81kB 6.0MB/s eta 0:00:01\r\u001b[K     |██▏                             | 92kB 5.9MB/s eta 0:00:01\r\u001b[K     |██▌                             | 102kB 6.1MB/s eta 0:00:01\r\u001b[K     |██▊                             | 112kB 6.1MB/s eta 0:00:01\r\u001b[K     |███                             | 122kB 6.1MB/s eta 0:00:01\r\u001b[K     |███▏                            | 133kB 6.1MB/s eta 0:00:01\r\u001b[K     |███▍                            | 143kB 6.1MB/s eta 0:00:01\r\u001b[K     |███▊                            | 153kB 6.1MB/s eta 0:00:01\r\u001b[K     |████                            | 163kB 6.1MB/s eta 0:00:01\r\u001b[K     |████▏                           | 174kB 6.1MB/s eta 0:00:01\r\u001b[K     |████▍                           | 184kB 6.1MB/s eta 0:00:01\r\u001b[K     |████▋                           | 194kB 6.1MB/s eta 0:00:01\r\u001b[K     |█████                           | 204kB 6.1MB/s eta 0:00:01\r\u001b[K     |█████▏                          | 215kB 6.1MB/s eta 0:00:01\r\u001b[K     |█████▍                          | 225kB 6.1MB/s eta 0:00:01\r\u001b[K     |█████▋                          | 235kB 6.1MB/s eta 0:00:01\r\u001b[K     |█████▉                          | 245kB 6.1MB/s eta 0:00:01\r\u001b[K     |██████▏                         | 256kB 6.1MB/s eta 0:00:01\r\u001b[K     |██████▍                         | 266kB 6.1MB/s eta 0:00:01\r\u001b[K     |██████▋                         | 276kB 6.1MB/s eta 0:00:01\r\u001b[K     |██████▉                         | 286kB 6.1MB/s eta 0:00:01\r\u001b[K     |███████                         | 296kB 6.1MB/s eta 0:00:01\r\u001b[K     |███████▍                        | 307kB 6.1MB/s eta 0:00:01\r\u001b[K     |███████▋                        | 317kB 6.1MB/s eta 0:00:01\r\u001b[K     |███████▉                        | 327kB 6.1MB/s eta 0:00:01\r\u001b[K     |████████                        | 337kB 6.1MB/s eta 0:00:01\r\u001b[K     |████████▍                       | 348kB 6.1MB/s eta 0:00:01\r\u001b[K     |████████▋                       | 358kB 6.1MB/s eta 0:00:01\r\u001b[K     |████████▉                       | 368kB 6.1MB/s eta 0:00:01\r\u001b[K     |█████████                       | 378kB 6.1MB/s eta 0:00:01\r\u001b[K     |█████████▎                      | 389kB 6.1MB/s eta 0:00:01\r\u001b[K     |█████████▋                      | 399kB 6.1MB/s eta 0:00:01\r\u001b[K     |█████████▉                      | 409kB 6.1MB/s eta 0:00:01\r\u001b[K     |██████████                      | 419kB 6.1MB/s eta 0:00:01\r\u001b[K     |██████████▎                     | 430kB 6.1MB/s eta 0:00:01\r\u001b[K     |██████████▌                     | 440kB 6.1MB/s eta 0:00:01\r\u001b[K     |██████████▉                     | 450kB 6.1MB/s eta 0:00:01\r\u001b[K     |███████████                     | 460kB 6.1MB/s eta 0:00:01\r\u001b[K     |███████████▎                    | 471kB 6.1MB/s eta 0:00:01\r\u001b[K     |███████████▌                    | 481kB 6.1MB/s eta 0:00:01\r\u001b[K     |███████████▊                    | 491kB 6.1MB/s eta 0:00:01\r\u001b[K     |████████████                    | 501kB 6.1MB/s eta 0:00:01\r\u001b[K     |████████████▎                   | 512kB 6.1MB/s eta 0:00:01\r\u001b[K     |████████████▌                   | 522kB 6.1MB/s eta 0:00:01\r\u001b[K     |████████████▊                   | 532kB 6.1MB/s eta 0:00:01\r\u001b[K     |█████████████                   | 542kB 6.1MB/s eta 0:00:01\r\u001b[K     |█████████████▎                  | 552kB 6.1MB/s eta 0:00:01\r\u001b[K     |█████████████▌                  | 563kB 6.1MB/s eta 0:00:01\r\u001b[K     |█████████████▊                  | 573kB 6.1MB/s eta 0:00:01\r\u001b[K     |██████████████                  | 583kB 6.1MB/s eta 0:00:01\r\u001b[K     |██████████████▏                 | 593kB 6.1MB/s eta 0:00:01\r\u001b[K     |██████████████▌                 | 604kB 6.1MB/s eta 0:00:01\r\u001b[K     |██████████████▊                 | 614kB 6.1MB/s eta 0:00:01\r\u001b[K     |███████████████                 | 624kB 6.1MB/s eta 0:00:01\r\u001b[K     |███████████████▏                | 634kB 6.1MB/s eta 0:00:01\r\u001b[K     |███████████████▍                | 645kB 6.1MB/s eta 0:00:01\r\u001b[K     |███████████████▊                | 655kB 6.1MB/s eta 0:00:01\r\u001b[K     |████████████████                | 665kB 6.1MB/s eta 0:00:01\r\u001b[K     |████████████████▏               | 675kB 6.1MB/s eta 0:00:01\r\u001b[K     |████████████████▍               | 686kB 6.1MB/s eta 0:00:01\r\u001b[K     |████████████████▊               | 696kB 6.1MB/s eta 0:00:01\r\u001b[K     |█████████████████               | 706kB 6.1MB/s eta 0:00:01\r\u001b[K     |█████████████████▏              | 716kB 6.1MB/s eta 0:00:01\r\u001b[K     |█████████████████▍              | 727kB 6.1MB/s eta 0:00:01\r\u001b[K     |█████████████████▋              | 737kB 6.1MB/s eta 0:00:01\r\u001b[K     |██████████████████              | 747kB 6.1MB/s eta 0:00:01\r\u001b[K     |██████████████████▏             | 757kB 6.1MB/s eta 0:00:01\r\u001b[K     |██████████████████▍             | 768kB 6.1MB/s eta 0:00:01\r\u001b[K     |██████████████████▋             | 778kB 6.1MB/s eta 0:00:01\r\u001b[K     |██████████████████▉             | 788kB 6.1MB/s eta 0:00:01\r\u001b[K     |███████████████████▏            | 798kB 6.1MB/s eta 0:00:01\r\u001b[K     |███████████████████▍            | 808kB 6.1MB/s eta 0:00:01\r\u001b[K     |███████████████████▋            | 819kB 6.1MB/s eta 0:00:01\r\u001b[K     |███████████████████▉            | 829kB 6.1MB/s eta 0:00:01\r\u001b[K     |████████████████████            | 839kB 6.1MB/s eta 0:00:01\r\u001b[K     |████████████████████▍           | 849kB 6.1MB/s eta 0:00:01\r\u001b[K     |████████████████████▋           | 860kB 6.1MB/s eta 0:00:01\r\u001b[K     |████████████████████▉           | 870kB 6.1MB/s eta 0:00:01\r\u001b[K     |█████████████████████           | 880kB 6.1MB/s eta 0:00:01\r\u001b[K     |█████████████████████▎          | 890kB 6.1MB/s eta 0:00:01\r\u001b[K     |█████████████████████▋          | 901kB 6.1MB/s eta 0:00:01\r\u001b[K     |█████████████████████▉          | 911kB 6.1MB/s eta 0:00:01\r\u001b[K     |██████████████████████          | 921kB 6.1MB/s eta 0:00:01\r\u001b[K     |██████████████████████▎         | 931kB 6.1MB/s eta 0:00:01\r\u001b[K     |██████████████████████▌         | 942kB 6.1MB/s eta 0:00:01\r\u001b[K     |██████████████████████▉         | 952kB 6.1MB/s eta 0:00:01\r\u001b[K     |███████████████████████         | 962kB 6.1MB/s eta 0:00:01\r\u001b[K     |███████████████████████▎        | 972kB 6.1MB/s eta 0:00:01\r\u001b[K     |███████████████████████▌        | 983kB 6.1MB/s eta 0:00:01\r\u001b[K     |███████████████████████▊        | 993kB 6.1MB/s eta 0:00:01\r\u001b[K     |████████████████████████        | 1.0MB 6.1MB/s eta 0:00:01\r\u001b[K     |████████████████████████▎       | 1.0MB 6.1MB/s eta 0:00:01\r\u001b[K     |████████████████████████▌       | 1.0MB 6.1MB/s eta 0:00:01\r\u001b[K     |████████████████████████▊       | 1.0MB 6.1MB/s eta 0:00:01\r\u001b[K     |█████████████████████████       | 1.0MB 6.1MB/s eta 0:00:01\r\u001b[K     |█████████████████████████▎      | 1.1MB 6.1MB/s eta 0:00:01\r\u001b[K     |█████████████████████████▌      | 1.1MB 6.1MB/s eta 0:00:01\r\u001b[K     |█████████████████████████▊      | 1.1MB 6.1MB/s eta 0:00:01\r\u001b[K     |██████████████████████████      | 1.1MB 6.1MB/s eta 0:00:01\r\u001b[K     |██████████████████████████▎     | 1.1MB 6.1MB/s eta 0:00:01\r\u001b[K     |██████████████████████████▌     | 1.1MB 6.1MB/s eta 0:00:01\r\u001b[K     |██████████████████████████▊     | 1.1MB 6.1MB/s eta 0:00:01\r\u001b[K     |███████████████████████████     | 1.1MB 6.1MB/s eta 0:00:01\r\u001b[K     |███████████████████████████▏    | 1.1MB 6.1MB/s eta 0:00:01\r\u001b[K     |███████████████████████████▌    | 1.1MB 6.1MB/s eta 0:00:01\r\u001b[K     |███████████████████████████▊    | 1.2MB 6.1MB/s eta 0:00:01\r\u001b[K     |████████████████████████████    | 1.2MB 6.1MB/s eta 0:00:01\r\u001b[K     |████████████████████████████▏   | 1.2MB 6.1MB/s eta 0:00:01\r\u001b[K     |████████████████████████████▍   | 1.2MB 6.1MB/s eta 0:00:01\r\u001b[K     |████████████████████████████▊   | 1.2MB 6.1MB/s eta 0:00:01\r\u001b[K     |█████████████████████████████   | 1.2MB 6.1MB/s eta 0:00:01\r\u001b[K     |█████████████████████████████▏  | 1.2MB 6.1MB/s eta 0:00:01\r\u001b[K     |█████████████████████████████▍  | 1.2MB 6.1MB/s eta 0:00:01\r\u001b[K     |█████████████████████████████▋  | 1.2MB 6.1MB/s eta 0:00:01\r\u001b[K     |██████████████████████████████  | 1.2MB 6.1MB/s eta 0:00:01\r\u001b[K     |██████████████████████████████▏ | 1.3MB 6.1MB/s eta 0:00:01\r\u001b[K     |██████████████████████████████▍ | 1.3MB 6.1MB/s eta 0:00:01\r\u001b[K     |██████████████████████████████▋ | 1.3MB 6.1MB/s eta 0:00:01\r\u001b[K     |██████████████████████████████▉ | 1.3MB 6.1MB/s eta 0:00:01\r\u001b[K     |███████████████████████████████▏| 1.3MB 6.1MB/s eta 0:00:01\r\u001b[K     |███████████████████████████████▍| 1.3MB 6.1MB/s eta 0:00:01\r\u001b[K     |███████████████████████████████▋| 1.3MB 6.1MB/s eta 0:00:01\r\u001b[K     |███████████████████████████████▉| 1.3MB 6.1MB/s eta 0:00:01\r\u001b[K     |████████████████████████████████| 1.3MB 6.1MB/s \n",
            "\u001b[?25hRequirement already satisfied: scipy<=1.4.1,>=1.0.0 in /usr/local/lib/python3.7/dist-packages (from azureml-opendatasets) (1.4.1)\n",
            "Collecting pyspark\n",
            "\u001b[?25l  Downloading https://files.pythonhosted.org/packages/45/b0/9d6860891ab14a39d4bddf80ba26ce51c2f9dc4805e5c6978ac0472c120a/pyspark-3.1.1.tar.gz (212.3MB)\n",
            "\u001b[K     |████████████████████████████████| 212.3MB 73kB/s \n",
            "\u001b[?25hRequirement already satisfied: pyarrow>=0.16.0 in /usr/local/lib/python3.7/dist-packages (from azureml-opendatasets) (3.0.0)\n",
            "Collecting azureml-telemetry~=1.27.0\n",
            "  Downloading https://files.pythonhosted.org/packages/2a/3d/18ca01b7cc9b20073a7ba8ac27ab20ed03a8d5d90c9931d9416cae7f8903/azureml_telemetry-1.27.0-py3-none-any.whl\n",
            "Collecting pandas<=1.0.0,>=0.21.0\n",
            "\u001b[?25l  Downloading https://files.pythonhosted.org/packages/16/cf/5d4614610a6be006ea5715f76e261cb8bc0031a97e43f9915bddb404a3f5/pandas-1.0.0-cp37-cp37m-manylinux1_x86_64.whl (10.0MB)\n",
            "\u001b[K     |████████████████████████████████| 10.1MB 28.9MB/s \n",
            "\u001b[?25hCollecting numpy<=1.19.0,>=1.16.0\n",
            "\u001b[?25l  Downloading https://files.pythonhosted.org/packages/a8/31/e2c3eda7afe7dab08e1f24767b8e38ff2f30dc82bd74aa3a5324c550366a/numpy-1.19.0-cp37-cp37m-manylinux2010_x86_64.whl (14.6MB)\n",
            "\u001b[K     |████████████████████████████████| 14.6MB 202kB/s \n",
            "\u001b[?25hCollecting azureml-core~=1.27.0\n",
            "\u001b[?25l  Downloading https://files.pythonhosted.org/packages/77/cd/c151f989b6ac5910e9e79347ca5c26d8161c002b7369e0f1e7b1c4f5e293/azureml_core-1.27.0-py3-none-any.whl (2.2MB)\n",
            "\u001b[K     |████████████████████████████████| 2.2MB 33.3MB/s \n",
            "\u001b[?25hCollecting azureml-dataset-runtime[fuse,pandas]~=1.27.0\n",
            "  Downloading https://files.pythonhosted.org/packages/1a/cc/f3bbc177c175838c210bfe7284537b4d8039cd0f4c8d1f64f29d0042b142/azureml_dataset_runtime-1.27.0-py3-none-any.whl\n",
            "Collecting py4j==0.10.9\n",
            "\u001b[?25l  Downloading https://files.pythonhosted.org/packages/9e/b6/6a4fb90cd235dc8e265a6a2067f2a2c99f0d91787f06aca4bcf7c23f3f80/py4j-0.10.9-py2.py3-none-any.whl (198kB)\n",
            "\u001b[K     |████████████████████████████████| 204kB 45.3MB/s \n",
            "\u001b[?25hCollecting applicationinsights\n",
            "\u001b[?25l  Downloading https://files.pythonhosted.org/packages/f4/0d/cb6b23164eb55eebaa5f9f302dfe557cfa751bd7b2779863f1abd0343b6b/applicationinsights-0.11.10-py2.py3-none-any.whl (55kB)\n",
            "\u001b[K     |████████████████████████████████| 61kB 4.7MB/s \n",
            "\u001b[?25hRequirement already satisfied: pytz>=2017.2 in /usr/local/lib/python3.7/dist-packages (from pandas<=1.0.0,>=0.21.0->azureml-opendatasets) (2018.9)\n",
            "Requirement already satisfied: python-dateutil>=2.6.1 in /usr/local/lib/python3.7/dist-packages (from pandas<=1.0.0,>=0.21.0->azureml-opendatasets) (2.8.1)\n",
            "Collecting azure-graphrbac<1.0.0,>=0.40.0\n",
            "\u001b[?25l  Downloading https://files.pythonhosted.org/packages/3e/93/02056aca45162f9fc275d1eaad12a2a07ef92375afb48eabddc4134b8315/azure_graphrbac-0.61.1-py2.py3-none-any.whl (141kB)\n",
            "\u001b[K     |████████████████████████████████| 143kB 40.0MB/s \n",
            "\u001b[?25hRequirement already satisfied: requests<3.0.0,>=2.19.1 in /usr/local/lib/python3.7/dist-packages (from azureml-core~=1.27.0->azureml-opendatasets) (2.23.0)\n",
            "Collecting backports.tempfile\n",
            "  Downloading https://files.pythonhosted.org/packages/b4/5c/077f910632476281428fe254807952eb47ca78e720d059a46178c541e669/backports.tempfile-1.0-py2.py3-none-any.whl\n",
            "Collecting jsonpickle<3.0.0\n",
            "  Downloading https://files.pythonhosted.org/packages/bb/1a/f2db026d4d682303793559f1c2bb425ba3ec0d6fd7ac63397790443f2461/jsonpickle-2.0.0-py2.py3-none-any.whl\n",
            "Requirement already satisfied: urllib3>=1.23 in /usr/local/lib/python3.7/dist-packages (from azureml-core~=1.27.0->azureml-opendatasets) (1.24.3)\n",
            "Collecting azure-mgmt-resource<15.0.0,>=1.2.1\n",
            "\u001b[?25l  Downloading https://files.pythonhosted.org/packages/55/f6/7db7f9f144cac5924dbd6a8bcba2bac872dfbf3137b83c41a0ea136b3449/azure_mgmt_resource-12.1.0-py2.py3-none-any.whl (1.1MB)\n",
            "\u001b[K     |████████████████████████████████| 1.1MB 32.8MB/s \n",
            "\u001b[?25hCollecting ndg-httpsclient\n",
            "  Downloading https://files.pythonhosted.org/packages/fb/67/c2f508c00ed2a6911541494504b7cac16fe0b0473912568df65fd1801132/ndg_httpsclient-0.5.1-py3-none-any.whl\n",
            "Collecting jmespath<1.0.0\n",
            "  Downloading https://files.pythonhosted.org/packages/07/cb/5f001272b6faeb23c1c9e0acc04d48eaaf5c862c17709d20e3469c6e0139/jmespath-0.10.0-py2.py3-none-any.whl\n",
            "Collecting PyJWT<3.0.0\n",
            "  Downloading https://files.pythonhosted.org/packages/3f/32/d5d3cab27fee7f6b22d7cd7507547ae45d52e26030fa77d1f83d0526c6e5/PyJWT-2.1.0-py3-none-any.whl\n",
            "Collecting azure-mgmt-containerregistry>=2.0.0\n",
            "\u001b[?25l  Downloading https://files.pythonhosted.org/packages/97/70/8c2d0509db466678eba16fa2b0a539499f3b351b1f2993126ad843d5be13/azure_mgmt_containerregistry-2.8.0-py2.py3-none-any.whl (718kB)\n",
            "\u001b[K     |████████████████████████████████| 727kB 36.1MB/s \n",
            "\u001b[?25hCollecting docker<5.0.0\n",
            "\u001b[?25l  Downloading https://files.pythonhosted.org/packages/c4/22/410313ad554477e87ec406d38d85f810e61ddb0d2fc44e64994857476de9/docker-4.4.4-py2.py3-none-any.whl (147kB)\n",
            "\u001b[K     |████████████████████████████████| 153kB 28.7MB/s \n",
            "\u001b[?25hCollecting adal>=1.2.0\n",
            "\u001b[?25l  Downloading https://files.pythonhosted.org/packages/49/8d/58008a9a86075827f99aa8bb75d8db515bb9c34654f95e647cda31987db7/adal-1.2.7-py2.py3-none-any.whl (55kB)\n",
            "\u001b[K     |████████████████████████████████| 61kB 5.2MB/s \n",
            "\u001b[?25hCollecting SecretStorage<4.0.0\n",
            "  Downloading https://files.pythonhosted.org/packages/d9/1e/29cd69fdac7391aa51510dfd42aa70b4e6a826c8cd019ee2a8ab9ec0777f/SecretStorage-3.3.1-py3-none-any.whl\n",
            "Collecting azure-mgmt-keyvault<7.0.0,>=0.40.0\n",
            "\u001b[?25l  Downloading https://files.pythonhosted.org/packages/f1/af/1ba15e7176bcf6b1531b453e410ae41a983c09f834d8700dfce739451b53/azure_mgmt_keyvault-2.2.0-py2.py3-none-any.whl (89kB)\n",
            "\u001b[K     |████████████████████████████████| 92kB 8.5MB/s \n",
            "\u001b[?25hRequirement already satisfied: contextlib2<1.0.0 in /usr/local/lib/python3.7/dist-packages (from azureml-core~=1.27.0->azureml-opendatasets) (0.5.5)\n",
            "Collecting msrest<1.0.0,>=0.5.1\n",
            "\u001b[?25l  Downloading https://files.pythonhosted.org/packages/e8/cc/6c96bfb3d3cf4c3bdedfa6b46503223f4c2a4fa388377697e0f8082a4fed/msrest-0.6.21-py2.py3-none-any.whl (85kB)\n",
            "\u001b[K     |████████████████████████████████| 92kB 7.1MB/s \n",
            "\u001b[?25hCollecting ruamel.yaml<1.0.0,>=0.15.35\n",
            "\u001b[?25l  Downloading https://files.pythonhosted.org/packages/29/4e/c3105bbbbc662f6a671a505f00ec771e93b5254f09fbb06002af9087071a/ruamel.yaml-0.17.4-py3-none-any.whl (101kB)\n",
            "\u001b[K     |████████████████████████████████| 102kB 9.1MB/s \n",
            "\u001b[?25hCollecting msrestazure>=0.4.33\n",
            "\u001b[?25l  Downloading https://files.pythonhosted.org/packages/5e/3a/7adb08fd2f0ee6fdfd03685fac38477b64f184943dcf6ea0cbffb205f22d/msrestazure-0.6.4-py2.py3-none-any.whl (40kB)\n",
            "\u001b[K     |████████████████████████████████| 40kB 4.0MB/s \n",
            "\u001b[?25hCollecting pathspec<1.0.0\n",
            "  Downloading https://files.pythonhosted.org/packages/29/29/a465741a3d97ea3c17d21eaad4c64205428bde56742360876c4391f930d4/pathspec-0.8.1-py2.py3-none-any.whl\n",
            "Collecting azure-mgmt-storage<16.0.0,>=1.5.0\n",
            "\u001b[?25l  Downloading https://files.pythonhosted.org/packages/33/cc/8ace313fd151af6663b1e1778f216532eab0258133ef21498c0e2caefad6/azure_mgmt_storage-11.2.0-py2.py3-none-any.whl (547kB)\n",
            "\u001b[K     |████████████████████████████████| 552kB 36.3MB/s \n",
            "\u001b[?25hCollecting azure-mgmt-authorization<1.0.0,>=0.40.0\n",
            "\u001b[?25l  Downloading https://files.pythonhosted.org/packages/b4/50/7a923f58bf053280fe1890f3332c08f6a82a208c92035ad8f7888c87b786/azure_mgmt_authorization-0.61.0-py2.py3-none-any.whl (94kB)\n",
            "\u001b[K     |████████████████████████████████| 102kB 9.8MB/s \n",
            "\u001b[?25hCollecting cryptography!=1.9,!=2.0.*,!=2.1.*,!=2.2.*,<4.0.0\n",
            "\u001b[?25l  Downloading https://files.pythonhosted.org/packages/b2/26/7af637e6a7e87258b963f1731c5982fb31cd507f0d90d91836e446955d02/cryptography-3.4.7-cp36-abi3-manylinux2014_x86_64.whl (3.2MB)\n",
            "\u001b[K     |████████████████████████████████| 3.2MB 25.6MB/s \n",
            "\u001b[?25hCollecting pyopenssl<21.0.0\n",
            "\u001b[?25l  Downloading https://files.pythonhosted.org/packages/b2/5e/06351ede29fd4899782ad335c2e02f1f862a887c20a3541f17c3fa1a3525/pyOpenSSL-20.0.1-py2.py3-none-any.whl (54kB)\n",
            "\u001b[K     |████████████████████████████████| 61kB 6.4MB/s \n",
            "\u001b[?25hCollecting azure-common<2.0.0,>=1.1.12\n",
            "  Downloading https://files.pythonhosted.org/packages/9e/1e/cfe7987493242e8b9ead309cfd76fc500c38bbefe192192b813325d289f3/azure_common-1.1.27-py2.py3-none-any.whl\n",
            "Collecting azureml-dataprep<2.15.0a,>=2.14.0a\n",
            "\u001b[?25l  Downloading https://files.pythonhosted.org/packages/b5/34/e3590c24afaa67693ba38f9ee5da07f1f974fbe06190debcf2bc0f1e8a80/azureml_dataprep-2.14.2-py3-none-any.whl (39.4MB)\n",
            "\u001b[K     |████████████████████████████████| 39.4MB 85kB/s \n",
            "\u001b[?25hCollecting fusepy<4.0.0,>=3.0.1; extra == \"fuse\"\n",
            "  Downloading https://files.pythonhosted.org/packages/04/0b/4506cb2e831cea4b0214d3625430e921faaa05a7fb520458c75a2dbd2152/fusepy-3.0.1.tar.gz\n",
            "Requirement already satisfied: six>=1.5 in /usr/local/lib/python3.7/dist-packages (from python-dateutil>=2.6.1->pandas<=1.0.0,>=0.21.0->azureml-opendatasets) (1.15.0)\n",
            "Requirement already satisfied: certifi>=2017.4.17 in /usr/local/lib/python3.7/dist-packages (from requests<3.0.0,>=2.19.1->azureml-core~=1.27.0->azureml-opendatasets) (2020.12.5)\n",
            "Requirement already satisfied: idna<3,>=2.5 in /usr/local/lib/python3.7/dist-packages (from requests<3.0.0,>=2.19.1->azureml-core~=1.27.0->azureml-opendatasets) (2.10)\n",
            "Requirement already satisfied: chardet<4,>=3.0.2 in /usr/local/lib/python3.7/dist-packages (from requests<3.0.0,>=2.19.1->azureml-core~=1.27.0->azureml-opendatasets) (3.0.4)\n",
            "Collecting backports.weakref\n",
            "  Downloading https://files.pythonhosted.org/packages/88/ec/f598b633c3d5ffe267aaada57d961c94fdfa183c5c3ebda2b6d151943db6/backports.weakref-1.0.post1-py2.py3-none-any.whl\n",
            "Requirement already satisfied: importlib-metadata; python_version < \"3.8\" in /usr/local/lib/python3.7/dist-packages (from jsonpickle<3.0.0->azureml-core~=1.27.0->azureml-opendatasets) (3.10.1)\n",
            "Requirement already satisfied: pyasn1>=0.1.1 in /usr/local/lib/python3.7/dist-packages (from ndg-httpsclient->azureml-core~=1.27.0->azureml-opendatasets) (0.4.8)\n",
            "Collecting websocket-client>=0.32.0\n",
            "\u001b[?25l  Downloading https://files.pythonhosted.org/packages/f7/0c/d52a2a63512a613817846d430d16a8fbe5ea56dd889e89c68facf6b91cb6/websocket_client-0.59.0-py2.py3-none-any.whl (67kB)\n",
            "\u001b[K     |████████████████████████████████| 71kB 6.3MB/s \n",
            "\u001b[?25hCollecting jeepney>=0.6\n",
            "\u001b[?25l  Downloading https://files.pythonhosted.org/packages/51/b0/a6ea72741aaac3f37fb96d195e4ee576a103c4c04e279bc6b446a70960e1/jeepney-0.6.0-py3-none-any.whl (45kB)\n",
            "\u001b[K     |████████████████████████████████| 51kB 5.3MB/s \n",
            "\u001b[?25hRequirement already satisfied: requests-oauthlib>=0.5.0 in /usr/local/lib/python3.7/dist-packages (from msrest<1.0.0,>=0.5.1->azureml-core~=1.27.0->azureml-opendatasets) (1.3.0)\n",
            "Collecting isodate>=0.6.0\n",
            "\u001b[?25l  Downloading https://files.pythonhosted.org/packages/9b/9f/b36f7774ff5ea8e428fdcfc4bb332c39ee5b9362ddd3d40d9516a55221b2/isodate-0.6.0-py2.py3-none-any.whl (45kB)\n",
            "\u001b[K     |████████████████████████████████| 51kB 5.0MB/s \n",
            "\u001b[?25hCollecting ruamel.yaml.clib>=0.1.2; platform_python_implementation == \"CPython\" and python_version < \"3.10\"\n",
            "\u001b[?25l  Downloading https://files.pythonhosted.org/packages/5e/6e/f652c56bbb2c3d3fca252ffc7c0358597f57a1bbdf484dac683054950c63/ruamel.yaml.clib-0.2.2-cp37-cp37m-manylinux1_x86_64.whl (547kB)\n",
            "\u001b[K     |████████████████████████████████| 552kB 42.6MB/s \n",
            "\u001b[?25hRequirement already satisfied: cffi>=1.12 in /usr/local/lib/python3.7/dist-packages (from cryptography!=1.9,!=2.0.*,!=2.1.*,!=2.2.*,<4.0.0->azureml-core~=1.27.0->azureml-opendatasets) (1.14.5)\n",
            "Collecting dotnetcore2<3.0.0,>=2.1.14\n",
            "\u001b[?25l  Downloading https://files.pythonhosted.org/packages/b4/76/464fd2deb6d640547f4c269a0941883a45001103d4756611c52c75232e5a/dotnetcore2-2.1.20-py3-none-manylinux1_x86_64.whl (28.7MB)\n",
            "\u001b[K     |████████████████████████████████| 28.7MB 167kB/s \n",
            "\u001b[?25hCollecting azureml-dataprep-rslex<1.13.0a,>=1.12.0dev0\n",
            "\u001b[?25l  Downloading https://files.pythonhosted.org/packages/aa/42/e06e773bc026a55a4a495931c2353b16ed63080d92d793819e745e2987a0/azureml_dataprep_rslex-1.12.1-cp37-cp37m-manylinux1_x86_64.whl (9.7MB)\n",
            "\u001b[K     |████████████████████████████████| 9.7MB 30.3MB/s \n",
            "\u001b[?25hCollecting azure-identity<1.5.0,>=1.2.0\n",
            "\u001b[?25l  Downloading https://files.pythonhosted.org/packages/93/97/0e57f9d0bb0e9aee5cce0007616f6d3c2e09931fd24ad140c9cc3b06b7ef/azure_identity-1.4.1-py2.py3-none-any.whl (86kB)\n",
            "\u001b[K     |████████████████████████████████| 92kB 8.7MB/s \n",
            "\u001b[?25hCollecting azureml-dataprep-native<34.0.0,>=33.0.0\n",
            "\u001b[?25l  Downloading https://files.pythonhosted.org/packages/8d/49/80ee50ad2c9cb56c3816d25ffcc92315585b9063b17fa6d2c2886cb8dc69/azureml_dataprep_native-33.0.0-cp37-cp37m-manylinux1_x86_64.whl (1.3MB)\n",
            "\u001b[K     |████████████████████████████████| 1.3MB 34.5MB/s \n",
            "\u001b[?25hRequirement already satisfied: cloudpickle<2.0.0,>=1.1.0 in /usr/local/lib/python3.7/dist-packages (from azureml-dataprep<2.15.0a,>=2.14.0a->azureml-dataset-runtime[fuse,pandas]~=1.27.0->azureml-opendatasets) (1.3.0)\n",
            "Requirement already satisfied: zipp>=0.5 in /usr/local/lib/python3.7/dist-packages (from importlib-metadata; python_version < \"3.8\"->jsonpickle<3.0.0->azureml-core~=1.27.0->azureml-opendatasets) (3.4.1)\n",
            "Requirement already satisfied: typing-extensions>=3.6.4; python_version < \"3.8\" in /usr/local/lib/python3.7/dist-packages (from importlib-metadata; python_version < \"3.8\"->jsonpickle<3.0.0->azureml-core~=1.27.0->azureml-opendatasets) (3.7.4.3)\n",
            "Requirement already satisfied: oauthlib>=3.0.0 in /usr/local/lib/python3.7/dist-packages (from requests-oauthlib>=0.5.0->msrest<1.0.0,>=0.5.1->azureml-core~=1.27.0->azureml-opendatasets) (3.1.0)\n",
            "Requirement already satisfied: pycparser in /usr/local/lib/python3.7/dist-packages (from cffi>=1.12->cryptography!=1.9,!=2.0.*,!=2.1.*,!=2.2.*,<4.0.0->azureml-core~=1.27.0->azureml-opendatasets) (2.20)\n",
            "Collecting distro>=1.2.0\n",
            "  Downloading https://files.pythonhosted.org/packages/25/b7/b3c4270a11414cb22c6352ebc7a83aaa3712043be29daa05018fd5a5c956/distro-1.5.0-py2.py3-none-any.whl\n",
            "Collecting azure-core<2.0.0,>=1.0.0\n",
            "\u001b[?25l  Downloading https://files.pythonhosted.org/packages/19/18/21cfd7faf7ab24c35689c9f199179081cee8fec44668c7f090e1db61226d/azure_core-1.13.0-py2.py3-none-any.whl (133kB)\n",
            "\u001b[K     |████████████████████████████████| 143kB 24.7MB/s \n",
            "\u001b[?25hCollecting msal-extensions~=0.2.2\n",
            "  Downloading https://files.pythonhosted.org/packages/33/da/eed514cb6902405c5c11a03f1e65adbd95e2c26d9b22eae390eddb561201/msal_extensions-0.2.2-py2.py3-none-any.whl\n",
            "Collecting msal<2.0.0,>=1.3.0\n",
            "\u001b[?25l  Downloading https://files.pythonhosted.org/packages/68/a9/b534f1158ffce8c551dea86d90981e9bd892f310c4c27d079d6b4b88849a/msal-1.11.0-py2.py3-none-any.whl (63kB)\n",
            "\u001b[K     |████████████████████████████████| 71kB 7.1MB/s \n",
            "\u001b[?25hCollecting portalocker~=1.0; platform_system != \"Windows\"\n",
            "  Downloading https://files.pythonhosted.org/packages/3b/e7/ceef002a300a98a208232fab593183249b6964b306ee7dabb29908419cca/portalocker-1.7.1-py2.py3-none-any.whl\n",
            "Building wheels for collected packages: pyspark, fusepy\n",
            "  Building wheel for pyspark (setup.py) ... \u001b[?25l\u001b[?25hdone\n",
            "  Created wheel for pyspark: filename=pyspark-3.1.1-py2.py3-none-any.whl size=212767604 sha256=0c97c50c8db4d443e733af92af3580b759baf1d444a742b102e0460b20652dc9\n",
            "  Stored in directory: /root/.cache/pip/wheels/0b/90/c0/01de724414ef122bd05f056541fb6a0ecf47c7ca655f8b3c0f\n",
            "  Building wheel for fusepy (setup.py) ... \u001b[?25l\u001b[?25hdone\n",
            "  Created wheel for fusepy: filename=fusepy-3.0.1-cp37-none-any.whl size=10503 sha256=9372df01296a2ae6f8e38369e3d45ad594ad4715633b711bc9db324a27a6a126\n",
            "  Stored in directory: /root/.cache/pip/wheels/4c/a5/91/7772af9e21c461f07bb40f26d928d7d231d224977dd8353bab\n",
            "Successfully built pyspark fusepy\n",
            "\u001b[31mERROR: tensorflow 2.4.1 has requirement numpy~=1.19.2, but you'll have numpy 1.19.0 which is incompatible.\u001b[0m\n",
            "\u001b[31mERROR: google-colab 1.0.0 has requirement pandas~=1.1.0; python_version >= \"3.0\", but you'll have pandas 1.0.0 which is incompatible.\u001b[0m\n",
            "\u001b[31mERROR: fbprophet 0.7.1 has requirement pandas>=1.0.4, but you'll have pandas 1.0.0 which is incompatible.\u001b[0m\n",
            "\u001b[31mERROR: datascience 0.10.6 has requirement folium==0.2.1, but you'll have folium 0.8.3 which is incompatible.\u001b[0m\n",
            "\u001b[31mERROR: albumentations 0.1.12 has requirement imgaug<0.2.7,>=0.2.5, but you'll have imgaug 0.2.9 which is incompatible.\u001b[0m\n",
            "\u001b[31mERROR: azureml-dataset-runtime 1.27.0 has requirement pyarrow<2.0.0,>=0.17.0, but you'll have pyarrow 3.0.0 which is incompatible.\u001b[0m\n",
            "Installing collected packages: py4j, pyspark, cryptography, PyJWT, adal, isodate, msrest, msrestazure, azure-common, azure-graphrbac, backports.weakref, backports.tempfile, jsonpickle, azure-mgmt-resource, pyopenssl, ndg-httpsclient, jmespath, azure-mgmt-containerregistry, websocket-client, docker, jeepney, SecretStorage, azure-mgmt-keyvault, ruamel.yaml.clib, ruamel.yaml, pathspec, azure-mgmt-storage, azure-mgmt-authorization, azureml-core, applicationinsights, azureml-telemetry, numpy, pandas, distro, dotnetcore2, azureml-dataprep-rslex, azure-core, msal, portalocker, msal-extensions, azure-identity, azureml-dataprep-native, azureml-dataprep, fusepy, azureml-dataset-runtime, azureml-opendatasets\n",
            "  Found existing installation: numpy 1.19.5\n",
            "    Uninstalling numpy-1.19.5:\n",
            "      Successfully uninstalled numpy-1.19.5\n",
            "  Found existing installation: pandas 1.1.5\n",
            "    Uninstalling pandas-1.1.5:\n",
            "      Successfully uninstalled pandas-1.1.5\n",
            "Successfully installed PyJWT-2.1.0 SecretStorage-3.3.1 adal-1.2.7 applicationinsights-0.11.10 azure-common-1.1.27 azure-core-1.13.0 azure-graphrbac-0.61.1 azure-identity-1.4.1 azure-mgmt-authorization-0.61.0 azure-mgmt-containerregistry-2.8.0 azure-mgmt-keyvault-2.2.0 azure-mgmt-resource-12.1.0 azure-mgmt-storage-11.2.0 azureml-core-1.27.0 azureml-dataprep-2.14.2 azureml-dataprep-native-33.0.0 azureml-dataprep-rslex-1.12.1 azureml-dataset-runtime-1.27.0 azureml-opendatasets-1.27.0 azureml-telemetry-1.27.0 backports.tempfile-1.0 backports.weakref-1.0.post1 cryptography-3.4.7 distro-1.5.0 docker-4.4.4 dotnetcore2-2.1.20 fusepy-3.0.1 isodate-0.6.0 jeepney-0.6.0 jmespath-0.10.0 jsonpickle-2.0.0 msal-1.11.0 msal-extensions-0.2.2 msrest-0.6.21 msrestazure-0.6.4 ndg-httpsclient-0.5.1 numpy-1.19.0 pandas-1.0.0 pathspec-0.8.1 portalocker-1.7.1 py4j-0.10.9 pyopenssl-20.0.1 pyspark-3.1.1 ruamel.yaml-0.17.4 ruamel.yaml.clib-0.2.2 websocket-client-0.59.0\n"
          ],
          "name": "stdout"
        },
        {
          "output_type": "display_data",
          "data": {
            "application/vnd.colab-display-data+json": {
              "pip_warning": {
                "packages": [
                  "numpy",
                  "pandas"
                ]
              }
            }
          },
          "metadata": {
            "tags": []
          }
        }
      ]
    },
    {
      "cell_type": "code",
      "metadata": {
        "id": "SE84nS8hcR7-"
      },
      "source": [
        "# import NoaaIsdWeather class from azureml-opendatasets\n",
        "\n",
        "from azureml.opendatasets import NoaaIsdWeather\n",
        "\n",
        "from datetime import datetime\n",
        "from dateutil import parser\n",
        "from dateutil.relativedelta import relativedelta"
      ],
      "execution_count": 1,
      "outputs": []
    },
    {
      "cell_type": "markdown",
      "metadata": {
        "id": "OXJ7M2E4cnpm"
      },
      "source": [
        "1. Set start_date and end_date.\n",
        "2. New an instance of NoaaIsdWeather.\n",
        "3. Call to_spark_dataframe() method to get a Spark DataFrame for the given date range."
      ]
    },
    {
      "cell_type": "code",
      "metadata": {
        "colab": {
          "base_uri": "https://localhost:8080/",
          "height": 1000
        },
        "id": "jsqbM8rNcfhQ",
        "outputId": "1bbb14a9-5e1d-40f2-e2bb-7da01c10dbfb"
      },
      "source": [
        "start_date = parser.parse('2019-1-1')\n",
        "end_date = parser.parse('2019-3-31')\n",
        "isd = NoaaIsdWeather(start_date, end_date)\n",
        "df = isd.to_spark_dataframe()\n",
        "display(df.limit(10))"
      ],
      "execution_count": 3,
      "outputs": [
        {
          "output_type": "error",
          "ename": "Py4JJavaError",
          "evalue": "ignored",
          "traceback": [
            "\u001b[0;31m---------------------------------------------------------------------------\u001b[0m",
            "\u001b[0;31mPy4JJavaError\u001b[0m                             Traceback (most recent call last)",
            "\u001b[0;32m<ipython-input-3-e055223274a1>\u001b[0m in \u001b[0;36m<module>\u001b[0;34m()\u001b[0m\n\u001b[1;32m      2\u001b[0m \u001b[0mend_date\u001b[0m \u001b[0;34m=\u001b[0m \u001b[0mparser\u001b[0m\u001b[0;34m.\u001b[0m\u001b[0mparse\u001b[0m\u001b[0;34m(\u001b[0m\u001b[0;34m'2019-3-31'\u001b[0m\u001b[0;34m)\u001b[0m\u001b[0;34m\u001b[0m\u001b[0;34m\u001b[0m\u001b[0m\n\u001b[1;32m      3\u001b[0m \u001b[0misd\u001b[0m \u001b[0;34m=\u001b[0m \u001b[0mNoaaIsdWeather\u001b[0m\u001b[0;34m(\u001b[0m\u001b[0mstart_date\u001b[0m\u001b[0;34m,\u001b[0m \u001b[0mend_date\u001b[0m\u001b[0;34m)\u001b[0m\u001b[0;34m\u001b[0m\u001b[0;34m\u001b[0m\u001b[0m\n\u001b[0;32m----> 4\u001b[0;31m \u001b[0mdf\u001b[0m \u001b[0;34m=\u001b[0m \u001b[0misd\u001b[0m\u001b[0;34m.\u001b[0m\u001b[0mto_spark_dataframe\u001b[0m\u001b[0;34m(\u001b[0m\u001b[0;34m)\u001b[0m\u001b[0;34m\u001b[0m\u001b[0;34m\u001b[0m\u001b[0m\n\u001b[0m\u001b[1;32m      5\u001b[0m \u001b[0mdisplay\u001b[0m\u001b[0;34m(\u001b[0m\u001b[0mdf\u001b[0m\u001b[0;34m.\u001b[0m\u001b[0mlimit\u001b[0m\u001b[0;34m(\u001b[0m\u001b[0;36m10\u001b[0m\u001b[0;34m)\u001b[0m\u001b[0;34m)\u001b[0m\u001b[0;34m\u001b[0m\u001b[0;34m\u001b[0m\u001b[0m\n",
            "\u001b[0;32m/usr/local/lib/python3.7/dist-packages/azureml/opendatasets/accessories/_loggerfactory.py\u001b[0m in \u001b[0;36mwrapper\u001b[0;34m(*args, **kwargs)\u001b[0m\n\u001b[1;32m    137\u001b[0m             \u001b[0;32mwith\u001b[0m \u001b[0m_LoggerFactory\u001b[0m\u001b[0;34m.\u001b[0m\u001b[0mtrack_activity\u001b[0m\u001b[0;34m(\u001b[0m\u001b[0mlogger\u001b[0m\u001b[0;34m,\u001b[0m \u001b[0mfunc\u001b[0m\u001b[0;34m.\u001b[0m\u001b[0m__name__\u001b[0m\u001b[0;34m,\u001b[0m \u001b[0mactivity_type\u001b[0m\u001b[0;34m,\u001b[0m \u001b[0mcustom_dimensions\u001b[0m\u001b[0;34m)\u001b[0m \u001b[0;32mas\u001b[0m \u001b[0mal\u001b[0m\u001b[0;34m:\u001b[0m\u001b[0;34m\u001b[0m\u001b[0;34m\u001b[0m\u001b[0m\n\u001b[1;32m    138\u001b[0m                 \u001b[0;32mtry\u001b[0m\u001b[0;34m:\u001b[0m\u001b[0;34m\u001b[0m\u001b[0;34m\u001b[0m\u001b[0m\n\u001b[0;32m--> 139\u001b[0;31m                     \u001b[0;32mreturn\u001b[0m \u001b[0mfunc\u001b[0m\u001b[0;34m(\u001b[0m\u001b[0;34m*\u001b[0m\u001b[0margs\u001b[0m\u001b[0;34m,\u001b[0m \u001b[0;34m**\u001b[0m\u001b[0mkwargs\u001b[0m\u001b[0;34m)\u001b[0m\u001b[0;34m\u001b[0m\u001b[0;34m\u001b[0m\u001b[0m\n\u001b[0m\u001b[1;32m    140\u001b[0m                 \u001b[0;32mexcept\u001b[0m \u001b[0mException\u001b[0m \u001b[0;32mas\u001b[0m \u001b[0me\u001b[0m\u001b[0;34m:\u001b[0m\u001b[0;34m\u001b[0m\u001b[0;34m\u001b[0m\u001b[0m\n\u001b[1;32m    141\u001b[0m                     \u001b[0mal\u001b[0m\u001b[0;34m.\u001b[0m\u001b[0mactivity_info\u001b[0m\u001b[0;34m[\u001b[0m\u001b[0;34m'error_message'\u001b[0m\u001b[0;34m]\u001b[0m \u001b[0;34m=\u001b[0m \u001b[0mstr\u001b[0m\u001b[0;34m(\u001b[0m\u001b[0me\u001b[0m\u001b[0;34m)\u001b[0m\u001b[0;34m\u001b[0m\u001b[0;34m\u001b[0m\u001b[0m\n",
            "\u001b[0;32m/usr/local/lib/python3.7/dist-packages/azureml/opendatasets/accessories/open_dataset_base.py\u001b[0m in \u001b[0;36mto_spark_dataframe\u001b[0;34m(self)\u001b[0m\n\u001b[1;32m    162\u001b[0m             _LoggerFactory.log_event(\n\u001b[1;32m    163\u001b[0m                 'to_spark_dataframe_in_worker', **self._log_properties)\n\u001b[0;32m--> 164\u001b[0;31m         \u001b[0;32mreturn\u001b[0m \u001b[0mself\u001b[0m\u001b[0;34m.\u001b[0m\u001b[0m_to_spark_dataframe\u001b[0m\u001b[0;34m(\u001b[0m\u001b[0;34m)\u001b[0m\u001b[0;34m\u001b[0m\u001b[0;34m\u001b[0m\u001b[0m\n\u001b[0m\u001b[1;32m    165\u001b[0m \u001b[0;34m\u001b[0m\u001b[0m\n\u001b[1;32m    166\u001b[0m     \u001b[0;34m@\u001b[0m\u001b[0mclassmethod\u001b[0m\u001b[0;34m\u001b[0m\u001b[0;34m\u001b[0m\u001b[0m\n",
            "\u001b[0;32m/usr/local/lib/python3.7/dist-packages/azureml/opendatasets/accessories/open_dataset_base.py\u001b[0m in \u001b[0;36m_to_spark_dataframe\u001b[0;34m(self)\u001b[0m\n\u001b[1;32m    305\u001b[0m         return self._blob_accessor.get_spark_dataframe(\n\u001b[1;32m    306\u001b[0m             \u001b[0mself\u001b[0m\u001b[0;34m.\u001b[0m\u001b[0mcols\u001b[0m\u001b[0;34m,\u001b[0m\u001b[0;34m\u001b[0m\u001b[0;34m\u001b[0m\u001b[0m\n\u001b[0;32m--> 307\u001b[0;31m             \u001b[0;34m**\u001b[0m\u001b[0mself\u001b[0m\u001b[0;34m.\u001b[0m\u001b[0m_kwargs\u001b[0m\u001b[0;34m\u001b[0m\u001b[0;34m\u001b[0m\u001b[0m\n\u001b[0m\u001b[1;32m    308\u001b[0m         )\n\u001b[1;32m    309\u001b[0m \u001b[0;34m\u001b[0m\u001b[0m\n",
            "\u001b[0;32m/usr/local/lib/python3.7/dist-packages/azureml/opendatasets/dataaccess/_blob_accessor.py\u001b[0m in \u001b[0;36mget_spark_dataframe\u001b[0;34m(self, cols, **kwargs)\u001b[0m\n\u001b[1;32m    306\u001b[0m         \u001b[0mdf\u001b[0m \u001b[0;34m=\u001b[0m \u001b[0mspark\u001b[0m\u001b[0;34m.\u001b[0m\u001b[0mread\u001b[0m\u001b[0;31m \u001b[0m\u001b[0;31m\\\u001b[0m\u001b[0;34m\u001b[0m\u001b[0;34m\u001b[0m\u001b[0m\n\u001b[1;32m    307\u001b[0m             \u001b[0;34m.\u001b[0m\u001b[0moption\u001b[0m\u001b[0;34m(\u001b[0m\u001b[0;34m\"basePath\"\u001b[0m\u001b[0;34m,\u001b[0m \u001b[0mself\u001b[0m\u001b[0;34m.\u001b[0m\u001b[0mget_data_wasbs_path\u001b[0m\u001b[0;34m(\u001b[0m\u001b[0;34m)\u001b[0m\u001b[0;34m)\u001b[0m\u001b[0;31m \u001b[0m\u001b[0;31m\\\u001b[0m\u001b[0;34m\u001b[0m\u001b[0;34m\u001b[0m\u001b[0m\n\u001b[0;32m--> 308\u001b[0;31m             \u001b[0;34m.\u001b[0m\u001b[0mparquet\u001b[0m\u001b[0;34m(\u001b[0m\u001b[0;34m*\u001b[0m\u001b[0mpaths\u001b[0m\u001b[0;34m)\u001b[0m\u001b[0;34m\u001b[0m\u001b[0;34m\u001b[0m\u001b[0m\n\u001b[0m\u001b[1;32m    309\u001b[0m         \u001b[0;32mif\u001b[0m \u001b[0mcols\u001b[0m\u001b[0;34m:\u001b[0m\u001b[0;34m\u001b[0m\u001b[0;34m\u001b[0m\u001b[0m\n\u001b[1;32m    310\u001b[0m             \u001b[0mdf\u001b[0m \u001b[0;34m=\u001b[0m \u001b[0mdf\u001b[0m\u001b[0;34m.\u001b[0m\u001b[0mselect\u001b[0m\u001b[0;34m(\u001b[0m\u001b[0mcols\u001b[0m\u001b[0;34m)\u001b[0m\u001b[0;34m\u001b[0m\u001b[0;34m\u001b[0m\u001b[0m\n",
            "\u001b[0;32m/usr/local/lib/python3.7/dist-packages/pyspark/sql/readwriter.py\u001b[0m in \u001b[0;36mparquet\u001b[0;34m(self, *paths, **options)\u001b[0m\n\u001b[1;32m    456\u001b[0m                        modifiedAfter=modifiedAfter)\n\u001b[1;32m    457\u001b[0m \u001b[0;34m\u001b[0m\u001b[0m\n\u001b[0;32m--> 458\u001b[0;31m         \u001b[0;32mreturn\u001b[0m \u001b[0mself\u001b[0m\u001b[0;34m.\u001b[0m\u001b[0m_df\u001b[0m\u001b[0;34m(\u001b[0m\u001b[0mself\u001b[0m\u001b[0;34m.\u001b[0m\u001b[0m_jreader\u001b[0m\u001b[0;34m.\u001b[0m\u001b[0mparquet\u001b[0m\u001b[0;34m(\u001b[0m\u001b[0m_to_seq\u001b[0m\u001b[0;34m(\u001b[0m\u001b[0mself\u001b[0m\u001b[0;34m.\u001b[0m\u001b[0m_spark\u001b[0m\u001b[0;34m.\u001b[0m\u001b[0m_sc\u001b[0m\u001b[0;34m,\u001b[0m \u001b[0mpaths\u001b[0m\u001b[0;34m)\u001b[0m\u001b[0;34m)\u001b[0m\u001b[0;34m)\u001b[0m\u001b[0;34m\u001b[0m\u001b[0;34m\u001b[0m\u001b[0m\n\u001b[0m\u001b[1;32m    459\u001b[0m \u001b[0;34m\u001b[0m\u001b[0m\n\u001b[1;32m    460\u001b[0m     def text(self, paths, wholetext=False, lineSep=None, pathGlobFilter=None,\n",
            "\u001b[0;32m/usr/local/lib/python3.7/dist-packages/py4j/java_gateway.py\u001b[0m in \u001b[0;36m__call__\u001b[0;34m(self, *args)\u001b[0m\n\u001b[1;32m   1303\u001b[0m         \u001b[0manswer\u001b[0m \u001b[0;34m=\u001b[0m \u001b[0mself\u001b[0m\u001b[0;34m.\u001b[0m\u001b[0mgateway_client\u001b[0m\u001b[0;34m.\u001b[0m\u001b[0msend_command\u001b[0m\u001b[0;34m(\u001b[0m\u001b[0mcommand\u001b[0m\u001b[0;34m)\u001b[0m\u001b[0;34m\u001b[0m\u001b[0;34m\u001b[0m\u001b[0m\n\u001b[1;32m   1304\u001b[0m         return_value = get_return_value(\n\u001b[0;32m-> 1305\u001b[0;31m             answer, self.gateway_client, self.target_id, self.name)\n\u001b[0m\u001b[1;32m   1306\u001b[0m \u001b[0;34m\u001b[0m\u001b[0m\n\u001b[1;32m   1307\u001b[0m         \u001b[0;32mfor\u001b[0m \u001b[0mtemp_arg\u001b[0m \u001b[0;32min\u001b[0m \u001b[0mtemp_args\u001b[0m\u001b[0;34m:\u001b[0m\u001b[0;34m\u001b[0m\u001b[0;34m\u001b[0m\u001b[0m\n",
            "\u001b[0;32m/usr/local/lib/python3.7/dist-packages/pyspark/sql/utils.py\u001b[0m in \u001b[0;36mdeco\u001b[0;34m(*a, **kw)\u001b[0m\n\u001b[1;32m    109\u001b[0m     \u001b[0;32mdef\u001b[0m \u001b[0mdeco\u001b[0m\u001b[0;34m(\u001b[0m\u001b[0;34m*\u001b[0m\u001b[0ma\u001b[0m\u001b[0;34m,\u001b[0m \u001b[0;34m**\u001b[0m\u001b[0mkw\u001b[0m\u001b[0;34m)\u001b[0m\u001b[0;34m:\u001b[0m\u001b[0;34m\u001b[0m\u001b[0;34m\u001b[0m\u001b[0m\n\u001b[1;32m    110\u001b[0m         \u001b[0;32mtry\u001b[0m\u001b[0;34m:\u001b[0m\u001b[0;34m\u001b[0m\u001b[0;34m\u001b[0m\u001b[0m\n\u001b[0;32m--> 111\u001b[0;31m             \u001b[0;32mreturn\u001b[0m \u001b[0mf\u001b[0m\u001b[0;34m(\u001b[0m\u001b[0;34m*\u001b[0m\u001b[0ma\u001b[0m\u001b[0;34m,\u001b[0m \u001b[0;34m**\u001b[0m\u001b[0mkw\u001b[0m\u001b[0;34m)\u001b[0m\u001b[0;34m\u001b[0m\u001b[0;34m\u001b[0m\u001b[0m\n\u001b[0m\u001b[1;32m    112\u001b[0m         \u001b[0;32mexcept\u001b[0m \u001b[0mpy4j\u001b[0m\u001b[0;34m.\u001b[0m\u001b[0mprotocol\u001b[0m\u001b[0;34m.\u001b[0m\u001b[0mPy4JJavaError\u001b[0m \u001b[0;32mas\u001b[0m \u001b[0me\u001b[0m\u001b[0;34m:\u001b[0m\u001b[0;34m\u001b[0m\u001b[0;34m\u001b[0m\u001b[0m\n\u001b[1;32m    113\u001b[0m             \u001b[0mconverted\u001b[0m \u001b[0;34m=\u001b[0m \u001b[0mconvert_exception\u001b[0m\u001b[0;34m(\u001b[0m\u001b[0me\u001b[0m\u001b[0;34m.\u001b[0m\u001b[0mjava_exception\u001b[0m\u001b[0;34m)\u001b[0m\u001b[0;34m\u001b[0m\u001b[0;34m\u001b[0m\u001b[0m\n",
            "\u001b[0;32m/usr/local/lib/python3.7/dist-packages/py4j/protocol.py\u001b[0m in \u001b[0;36mget_return_value\u001b[0;34m(answer, gateway_client, target_id, name)\u001b[0m\n\u001b[1;32m    326\u001b[0m                 raise Py4JJavaError(\n\u001b[1;32m    327\u001b[0m                     \u001b[0;34m\"An error occurred while calling {0}{1}{2}.\\n\"\u001b[0m\u001b[0;34m.\u001b[0m\u001b[0;34m\u001b[0m\u001b[0;34m\u001b[0m\u001b[0m\n\u001b[0;32m--> 328\u001b[0;31m                     format(target_id, \".\", name), value)\n\u001b[0m\u001b[1;32m    329\u001b[0m             \u001b[0;32melse\u001b[0m\u001b[0;34m:\u001b[0m\u001b[0;34m\u001b[0m\u001b[0;34m\u001b[0m\u001b[0m\n\u001b[1;32m    330\u001b[0m                 raise Py4JError(\n",
            "\u001b[0;31mPy4JJavaError\u001b[0m: An error occurred while calling o30.parquet.\n: java.lang.RuntimeException: java.lang.ClassNotFoundException: Class org.apache.hadoop.fs.azure.NativeAzureFileSystem$Secure not found\n\tat org.apache.hadoop.conf.Configuration.getClass(Configuration.java:2595)\n\tat org.apache.hadoop.fs.FileSystem.getFileSystemClass(FileSystem.java:3269)\n\tat org.apache.hadoop.fs.FileSystem.createFileSystem(FileSystem.java:3301)\n\tat org.apache.hadoop.fs.FileSystem.access$200(FileSystem.java:124)\n\tat org.apache.hadoop.fs.FileSystem$Cache.getInternal(FileSystem.java:3352)\n\tat org.apache.hadoop.fs.FileSystem$Cache.get(FileSystem.java:3320)\n\tat org.apache.hadoop.fs.FileSystem.get(FileSystem.java:479)\n\tat org.apache.hadoop.fs.Path.getFileSystem(Path.java:361)\n\tat org.apache.spark.sql.execution.datasources.DataSource$.$anonfun$checkAndGlobPathIfNecessary$1(DataSource.scala:770)\n\tat scala.collection.TraversableLike.$anonfun$map$1(TraversableLike.scala:238)\n\tat scala.collection.immutable.List.foreach(List.scala:392)\n\tat scala.collection.TraversableLike.map(TraversableLike.scala:238)\n\tat scala.collection.TraversableLike.map$(TraversableLike.scala:231)\n\tat scala.collection.immutable.List.map(List.scala:298)\n\tat org.apache.spark.sql.execution.datasources.DataSource$.checkAndGlobPathIfNecessary(DataSource.scala:768)\n\tat org.apache.spark.sql.execution.datasources.DataSource.checkAndGlobPathIfNecessary(DataSource.scala:590)\n\tat org.apache.spark.sql.execution.datasources.DataSource.resolveRelation(DataSource.scala:415)\n\tat org.apache.spark.sql.DataFrameReader.loadV1Source(DataFrameReader.scala:326)\n\tat org.apache.spark.sql.DataFrameReader.$anonfun$load$3(DataFrameReader.scala:308)\n\tat scala.Option.getOrElse(Option.scala:189)\n\tat org.apache.spark.sql.DataFrameReader.load(DataFrameReader.scala:308)\n\tat org.apache.spark.sql.DataFrameReader.parquet(DataFrameReader.scala:834)\n\tat java.base/jdk.internal.reflect.NativeMethodAccessorImpl.invoke0(Native Method)\n\tat java.base/jdk.internal.reflect.NativeMethodAccessorImpl.invoke(NativeMethodAccessorImpl.java:62)\n\tat java.base/jdk.internal.reflect.DelegatingMethodAccessorImpl.invoke(DelegatingMethodAccessorImpl.java:43)\n\tat java.base/java.lang.reflect.Method.invoke(Method.java:566)\n\tat py4j.reflection.MethodInvoker.invoke(MethodInvoker.java:244)\n\tat py4j.reflection.ReflectionEngine.invoke(ReflectionEngine.java:357)\n\tat py4j.Gateway.invoke(Gateway.java:282)\n\tat py4j.commands.AbstractCommand.invokeMethod(AbstractCommand.java:132)\n\tat py4j.commands.CallCommand.execute(CallCommand.java:79)\n\tat py4j.GatewayConnection.run(GatewayConnection.java:238)\n\tat java.base/java.lang.Thread.run(Thread.java:829)\nCaused by: java.lang.ClassNotFoundException: Class org.apache.hadoop.fs.azure.NativeAzureFileSystem$Secure not found\n\tat org.apache.hadoop.conf.Configuration.getClassByName(Configuration.java:2499)\n\tat org.apache.hadoop.conf.Configuration.getClass(Configuration.java:2593)\n\t... 32 more\n"
          ]
        }
      ]
    },
    {
      "cell_type": "code",
      "metadata": {
        "id": "1mFOivgrccYf"
      },
      "source": [
        ""
      ],
      "execution_count": null,
      "outputs": []
    }
  ]
}