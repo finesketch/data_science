{
  "nbformat": 4,
  "nbformat_minor": 0,
  "metadata": {
    "colab": {
      "name": "Reading JSON Documents.ipynb",
      "provenance": [],
      "toc_visible": true,
      "authorship_tag": "ABX9TyOehPF0RyI2uQKDU+iPYYtb",
      "include_colab_link": true
    },
    "kernelspec": {
      "name": "python3",
      "display_name": "Python 3"
    },
    "language_info": {
      "name": "python"
    }
  },
  "cells": [
    {
      "cell_type": "markdown",
      "metadata": {
        "id": "view-in-github",
        "colab_type": "text"
      },
      "source": [
        "<a href=\"https://colab.research.google.com/github/finesketch/data_science/blob/main/Modern_Python_Cookbook/Reading_JSON_Documents.ipynb\" target=\"_parent\"><img src=\"https://colab.research.google.com/assets/colab-badge.svg\" alt=\"Open In Colab\"/></a>"
      ]
    },
    {
      "cell_type": "markdown",
      "metadata": {
        "id": "6ZgeRDpVHqRA"
      },
      "source": [
        "# How to do it ..."
      ]
    },
    {
      "cell_type": "markdown",
      "metadata": {
        "id": "CBk6nCTTQsG5"
      },
      "source": [
        "```json\n",
        "{ \n",
        "  \"teams\": [ \n",
        "    { \n",
        "      \"name\": \"Abu Dhabi Ocean Racing\", \n",
        "      \"position\": [ \n",
        "        1, \n",
        "        3, \n",
        "        2, \n",
        "        2, \n",
        "        1, \n",
        "        2, \n",
        "        5, \n",
        "        3, \n",
        "        5 \n",
        "      ] \n",
        "    }, \n",
        "    ... \n",
        "  ], \n",
        "  \"legs\": [ \n",
        "    \"ALICANTE - CAPE TOWN\", \n",
        "    \"CAPE TOWN - ABU DHABI\", \n",
        "    \"ABU DHABI - SANYA\", \n",
        "    \"SANYA - AUCKLAND\", \n",
        "    \"AUCKLAND - ITAJA\\u00cd\", \n",
        "    \"ITAJA\\u00cd - NEWPORT\", \n",
        "    \"NEWPORT - LISBON\", \n",
        "    \"LISBON - LORIENT\", \n",
        "    \"LORIENT - GOTHENBURG\" \n",
        "  ] \n",
        "} \n",
        "```\n",
        "\n",
        "Also, one of the strings contains a Unicode escape sequence, **\\u00cd**, instead of the actual Unicode character, **Í**. This is a common technique used to encode characters beyond the 128 ASCII characters."
      ]
    },
    {
      "cell_type": "code",
      "metadata": {
        "id": "iOTpxOk7Hrcl"
      },
      "source": [
        "import json"
      ],
      "execution_count": 4,
      "outputs": []
    },
    {
      "cell_type": "code",
      "metadata": {
        "id": "lFBwgTsTPskb"
      },
      "source": [
        "from pathlib import Path\n",
        "source_path = Path(\"race_result.json\")"
      ],
      "execution_count": 1,
      "outputs": []
    },
    {
      "cell_type": "code",
      "metadata": {
        "colab": {
          "base_uri": "https://localhost:8080/"
        },
        "id": "bTY0Gw49P2mY",
        "outputId": "9c845157-0ba9-4901-889e-2f50702748a9"
      },
      "source": [
        "source_path"
      ],
      "execution_count": 2,
      "outputs": [
        {
          "output_type": "execute_result",
          "data": {
            "text/plain": [
              "PosixPath('race_result.json')"
            ]
          },
          "metadata": {
            "tags": []
          },
          "execution_count": 2
        }
      ]
    },
    {
      "cell_type": "code",
      "metadata": {
        "id": "Xd9Ki2UgP5c2"
      },
      "source": [
        "document = json.loads(source_path.read_text())"
      ],
      "execution_count": 5,
      "outputs": []
    },
    {
      "cell_type": "code",
      "metadata": {
        "colab": {
          "base_uri": "https://localhost:8080/",
          "height": 35
        },
        "id": "k0WklHNkQCmv",
        "outputId": "dc41569a-fc2e-44d0-a81a-676e3b3b2f85"
      },
      "source": [
        "document['teams'][0]['name']"
      ],
      "execution_count": 6,
      "outputs": [
        {
          "output_type": "execute_result",
          "data": {
            "application/vnd.google.colaboratory.intrinsic+json": {
              "type": "string"
            },
            "text/plain": [
              "'Abu Dhabi Ocean Racing'"
            ]
          },
          "metadata": {
            "tags": []
          },
          "execution_count": 6
        }
      ]
    },
    {
      "cell_type": "code",
      "metadata": {
        "colab": {
          "base_uri": "https://localhost:8080/",
          "height": 35
        },
        "id": "mMX-7h_RQXeA",
        "outputId": "204a1bdc-bad3-4783-c2e7-9ba275b7220d"
      },
      "source": [
        "document['legs'][5]"
      ],
      "execution_count": 7,
      "outputs": [
        {
          "output_type": "execute_result",
          "data": {
            "application/vnd.google.colaboratory.intrinsic+json": {
              "type": "string"
            },
            "text/plain": [
              "'ITAJAÍ - NEWPORT'"
            ]
          },
          "metadata": {
            "tags": []
          },
          "execution_count": 7
        }
      ]
    },
    {
      "cell_type": "markdown",
      "metadata": {
        "id": "N5uj85-X75lM"
      },
      "source": [
        "## How it works\n",
        "\n",
        "A JSON document is a data structure in JavaScript Object Notation. JavaScript programs can parse the document trivially. Other languages must do a little more work to translate the JSON to a native data structure.\n",
        "\n",
        "**A JSON document contains three kind of structures:**\n",
        "\n",
        "* Object ther map to Python dictionaries: *{\"key\":\"value\"}*\n",
        "* Arrays that map to Python lists: *[item1, item2, item3, ...]*\n",
        "* Primitive values: *string, number, true/false, and null.*"
      ]
    },
    {
      "cell_type": "markdown",
      "metadata": {
        "id": "2oMh1HRt9Uei"
      },
      "source": [
        "## Deserialize JSON to Object in Python"
      ]
    },
    {
      "cell_type": "markdown",
      "metadata": {
        "id": "ysbsjuGSSksl"
      },
      "source": [
        "## Serializing a complex data structure\n",
        "\n",
        "Deserialization is the process of decoding the data that is in JSON format into native data type. In Python, deserialization decodes JSON data into a dictionary (data type in Python).\n",
        "\n",
        "> Reference: https://www.geeksforgeeks.org/deserialize-json-to-object-in-python/#:~:text=Deserialization%20is%20the%20process%20of,document%20to%20a%20Python%20object.\n",
        "\n",
        "> Reference: https://www.geeksforgeeks.org/modules-available-for-serialization-and-deserialization-in-python/\n",
        "\n"
      ]
    },
    {
      "cell_type": "markdown",
      "metadata": {
        "id": "qv0c9oFm_L5_"
      },
      "source": [
        "## Object Serialization in Python\n",
        "\n",
        "Goal is to convert the JSON into a custom Python object, and vice versa.\n",
        "\n",
        "> To do this, you would have to loop through the object and get all of its attributes one by one. This is fine for objects with few attributes, but as this number increases, your work gets tiring and repetitive.\n",
        "\n",
        "> Reference: https://medium.com/swlh/object-serialization-and-deserialization-in-python-5fad3c2970a4\n"
      ]
    },
    {
      "cell_type": "code",
      "metadata": {
        "id": "76mzuCQJ_fK8"
      },
      "source": [
        "class Person:\n",
        "  def __init__(self, name, age):\n",
        "    self.name = name\n",
        "    self.age = age\n",
        "\n",
        "person = Person(name='Bill', age=5)\n",
        "\n",
        "return_value = {\n",
        "    'name': person.name\n",
        "    'age': person.age\n",
        "}"
      ],
      "execution_count": null,
      "outputs": []
    },
    {
      "cell_type": "markdown",
      "metadata": {
        "id": "pfaaE1_V-AWg"
      },
      "source": [
        "## Python **\"json\"** module \n",
        "\n",
        "Reference: https://docs.python.org/3/library/json.html"
      ]
    },
    {
      "cell_type": "markdown",
      "metadata": {
        "id": "URxmCRkPBnfX"
      },
      "source": [
        "# Serializing a Complex Data Structure\n",
        "\n",
        "We can also create JSON documents from Python data structures. Because Python is extremely sophisticated and flexible, we can easily create Python data structures that cannot possibly be represented in JSON.\n",
        "\n",
        "The serialization to JSON works out the best if we create Python objects that are limited to simple dict, list, str, int, float, bool, and None values."
      ]
    },
    {
      "cell_type": "code",
      "metadata": {
        "colab": {
          "base_uri": "https://localhost:8080/"
        },
        "id": "pUOQY5w-QcLI",
        "outputId": "a90ba903-0c53-42c3-8159-e855a5ca8e86"
      },
      "source": [
        "import random\n",
        "random.seed(1)\n",
        "from collections import Counter\n",
        "\n",
        "colors = (['red'] * 18) + ([\"black\"] * 18) + (['green'] * 2)\n",
        "data = Counter(random.choice(colors) for _ in range(100))\n",
        "print(json.dumps(data, sort_keys=True, indent=2))"
      ],
      "execution_count": 9,
      "outputs": [
        {
          "output_type": "stream",
          "text": [
            "{\n",
            "  \"black\": 53,\n",
            "  \"green\": 7,\n",
            "  \"red\": 40\n",
            "}\n"
          ],
          "name": "stdout"
        }
      ]
    },
    {
      "cell_type": "code",
      "metadata": {
        "id": "9bEqS9UjTKqW",
        "colab": {
          "base_uri": "https://localhost:8080/"
        },
        "outputId": "dc8560c2-ce64-4935-d6b8-34087b8a4e37"
      },
      "source": [
        "colors"
      ],
      "execution_count": 10,
      "outputs": [
        {
          "output_type": "execute_result",
          "data": {
            "text/plain": [
              "['red',\n",
              " 'red',\n",
              " 'red',\n",
              " 'red',\n",
              " 'red',\n",
              " 'red',\n",
              " 'red',\n",
              " 'red',\n",
              " 'red',\n",
              " 'red',\n",
              " 'red',\n",
              " 'red',\n",
              " 'red',\n",
              " 'red',\n",
              " 'red',\n",
              " 'red',\n",
              " 'red',\n",
              " 'red',\n",
              " 'black',\n",
              " 'black',\n",
              " 'black',\n",
              " 'black',\n",
              " 'black',\n",
              " 'black',\n",
              " 'black',\n",
              " 'black',\n",
              " 'black',\n",
              " 'black',\n",
              " 'black',\n",
              " 'black',\n",
              " 'black',\n",
              " 'black',\n",
              " 'black',\n",
              " 'black',\n",
              " 'black',\n",
              " 'black',\n",
              " 'green',\n",
              " 'green']"
            ]
          },
          "metadata": {
            "tags": []
          },
          "execution_count": 10
        }
      ]
    },
    {
      "cell_type": "code",
      "metadata": {
        "colab": {
          "base_uri": "https://localhost:8080/"
        },
        "id": "bDtZ8OIXCb4G",
        "outputId": "0fd8a759-48e7-4fa4-ef0d-bbb341e834f1"
      },
      "source": [
        "data"
      ],
      "execution_count": 11,
      "outputs": [
        {
          "output_type": "execute_result",
          "data": {
            "text/plain": [
              "Counter({'black': 53, 'green': 7, 'red': 40})"
            ]
          },
          "metadata": {
            "tags": []
          },
          "execution_count": 11
        }
      ]
    },
    {
      "cell_type": "code",
      "metadata": {
        "colab": {
          "base_uri": "https://localhost:8080/"
        },
        "id": "vrCwfKkwCm9C",
        "outputId": "499363dc-6b45-4270-aff1-a8a27c330498"
      },
      "source": [
        "output_path = Path('some_path.json')\n",
        "output_path.write_text(json.dumps(data, sort_keys=True, indent=2))"
      ],
      "execution_count": 13,
      "outputs": [
        {
          "output_type": "execute_result",
          "data": {
            "text/plain": [
              "44"
            ]
          },
          "metadata": {
            "tags": []
          },
          "execution_count": 13
        }
      ]
    },
    {
      "cell_type": "code",
      "metadata": {
        "colab": {
          "base_uri": "https://localhost:8080/"
        },
        "id": "iIQ7z_o5DNy1",
        "outputId": "992f3796-05d5-4a46-bfa1-71e14a458093"
      },
      "source": [
        "# datetime.datetime object does not serialize easily\n",
        "\n",
        "import datetime\n",
        "\n",
        "example_date = datetime.datetime(2014,6,7,8,9,10)\n",
        "document = {'date': example_date}\n",
        "document"
      ],
      "execution_count": 14,
      "outputs": [
        {
          "output_type": "execute_result",
          "data": {
            "text/plain": [
              "{'date': datetime.datetime(2014, 6, 7, 8, 9, 10)}"
            ]
          },
          "metadata": {
            "tags": []
          },
          "execution_count": 14
        }
      ]
    },
    {
      "cell_type": "code",
      "metadata": {
        "colab": {
          "base_uri": "https://localhost:8080/",
          "height": 307
        },
        "id": "B9xgUQyFDwTx",
        "outputId": "0a18cecc-0858-4d82-ad74-e2f52fd711f5"
      },
      "source": [
        "json.dumps(document)"
      ],
      "execution_count": 15,
      "outputs": [
        {
          "output_type": "error",
          "ename": "TypeError",
          "evalue": "ignored",
          "traceback": [
            "\u001b[0;31m---------------------------------------------------------------------------\u001b[0m",
            "\u001b[0;31mTypeError\u001b[0m                                 Traceback (most recent call last)",
            "\u001b[0;32m<ipython-input-15-1592e45caf91>\u001b[0m in \u001b[0;36m<module>\u001b[0;34m()\u001b[0m\n\u001b[0;32m----> 1\u001b[0;31m \u001b[0mjson\u001b[0m\u001b[0;34m.\u001b[0m\u001b[0mdumps\u001b[0m\u001b[0;34m(\u001b[0m\u001b[0mdocument\u001b[0m\u001b[0;34m)\u001b[0m\u001b[0;34m\u001b[0m\u001b[0;34m\u001b[0m\u001b[0m\n\u001b[0m",
            "\u001b[0;32m/usr/lib/python3.7/json/__init__.py\u001b[0m in \u001b[0;36mdumps\u001b[0;34m(obj, skipkeys, ensure_ascii, check_circular, allow_nan, cls, indent, separators, default, sort_keys, **kw)\u001b[0m\n\u001b[1;32m    229\u001b[0m         \u001b[0mcls\u001b[0m \u001b[0;32mis\u001b[0m \u001b[0;32mNone\u001b[0m \u001b[0;32mand\u001b[0m \u001b[0mindent\u001b[0m \u001b[0;32mis\u001b[0m \u001b[0;32mNone\u001b[0m \u001b[0;32mand\u001b[0m \u001b[0mseparators\u001b[0m \u001b[0;32mis\u001b[0m \u001b[0;32mNone\u001b[0m \u001b[0;32mand\u001b[0m\u001b[0;34m\u001b[0m\u001b[0;34m\u001b[0m\u001b[0m\n\u001b[1;32m    230\u001b[0m         default is None and not sort_keys and not kw):\n\u001b[0;32m--> 231\u001b[0;31m         \u001b[0;32mreturn\u001b[0m \u001b[0m_default_encoder\u001b[0m\u001b[0;34m.\u001b[0m\u001b[0mencode\u001b[0m\u001b[0;34m(\u001b[0m\u001b[0mobj\u001b[0m\u001b[0;34m)\u001b[0m\u001b[0;34m\u001b[0m\u001b[0;34m\u001b[0m\u001b[0m\n\u001b[0m\u001b[1;32m    232\u001b[0m     \u001b[0;32mif\u001b[0m \u001b[0mcls\u001b[0m \u001b[0;32mis\u001b[0m \u001b[0;32mNone\u001b[0m\u001b[0;34m:\u001b[0m\u001b[0;34m\u001b[0m\u001b[0;34m\u001b[0m\u001b[0m\n\u001b[1;32m    233\u001b[0m         \u001b[0mcls\u001b[0m \u001b[0;34m=\u001b[0m \u001b[0mJSONEncoder\u001b[0m\u001b[0;34m\u001b[0m\u001b[0;34m\u001b[0m\u001b[0m\n",
            "\u001b[0;32m/usr/lib/python3.7/json/encoder.py\u001b[0m in \u001b[0;36mencode\u001b[0;34m(self, o)\u001b[0m\n\u001b[1;32m    197\u001b[0m         \u001b[0;31m# exceptions aren't as detailed.  The list call should be roughly\u001b[0m\u001b[0;34m\u001b[0m\u001b[0;34m\u001b[0m\u001b[0;34m\u001b[0m\u001b[0m\n\u001b[1;32m    198\u001b[0m         \u001b[0;31m# equivalent to the PySequence_Fast that ''.join() would do.\u001b[0m\u001b[0;34m\u001b[0m\u001b[0;34m\u001b[0m\u001b[0;34m\u001b[0m\u001b[0m\n\u001b[0;32m--> 199\u001b[0;31m         \u001b[0mchunks\u001b[0m \u001b[0;34m=\u001b[0m \u001b[0mself\u001b[0m\u001b[0;34m.\u001b[0m\u001b[0miterencode\u001b[0m\u001b[0;34m(\u001b[0m\u001b[0mo\u001b[0m\u001b[0;34m,\u001b[0m \u001b[0m_one_shot\u001b[0m\u001b[0;34m=\u001b[0m\u001b[0;32mTrue\u001b[0m\u001b[0;34m)\u001b[0m\u001b[0;34m\u001b[0m\u001b[0;34m\u001b[0m\u001b[0m\n\u001b[0m\u001b[1;32m    200\u001b[0m         \u001b[0;32mif\u001b[0m \u001b[0;32mnot\u001b[0m \u001b[0misinstance\u001b[0m\u001b[0;34m(\u001b[0m\u001b[0mchunks\u001b[0m\u001b[0;34m,\u001b[0m \u001b[0;34m(\u001b[0m\u001b[0mlist\u001b[0m\u001b[0;34m,\u001b[0m \u001b[0mtuple\u001b[0m\u001b[0;34m)\u001b[0m\u001b[0;34m)\u001b[0m\u001b[0;34m:\u001b[0m\u001b[0;34m\u001b[0m\u001b[0;34m\u001b[0m\u001b[0m\n\u001b[1;32m    201\u001b[0m             \u001b[0mchunks\u001b[0m \u001b[0;34m=\u001b[0m \u001b[0mlist\u001b[0m\u001b[0;34m(\u001b[0m\u001b[0mchunks\u001b[0m\u001b[0;34m)\u001b[0m\u001b[0;34m\u001b[0m\u001b[0;34m\u001b[0m\u001b[0m\n",
            "\u001b[0;32m/usr/lib/python3.7/json/encoder.py\u001b[0m in \u001b[0;36miterencode\u001b[0;34m(self, o, _one_shot)\u001b[0m\n\u001b[1;32m    255\u001b[0m                 \u001b[0mself\u001b[0m\u001b[0;34m.\u001b[0m\u001b[0mkey_separator\u001b[0m\u001b[0;34m,\u001b[0m \u001b[0mself\u001b[0m\u001b[0;34m.\u001b[0m\u001b[0mitem_separator\u001b[0m\u001b[0;34m,\u001b[0m \u001b[0mself\u001b[0m\u001b[0;34m.\u001b[0m\u001b[0msort_keys\u001b[0m\u001b[0;34m,\u001b[0m\u001b[0;34m\u001b[0m\u001b[0;34m\u001b[0m\u001b[0m\n\u001b[1;32m    256\u001b[0m                 self.skipkeys, _one_shot)\n\u001b[0;32m--> 257\u001b[0;31m         \u001b[0;32mreturn\u001b[0m \u001b[0m_iterencode\u001b[0m\u001b[0;34m(\u001b[0m\u001b[0mo\u001b[0m\u001b[0;34m,\u001b[0m \u001b[0;36m0\u001b[0m\u001b[0;34m)\u001b[0m\u001b[0;34m\u001b[0m\u001b[0;34m\u001b[0m\u001b[0m\n\u001b[0m\u001b[1;32m    258\u001b[0m \u001b[0;34m\u001b[0m\u001b[0m\n\u001b[1;32m    259\u001b[0m def _make_iterencode(markers, _default, _encoder, _indent, _floatstr,\n",
            "\u001b[0;32m/usr/lib/python3.7/json/encoder.py\u001b[0m in \u001b[0;36mdefault\u001b[0;34m(self, o)\u001b[0m\n\u001b[1;32m    177\u001b[0m \u001b[0;34m\u001b[0m\u001b[0m\n\u001b[1;32m    178\u001b[0m         \"\"\"\n\u001b[0;32m--> 179\u001b[0;31m         raise TypeError(f'Object of type {o.__class__.__name__} '\n\u001b[0m\u001b[1;32m    180\u001b[0m                         f'is not JSON serializable')\n\u001b[1;32m    181\u001b[0m \u001b[0;34m\u001b[0m\u001b[0m\n",
            "\u001b[0;31mTypeError\u001b[0m: Object of type datetime is not JSON serializable"
          ]
        }
      ]
    },
    {
      "cell_type": "markdown",
      "metadata": {
        "id": "TP_SN3B8EDpA"
      },
      "source": [
        "This shows that objects that cannot be serialized will raise a TypeError exception. Avoiding this exception can done in one of two ways. We can either convert the data before building the document, or we can add a hook to the JSON serialization process.\n",
        "\n",
        "This uses the ISO format for dates to create a string that can be serialized. An application that reads this data can then convert the string back into a datetime object."
      ]
    },
    {
      "cell_type": "code",
      "metadata": {
        "colab": {
          "base_uri": "https://localhost:8080/",
          "height": 35
        },
        "id": "j2IUNeeWD6uL",
        "outputId": "3f0801cc-f6d2-4105-e6fb-807c068bf567"
      },
      "source": [
        "document_converted = {'date': example_date.isoformat()}\n",
        "json.dumps(document_converted)"
      ],
      "execution_count": 16,
      "outputs": [
        {
          "output_type": "execute_result",
          "data": {
            "application/vnd.google.colaboratory.intrinsic+json": {
              "type": "string"
            },
            "text/plain": [
              "'{\"date\": \"2014-06-07T08:09:10\"}'"
            ]
          },
          "metadata": {
            "tags": []
          },
          "execution_count": 16
        }
      ]
    },
    {
      "cell_type": "markdown",
      "metadata": {
        "id": "R8E8Q_OKEcIT"
      },
      "source": [
        "The other technique for serializing complex data is to provide a default function that's used automatically during serialization."
      ]
    },
    {
      "cell_type": "code",
      "metadata": {
        "colab": {
          "base_uri": "https://localhost:8080/"
        },
        "id": "mOhFDwv-EQth",
        "outputId": "4b7af114-b2a5-4dfd-9f4a-3459bc0a5548"
      },
      "source": [
        "def default_date(object):\n",
        "  if isinstance(object, datetime.datetime):\n",
        "    return example_date.isoformat()\n",
        "  return object\n",
        "\n",
        "document = {'date': example_date}\n",
        "print(json.dumps(document, default=default_date, indent=2))"
      ],
      "execution_count": 17,
      "outputs": [
        {
          "output_type": "stream",
          "text": [
            "{\n",
            "  \"date\": \"2014-06-07T08:09:10\"\n",
            "}\n"
          ],
          "name": "stdout"
        }
      ]
    },
    {
      "cell_type": "markdown",
      "metadata": {
        "id": "9nNBxNrVFHde"
      },
      "source": [
        "In any given application, we'll need to expand this function to handle any of the more complex Python objects that we might want to serialize in JSON notation. If there are a large number of very complex data structures, we often want a somewhat more general solution than meticulously converting each object to something serializable. There are a number of design patterns for including type information along with serialized details of an object's state."
      ]
    },
    {
      "cell_type": "markdown",
      "metadata": {
        "id": "xIpts08xFQ7v"
      },
      "source": [
        "# Deserializing a Complex Data Structure\n",
        "\n",
        "When deserializing JSON to create Python objects, there's another hook that can be used to convert data from a JSON dictionary into a more complex Python object. This is called the **object_hook** and it is used during json.loads() processing to examine each complex object to see if something else should be created from that dict.\n"
      ]
    },
    {
      "cell_type": "code",
      "metadata": {
        "id": "MDfb2ehIE756"
      },
      "source": [
        "def as_date(object):\n",
        "  if 'date' in object:\n",
        "    return datetime.datetime.strptime(object['date'], '%Y-%m-%dT%H:%M:%S')\n",
        "  return object"
      ],
      "execution_count": 20,
      "outputs": []
    },
    {
      "cell_type": "code",
      "metadata": {
        "colab": {
          "base_uri": "https://localhost:8080/"
        },
        "id": "1OH1vTaQF5RI",
        "outputId": "52cf49f7-8378-4e0b-83aa-2d7f690598cc"
      },
      "source": [
        "source = '''{\"date\": \"2014-06-07T08:09:10\"}'''\n",
        "json.loads(source, object_hook=as_date)"
      ],
      "execution_count": 21,
      "outputs": [
        {
          "output_type": "execute_result",
          "data": {
            "text/plain": [
              "datetime.datetime(2014, 6, 7, 8, 9, 10)"
            ]
          },
          "metadata": {
            "tags": []
          },
          "execution_count": 21
        }
      ]
    },
    {
      "cell_type": "markdown",
      "metadata": {
        "id": "iFw7dZ0lGacf"
      },
      "source": [
        "In a larger context, this particular example of handling dates isn't ideal. The presence of a single 'date' field to indicate a date object could lead to problems with more complex objects being de-serialized using this as_date() function.\n",
        "\n",
        "We may also want to design our application classes to provide additional methods to help with serialization. A class might include a to_json() method that will serialize the objects in a uniform way. This method might provide class information. It can avoid serializing any derived attributes or computed properties. Similarly, we might need to provide a static from_json() method that can be used to determine if a given dictionary object is actually an instance of the given class."
      ]
    },
    {
      "cell_type": "code",
      "metadata": {
        "id": "jeLAU8FPGK0v"
      },
      "source": [
        ""
      ],
      "execution_count": null,
      "outputs": []
    }
  ]
}