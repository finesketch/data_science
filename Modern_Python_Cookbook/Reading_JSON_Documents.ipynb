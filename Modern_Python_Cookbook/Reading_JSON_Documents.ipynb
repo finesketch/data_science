{
  "nbformat": 4,
  "nbformat_minor": 0,
  "metadata": {
    "colab": {
      "name": "Reading JSON Documents.ipynb",
      "provenance": [],
      "authorship_tag": "ABX9TyO8VYt1HlBQGwRt3XiWPr5z",
      "include_colab_link": true
    },
    "kernelspec": {
      "name": "python3",
      "display_name": "Python 3"
    },
    "language_info": {
      "name": "python"
    }
  },
  "cells": [
    {
      "cell_type": "markdown",
      "metadata": {
        "id": "view-in-github",
        "colab_type": "text"
      },
      "source": [
        "<a href=\"https://colab.research.google.com/github/finesketch/data_science/blob/main/Modern_Python_Cookbook/Reading_JSON_Documents.ipynb\" target=\"_parent\"><img src=\"https://colab.research.google.com/assets/colab-badge.svg\" alt=\"Open In Colab\"/></a>"
      ]
    },
    {
      "cell_type": "markdown",
      "metadata": {
        "id": "6ZgeRDpVHqRA"
      },
      "source": [
        "# How to do it ..."
      ]
    },
    {
      "cell_type": "markdown",
      "metadata": {
        "id": "CBk6nCTTQsG5"
      },
      "source": [
        "```json\n",
        "{ \n",
        "  \"teams\": [ \n",
        "    { \n",
        "      \"name\": \"Abu Dhabi Ocean Racing\", \n",
        "      \"position\": [ \n",
        "        1, \n",
        "        3, \n",
        "        2, \n",
        "        2, \n",
        "        1, \n",
        "        2, \n",
        "        5, \n",
        "        3, \n",
        "        5 \n",
        "      ] \n",
        "    }, \n",
        "    ... \n",
        "  ], \n",
        "  \"legs\": [ \n",
        "    \"ALICANTE - CAPE TOWN\", \n",
        "    \"CAPE TOWN - ABU DHABI\", \n",
        "    \"ABU DHABI - SANYA\", \n",
        "    \"SANYA - AUCKLAND\", \n",
        "    \"AUCKLAND - ITAJA\\u00cd\", \n",
        "    \"ITAJA\\u00cd - NEWPORT\", \n",
        "    \"NEWPORT - LISBON\", \n",
        "    \"LISBON - LORIENT\", \n",
        "    \"LORIENT - GOTHENBURG\" \n",
        "  ] \n",
        "} \n",
        "```"
      ]
    },
    {
      "cell_type": "code",
      "metadata": {
        "id": "iOTpxOk7Hrcl"
      },
      "source": [
        "import json"
      ],
      "execution_count": 1,
      "outputs": []
    },
    {
      "cell_type": "code",
      "metadata": {
        "id": "lFBwgTsTPskb"
      },
      "source": [
        "from pathlib import Path\n",
        "source_path = Path(\"race_result.json\")"
      ],
      "execution_count": 2,
      "outputs": []
    },
    {
      "cell_type": "code",
      "metadata": {
        "colab": {
          "base_uri": "https://localhost:8080/"
        },
        "id": "bTY0Gw49P2mY",
        "outputId": "345243a8-9256-47b6-a58c-7154716481ad"
      },
      "source": [
        "source_path"
      ],
      "execution_count": 3,
      "outputs": [
        {
          "output_type": "execute_result",
          "data": {
            "text/plain": [
              "PosixPath('race_result.json')"
            ]
          },
          "metadata": {
            "tags": []
          },
          "execution_count": 3
        }
      ]
    },
    {
      "cell_type": "code",
      "metadata": {
        "id": "Xd9Ki2UgP5c2"
      },
      "source": [
        "document = json.loads(source_path.read_text())"
      ],
      "execution_count": 4,
      "outputs": []
    },
    {
      "cell_type": "code",
      "metadata": {
        "colab": {
          "base_uri": "https://localhost:8080/",
          "height": 35
        },
        "id": "k0WklHNkQCmv",
        "outputId": "2d485def-4972-48bc-8272-8067fb306a87"
      },
      "source": [
        "document['teams'][0]['name']"
      ],
      "execution_count": 5,
      "outputs": [
        {
          "output_type": "execute_result",
          "data": {
            "application/vnd.google.colaboratory.intrinsic+json": {
              "type": "string"
            },
            "text/plain": [
              "'Abu Dhabi Ocean Racing'"
            ]
          },
          "metadata": {
            "tags": []
          },
          "execution_count": 5
        }
      ]
    },
    {
      "cell_type": "code",
      "metadata": {
        "colab": {
          "base_uri": "https://localhost:8080/",
          "height": 35
        },
        "id": "mMX-7h_RQXeA",
        "outputId": "44dfc7d2-6283-4a65-fda5-5e5d28d4f659"
      },
      "source": [
        "document['legs'][5]"
      ],
      "execution_count": 7,
      "outputs": [
        {
          "output_type": "execute_result",
          "data": {
            "application/vnd.google.colaboratory.intrinsic+json": {
              "type": "string"
            },
            "text/plain": [
              "'ITAJAÍ - NEWPORT'"
            ]
          },
          "metadata": {
            "tags": []
          },
          "execution_count": 7
        }
      ]
    },
    {
      "cell_type": "markdown",
      "metadata": {
        "id": "ysbsjuGSSksl"
      },
      "source": [
        "## Serializing a complex data structure"
      ]
    },
    {
      "cell_type": "code",
      "metadata": {
        "colab": {
          "base_uri": "https://localhost:8080/"
        },
        "id": "pUOQY5w-QcLI",
        "outputId": "37bf9618-f724-4669-8e4e-b9396faea657"
      },
      "source": [
        "import random\n",
        "random.seed(1)\n",
        "from collections import Counter\n",
        "colors = (['red'] * 18) + ([\"black\"] * 18) + (['green'] * 2)\n",
        "data = Counter(random.choice(colors) for _ in range(100))\n",
        "print(json.dumps(data, sort_keys=True, indent=2))"
      ],
      "execution_count": 11,
      "outputs": [
        {
          "output_type": "stream",
          "text": [
            "{\n",
            "  \"black\": 53,\n",
            "  \"green\": 7,\n",
            "  \"red\": 40\n",
            "}\n"
          ],
          "name": "stdout"
        }
      ]
    },
    {
      "cell_type": "code",
      "metadata": {
        "id": "9bEqS9UjTKqW"
      },
      "source": [
        ""
      ],
      "execution_count": 9,
      "outputs": []
    }
  ]
}