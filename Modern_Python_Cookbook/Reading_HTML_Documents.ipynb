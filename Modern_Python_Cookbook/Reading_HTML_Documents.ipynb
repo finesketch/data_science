{
  "nbformat": 4,
  "nbformat_minor": 0,
  "metadata": {
    "colab": {
      "name": "Reading HTML Documents.ipynb",
      "provenance": [],
      "authorship_tag": "ABX9TyMHfQMaCsm6jvpC1Eae68+0",
      "include_colab_link": true
    },
    "kernelspec": {
      "name": "python3",
      "display_name": "Python 3"
    },
    "language_info": {
      "name": "python"
    }
  },
  "cells": [
    {
      "cell_type": "markdown",
      "metadata": {
        "id": "view-in-github",
        "colab_type": "text"
      },
      "source": [
        "<a href=\"https://colab.research.google.com/github/finesketch/data_science/blob/main/Modern_Python_Cookbook/Reading_HTML_Documents.ipynb\" target=\"_parent\"><img src=\"https://colab.research.google.com/assets/colab-badge.svg\" alt=\"Open In Colab\"/></a>"
      ]
    },
    {
      "cell_type": "markdown",
      "metadata": {
        "id": "p8SESniNIFnR"
      },
      "source": [
        "We'll use the Beautiful Soup module to parse HTML pages. This is available from the Python Package Index (PyPI). \n",
        "\n",
        "See https://pypi.python.org/pypi/beautifulsoup4.\n"
      ]
    },
    {
      "cell_type": "code",
      "metadata": {
        "colab": {
          "base_uri": "https://localhost:8080/"
        },
        "id": "MhwybFaJIKfS",
        "outputId": "5fdc9d6c-5c59-4339-ec65-758a7db635a6"
      },
      "source": [
        "pip install beautifulsoup4"
      ],
      "execution_count": 1,
      "outputs": [
        {
          "output_type": "stream",
          "text": [
            "Requirement already satisfied: beautifulsoup4 in /usr/local/lib/python3.7/dist-packages (4.6.3)\n"
          ],
          "name": "stdout"
        }
      ]
    },
    {
      "cell_type": "code",
      "metadata": {
        "id": "7-0vtK6qIONR"
      },
      "source": [
        "from bs4 import BeautifulSoup\n",
        "from pathlib import Path"
      ],
      "execution_count": 3,
      "outputs": []
    },
    {
      "cell_type": "code",
      "metadata": {
        "id": "M9INDX32IrJA"
      },
      "source": [
        "source_path = Path('Volvo Ocean Race.html')"
      ],
      "execution_count": 4,
      "outputs": []
    },
    {
      "cell_type": "code",
      "metadata": {
        "id": "W4l9_GoQI3JA"
      },
      "source": [
        "with source_path.open(encoding='utf8') as source_file:\n",
        "  soup = BeautifulSoup(source_file, 'html.parser')"
      ],
      "execution_count": 5,
      "outputs": []
    },
    {
      "cell_type": "markdown",
      "metadata": {
        "id": "SiWN38P8JJ4F"
      },
      "source": [
        "We've used a context manager to access the file. As an alternative we could simply read the content with source_path.read_text(encodig='utf8'). This works as well as providing an open file to the BeautifulSoup class."
      ]
    },
    {
      "cell_type": "code",
      "metadata": {
        "id": "ismNt1GIJDNO"
      },
      "source": [
        "def get_legs(soup):\n",
        "  legs = []\n",
        "  thead = soup.table.thead.tr\n",
        "  for tag in thead.find_all('th'):\n",
        "    if 'data-title' in tag.attrs:\n",
        "      leg_description_text = clean_leg(tag.attrs['data-title'])\n",
        "      legs.append(leg_description_text)\n",
        "  return legs"
      ],
      "execution_count": 12,
      "outputs": []
    },
    {
      "cell_type": "code",
      "metadata": {
        "id": "ihyP1HMSJ8NX"
      },
      "source": [
        "def clean_leg(text): \n",
        "  leg_soup = BeautifulSoup(text, 'html.parser') \n",
        "  return leg_soup.text "
      ],
      "execution_count": 8,
      "outputs": []
    },
    {
      "cell_type": "code",
      "metadata": {
        "colab": {
          "base_uri": "https://localhost:8080/"
        },
        "id": "7-JT4YE5JtJr",
        "outputId": "01696ec3-27fa-4293-b23f-28f5d0afabc1"
      },
      "source": [
        "get_legs(soup)"
      ],
      "execution_count": 11,
      "outputs": [
        {
          "output_type": "execute_result",
          "data": {
            "text/plain": [
              "[]"
            ]
          },
          "metadata": {
            "tags": []
          },
          "execution_count": 11
        }
      ]
    },
    {
      "cell_type": "code",
      "metadata": {
        "id": "fpSTaj4OJ2ML"
      },
      "source": [
        ""
      ],
      "execution_count": null,
      "outputs": []
    }
  ]
}