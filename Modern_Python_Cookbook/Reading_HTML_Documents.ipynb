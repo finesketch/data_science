{
  "nbformat": 4,
  "nbformat_minor": 0,
  "metadata": {
    "colab": {
      "name": "Reading HTML Documents.ipynb",
      "provenance": [],
      "authorship_tag": "ABX9TyMhkBogpmVNuhhwq9F0Ll8b",
      "include_colab_link": true
    },
    "kernelspec": {
      "name": "python3",
      "display_name": "Python 3"
    },
    "language_info": {
      "name": "python"
    }
  },
  "cells": [
    {
      "cell_type": "markdown",
      "metadata": {
        "id": "view-in-github",
        "colab_type": "text"
      },
      "source": [
        "<a href=\"https://colab.research.google.com/github/finesketch/data_science/blob/main/Modern_Python_Cookbook/Reading_HTML_Documents.ipynb\" target=\"_parent\"><img src=\"https://colab.research.google.com/assets/colab-badge.svg\" alt=\"Open In Colab\"/></a>"
      ]
    },
    {
      "cell_type": "markdown",
      "metadata": {
        "id": "p8SESniNIFnR"
      },
      "source": [
        "We'll use the Beautiful Soup module to parse HTML pages. This is available from the Python Package Index (PyPI). \n",
        "\n",
        "See https://pypi.python.org/pypi/beautifulsoup4.\n"
      ]
    },
    {
      "cell_type": "code",
      "metadata": {
        "colab": {
          "base_uri": "https://localhost:8080/"
        },
        "id": "MhwybFaJIKfS",
        "outputId": "5fdc9d6c-5c59-4339-ec65-758a7db635a6"
      },
      "source": [
        "pip install beautifulsoup4"
      ],
      "execution_count": 1,
      "outputs": [
        {
          "output_type": "stream",
          "text": [
            "Requirement already satisfied: beautifulsoup4 in /usr/local/lib/python3.7/dist-packages (4.6.3)\n"
          ],
          "name": "stdout"
        }
      ]
    },
    {
      "cell_type": "code",
      "metadata": {
        "id": "7-0vtK6qIONR"
      },
      "source": [
        "from bs4 import BeautifulSoup\n",
        "from pathlib import Path"
      ],
      "execution_count": 1,
      "outputs": []
    },
    {
      "cell_type": "code",
      "metadata": {
        "id": "M9INDX32IrJA"
      },
      "source": [
        "source_path = Path('Volvo Ocean Race.html')"
      ],
      "execution_count": 2,
      "outputs": []
    },
    {
      "cell_type": "code",
      "metadata": {
        "id": "W4l9_GoQI3JA"
      },
      "source": [
        "with source_path.open(encoding='utf8') as source_file:\n",
        "  soup = BeautifulSoup(source_file, 'html.parser')"
      ],
      "execution_count": 4,
      "outputs": []
    },
    {
      "cell_type": "markdown",
      "metadata": {
        "id": "SiWN38P8JJ4F"
      },
      "source": [
        "We've used a context manager to access the file. As an alternative we could simply read the content with source_path.read_text(encodig='utf8'). This works as well as providing an open file to the BeautifulSoup class."
      ]
    },
    {
      "cell_type": "code",
      "metadata": {
        "id": "ismNt1GIJDNO"
      },
      "source": [
        "def get_legs(soup):\n",
        "  legs = []\n",
        "  thead = soup.table.thead.tr\n",
        "  for tag in thead.find_all('th'):\n",
        "    if 'data-title' in tag.attrs:\n",
        "      leg_description_text = clean_leg(tag.attrs['data-title'])\n",
        "      legs.append(leg_description_text)\n",
        "  return legs"
      ],
      "execution_count": 6,
      "outputs": []
    },
    {
      "cell_type": "code",
      "metadata": {
        "id": "ihyP1HMSJ8NX"
      },
      "source": [
        "def clean_leg(text): \n",
        "  leg_soup = BeautifulSoup(text, 'html.parser') \n",
        "  return leg_soup.text "
      ],
      "execution_count": 7,
      "outputs": []
    },
    {
      "cell_type": "code",
      "metadata": {
        "colab": {
          "base_uri": "https://localhost:8080/"
        },
        "id": "7-JT4YE5JtJr",
        "outputId": "43236578-1bbe-4420-cae5-55ecc33d357f"
      },
      "source": [
        "get_legs(soup)"
      ],
      "execution_count": 8,
      "outputs": [
        {
          "output_type": "execute_result",
          "data": {
            "text/plain": [
              "['ALICANTE - CAPE TOWN',\n",
              " 'CAPE TOWN - ABU DHABI',\n",
              " 'ABU DHABI - SANYA',\n",
              " 'SANYA - AUCKLAND',\n",
              " 'AUCKLAND - ITAJAÍ',\n",
              " 'ITAJAÍ - NEWPORT',\n",
              " 'NEWPORT - LISBON',\n",
              " 'LISBON - LORIENT',\n",
              " 'LORIENT - GOTHENBURG']"
            ]
          },
          "metadata": {
            "tags": []
          },
          "execution_count": 8
        }
      ]
    },
    {
      "cell_type": "markdown",
      "metadata": {
        "id": "-3MyoFNtNLY4"
      },
      "source": [
        "# There's More\n",
        "\n",
        "The Tag objects of Beautiful Soup represent the hierarchy of the document's structure. There are several kinds of navigation among tags:\n",
        "\n",
        "* All tags except the root can have a parent.\n",
        "* The **parents** attribute is a generator for parents of a tag.\n",
        "* All **Tag** object can have children.\n",
        "* A tag with children may have multiple levels of tags under it.\n",
        "* A tag can also have siblings."
      ]
    },
    {
      "cell_type": "code",
      "metadata": {
        "colab": {
          "base_uri": "https://localhost:8080/"
        },
        "id": "fpSTaj4OJ2ML",
        "outputId": "348d2f08-2e34-41bd-bccb-3506c0e82051"
      },
      "source": [
        "# In some cases, a document will have a generally straight-forward organization and a simple search by the id attribute or class attribute will find the relevant data.\n",
        "ranking_table =soup.find('table', class_='ranking-list')\n",
        "ranking_table\n"
      ],
      "execution_count": 12,
      "outputs": [
        {
          "output_type": "execute_result",
          "data": {
            "text/plain": [
              "<table class=\"ranking-list\" width=\"100%\">\n",
              "<thead>\n",
              "<tr class=\"ranking-item\">\n",
              "<th colspan=\"3\"></th>\n",
              "<th data-htmlcontent=\"true\" data-position=\"top\" data-theme=\"tooltipster-shadow\" data-title=\"&lt;strong&gt;ALICANTE - CAPE TOWN&lt;/strong&gt;\" tooltipster=\"\">LEG 1</th>\n",
              "<th data-htmlcontent=\"true\" data-position=\"top\" data-theme=\"tooltipster-shadow\" data-title=\"&lt;strong&gt;CAPE TOWN - ABU DHABI&lt;/strong&gt;\" tooltipster=\"\">LEG 2</th>\n",
              "<th data-htmlcontent=\"true\" data-position=\"top\" data-theme=\"tooltipster-shadow\" data-title=\"&lt;strong&gt;ABU DHABI - SANYA&lt;/strong&gt;\" tooltipster=\"\">LEG 3</th>\n",
              "<th data-htmlcontent=\"true\" data-position=\"top\" data-theme=\"tooltipster-shadow\" data-title=\"&lt;strong&gt;SANYA - AUCKLAND&lt;/strong&gt;\" tooltipster=\"\">LEG 4</th>\n",
              "<th data-htmlcontent=\"true\" data-position=\"top\" data-theme=\"tooltipster-shadow\" data-title=\"&lt;strong&gt;AUCKLAND - ITAJAÍ&lt;/strong&gt;\" tooltipster=\"\">LEG 5</th>\n",
              "<th data-htmlcontent=\"true\" data-position=\"top\" data-theme=\"tooltipster-shadow\" data-title=\"&lt;strong&gt;ITAJAÍ - NEWPORT&lt;/strong&gt;\" tooltipster=\"\">LEG 6</th>\n",
              "<th data-htmlcontent=\"true\" data-position=\"top\" data-theme=\"tooltipster-shadow\" data-title=\"&lt;strong&gt;NEWPORT - LISBON&lt;/strong&gt;\" tooltipster=\"\">LEG 7</th>\n",
              "<th data-htmlcontent=\"true\" data-position=\"top\" data-theme=\"tooltipster-shadow\" data-title=\"&lt;strong&gt;LISBON - LORIENT&lt;/strong&gt;\" tooltipster=\"\">LEG 8</th>\n",
              "<th data-htmlcontent=\"true\" data-position=\"top\" data-theme=\"tooltipster-shadow\" data-title=\"&lt;strong&gt;LORIENT - GOTHENBURG&lt;/strong&gt;\" tooltipster=\"\">LEG 9</th>\n",
              "<th>TOTAL</th>\n",
              "</tr>\n",
              "</thead>\n",
              "<tbody>\n",
              "<tr class=\"ranking-item\">\n",
              "<td class=\"ranking-position\">1</td>\n",
              "<td class=\"ranking-avatar\">\n",
              "<img alt=\"Abu Dhabi Ocean Racing\" class=\"team-menu-logo\" src=\"https://volvooceanrace-img.s3.amazonaws.com/m25864_crop1_205x205_1401797371EFBC.png\"> </img></td>\n",
              "<td class=\"ranking-team\">Abu Dhabi Ocean Racing</td>\n",
              "<td class=\"ranking-number\">1</td>\n",
              "<td class=\"ranking-number\">3</td>\n",
              "<td class=\"ranking-number\">2</td>\n",
              "<td class=\"ranking-number\">2</td>\n",
              "<td class=\"ranking-number\">1</td>\n",
              "<td class=\"ranking-number\">2</td>\n",
              "<td class=\"ranking-number\">5</td>\n",
              "<td class=\"ranking-number\">3</td>\n",
              "<td class=\"ranking-number\">5</td>\n",
              "<td class=\"ranking-number total\">24</td>\n",
              "</tr>\n",
              "<tr class=\"ranking-item\">\n",
              "<td class=\"ranking-position\">2</td>\n",
              "<td class=\"ranking-avatar\">\n",
              "<img alt=\"Team Brunel\" class=\"team-menu-logo\" src=\"https://volvooceanrace-img.s3.amazonaws.com/m26027_crop1_205x205_1405525378A63C.png\"/> </td>\n",
              "<td class=\"ranking-team\">Team Brunel</td>\n",
              "<td class=\"ranking-number\">3</td>\n",
              "<td class=\"ranking-number\">1</td>\n",
              "<td class=\"ranking-number\">5</td>\n",
              "<td class=\"ranking-number\">5</td>\n",
              "<td class=\"ranking-number\">4</td>\n",
              "<td class=\"ranking-number\">3</td>\n",
              "<td class=\"ranking-number\">1</td>\n",
              "<td class=\"ranking-number\">5</td>\n",
              "<td class=\"ranking-number\">2</td>\n",
              "<td class=\"ranking-number total\">29</td>\n",
              "</tr>\n",
              "<tr class=\"ranking-item\">\n",
              "<td class=\"ranking-position\">3</td>\n",
              "<td class=\"ranking-avatar\">\n",
              "<img alt=\"Dongfeng\" class=\"team-menu-logo\" src=\"https://volvooceanrace-img.s3.amazonaws.com/m25056_crop1_205x205_1397565799AD7E.png\"/> </td>\n",
              "<td class=\"ranking-team\">Dongfeng Race Team</td>\n",
              "<td class=\"ranking-number\">2</td>\n",
              "<td class=\"ranking-number\">2</td>\n",
              "<td class=\"ranking-number\">1</td>\n",
              "<td class=\"ranking-number\">3</td>\n",
              "<td class=\"ranking-number\" data-htmlcontent=\"true\" data-position=\"bottom\" data-theme=\"tooltipster-3\" data-title=\"&lt;center&gt;&lt;strong&gt;RETIRED&lt;/strong&gt;&lt;br&gt;Click for more info&lt;/center&gt;\" tooltipster=\"\"><a href=\"/en/news/8674_Dongfeng-Race-Team-breaks-mast-crew-safe.html\" target=\"_blank\">8</a><div class=\"status-dot dot-3\"></div></td>\n",
              "<td class=\"ranking-number\">1</td>\n",
              "<td class=\"ranking-number\">4</td>\n",
              "<td class=\"ranking-number\">7</td>\n",
              "<td class=\"ranking-number\">4</td>\n",
              "<td class=\"ranking-number total\">33<span class=\"asterix\">*</span></td>\n",
              "</tr>\n",
              "<tr class=\"ranking-item\">\n",
              "<td class=\"ranking-position\">4</td>\n",
              "<td class=\"ranking-avatar\">\n",
              "<img alt=\"MAPFRE\" class=\"team-menu-logo\" src=\"https://volvooceanrace-img.s3.amazonaws.com/m27349_crop1_205x205_14120055641186.png\"/> </td>\n",
              "<td class=\"ranking-team\">MAPFRE</td>\n",
              "<td class=\"ranking-number\">7</td>\n",
              "<td class=\"ranking-number\">4</td>\n",
              "<td class=\"ranking-number\">4</td>\n",
              "<td class=\"ranking-number\">1</td>\n",
              "<td class=\"ranking-number\">2</td>\n",
              "<td class=\"ranking-number\">4</td>\n",
              "<td class=\"ranking-number\">2</td>\n",
              "<td class=\"ranking-number\">4</td>\n",
              "<td class=\"ranking-number\">3</td>\n",
              "<td class=\"ranking-number total\">34<span class=\"asterix\">*</span></td>\n",
              "</tr>\n",
              "<tr class=\"ranking-item\">\n",
              "<td class=\"ranking-position\">5</td>\n",
              "<td class=\"ranking-avatar\">\n",
              "<img alt=\"Alvimedica\" class=\"team-menu-logo\" src=\"https://volvooceanrace-img.s3.amazonaws.com/m25054_crop1_205x205_13975657692819.png\"/> </td>\n",
              "<td class=\"ranking-team\">Team Alvimedica</td>\n",
              "<td class=\"ranking-number\">5</td>\n",
              "<td class=\"ranking-number\" data-htmlcontent=\"true\" data-position=\"bottom\" data-theme=\"tooltipster-5\" data-title=\"&lt;center&gt;&lt;strong&gt;GIVEN REDRESS&lt;/strong&gt;&lt;br&gt;Click for more info&lt;/center&gt;\" tooltipster=\"\"><a href=\"/en/news/8204_Time-to-redress.html\" target=\"_blank\">4</a><div class=\"status-dot dot-5\"></div></td>\n",
              "<td class=\"ranking-number\">3</td>\n",
              "<td class=\"ranking-number\">4</td>\n",
              "<td class=\"ranking-number\">3</td>\n",
              "<td class=\"ranking-number\">5</td>\n",
              "<td class=\"ranking-number\">3</td>\n",
              "<td class=\"ranking-number\">6</td>\n",
              "<td class=\"ranking-number\">1</td>\n",
              "<td class=\"ranking-number total\">34</td>\n",
              "</tr>\n",
              "<tr class=\"ranking-item\">\n",
              "<td class=\"ranking-position\">6</td>\n",
              "<td class=\"ranking-avatar\">\n",
              "<img alt=\"Team SCA\" class=\"team-menu-logo\" src=\"https://volvooceanrace-img.s3.amazonaws.com/m26075_crop1_205x205_1406137363BEB2.png\"/> </td>\n",
              "<td class=\"ranking-team\">Team SCA</td>\n",
              "<td class=\"ranking-number\">6</td>\n",
              "<td class=\"ranking-number\">6</td>\n",
              "<td class=\"ranking-number\">6</td>\n",
              "<td class=\"ranking-number\">6</td>\n",
              "<td class=\"ranking-number\">5</td>\n",
              "<td class=\"ranking-number\">6</td>\n",
              "<td class=\"ranking-number\">6</td>\n",
              "<td class=\"ranking-number\">1</td>\n",
              "<td class=\"ranking-number\">7</td>\n",
              "<td class=\"ranking-number total\">51<span class=\"asterix\">*</span></td>\n",
              "</tr>\n",
              "<tr class=\"ranking-item\">\n",
              "<td class=\"ranking-position\">7</td>\n",
              "<td class=\"ranking-avatar\">\n",
              "<img alt=\"Team Vestas Wind\" class=\"team-menu-logo\" src=\"https://volvooceanrace-img.s3.amazonaws.com/m26903_crop1_205x205_1409744611E2C7.png\"/> </td>\n",
              "<td class=\"ranking-team\">Team Vestas Wind</td>\n",
              "<td class=\"ranking-number\">4</td>\n",
              "<td class=\"ranking-number\" data-htmlcontent=\"true\" data-position=\"bottom\" data-theme=\"tooltipster-2\" data-title=\"&lt;center&gt;&lt;strong&gt;DID NOT FINISH&lt;/strong&gt;&lt;br&gt;&lt;/center&gt;\" tooltipster=\"\">8<div class=\"status-dot dot-2\"></div></td>\n",
              "<td class=\"ranking-number\" data-htmlcontent=\"true\" data-position=\"bottom\" data-theme=\"tooltipster-1\" data-title=\"&lt;center&gt;&lt;strong&gt;DID NOT START&lt;/strong&gt;&lt;br&gt;&lt;/center&gt;\" tooltipster=\"\">8<div class=\"status-dot dot-1\"></div></td>\n",
              "<td class=\"ranking-number\" data-htmlcontent=\"true\" data-position=\"bottom\" data-theme=\"tooltipster-1\" data-title=\"&lt;center&gt;&lt;strong&gt;DID NOT START&lt;/strong&gt;&lt;br&gt;&lt;/center&gt;\" tooltipster=\"\">8<div class=\"status-dot dot-1\"></div></td>\n",
              "<td class=\"ranking-number\" data-htmlcontent=\"true\" data-position=\"bottom\" data-theme=\"tooltipster-1\" data-title=\"&lt;center&gt;&lt;strong&gt;DID NOT START&lt;/strong&gt;&lt;br&gt;&lt;/center&gt;\" tooltipster=\"\">8<div class=\"status-dot dot-1\"></div></td>\n",
              "<td class=\"ranking-number\" data-htmlcontent=\"true\" data-position=\"bottom\" data-theme=\"tooltipster-1\" data-title=\"&lt;center&gt;&lt;strong&gt;DID NOT START&lt;/strong&gt;&lt;br&gt;&lt;/center&gt;\" tooltipster=\"\">8<div class=\"status-dot dot-1\"></div></td>\n",
              "<td class=\"ranking-number\" data-htmlcontent=\"true\" data-position=\"bottom\" data-theme=\"tooltipster-1\" data-title=\"&lt;center&gt;&lt;strong&gt;DID NOT START&lt;/strong&gt;&lt;br&gt;&lt;/center&gt;\" tooltipster=\"\">8<div class=\"status-dot dot-1\"></div></td>\n",
              "<td class=\"ranking-number\">2</td>\n",
              "<td class=\"ranking-number\">6</td>\n",
              "<td class=\"ranking-number total\">60</td>\n",
              "</tr>\n",
              "</tbody>\n",
              "</table>"
            ]
          },
          "metadata": {
            "tags": []
          },
          "execution_count": 12
        }
      ]
    },
    {
      "cell_type": "code",
      "metadata": {
        "colab": {
          "base_uri": "https://localhost:8080/"
        },
        "id": "EwrVi6bCOtdP",
        "outputId": "2c307eb4-7c70-4d28-e7cc-8e65e4ddd2b2"
      },
      "source": [
        "list(tag.name for tag in ranking_table.parents)"
      ],
      "execution_count": 13,
      "outputs": [
        {
          "output_type": "execute_result",
          "data": {
            "text/plain": [
              "['section', 'div', 'div', 'div', 'div', 'body', 'html', '[document]']"
            ]
          },
          "metadata": {
            "tags": []
          },
          "execution_count": 13
        }
      ]
    },
    {
      "cell_type": "code",
      "metadata": {
        "id": "GQHdGdGgOvCB"
      },
      "source": [
        ""
      ],
      "execution_count": null,
      "outputs": []
    }
  ]
}